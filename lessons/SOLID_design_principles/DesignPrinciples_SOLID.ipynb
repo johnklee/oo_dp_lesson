{
 "cells": [
  {
   "cell_type": "markdown",
   "metadata": {},
   "source": [
    "## <font color='darkblue'>Design Principles - SOLID</font>\n",
    "[**SOLID principles**](https://en.wikipedia.org/wiki/SOLID) are the design principles that enable us manage most of the software design problems. **The term SOLID is an acronym for five design principles intended to make software designs more understandable, flexible and maintainable.**\n",
    "* <font size='3ptx'>[**SOLID acronym**](#sect1_1)</font>\n",
    "* <font size='3ptx'>[**Why SOLID**](#sect1_2)</font>\n",
    "* <font size='3ptx'>[**Software development**](#sect1_3)</font>\n",
    "* <font size='3ptx'>[**Agenda**](#sect1_4)</font>"
   ]
  },
  {
   "cell_type": "markdown",
   "metadata": {},
   "source": [
    "<a id='sect1_1'></a>\n",
    "### <font color='darkgreen'>SOLID acronym</font>\n",
    "The principles are a subset of many principles promoted by [**Robert C. Martin**](https://en.wikipedia.org/wiki/Robert_C._Martin) (Uncle Bob). The SOLID acronym was first introduced by Michael Feathers. The SOLID acronym are composed with below five principles:\n",
    "* [**S**: Single Responsibility Principle](https://en.wikipedia.org/wiki/Single-responsibility_principle) (SRP)\n",
    "> **A class should have only one reason to change**<br/><br/>\n",
    "> Every module or class should have responsibility over a single part of the functionality provided by the software, and that responsibility should be entirely encapsulated by the class\n",
    "* [**O**: Open closed Principle](https://en.wikipedia.org/wiki/Open%E2%80%93closed_principle) (OSP)\n",
    "> **Software entities should be open for extension, bue closed for modification** <br/><br/>\n",
    "> The design and writing of the code should be done in a way that new functionality should be added with minimum changes in the existing code <br/>\n",
    "> The design should be done in a way to allow the adding of new functionality as new classes, keeping as much as possible existing code unchanged.\n",
    "* [**L**: Liskov substitution Principle](https://en.wikipedia.org/wiki/Liskov_substitution_principle) (LSP)\n",
    "> **Objects in a program should be replaceable with instances of their subtypes without altering the correctness of that program** <br/><br/>\n",
    "> If a program module is using a Base class, then the reference to the Base class can be replaced with a Derived class without affecting the functionality of the program module.<br/>\n",
    "> We can also state that Derived types must be substitutable for their base types.\n",
    "* [**I**: Interface Segregation Principle](https://en.wikipedia.org/wiki/Interface_segregation_principle) (ISP)\n",
    "> **Many client-specific interfaces are better than one general-purpose interface** <br/><br/>\n",
    "> We sould not enforce clients to implement interfaces that they don't use. Instead of creating one big interface, we can break down it to smaller interfaces. <br/>\n",
    "* [**D**: Dependency Inversion Principle](https://en.wikipedia.org/wiki/Dependency_inversion_principle) (DIP)\n",
    "> **One should depend upon abstractions, not concretions** <br/><br/>\n",
    "> Abstractions should not depend on the details whereas the details should depend on abstractions. High-level modules should not depend on low level modules."
   ]
  },
  {
   "cell_type": "markdown",
   "metadata": {},
   "source": [
    "<a id='sect1_2'></a>\n",
    "### <font color='darkgreen'>Why SOLID</font>\n",
    "If we don't follow SOLID Principles we will:\n",
    "* End up with tight or strong coupling of the code with many other modules/applications\n",
    "* Tight coupling causes time to implement any new requirement, features or any bug fixes and some times it creates unknown issues.\n",
    "* End up with a code which is not testable.\n",
    "* End up with duplication of code.\n",
    "* End up creating new bugs by fixing another bug.\n",
    "* End up with many unknown issues in the application development cycle.\n",
    "* <font color='darkred'>**牽一髮動全身**</font>\n",
    "![1.PNG](images/1.PNG)\n",
    "\n",
    "Following SOLID principles helps us to:\n",
    "* Achieve reduction in complexity of code\n",
    "* Increase readability, extensibility and maintenance\n",
    "* Reduce error and implement Reusability\n",
    "* Achieve Better testability\n",
    "* Reduce tight coupling\n",
    "* <font color='green'>**舉一反三**</font>"
   ]
  },
  {
   "cell_type": "markdown",
   "metadata": {},
   "source": [
    "<a id='sect1_3'></a>\n",
    "### <font color='darkgreen'>Software development</font>\n",
    "Solution to develop a successful application depends on:\n",
    "* **Architecture**: choosing an architecture is the first step in designing application based on the requirements. (e.g.: MVC, WEBAPI, gRPC)\n",
    "* **Design Principles**: Application development process need to follow the [**design principles**](https://social.technet.microsoft.com/wiki/contents/articles/18033.software-design-principles.aspx).\n",
    "* **Design Patterns**: We need to choose correct [**design patterns**](https://en.wikipedia.org/wiki/Software_design_pattern) to build the software."
   ]
  },
  {
   "cell_type": "markdown",
   "metadata": {},
   "source": [
    "<a id='sect1_4'></a>\n",
    "### <font color='darkgreen'>Agenda</font>\n",
    "* <font size='3ptx'>[**SRP - Single Responsibility Principle**](#sect2)</font>\n",
    "* <font size='3ptx'>[**OSP - Open closed Principle**](#sect3)</font>\n",
    "* <font size='3ptx'>[**LSP - Liskov substitution Principle**](#sect4)</font>\n",
    "* <font size='3ptx'>[**ISP - Interface Segregation Principle**](#sect5)</font>\n",
    "* <font size='3ptx'>[**DIP - Dependency Inversion Principle**](#sect6)</font>\n",
    "* <font size='3ptx'>[**Homework 1**](#sect7)</font>"
   ]
  },
  {
   "cell_type": "markdown",
   "metadata": {},
   "source": [
    "<a id='sect2'></a>\n",
    "## <font color='darkblue'>SRP - Single Responsibility Principle</font>\n",
    "<font size='3ptx'>**A class should have only one reason to change**</font>\n",
    "\n",
    "Every module or class should have responsibility over a single part of the functionality provided by the software, and that responsibility should be entirely encapculated by the class. In other world, A module should have one, and only one, reason to change.\n",
    "* <font size='3ptx'>[**Motivation**](#sect2_1)</font>\n",
    "* <font size='3ptx'>[**Example - A class to calculate the sum of all shapes**](#sect2_2)</font>\n",
    "\n",
    "![2.png](images/2.PNG)"
   ]
  },
  {
   "cell_type": "markdown",
   "metadata": {},
   "source": [
    "<a id='sect2_1'></a>\n",
    "### <font color='darkgreen'>Motivation</font>\n",
    "* Maintainability\n",
    "* Testability\n",
    "* Flexibility and Extensibility\n",
    "* Parallel Development\n",
    "* Loose Coupling"
   ]
  },
  {
   "cell_type": "markdown",
   "metadata": {},
   "source": [
    "<a id='sect2_2'></a>\n",
    "### <font color='darkgreen'>Example - A class to calculate the sum of all shapes</font>\n",
    "([source](https://www.digitalocean.com/community/conceptual_articles/s-o-l-i-d-the-first-five-principles-of-object-oriented-design)) For example, consider an application that takes a collection of shapes—circles, and squares—and calculates the sum of the area of all the shapes in the collection. First, create the shape classes and have the constructors set up the required parameters. \n",
    "\n",
    "For squares, you will need to know the length of a side:"
   ]
  },
  {
   "cell_type": "code",
   "execution_count": 1,
   "metadata": {},
   "outputs": [],
   "source": [
    "class Square:  \n",
    "    def __init__(self, length):  \n",
    "        self.length = length  "
   ]
  },
  {
   "cell_type": "markdown",
   "metadata": {},
   "source": [
    "For circles, you will need to know the radius:"
   ]
  },
  {
   "cell_type": "code",
   "execution_count": 2,
   "metadata": {},
   "outputs": [],
   "source": [
    "class Circle:  \n",
    "    def __init__(self, radius):  \n",
    "        self.radius = radius"
   ]
  },
  {
   "cell_type": "markdown",
   "metadata": {},
   "source": [
    "Next, create the <font color='blue'>**AreaCalculator**</font> class and then write up the logic to sum up the areas of all provided shapes. The area of a square is calculated by length squared. The area of a circle is calculated by pi times radius squared:"
   ]
  },
  {
   "cell_type": "code",
   "execution_count": 3,
   "metadata": {},
   "outputs": [],
   "source": [
    "import math  \n",
    "  \n",
    "class AreaCalculator:  \n",
    "    def __init__(self, shapes):  \n",
    "        self.shapes = shapes  \n",
    "          \n",
    "    def area_sum(self):  \n",
    "        sum_of_area = 0  \n",
    "        for s in self.shapes:  \n",
    "            if isinstance(s, Square):  \n",
    "                sum_of_area += pow(s.length, 2)  \n",
    "            elif isinstance(s, Circle):  \n",
    "                sum_of_area += pow(s.radius, 2) * math.pi  \n",
    "                  \n",
    "        return sum_of_area  \n",
    "      \n",
    "    def __repr__(self):  \n",
    "        return self.str()  \n",
    "      \n",
    "    def __str__(self):  \n",
    "        return f\"Area sum of {len(self.shapes)} shape(s) is {self.area_sum()}\"  "
   ]
  },
  {
   "cell_type": "markdown",
   "metadata": {},
   "source": [
    "To use the <font color='blue'>**AreaCalculator**</font> class, you will need to instantiate the class and pass in an array of shapes and display the output at the bottom of the page. Here is an example with a collection of three shapes:"
   ]
  },
  {
   "cell_type": "code",
   "execution_count": 4,
   "metadata": {},
   "outputs": [
    {
     "name": "stdout",
     "output_type": "stream",
     "text": [
      "Area sum of 3 shape(s) is 73.56637061435917\n"
     ]
    }
   ],
   "source": [
    "shapes = [Circle(2), Square(5), Square(6)]  \n",
    "ac = AreaCalculator(shapes)  \n",
    "print(ac)  "
   ]
  },
  {
   "cell_type": "markdown",
   "metadata": {},
   "source": [
    "**Now let's consider a scenario where the output should be converted to another format like JSON.**\n",
    "\n",
    "How about below implementation?"
   ]
  },
  {
   "cell_type": "code",
   "execution_count": 5,
   "metadata": {},
   "outputs": [],
   "source": [
    "import json\n",
    "\n",
    "class AreaCalculator1:  \n",
    "    def __init__(self, shapes):  \n",
    "        self.shapes = shapes  \n",
    "          \n",
    "    def area_sum(self):  \n",
    "        sum_of_area = 0  \n",
    "        for s in self.shapes:  \n",
    "            if isinstance(s, Square):  \n",
    "                sum_of_area += pow(s.length, 2)  \n",
    "            elif isinstance(s, Circle):  \n",
    "                sum_of_area += pow(s.radius, 2) * math.pi  \n",
    "                  \n",
    "        return sum_of_area  \n",
    "      \n",
    "    def __repr__(self):  \n",
    "        return self.str()  \n",
    "      \n",
    "    def __str__(self):  \n",
    "        return f\"Area sum of {len(self.shapes)} shape(s) is {self.area_sum()}\"\n",
    "    \n",
    "    # New method in order to output data as json?\n",
    "    def to_json(self):\n",
    "        return json.dumps({'sum': round(self.area_sum(), 1)}, indent=4)  "
   ]
  },
  {
   "cell_type": "markdown",
   "metadata": {},
   "source": [
    "How about new requirement that we want output as HTML now?<br/>\n",
    "...<br/>\n",
    "...<br/>\n",
    "<font size='3ptx'>**Ask yourself what is the purpose of class <font color='blue'>AreaCalculator</font>?**</font><br/>\n",
    "<br/>\n",
    "<font size='3ptx' color='darkred'>**This would violate the single-responsibility principle**</font>. The <font color='blue'>**AreaCalculator**</font> class should only be concerned with the sum of the areas of provided shapes. It should not care whether the user wants JSON or HTML.\n",
    "> The problem lies in we require <font color='blue'>**AreaCalculator**</font> to handles the logic to output the data which add more responsibility to this class which will bring in extra reason we have to modify this class!\n",
    "\n",
    "<br/>\n",
    "\n",
    "To address this, you can create a separate <font color='blue'>**SumCalculatorOutputter**</font> class and use that new class to handle the logic you need to output the data to the user:"
   ]
  },
  {
   "cell_type": "code",
   "execution_count": 6,
   "metadata": {},
   "outputs": [],
   "source": [
    "class SumCalculatorOutputter:  \n",
    "    def __init__(self, calculator:AreaCalculator):  \n",
    "        self.calculator = calculator  \n",
    "          \n",
    "    def to_json(self):  \n",
    "        return json.dumps({'sum': round(self.calculator.area_sum(), 1)}, indent=4)  \n",
    "      \n",
    "    def to_text(self):  \n",
    "        return f\"Area sum is {self.calculator.area_sum():.01f}\"\n",
    "    \n",
    "    def to_html(self):\n",
    "        return f\"<html><body><b>Area sum is {self.calculator.area_sum():.01f}</b></body></html>\""
   ]
  },
  {
   "cell_type": "markdown",
   "metadata": {},
   "source": [
    "The <font color='blue'>**SumCalculatorOutputter**</font> class would work like this:"
   ]
  },
  {
   "cell_type": "code",
   "execution_count": 7,
   "metadata": {},
   "outputs": [
    {
     "name": "stdout",
     "output_type": "stream",
     "text": [
      "JSON output: {\n",
      "    \"sum\": 73.6\n",
      "}\n",
      "TEXT output: Area sum is 73.6\n",
      "HTML output: <html><body><b>Area sum is 73.6</b></body></html>\n"
     ]
    }
   ],
   "source": [
    "sc_output = SumCalculatorOutputter(ac)  \n",
    "print(f\"JSON output: {sc_output.to_json()}\")\n",
    "print(f\"TEXT output: {sc_output.to_text()}\")\n",
    "print(f\"HTML output: {sc_output.to_html()}\")"
   ]
  },
  {
   "cell_type": "markdown",
   "metadata": {},
   "source": [
    "Now, the logic you need to output the data to the user is handled by the <font color='blue'>**SumCalculatorOutputter**</font> class. That satisfies the single-responsibility principle."
   ]
  },
  {
   "cell_type": "markdown",
   "metadata": {},
   "source": [
    "<a id='sect3'></a>\n",
    "## <font color='darkblue'>OSP - Open closed Principle</font>  ([back](#sect1_4))\n",
    "<font size='3ptx'>**Software entities such as classes, modules, functions, etc. should be open for extension, but closed for modification.**</font>\n",
    "\n",
    "Any new functionality should be implemented by adding new classes, attributes and methods, instead of changing the current ones or existing ones. [**Robert C. Martin**](https://en.wikipedia.org/wiki/Robert_C._Martin) considered this as most important principle.\n",
    "* <font size='3ptx'>[**Implementation Guidelines**](#sect3_1)</font>\n",
    "* <font size='3ptx'>[**Example - New shape added**](#sect3_2)</font>\n",
    "\n",
    "![3.png](images/3.PNG)"
   ]
  },
  {
   "cell_type": "markdown",
   "metadata": {},
   "source": [
    "<a id='sect3_1'></a>\n",
    "### <font color='darkgreen'>Implementation Guidelines</font>\n",
    "* The simplest way to apply OCP is to implement the new functionality on new derived classes.\n",
    "* Allow clients to access the original class with abstract interface."
   ]
  },
  {
   "cell_type": "markdown",
   "metadata": {},
   "source": [
    "<a id='sect3_2'></a>\n",
    "### <font color='darkgreen'>Example - New shape added</font>\n",
    "Consider now we want to add a new shape class <font color='blue'>**Rectangle**</font> here:"
   ]
  },
  {
   "cell_type": "code",
   "execution_count": 8,
   "metadata": {},
   "outputs": [],
   "source": [
    "class Rectangle:  \n",
    "    def __init__(self, height, width):  \n",
    "        self.height, self.weight = height, width"
   ]
  },
  {
   "cell_type": "markdown",
   "metadata": {},
   "source": [
    "Let’s revisit the <font color='blue'>**AreaCalculator**</font> class and focus on the <font color='blue'>area_sum</font> method:"
   ]
  },
  {
   "cell_type": "code",
   "execution_count": 9,
   "metadata": {},
   "outputs": [],
   "source": [
    "import json\n",
    "\n",
    "class AreaCalculator2:  \n",
    "    def __init__(self, shapes):  \n",
    "        self.shapes = shapes  \n",
    "          \n",
    "    def area_sum(self):  \n",
    "        sum_of_area = 0  \n",
    "        for s in self.shapes:  \n",
    "            if isinstance(s, Square):  \n",
    "                sum_of_area += pow(s.length, 2)  \n",
    "            elif isinstance(s, Circle):  \n",
    "                sum_of_area += pow(s.radius, 2) * math.pi\n",
    "            elif isinstance(s, Rectangle):  # New clause added for every new shape!!!!\n",
    "                sum_of_area += s.width * s.height\n",
    "                  \n",
    "        return sum_of_area            "
   ]
  },
  {
   "cell_type": "markdown",
   "metadata": {},
   "source": [
    " <font size='3ptx'>**You would have to constantly edit this file and add more if/else blocks. <font color='darkred'>That would violate the open-closed principle</font>.**</font>\n",
    " \n",
    "A way you can make this <font color='blue'>area_sum</font> method better is to remove the logic to calculate the area of each shape out of the <font color='blue'>**AreaCalculator**</font> class method and attach it to each shape’s class:"
   ]
  },
  {
   "cell_type": "code",
   "execution_count": 21,
   "metadata": {},
   "outputs": [],
   "source": [
    "class Square:  \n",
    "    def __init__(self, length):  \n",
    "        self.length = length  \n",
    "          \n",
    "    def area(self):  \n",
    "        return pow(self.length, 2)\n",
    "    \n",
    "class Circle:  \n",
    "    def __init__(self, radius):  \n",
    "        self.radius = radius\n",
    "        \n",
    "    def area(self):\n",
    "        return pow(self.radius, 2) * math.pi\n",
    "    \n",
    "class Rectangle:  \n",
    "    def __init__(self, height, width):  \n",
    "        self.height, self.weight = height, width\n",
    "        \n",
    "    def area(self):\n",
    "        return self.height * self.width"
   ]
  },
  {
   "cell_type": "markdown",
   "metadata": {},
   "source": [
    "Next is to refine <font color='blue'>area_sum</font> method of <font color='blue'>**AreaCalculator**</font>:"
   ]
  },
  {
   "cell_type": "code",
   "execution_count": 11,
   "metadata": {},
   "outputs": [],
   "source": [
    "class AreaCalculator:  \n",
    "    def __init__(self, shapes):  \n",
    "        self.shapes = shapes  \n",
    "          \n",
    "    def area_sum(self):  \n",
    "        sum_of_area = 0  \n",
    "        for s in self.shapes:  \n",
    "            sum_of_area += s.area()  \n",
    "                  \n",
    "        return sum_of_area  "
   ]
  },
  {
   "cell_type": "markdown",
   "metadata": {},
   "source": [
    "Now, you can create any new shape class and pass it in when calculating the sum of area without breaking the code.\n",
    "\n",
    "**However, another problem arises. How do you know that the object passed into the <font color='blue'>AreaCalculator</font> is actually a shape or if the shape has a method named area?** To resolve this concern, let's define an interface <font color='blue'>**ShapeInterface**</font> that supports method <font color='blue'>area</font>:"
   ]
  },
  {
   "cell_type": "code",
   "execution_count": 12,
   "metadata": {},
   "outputs": [],
   "source": [
    "from abc import ABC, abstractmethod  \n",
    "  \n",
    "class ShapeInterface(ABC):  \n",
    "    @abstractmethod  \n",
    "    def area(self):  \n",
    "        raise NotImplementedError()  "
   ]
  },
  {
   "cell_type": "markdown",
   "metadata": {},
   "source": [
    "Next is to modify your shape classes to implement the <font color='blue'>**ShapeInterface**</font>:"
   ]
  },
  {
   "cell_type": "code",
   "execution_count": 23,
   "metadata": {},
   "outputs": [],
   "source": [
    "class Square(ShapeInterface):  \n",
    "    def __init__(self, length):  \n",
    "        self.length = length  \n",
    "          \n",
    "    def area(self):  \n",
    "        return pow(self.length, 2)\n",
    "    \n",
    "class Circle(ShapeInterface):  \n",
    "    def __init__(self, radius):  \n",
    "        self.radius = radius\n",
    "        \n",
    "    def area(self):\n",
    "        return pow(self.radius, 2) * math.pi\n",
    "    \n",
    "class Rectangle(ShapeInterface):  \n",
    "    def __init__(self, height, width):  \n",
    "        self.height, self.weight = height, width\n",
    "        \n",
    "    def area(self):\n",
    "        return self.height * self.width"
   ]
  },
  {
   "cell_type": "markdown",
   "metadata": {},
   "source": [
    "From <font color='blue'>**AreaCalculator**</font>, you can check if the shapes provided are actually instances of the <font color='blue'>**ShapeInterface**</font>; otherwise, throw an exception:"
   ]
  },
  {
   "cell_type": "code",
   "execution_count": 14,
   "metadata": {},
   "outputs": [],
   "source": [
    "from typing import List  \n",
    "import math  \n",
    "  \n",
    "class AreaCalculator:  \n",
    "    def __init__(self, shapes:List[ShapeInterface]):  \n",
    "        self.shapes = shapes  \n",
    "          \n",
    "    def area_sum(self):  \n",
    "        sum_of_area = 0  \n",
    "        for s in self.shapes:  \n",
    "            if isinstance(s, ShapeInterface):  \n",
    "                sum_of_area += s.area()  \n",
    "            else:  \n",
    "                raise Exception(f\"Unexpected class={s.__class__}\")  \n",
    "                  \n",
    "        return sum_of_area  "
   ]
  },
  {
   "cell_type": "markdown",
   "metadata": {},
   "source": [
    "Now we can satisfy the open-closed principle by adding new shape class."
   ]
  },
  {
   "cell_type": "markdown",
   "metadata": {},
   "source": [
    "<a id='sect4'></a>\n",
    "## <font color='darkblue'>LSP - Liskov substitution Principle</font>  ([back](#sect1_4))\n",
    "<font size='3ptx'>**`S` is a subtype of `T`, then objects of type `T` may be replaced with objects of type `S`**</font>\n",
    "\n",
    "Derived types must be completely substitutable for their base types. LSP is a particular definition of a subtyping relation, called (strong) behavioral subtyping which is introduced by [**Barbara Liskov**](https://en.wikipedia.org/wiki/Barbara_Liskov).\n",
    "```python\n",
    "# ComicBook, ArtBook etc are of type Book, then according to LSP, you should be able to:\n",
    "def read_book(book:Book):\n",
    "    # logic\n",
    "    \n",
    "read_book(ComicBook())\n",
    "read_book(ArtBook())\n",
    "```\n",
    "\n",
    "* <font size='3ptx'>[**Implementation Guidelines**](#sect4_1)</font>\n",
    "* <font size='3ptx'>[**Example - VolumeCalculator**](#sect4_2)</font>\n",
    "\n",
    "![4.png](images/4.PNG)\n",
    "\n",
    "([image source](https://www.insider.com/spot-the-difference-beach-pictures-brainteaser-2020-6))\n"
   ]
  },
  {
   "cell_type": "markdown",
   "metadata": {},
   "source": [
    "<a id='sect4_1'></a>\n",
    "### <font color='darkgreen'>Implementation Guidelines</font>\n",
    "* No new exceptions can be thrown by the subtype.\n",
    "* Clients should now know which specific subtype they are calling\n",
    "* New derived classes just extend without replacing the functionality of parent classes."
   ]
  },
  {
   "cell_type": "markdown",
   "metadata": {},
   "source": [
    "<a id='sect4_2'></a>\n",
    "### <font color='darkgreen'>Example - VolumeCalculator</font>\n",
    "So far we can calculate the area of a shape. Now we want to calculate the volume of a object. Consider a new <font color='blue'>**VolumeCalculator**</font> class that extends the <font color='blue'>**AreaCalculator**</font> class:"
   ]
  },
  {
   "cell_type": "code",
   "execution_count": 18,
   "metadata": {},
   "outputs": [],
   "source": [
    "class Cuboid(ShapeInterface):  \n",
    "    def __init__(self, width, height, depth):  \n",
    "        self.width, self.height, self.depth = width, height, depth  \n",
    "          \n",
    "    def area(self):  \n",
    "        return self.width * self.height\n",
    "    \n",
    "    def volume(self):\n",
    "        return self.area() * self.depth\n",
    "      \n",
    "class VolumeCalculator(AreaCalculator):  \n",
    "    def __init__(self, shapes):  \n",
    "        self.shapes = shapes\n",
    "        \n",
    "    def volume_sum(self):  \n",
    "        sum_of_volume = 0  \n",
    "        for s in self.shapes:  \n",
    "            if isinstance(s, ShapeInterface):  \n",
    "                sum_of_volume += s.volume()  \n",
    "            else:  \n",
    "                raise Exception(f\"Unexpected class={s.__class__}\")  \n",
    "                  \n",
    "        return sum_of_volume  "
   ]
  },
  {
   "cell_type": "markdown",
   "metadata": {},
   "source": [
    "Recall that the <font color='blue'>**SumCalculatorOutputter**</font> class resembles this:"
   ]
  },
  {
   "cell_type": "code",
   "execution_count": 27,
   "metadata": {},
   "outputs": [],
   "source": [
    "class SumCalculatorOutputter:  \n",
    "    def __init__(self, calculator:AreaCalculator):  \n",
    "        self.calculator = calculator  \n",
    "          \n",
    "    def area2json(self):  \n",
    "        return json.dumps({'sum': round(self.calculator.area_sum(), 1)}, indent=4)  \n",
    "      \n",
    "    def area2text(self):  \n",
    "        return f\"Area sum is {self.calculator.area_sum():.01f}\"\n",
    "    \n",
    "    def volume2json(self):\n",
    "        return json.dumps({'sum': round(self.calculator.volume_sum(), 1)}, indent=4)\n",
    "    \n",
    "    def volume2text(self):\n",
    "        return f\"Area sum is {self.calculator.volume_sum():.01f}\""
   ]
  },
  {
   "cell_type": "markdown",
   "metadata": {},
   "source": [
    "If you tried to run an example like this:"
   ]
  },
  {
   "cell_type": "code",
   "execution_count": 32,
   "metadata": {},
   "outputs": [
    {
     "name": "stdout",
     "output_type": "stream",
     "text": [
      "{\n",
      "    \"sum\": 6\n",
      "}\n"
     ]
    }
   ],
   "source": [
    "shapes = [Circle(2), Square(5), Square(6)]  \n",
    "solid_shapes = [Cuboid(1, 2, 3)]  \n",
    "ac = AreaCalculator(shapes)  \n",
    "vc = VolumeCalculator(solid_shapes)  \n",
    "  \n",
    "sc_out1 = SumCalculatorOutputter(vc)  \n",
    "sc_out2 = SumCalculatorOutputter(ac)  \n",
    "  \n",
    "# Ok  \n",
    "print(sc_out1.volume2json())  \n",
    "# AttributeError: 'AreaCalculator' object has no attribute 'volume_sum'\n",
    "# print(sc_out2.volume2json())  "
   ]
  },
  {
   "cell_type": "markdown",
   "metadata": {},
   "source": [
    "<font color='blue'>**VolumeCalculator**</font> implement additional method <font color='blue'>volume_sum</font> which not supported in <font color='blue'>**AreaCalculator**</font> and <font color='darkred'>**violated LSP Principle**</font>!\n",
    "\n",
    "How to resolve above issue is an opne question. (e.g.: [Design pattern - Abstract Factory](https://en.wikipedia.org/wiki/Abstract_factory_pattern))"
   ]
  },
  {
   "cell_type": "markdown",
   "metadata": {},
   "source": [
    "<a id='sect5'></a>\n",
    "## <font color='darkblue'>ISP - Interface Segregation Principle</font>  ([back](#sect1_4))\n",
    "<font size='3ptx'>**A client should never be forced to implement an interface that it doesn’t use, or clients shouldn’t be forced to depend on methods they do not use.**</font>\n",
    "\n",
    "One fat interface need to be split to many smaller and relevant interfaces so that clients can know about the interfaces that are relevant to them.\n",
    "* <font size='3ptx'>[**Motivation**](#sect5_1)</font>\n",
    "* <font size='3ptx'>[**Example - Support the new three-dimensional shapes**](#sect5_2)</font>\n",
    "\n",
    "![5.png](images/5.PNG)"
   ]
  },
  {
   "cell_type": "markdown",
   "metadata": {},
   "source": [
    "<a id='sect5_1'></a>\n",
    "### <font color='darkgreen'>Motivation</font>\n",
    "The ISP was first used and formulated by [**Robert C. Martin**](https://en.wikipedia.org/wiki/Robert_C._Martin) while consulting for Xerox:\n",
    "* Xerox had created a new printer system that could perform a veriety of tasks such as stapling and faxing along with the regular printing task\n",
    "* The software for this system was created from the ground up\n",
    "* Modifications and Deployment to the system became more complex.\n",
    "\n",
    "By following ISP, you have have below advantages:\n",
    "* By keeping interfaces small, the classes that implement them have a higher chance to fully substitute the interface. ([**LSP**](#sect4))\n",
    "* Classes that implement small interfaces are more focused and tend to have a single purpose. ([**SRP**](https://ducmanhphan.github.io/2020-01-15-Understanding-about-SOLID-part-4/))"
   ]
  },
  {
   "cell_type": "markdown",
   "metadata": {},
   "source": [
    "<a id='sect5_2'></a>\n",
    "### <font color='darkgreen'>Example - Support the new three-dimensional shapes</font>\n",
    "We need to support the new three-dimensional shapes of <font color='blue'>**Cuboid**</font> and <font color='blue'>**Spheroid**</font>, and these shapes will need to also calculate volume. Let’s consider what would happen if you were to modify the <font color='blue'>**ShapeInterface**</font> to add another contract:\n",
    "```python\n",
    "class ShapeInterface(ABC):  \n",
    "    @abstractmethod  \n",
    "    def area(self):  \n",
    "        raise NotImplementedError()  \n",
    "      \n",
    "    # New abstract method to calculate volume of three-dimensional shapes\n",
    "    @abstractmethod  \n",
    "    def volume(self):  \n",
    "        raise NotImplementedError()  \n",
    "```\n",
    "\n",
    "**Now, any shape you create must implement the volume method, but you know that squares are flat shapes and that they do not have volumes**, so this interface would force the <font color='blue'>**Square**</font> class to implement a method that it has no use of.\n",
    "```python\n",
    "class Square(ShapeInterface):  \n",
    "    def __init__(self, length):  \n",
    "        self.length = length  \n",
    "          \n",
    "    def area(self):  \n",
    "        return pow(self.length, 2)\n",
    "    \n",
    "    def volume(self):\n",
    "        raise Exception(\"Not supported operation!\")\n",
    "```\n",
    "\n",
    "<font color='darkred'>**This would violate the interface segregation principle**</font>. Instead, you could create another interface called <font color='blue'>**ThreeDimensionalShapeInterface**</font> that has the volume contract and three-dimensional shapes can implement this interface:"
   ]
  },
  {
   "cell_type": "code",
   "execution_count": 36,
   "metadata": {},
   "outputs": [],
   "source": [
    "class ShapeInterface(ABC):  \n",
    "    @abstractmethod  \n",
    "    def area(self):  \n",
    "        raise NotImplementedError()  \n",
    "\n",
    "class ThreeDimensionalShapeInterface(ABC):          \n",
    "    @abstractmethod  \n",
    "    def volume(self):  \n",
    "        raise NotImplementedError()  \n",
    "\n",
    "class Cuboid(ShapeInterface, ThreeDimensionalShapeInterface):  \n",
    "    def __init__(self, width, height, depth):  \n",
    "        self.width, self.height, self.depth = width, height, depth  \n",
    "          \n",
    "    def area(self):  \n",
    "        return self.width * self.height  \n",
    "      \n",
    "    def volume(self):  \n",
    "        return self.width * self.height * self.depth  "
   ]
  },
  {
   "cell_type": "markdown",
   "metadata": {},
   "source": [
    "That satisfies the interface segregation principle."
   ]
  },
  {
   "cell_type": "markdown",
   "metadata": {},
   "source": [
    "<a id='sect6'></a>\n",
    "## <font color='darkblue'>DIP - Dependency Inversion Principle</font> ([back](#sect1_4))\n",
    "<font size='3ptx'>**Entities must depend on abstractions, not on concretions. It states that the high-level module must not depend on the low-level module, but they should depend on abstractions.**</font>\n",
    "\n",
    "The interaction between high level and low level modules should be thought of as an abstract interaction between them.\n",
    "\n",
    "![6.PNG](images/6.PNG)\n",
    "\n",
    "([image source](https://www.slideshare.net/MarcoManga/dependency-inversion-principle))"
   ]
  },
  {
   "cell_type": "markdown",
   "metadata": {},
   "source": [
    "### <font color='darkgreen'>Example - DB connection</font>\n",
    "Let's consider a original design with class diagram as below:\n",
    "![7.PNG](images/7.PNG)\n",
    "\n",
    "Below is the implementation:"
   ]
  },
  {
   "cell_type": "code",
   "execution_count": 43,
   "metadata": {},
   "outputs": [],
   "source": [
    "class MySQLConnection:\n",
    "    def __init__(self, user, password):\n",
    "        self.user, self.password = user, password\n",
    "        \n",
    "    def connect(self) -> str:\n",
    "        return f\"Connect MySQL with account={self.user}({'*'*len(self.password)})\"\n",
    "    \n",
    "class Application:\n",
    "    def __init__(self):\n",
    "        self.db_connect = MySQLConnection('John', '1234')\n",
    "        \n",
    "    def run(self):\n",
    "        print(self.db_connect.connect())"
   ]
  },
  {
   "cell_type": "code",
   "execution_count": 44,
   "metadata": {},
   "outputs": [
    {
     "name": "stdout",
     "output_type": "stream",
     "text": [
      "Connect MySQL with account=John(****)\n"
     ]
    }
   ],
   "source": [
    "app = Application()\n",
    "app.run()"
   ]
  },
  {
   "cell_type": "markdown",
   "metadata": {},
   "source": [
    "Now we want our application to connect [**MongoDB**](https://en.wikipedia.org/wiki/MongoDB) instead of [**MySQL**](https://en.wikipedia.org/wiki/MySQL). Below is the new class diagram out of intuitive design:\n",
    "![8.PNG](images/8.PNG)\n",
    "\n",
    "The code snippet of change required to class <font color='blue'>**Application**</font>:\n",
    "```python\n",
    "class MongoConnection:\n",
    "    def __init__(self, user, password):\n",
    "        self.user, self.password = user, password\n",
    "        \n",
    "    def conn(self) -> str:\n",
    "        return f\"Connect Mongo with account={self.user}({'*'*len(self.password)})\"\n",
    "    \n",
    "class Application:\n",
    "    def __init__(self):\n",
    "        # Change part-1\n",
    "        self.db_connect = MongoConnect('John', '1234')\n",
    "        \n",
    "    def run(self):\n",
    "        # Change part-2\n",
    "        print(self.db_connect.conn())\n",
    "```\n",
    "<font color='darkred'>**This snippet above violates DIP as the**</font> <font color='blue'>**Application**</font> <font color='darkred'>**class is being forced to depend on the**</font> <font color='blue'>**MongoConnection**</font> <font color='darkred'>**or**</font> <font color='blue'>**MySQLConnection**</font> <font color='darkred'>**class and their methonds**</font> <font color='blue'>connect/conn</font>!\n",
    "\n",
    "A better design of class diagram which satisfies DIP will be:\n",
    "![9.PNG](images/9.PNG)\n",
    "\n",
    "Below is the implementation:"
   ]
  },
  {
   "cell_type": "code",
   "execution_count": 47,
   "metadata": {},
   "outputs": [],
   "source": [
    "class DBConnection(ABC):\n",
    "    @abstractmethod  \n",
    "    def connect(self) -> str:\n",
    "        raise NotImplementedError() \n",
    "        \n",
    "class MySQLConnection(DBConnection):\n",
    "    def __init__(self, user, password):\n",
    "        self.user, self.password = user, password\n",
    "        \n",
    "    def connect(self) -> str:\n",
    "        return f\"Connect MySQL with account={self.user}({'*'*len(self.password)})\"\n",
    "    \n",
    "class MongoConnection(DBConnection):\n",
    "    def __init__(self, user, password):\n",
    "        self.user, self.password = user, password\n",
    "\n",
    "    def connect(self) -> str:\n",
    "        return self.conn()\n",
    "        \n",
    "    def conn(self) -> str:\n",
    "        return f\"Connect Mongo with account={self.user}({'*'*len(self.password)})\"\n",
    "    \n",
    "class Application:\n",
    "    def __init__(self, db_connect:DBConnection):\n",
    "        self.db_connect = db_connect\n",
    "        \n",
    "    def run(self):\n",
    "        print(self.db_connect.connect())"
   ]
  },
  {
   "cell_type": "code",
   "execution_count": 49,
   "metadata": {},
   "outputs": [
    {
     "name": "stdout",
     "output_type": "stream",
     "text": [
      "Connect MySQL with account=John(****)\n",
      "Connect Mongo with account=John(****)\n"
     ]
    }
   ],
   "source": [
    "username='John'\n",
    "password='1234'\n",
    "app = Application(MySQLConnection(username, password))\n",
    "app.run()  # Connect MySQL\n",
    "\n",
    "app.db_connect = MongoConnection(username, password)\n",
    "app.run()  # Connect Mongo"
   ]
  },
  {
   "cell_type": "markdown",
   "metadata": {},
   "source": [
    "Now let's say we want to connect Spanner database by <font color='blue'>**SpannerConnection**</font>, we won't have to change <font color='blue'>**Application**</font> class anymore:"
   ]
  },
  {
   "cell_type": "code",
   "execution_count": 50,
   "metadata": {},
   "outputs": [
    {
     "name": "stdout",
     "output_type": "stream",
     "text": [
      "Connect Spanner with account=John(****)\n"
     ]
    }
   ],
   "source": [
    "class SpannerConnection(DBConnection):\n",
    "    def __init__(self, user, password):\n",
    "        self.user, self.password = user, password\n",
    "\n",
    "    def connect(self) -> str:\n",
    "        return self.conn()\n",
    "        \n",
    "    def conn(self) -> str:\n",
    "        return f\"Connect Spanner with account={self.user}({'*'*len(self.password)})\"\n",
    "    \n",
    "app.db_connect = SpannerConnection(username, password)\n",
    "app.run()  # Connect Mongo"
   ]
  },
  {
   "cell_type": "markdown",
   "metadata": {},
   "source": [
    "<a id='sect7'></a>\n",
    "## <font color='darkblue'>Homework 1</font> ([back](#sect1_4))\n",
    "\n",
    "### <font color='darkgreen'>Task1</font>\n",
    "請設計一個櫃台程式來結帳:\n",
    "* 如果價錢低於 100, 不打折: input=99, output=99\n",
    "* 如果價錢介於 \\[100~200\\], 打九折: input=200, output=180\n",
    "* 如果價錢介於 \\[201~500\\], 打八折: input=500, output=400\n",
    "* 如果價錢大於 500, 打六折. 打完折如果低於400, 以 400 算: \n",
    "  * input=600, output=max(400, 600*0.6)=max(400, 360)=400\n",
    "  * input=1000, output=600\n",
    "  \n",
    "底下為使用範例:\n",
    "```python\n",
    "import counter\n",
    "\n",
    "my_counter = counter.Counter()\n",
    "print(my_counter.count([99]))   # 99\n",
    "print(my_counter.count([200]))  # 180\n",
    "print(my_counter.count([500]))  # 400\n",
    "print(my_counter.count([600]))  # 400\n",
    "print(my_counter.count([1000]))  # 600\n",
    "```\n",
    "\n",
    "請編輯 `homework01/counter.py` 中的類別 <font color='blue'>**Counter**</font>\n",
    "\n",
    "### <font color='darkgreen'>Task2</font>\n",
    "承接 Task1, 現在 Task1 的打折優惠只限於 VIP 客戶, 一般客戶不打折; 會員一律打九折:\n",
    "```python\n",
    "import counter\n",
    "from enum import Enum\n",
    "\n",
    "class Customer(Enum):\n",
    "        NORMAL=0\n",
    "        MEMBER=1\n",
    "        VIP=3\n",
    "        \n",
    "my_counter = counter.CounterV2()\n",
    "print(my_counter.count([500], Customer.CUSTOMER))  # 500\n",
    "print(my_counter.count([500], Customer.MEMBER))  # 450\n",
    "print(my_counter.count([500], Customer.VIP))  # 400\n",
    "```\n",
    "請編輯 `homework01/counter.py` 中的類別 <font color='blue'>**CounterV2**</font>\n",
    "\n",
    "### <font color='darkgreen'>How to do homework</font>"
   ]
  },
  {
   "cell_type": "markdown",
   "metadata": {},
   "source": [
    "## <font color='darkblue'>Supplement</font>\n",
    "* [jyt0532's Blog - 深入淺出單一職責原則 Single Responsibility Principle](https://www.jyt0532.com/2020/03/18/srp/)\n",
    "* [Slideshare - Single Responsibility Principle](https://www.slideshare.net/egolan74/single-responsibility-principle-31407764)\n",
    "* [jyt0532's Blog - 深入淺出開放封閉原則 Open-Closed Principle](https://www.jyt0532.com/2020/03/19/ocp/)\n",
    "* [medium - Finn - 開放封閉原則 Open-Closed Principle (OCP)](https://medium.com/@f40507777/%E9%96%8B%E6%94%BE%E5%B0%81%E9%96%89%E5%8E%9F%E5%89%87-open-closed-principle-31d61f9d37a5)\n",
    "* [NDepend - SOLID Design: The Interface Segregation Principle (ISP)](https://blog.ndepend.com/solid-design-the-interface-segregation-principle-isp/)\n",
    "* [Manh Phan - Understanding about SOLID - Interface Segregation Principle](https://ducmanhphan.github.io/2020-01-15-Understanding-about-SOLID-part-4/)\n",
    "* [jyt0532's Blog - 深入淺出介面分割原則 Interface Segregation Principle](https://www.jyt0532.com/2020/03/23/isp/)\n",
    "* [NotFalse 技術客 - 依賴倒置原則 (Dependency-Inversion Principle, DIP)](https://notfalse.net/1/dip)\n",
    "* [jyt0532's Blog - 深入淺出依賴反向原則 Dependency Inversion Principle](https://www.jyt0532.com/2020/03/24/dip/)\n",
    "* [OO 設計原則 - Low of Demeter](http://puremonkey2010.blogspot.com/2011/03/oo-low-of-demeter.html)\n",
    "* [Wiki - Class diagram](https://en.wikipedia.org/wiki/Class_diagram)"
   ]
  }
 ],
 "metadata": {
  "kernelspec": {
   "display_name": "Python 3",
   "language": "python",
   "name": "python3"
  },
  "language_info": {
   "codemirror_mode": {
    "name": "ipython",
    "version": 3
   },
   "file_extension": ".py",
   "mimetype": "text/x-python",
   "name": "python",
   "nbconvert_exporter": "python",
   "pygments_lexer": "ipython3",
   "version": "3.8.5"
  }
 },
 "nbformat": 4,
 "nbformat_minor": 4
}
