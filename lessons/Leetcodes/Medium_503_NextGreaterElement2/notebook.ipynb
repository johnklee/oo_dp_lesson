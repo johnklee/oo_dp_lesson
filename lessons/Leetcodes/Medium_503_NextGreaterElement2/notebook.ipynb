{
 "cells": [
  {
   "cell_type": "markdown",
   "id": "b6944970",
   "metadata": {},
   "source": [
    "## <font color='darkblue'>503. Next Greater Element II</font>\n",
    "Given a circular integer array `nums` (i.e., the next element of `nums[nums.length - 1]` is `nums[0]`), return the <b>next greater number for every element in nums</b>.\n",
    "\n",
    "The next greater number of a number x is the first greater number to its traversing-order next in the array, which means you could search circularly to find its next greater number. If it doesn't exist, return -1 for this number.\n",
    "\n",
    "* **Example 1:**\n",
    "> Input: nums = \\[1,2,1\\] <br/>\n",
    "> Output: \\[2,-1,2\\] <br/>\n",
    "> Explanation: The first 1's next greater number is 2; <br/>\n",
    "> The number 2 can't find next greater number.  <br/>\n",
    "> The second 1's next greater number needs to search circularly, which is also 2. <br/>\n",
    "\n",
    "* **Example 2:**\n",
    "> Input: nums = \\[1,2,3,4,3\\] <br/>\n",
    "> Output: \\[2,3,4,-1,4\\] <br/>"
   ]
  },
  {
   "cell_type": "code",
   "execution_count": 1,
   "id": "c84dd414",
   "metadata": {},
   "outputs": [],
   "source": [
    "from typing import List"
   ]
  },
  {
   "cell_type": "code",
   "execution_count": 2,
   "id": "f757dca9",
   "metadata": {},
   "outputs": [],
   "source": [
    "def evaluate_solution(sol):\n",
    "    for data, ans in [\n",
    "        ([1,2,1], [2,-1,2]),\n",
    "        ([1,2,3,4,3], [2,3,4,-1,4]),\n",
    "    ]:\n",
    "        rel = sol.nextGreaterElements(data)\n",
    "        assert ans == rel\n",
    "        \n",
    "    print(\"Pass!\")"
   ]
  },
  {
   "cell_type": "code",
   "execution_count": 3,
   "id": "addb196a",
   "metadata": {},
   "outputs": [],
   "source": [
    "import random\n",
    "large_data = random.sample(range(-500000, 500000), 500000)"
   ]
  },
  {
   "cell_type": "markdown",
   "id": "5dc02302",
   "metadata": {},
   "source": [
    "## <font color='darkblue'>Solution</font>\n",
    "底下我們要來看幾個解法, 首先是 Brute force 的方法, 接著是透過 Stack 的優化解."
   ]
  },
  {
   "cell_type": "markdown",
   "id": "014c67c6",
   "metadata": {},
   "source": [
    "<a id='sol_1'></a>\n",
    "### <font color='darkgreen'>Brute force approach</font>\n",
    "Brute force 的解法的時間複雜度是 $O(n^2)$ , 好處是解法易懂. 這邊我們使用 generator (註一) 來幫我們 iterate 從 `nums` 的某個位置遍循整個串列:"
   ]
  },
  {
   "cell_type": "code",
   "execution_count": 4,
   "id": "1df4c22e",
   "metadata": {},
   "outputs": [],
   "source": [
    "def iterate_nums(nums, pos):\n",
    "    num_size = len(nums)\n",
    "    for _ in range(num_size):\n",
    "        pos = pos % num_size\n",
    "        yield nums[pos]\n",
    "        pos += 1"
   ]
  },
  {
   "cell_type": "code",
   "execution_count": 5,
   "id": "fa530139",
   "metadata": {},
   "outputs": [
    {
     "name": "stdout",
     "output_type": "stream",
     "text": [
      "nums = [1, 2, 3, 4, 5]\n",
      "Iterate from pos=0: [1, 2, 3, 4, 5]\n",
      "Iterate from pos=1: [2, 3, 4, 5, 1]\n",
      "Iterate from pos=2: [3, 4, 5, 1, 2]\n",
      "Iterate from pos=3: [4, 5, 1, 2, 3]\n",
      "Iterate from pos=4: [5, 1, 2, 3, 4]\n"
     ]
    }
   ],
   "source": [
    "nums = [i+1 for i in range(5)]\n",
    "print(f'nums = {nums}')\n",
    "# Iterate from pos 1:\n",
    "for i in range(len(nums)):\n",
    "    print(f\"Iterate from pos={i}: {list(iterate_nums(nums, i))}\")"
   ]
  },
  {
   "cell_type": "markdown",
   "id": "8d81cc87",
   "metadata": {},
   "source": [
    "接著解法的描述如下:\n",
    "* 遍循 `nums` - `for i, v in nums:`\n",
    "  * 從 `i+1` 的位置上往前找第一個比 `v` 大的數值\n",
    "  * 如果存在就把該數字存回 `ans` , 如果不存在就存 -1 進 `ans`"
   ]
  },
  {
   "cell_type": "code",
   "execution_count": 6,
   "id": "6bf96ecd",
   "metadata": {},
   "outputs": [],
   "source": [
    "class Solution:\n",
    "    def nextGreaterElements(self, nums: List[int]) -> List[int]:                            \n",
    "        ans = []\n",
    "        \n",
    "        for i, v in enumerate(nums):\n",
    "            is_found = False\n",
    "            for next_v in iterate_nums(nums, i+1):\n",
    "                if next_v > v:\n",
    "                    ans.append(next_v)\n",
    "                    is_found = True\n",
    "                    break\n",
    "                    \n",
    "            if not is_found:\n",
    "                ans.append(-1)\n",
    "        \n",
    "        return ans"
   ]
  },
  {
   "cell_type": "code",
   "execution_count": 7,
   "id": "da1ce663",
   "metadata": {},
   "outputs": [
    {
     "name": "stdout",
     "output_type": "stream",
     "text": [
      "Pass!\n"
     ]
    }
   ],
   "source": [
    "sol = Solution()\n",
    "evaluate_solution(sol)"
   ]
  },
  {
   "cell_type": "markdown",
   "id": "9122b9a8",
   "metadata": {},
   "source": [
    "看起來解法是對的, 接著來看看處理大資料的時間 (約 2s):"
   ]
  },
  {
   "cell_type": "code",
   "execution_count": 8,
   "id": "a5963660",
   "metadata": {},
   "outputs": [
    {
     "name": "stdout",
     "output_type": "stream",
     "text": [
      "CPU times: user 1.88 s, sys: 3.87 ms, total: 1.89 s\n",
      "Wall time: 1.89 s\n"
     ]
    }
   ],
   "source": [
    "%%time\n",
    "ans = sol.nextGreaterElements(large_data)"
   ]
  },
  {
   "cell_type": "markdown",
   "id": "fbdfc633",
   "metadata": {},
   "source": [
    "### <font color='darkgreen'>Optimized solution by applying Stack</font>\n",
    "網路可以找到 <a href='https://blog.csdn.net/fuxuemingzhu/article/details/79463006'>這篇</a> 解法, Leetcode 裡也有給出解法 (<a href='https://leetcode.com/problems/next-greater-element-ii/solution/'>link</a>). 我們都知道 <b><a href='https://en.wikipedia.org/wiki/Stack_(abstract_data_type)'>Stack</a></b> (註二) 是一個 LIFO (Last in, first out) 的資料結構:\n",
    "![stack gif](https://miro.medium.com/max/1280/1*lb-0r80YYhcnoVcQ3HY-1g.gif)\n",
    "<br/>\n",
    "([image source](https://medium.com/@todoroski97/data-structure-stack-17b80ed3bfa9))\n",
    "\n",
    "那我們怎麼使用 Stack 來有效的處理這個問題? 從 <b><a href='#sol_1'>Brute force</a></b> 的解法我們知道最花時間是往前去找比目前數字大的第一個數字, 因此一個想法是是否我們能將上一次的搜尋結果存到 Stack, 如此在下一次的搜尋我們直接去 Stack 找 (只保留目前找到比當前大的數字) 而不用遍循整個 `nums`. 說起來有點抽象, 下面直接來看範例, 考慮我們有一個 `nums = [3, 8, 4, 1, 2]`:"
   ]
  },
  {
   "cell_type": "code",
   "execution_count": 9,
   "id": "f8b114fa",
   "metadata": {},
   "outputs": [],
   "source": [
    "stack = []  # 準備一個 stack 來存放上一次的搜尋找到的大數字\n",
    "nums = [3, 8, 4, 1, 2] \n",
    "ans = [-1] * len(nums)  # 用來搜尋結果, 因為還沒開始找, 所以預設都是 -1\n",
    "\n",
    "def print_status():\n",
    "    print(f'stack={stack}; ans={ans}')"
   ]
  },
  {
   "cell_type": "code",
   "execution_count": 10,
   "id": "89803466",
   "metadata": {},
   "outputs": [
    {
     "name": "stdout",
     "output_type": "stream",
     "text": [
      "stack=[2]; ans=[-1, -1, -1, -1, -1]\n"
     ]
    }
   ],
   "source": [
    "# Round 1: 目前 pos=4, num=2, stack=[], 因為 stack 是空的, 所以沒有 ans, 然後把 2 放進 stack\n",
    "stack = [2]\n",
    "print_status()"
   ]
  },
  {
   "cell_type": "code",
   "execution_count": 11,
   "id": "ee85ce68",
   "metadata": {},
   "outputs": [
    {
     "name": "stdout",
     "output_type": "stream",
     "text": [
      "stack=[2, 1]; ans=[-1, -1, -1, 2, -1]\n"
     ]
    }
   ],
   "source": [
    "# Round 2: 目前 pos=3, num=1, stack = [2], stack 最上面的數字比目前數字 1 大, \n",
    "#          因此把 2 放到 ans[3]=2, 然後把 1 放進 stack = [2, 1]\n",
    "stack = [2, 1]\n",
    "ans[3] = 2\n",
    "print_status()"
   ]
  },
  {
   "cell_type": "code",
   "execution_count": 12,
   "id": "d5743c89",
   "metadata": {},
   "outputs": [
    {
     "name": "stdout",
     "output_type": "stream",
     "text": [
      "stack=[4]; ans=[-1, -1, -1, 2, -1]\n"
     ]
    }
   ],
   "source": [
    "# Round 3: 目前 pos=2, num=4, stack = [2, 1], 接著我們開始從 stack 找比 4 還要大的數字, \n",
    "#          如果遇到小於等於 4 的數字, 就把它從 stack 移除, 最後再把 4 放進去 stack\n",
    "num, pos = 4, 2\n",
    "while stack:\n",
    "    if stack[-1] <= num:\n",
    "        stack.pop()\n",
    "    else:\n",
    "        break\n",
    "        \n",
    "if stack:  # stack 不是空的, 說明有找到比 4 大的數字\n",
    "    print(f'Replace ans[{pos}] with {stack[-1]}')\n",
    "    ans[pos] = stack[-1]\n",
    "    \n",
    "# 把 4 放進去 stack\n",
    "stack.append(num)\n",
    "print_status()"
   ]
  },
  {
   "cell_type": "code",
   "execution_count": 13,
   "id": "1a8a873d",
   "metadata": {},
   "outputs": [
    {
     "name": "stdout",
     "output_type": "stream",
     "text": [
      "stack=[8]; ans=[-1, -1, -1, 2, -1]\n"
     ]
    }
   ],
   "source": [
    "# Round 4: 目前 pos=1, num=8, stack = [4], 接著我們開始從 stack 找比 8 還要大的數字, \n",
    "#          如果遇到小於等於 8 的數字, 就把它從 stack 移除, 最後再把 8 放進去 stack\n",
    "num, pos = 8, 1\n",
    "while stack:\n",
    "    if stack[-1] <= num:\n",
    "        stack.pop()\n",
    "    else:\n",
    "        break\n",
    "        \n",
    "if stack:  # stack 不是空的, 說明有找到比 8 大的數字\n",
    "    print(f'Replace ans[{pos}] with {stack[-1]}')\n",
    "    ans[pos] = stack[-1]\n",
    "    \n",
    "# 把 8 放進去 stack\n",
    "stack.append(num)\n",
    "print_status()"
   ]
  },
  {
   "cell_type": "code",
   "execution_count": 14,
   "id": "7ef471f4",
   "metadata": {},
   "outputs": [
    {
     "name": "stdout",
     "output_type": "stream",
     "text": [
      "Replace ans[0] with 8\n",
      "stack=[8, 3]; ans=[8, -1, -1, 2, -1]\n"
     ]
    }
   ],
   "source": [
    "# Round 5: 目前 pos=0, num=3, stack = [8], 接著我們開始從 stack 找比 3 還要大的數字, \n",
    "#          如果遇到小於等於 3 的數字, 就把它從 stack 移除, 最後再把 3 放進去 stack\n",
    "pos = 0\n",
    "num = nums[pos]\n",
    "while stack:\n",
    "    if stack[-1] <= num:\n",
    "        stack.pop()\n",
    "    else:\n",
    "        break\n",
    "        \n",
    "if stack:  # stack 不是空的, 說明有找到比 3 大的數字\n",
    "    print(f'Replace ans[{pos}] with {stack[-1]}')\n",
    "    ans[pos] = stack[-1]\n",
    "    \n",
    "# 把 3 放進去 stack\n",
    "stack.append(num)\n",
    "print_status()"
   ]
  },
  {
   "cell_type": "markdown",
   "id": "d0a3d232",
   "metadata": {},
   "source": [
    "到目前為止, 我們已經從遍循整個 `nums` 一次, 但是我們還要繼續遍循一次, 因為再處理 pos>1 的數字時, 它們在被處理時, stack 並沒有看到這些數字之前的數字 (e.g. 在處理 pos=4, num=2 時, stack 是空的), 處理過一輪後, 目前 stack 已經有看過所有數字並保留目前位置上往前看到的最大數字."
   ]
  },
  {
   "cell_type": "code",
   "execution_count": 15,
   "id": "c8652a6a",
   "metadata": {},
   "outputs": [
    {
     "name": "stdout",
     "output_type": "stream",
     "text": [
      "Replace ans[4] with 3\n",
      "stack=[8, 3, 2]; ans=[8, -1, -1, 2, 3]\n"
     ]
    }
   ],
   "source": [
    "# Round 6: 目前 pos=4, num=2, stack = [8, 3], 接著我們開始從 stack 找比 2 還要大的數字, \n",
    "#          如果遇到小於等於 2 的數字, 就把它從 stack 移除, 最後再把 2 放進去 stack\n",
    "pos = 4\n",
    "num = nums[pos]\n",
    "while stack:\n",
    "    if stack[-1] <= num:\n",
    "        stack.pop()\n",
    "    else:\n",
    "        break\n",
    "        \n",
    "if stack:  # stack 不是空的, 說明有找到比 3 大的數字\n",
    "    print(f'Replace ans[{pos}] with {stack[-1]}')\n",
    "    ans[pos] = stack[-1]\n",
    "    \n",
    "# 把 3 放進去 stack\n",
    "stack.append(num)\n",
    "print_status()"
   ]
  },
  {
   "cell_type": "code",
   "execution_count": 16,
   "id": "b155daa6",
   "metadata": {},
   "outputs": [],
   "source": [
    "# Round 7: 目前 pos=3, num=1, stack=[8, 3, 2], 因為 ans[3] = 2 > -1, 所以這一輪不用處理"
   ]
  },
  {
   "cell_type": "code",
   "execution_count": 17,
   "id": "94aee2f0",
   "metadata": {},
   "outputs": [
    {
     "name": "stdout",
     "output_type": "stream",
     "text": [
      "Replace ans[2] with 8\n",
      "stack=[8, 4]; ans=[8, -1, 8, 2, 3]\n"
     ]
    }
   ],
   "source": [
    "# Round 8: 目前 pos=2, num=4, stack=[8, 3, 2], 接著我們開始從 stack 找比 4 還要大的數字, \n",
    "#          如果遇到小於等於 4 的數字, 就把它從 stack 移除, 最後再把 4 放進去 stack\n",
    "pos = 2\n",
    "num = nums[pos]\n",
    "while stack:\n",
    "    if stack[-1] <= num:\n",
    "        stack.pop()\n",
    "    else:\n",
    "        break\n",
    "        \n",
    "if stack:  # stack 不是空的, 說明有找到比 3 大的數字\n",
    "    print(f'Replace ans[{pos}] with {stack[-1]}')\n",
    "    ans[pos] = stack[-1]\n",
    "    \n",
    "# 把 3 放進去 stack\n",
    "stack.append(num)\n",
    "print_status()"
   ]
  },
  {
   "cell_type": "code",
   "execution_count": 18,
   "id": "bd27752e",
   "metadata": {},
   "outputs": [
    {
     "name": "stdout",
     "output_type": "stream",
     "text": [
      "stack=[8]; ans=[8, -1, 8, 2, 3]\n"
     ]
    }
   ],
   "source": [
    "# Round 9: 目前 pos=1, num=8, stack=[8, 3, 2], 接著我們開始從 stack 找比 8 還要大的數字, \n",
    "#          如果遇到小於等於 8 的數字, 就把它從 stack 移除, 最後再把 8 放進去 stack\n",
    "pos = 1\n",
    "num = nums[pos]\n",
    "while stack:\n",
    "    if stack[-1] <= num:\n",
    "        stack.pop()\n",
    "    else:\n",
    "        break\n",
    "        \n",
    "if stack:  # stack 不是空的, 說明有找到比 3 大的數字\n",
    "    print(f'Replace ans[{pos}] with {stack[-1]}')\n",
    "    ans[pos] = stack[-1]\n",
    "    \n",
    "# 把 3 放進去 stack\n",
    "stack.append(num)\n",
    "print_status()"
   ]
  },
  {
   "cell_type": "code",
   "execution_count": 19,
   "id": "75a26ffc",
   "metadata": {},
   "outputs": [],
   "source": [
    "# Round 10: 目前 pos=0, num=3, stack=[8], 因為 ans[0] = 8 > -1, 所以這一輪不用處理 (Last round)"
   ]
  },
  {
   "cell_type": "markdown",
   "id": "ebca0f51",
   "metadata": {},
   "source": [
    "所以根據上面的解說, 將上述演算法實作的結果如下:"
   ]
  },
  {
   "cell_type": "code",
   "execution_count": 20,
   "id": "63bcb5b0",
   "metadata": {},
   "outputs": [],
   "source": [
    "class Solution:\n",
    "    def nextGreaterElements(self, nums: List[int]) -> List[int]:                            \n",
    "        nums_length = len(nums)\n",
    "        ans, stack = [-1] * nums_length, []\n",
    "        \n",
    "        for _ in range(2):\n",
    "            for pos in range(nums_length-1, -1, -1):\n",
    "                val = nums[pos]\n",
    "                while stack and stack[-1] <= val:\n",
    "                    stack.pop()\n",
    "                    \n",
    "                if stack:\n",
    "                    ans[pos] = stack[-1]\n",
    "                    \n",
    "                stack.append(val)\n",
    "        \n",
    "        return ans"
   ]
  },
  {
   "cell_type": "code",
   "execution_count": 21,
   "id": "6b2004cc",
   "metadata": {},
   "outputs": [
    {
     "name": "stdout",
     "output_type": "stream",
     "text": [
      "Pass!\n"
     ]
    }
   ],
   "source": [
    "sol = Solution()\n",
    "evaluate_solution(sol)"
   ]
  },
  {
   "cell_type": "markdown",
   "id": "b6d0ec03",
   "metadata": {},
   "source": [
    "看起來我們的實作是對的, 接著來看處理大資料所需時間 (550ms~450ms << 2s):"
   ]
  },
  {
   "cell_type": "code",
   "execution_count": 22,
   "id": "467075c0",
   "metadata": {},
   "outputs": [
    {
     "name": "stdout",
     "output_type": "stream",
     "text": [
      "CPU times: user 461 ms, sys: 167 µs, total: 461 ms\n",
      "Wall time: 461 ms\n"
     ]
    }
   ],
   "source": [
    "%%time\n",
    "ans = sol.nextGreaterElements(large_data)"
   ]
  },
  {
   "cell_type": "markdown",
   "id": "1e4b9a73",
   "metadata": {},
   "source": [
    "根據 Leetcode 的執行結果:\n",
    "> Runtime: 224 ms, faster than 63.42% of Python3 online submissions for Next Greater Element II.  <br/>\n",
    "> Memory Usage: 15.8 MB, less than 40.35% of Python3 online submissions for Next Greater Element II."
   ]
  },
  {
   "cell_type": "markdown",
   "id": "9afb86fa",
   "metadata": {},
   "source": [
    "## <font color='darkblue'>Supplement</font>\n",
    "* <a href='https://realpython.com/introduction-to-python-generators/'>1. RealPython - How to Use Generators and yield in Python</a>\n",
    "* <a href='https://realpython.com/how-to-implement-python-stack/'>2. RealPython - How to Implement a Python Stack</a>"
   ]
  }
 ],
 "metadata": {
  "kernelspec": {
   "display_name": "Python 3",
   "language": "python",
   "name": "python3"
  },
  "language_info": {
   "codemirror_mode": {
    "name": "ipython",
    "version": 3
   },
   "file_extension": ".py",
   "mimetype": "text/x-python",
   "name": "python",
   "nbconvert_exporter": "python",
   "pygments_lexer": "ipython3",
   "version": "3.7.3"
  }
 },
 "nbformat": 4,
 "nbformat_minor": 5
}
