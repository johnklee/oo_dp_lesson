{
 "cells": [
  {
   "cell_type": "markdown",
   "metadata": {},
   "source": [
    "## <font color='darkblue'>前言 :</font>\n",
    "二元樹的走訪 (<font color='brown'>Binary Tree Travel</font>), 最簡單的說法就是 “拜訪樹中所有的節點各一次”, 並且在走訪後, 將樹中的資料轉化成線性關係. 其實二元樹的走訪, 並不像之前所提到的線性資料結構般單純, 就一個簡單按二元樹節點而言, 每個節點都可以區分成左右兩個分支, 請參考下面圖形, 所以共可以有 ABC, ACB, BAC etc 等6種走訪方式. 如果是依照二元樹特性, 一律由左向右, 那只會剩下三種走訪方式, 分別是 BAC, ABC, BCA 三種 :\n",
    "![1.PNG](images/1.PNG)\n",
    "<br/>\n",
    "\n",
    "我們通常把這三種方式的命名與規則如下 :\n",
    "* **中序走訪** (BAC, Inorder) : 左子樹 > 樹根 > 右子樹\n",
    "* **前序走訪** (ABC, Preorder) : 樹根 > 左子樹 > 右子樹\n",
    "* **後序走訪** (BCA, Postorder) : 左子樹 > 右子樹 > 樹根\n",
    "\n",
    "對於這三種走訪方式, 只需要 <font color='red'>記得樹根的位置</font> 就不會前中後序搞混. 例如中序法即樹根在中間, 前序法則是樹根在前面以此類推. 接著以底下的二元樹為範例針對這三種走訪方式作介紹.\n",
    "![2.PNG](images/2.PNG)\n",
    "<br/>"
   ]
  },
  {
   "cell_type": "code",
   "execution_count": 1,
   "metadata": {},
   "outputs": [],
   "source": [
    "from typing import List, Optional\n",
    "from tree_utils import build_tree\n",
    "import abc \n",
    "from abc import ABC, abstractmethod \n",
    "\n",
    "root = build_tree(['A', 'B', 'C', 'D', 'E', 'F', 'G'])"
   ]
  },
  {
   "cell_type": "markdown",
   "metadata": {},
   "source": [
    "## <font color='darkblue'>中序走訪 :</font>\n",
    "<b><font color='darkblue'>中序走訪的順序為 : 左子樹 > 樹根 > 右子樹</font></b><br/><br/>\n",
    "就是延著二元樹的左子樹一直往下, 直到無法前進後退回父節點, 再往右節點一直往下, 如果右子樹也走完就退回上層的左節點, 再重複左> 中 > 右的順序走訪. 以上面二元樹為例的中序走訪為 : D > B > E > A > F > C > G. 中序走訪的遞迴演算法如下 :\n",
    "![5.PNG](images/5.PNG)\n",
    "<br/>"
   ]
  },
  {
   "cell_type": "code",
   "execution_count": 2,
   "metadata": {},
   "outputs": [],
   "source": [
    "def inorder_traversal(node, output):\n",
    "    if node:\n",
    "        inorder_traversal(node.left, output)\n",
    "        output.append(node.val)\n",
    "        inorder_traversal(node.right, output)    "
   ]
  },
  {
   "cell_type": "code",
   "execution_count": 3,
   "metadata": {},
   "outputs": [
    {
     "name": "stdout",
     "output_type": "stream",
     "text": [
      "D > B > E > A > F > C > G\n"
     ]
    }
   ],
   "source": [
    "output = []\n",
    "inorder_traversal(root, output)\n",
    "print(' > '.join(output))"
   ]
  },
  {
   "cell_type": "markdown",
   "metadata": {},
   "source": [
    "### <font color='darkgreen'>94. Binary Tree Inorder Traversal</font>\n",
    "([source](https://leetcode.com/problems/binary-tree-inorder-traversal/))"
   ]
  },
  {
   "cell_type": "markdown",
   "metadata": {},
   "source": [
    "## <font color='darkblue'>前序走訪 :</font>\n",
    "<b><font color='darkblue'>前序走訪的順序為 : 樹根 > 左子樹 > 右子樹</font></b> <br/><br/>\n",
    "前序走訪就是從根節點開始處理, 根節點處理完後往左子樹走, 直到無法前進再處理右子樹. 以上面二元樹為例的前序走訪為 : `A > B > D > E > C > F > G`. 前序走訪的遞迴演算法如下 :\n",
    "![3.PNG](images/3.PNG)\n",
    "<br/>"
   ]
  },
  {
   "cell_type": "code",
   "execution_count": 4,
   "metadata": {},
   "outputs": [],
   "source": [
    "def preorder_traversal(node, output):\n",
    "    if node:        \n",
    "        output.append(node.val)\n",
    "        preorder_traversal(node.left, output)\n",
    "        preorder_traversal(node.right, output)  "
   ]
  },
  {
   "cell_type": "code",
   "execution_count": 5,
   "metadata": {},
   "outputs": [
    {
     "name": "stdout",
     "output_type": "stream",
     "text": [
      "A > B > D > E > C > F > G\n"
     ]
    }
   ],
   "source": [
    "output = []\n",
    "preorder_traversal(root, output)\n",
    "print(' > '.join(output))"
   ]
  },
  {
   "cell_type": "markdown",
   "metadata": {},
   "source": [
    "### <font color='darkgreen'>144. Binary Tree Preorder Traversal</font>\n",
    "([source](https://leetcode.com/problems/binary-tree-preorder-traversal/))"
   ]
  },
  {
   "cell_type": "markdown",
   "metadata": {},
   "source": [
    "## <font color='darkblue'>後序走訪 :</font>\n",
    "<font color='darkblue'><b>後序走訪的順序為 : 左子樹 > 右子樹 > 樹根</b></font><br/><br/>\n",
    "後序走訪和前序走訪的方法相反, 它是先把左子樹和右子樹的節點處理完後才處理樹根. 以上面二元樹為例的後序走訪為 : `D > E > B > F > G > C > A`. 後序走訪的遞迴演算法如下 :\n",
    "![4.PNG](images/4.PNG)\n",
    "<br/>"
   ]
  },
  {
   "cell_type": "code",
   "execution_count": 6,
   "metadata": {},
   "outputs": [],
   "source": [
    "def postorder_traversal(node, output):\n",
    "    if node:                \n",
    "        postorder_traversal(node.left, output)\n",
    "        postorder_traversal(node.right, output)  \n",
    "        output.append(node.val)"
   ]
  },
  {
   "cell_type": "code",
   "execution_count": 7,
   "metadata": {},
   "outputs": [
    {
     "name": "stdout",
     "output_type": "stream",
     "text": [
      "D > E > B > F > G > C > A\n"
     ]
    }
   ],
   "source": [
    "output = []\n",
    "postorder_traversal(root, output)\n",
    "print(' > '.join(output))"
   ]
  },
  {
   "cell_type": "markdown",
   "metadata": {},
   "source": [
    "### <font color='darkgreen'>1973. Count Nodes Equal to Sum of Descendants</font>\n",
    "([source](https://leetcode.com/problems/count-nodes-equal-to-sum-of-descendants/), Facebook)\n",
    "![1973_ex1.PNG](images/1973_ex1.PNG)\n",
    "<br/>"
   ]
  },
  {
   "cell_type": "code",
   "execution_count": 8,
   "metadata": {},
   "outputs": [],
   "source": [
    "def evaluate_1973():\n",
    "    for data, ans in [\n",
    "        ([10,3,4,2,1], 2),\n",
    "        ([2,3, None,2, None], 0),\n",
    "        ([0], 1),\n",
    "    ]:\n",
    "        root = build_tree(data)\n",
    "        sol = Solution1973()\n",
    "        rel = sol.equalToDescendants(root)\n",
    "        if rel != ans:\n",
    "            raise Exception(f'Fail in data={data}: ans={ans}; rel={rel}')"
   ]
  },
  {
   "cell_type": "code",
   "execution_count": 9,
   "metadata": {},
   "outputs": [],
   "source": [
    "class Solution1973:\n",
    "    def equalToDescendants(self, root) -> int:\n",
    "        # TBD\n",
    "        ans = 0\n",
    "        \n",
    "        def _postorder_search(node):\n",
    "            nonlocal ans\n",
    "            if node is None:\n",
    "                return 0\n",
    "            \n",
    "            sum_of_decendants = _postorder_search(node.left) + _postorder_search(node.right)\n",
    "            if sum_of_decendants == node.val:\n",
    "                ans += 1\n",
    "                \n",
    "            return node.val + sum_of_decendants\n",
    "        \n",
    "        _postorder_search(root)\n",
    "        return ans"
   ]
  },
  {
   "cell_type": "code",
   "execution_count": 10,
   "metadata": {},
   "outputs": [],
   "source": [
    "# evaluate_1973()"
   ]
  },
  {
   "cell_type": "markdown",
   "metadata": {},
   "source": [
    "### <font color='darkgreen'>1628. Design an Expression Tree With Evaluate Function</font>\n",
    "([source](https://leetcode.com/problems/design-an-expression-tree-with-evaluate-function/), Amazon)\n",
    "![1628](images/1628_ex1.PNG)\n",
    "<br/>"
   ]
  },
  {
   "cell_type": "code",
   "execution_count": 11,
   "metadata": {},
   "outputs": [],
   "source": [
    "def evaluate_1628():\n",
    "    tree_builder = TreeBuilder()\n",
    "    for s, ans in [\n",
    "        ([\"3\",\"4\",\"+\",\"2\",\"*\",\"7\",\"/\"], 2),\n",
    "        ([\"4\",\"5\",\"2\",\"7\",\"+\",\"-\",\"*\"], -16),\n",
    "        ([\"4\",\"2\",\"+\",\"3\",\"5\",\"1\",\"-\",\"*\",\"+\"], 18),\n",
    "        ([\"100\",\"200\",\"+\",\"2\",\"/\",\"5\",\"*\",\"7\",\"+\"], 757),\n",
    "    ]:\n",
    "        n = tree_builder.buildTree(s)\n",
    "        \n",
    "        rel = n.evaluate()\n",
    "        if rel != ans:\n",
    "            raise Exception(f\"s={s} with ans={ans}; rel={rel}!\")"
   ]
  },
  {
   "cell_type": "code",
   "execution_count": 12,
   "metadata": {},
   "outputs": [],
   "source": [
    "class Node(ABC):\n",
    "    @abstractmethod\n",
    "    # define your fields here\n",
    "    def evaluate(self) -> int:\n",
    "        pass\n",
    "\n",
    "\n",
    "class JNode(Node):\n",
    "    def __init__(self, val, left=None, right=None):\n",
    "        self.val = val\n",
    "        self.right = right\n",
    "        self.left = left\n",
    "    \n",
    "    def op(self, v1, v2):\n",
    "        if self.val == '+':\n",
    "            return v1 + v2\n",
    "        elif self.val == '-':\n",
    "            return v1 - v2\n",
    "        elif self.val == '*':\n",
    "            return v1 * v2\n",
    "        else:\n",
    "            return v1 / v2\n",
    "    \n",
    "    def evaluate(self):\n",
    "        # TBD\n",
    "        if self.right is None and self.left is None:\n",
    "            return self.val\n",
    "        else:\n",
    "            v1 = self.left.evaluate()\n",
    "            v2 = self.right.evaluate()\n",
    "            return self.op(v1, v2)\n",
    "    \n",
    "\"\"\"    \n",
    "This is the TreeBuilder class.\n",
    "You can treat it as the driver code that takes the postinfix input\n",
    "and returns the expression tree represnting it as a Node.\n",
    "\"\"\"\n",
    "\n",
    "class TreeBuilder(object):\n",
    "    def buildTree(self, postfix: List[str]) -> 'Node':\n",
    "        stack = []\n",
    "        for c in postfix:\n",
    "            if c.isdigit():\n",
    "                stack.append(JNode(int(c)))\n",
    "            else:\n",
    "                n2, n1 = stack.pop(), stack.pop()\n",
    "                n = JNode(c, n1, n2)\n",
    "                stack.append(n)\n",
    "                \n",
    "        return stack[0]"
   ]
  },
  {
   "cell_type": "code",
   "execution_count": 13,
   "metadata": {},
   "outputs": [],
   "source": [
    "evaluate_1628()"
   ]
  },
  {
   "cell_type": "markdown",
   "metadata": {},
   "source": [
    "## <font color='darkblue'>Level Order Traversal</font>\n",
    "顧名思義, 這個走訪邏輯就是從距離近到距離遠的依序處理, 因此走訪結果就是 `A > B > C > D > E > F > G`"
   ]
  },
  {
   "cell_type": "code",
   "execution_count": 14,
   "metadata": {},
   "outputs": [],
   "source": [
    "def level_traversal(node, output):\n",
    "    nodes = [node]\n",
    "    while nodes:\n",
    "        next_level_nodes = []\n",
    "        for n in nodes:\n",
    "            output.append(n.val)\n",
    "            if n.left: next_level_nodes.append(n.left)\n",
    "            if n.right: next_level_nodes.append(n.right)\n",
    "                \n",
    "        nodes = next_level_nodes\n",
    "    return output"
   ]
  },
  {
   "cell_type": "code",
   "execution_count": 15,
   "metadata": {},
   "outputs": [
    {
     "name": "stdout",
     "output_type": "stream",
     "text": [
      "A > B > C > D > E > F > G\n"
     ]
    }
   ],
   "source": [
    "output = []\n",
    "level_traversal(root, output)\n",
    "print(' > '.join(output))"
   ]
  },
  {
   "cell_type": "markdown",
   "metadata": {},
   "source": [
    "## <font color='darkblue'>相關 Leetcode 問題</font>\n",
    "* <a href='https://leetcode.com/problems/count-nodes-equal-to-sum-of-descendants/'>1973. Count Nodes Equal to Sum of Descendants</a>\n",
    "* <a href='https://leetcode.com/problems/binary-tree-preorder-traversal/'>144. Binary Tree Preorder Traversal</a>\n",
    "* <a href='https://leetcode.com/problems/construct-binary-search-tree-from-preorder-traversal/'>1008. Construct Binary Search Tree from Preorder Traversal</a>\n",
    "* <a href='https://leetcode.com/problems/binary-tree-inorder-traversal/submissions/'>94. Binary Tree Inorder Traversal</a>\n",
    "* <a href='https://leetcode.com/problems/deepest-leaves-sum/'>1302. Deepest Leaves Sum</a>\n",
    "* <a href='https://leetcode.com/problems/find-distance-in-a-binary-tree/'>1740. Find Distance in a Binary Tree</a>\n",
    "* <a href='https://leetcode.com/problems/design-an-expression-tree-with-evaluate-function/'>1628. Design an Expression Tree With Evaluate Function</a>"
   ]
  }
 ],
 "metadata": {
  "kernelspec": {
   "display_name": "Python 3",
   "language": "python",
   "name": "python3"
  },
  "language_info": {
   "codemirror_mode": {
    "name": "ipython",
    "version": 3
   },
   "file_extension": ".py",
   "mimetype": "text/x-python",
   "name": "python",
   "nbconvert_exporter": "python",
   "pygments_lexer": "ipython3",
   "version": "3.7.3"
  }
 },
 "nbformat": 4,
 "nbformat_minor": 4
}
