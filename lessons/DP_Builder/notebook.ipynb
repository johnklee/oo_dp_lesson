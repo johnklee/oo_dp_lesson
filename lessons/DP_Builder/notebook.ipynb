{
 "cells": [
  {
   "cell_type": "markdown",
   "id": "c36813a0-fb7f-4b4b-b50a-c8e757e37671",
   "metadata": {},
   "source": [
    "## <b><font color='darkblue'>一個 Constructor 參數很多的 class</font></b>\n",
    "今天我們有一個 class <b><font color='blue'>Employee</font></b> 他有很多 attribute:"
   ]
  },
  {
   "cell_type": "code",
   "execution_count": 1,
   "id": "918ea084-02a7-44c3-9d5f-b8e7122cf23b",
   "metadata": {},
   "outputs": [],
   "source": [
    "import dataclasses\n",
    "from enum import Enum, auto\n",
    "\n",
    "class JobType(Enum):\n",
    "    CEO = auto()\n",
    "    Manager = auto()\n",
    "    Engineer = auto()\n",
    "    HR = auto()\n",
    "\n",
    "@dataclasses.dataclass(frozen=True)\n",
    "class Employee:    \n",
    "    name: str\n",
    "    job: JobType\n",
    "    age: int\n",
    "    salary: int\n",
    "    birthday: str\n",
    "    address: str\n",
    "    phone: str\n",
    "    email: str"
   ]
  },
  {
   "cell_type": "markdown",
   "id": "6fc77d0d-0acb-4ef4-bd45-a7f4460353f5",
   "metadata": {},
   "source": [
    "即使你覺得這麼長的 constructor 沒有問題 可是在創一個物件的時候 有些 attribute 是必須的 有些是不一定要有的 (比如說 `age` 跟 `birthday` 跟 `address` 不一定要提供) 那怎麼辦呢? 以 Python 語法, 這些有預設值的參數都必須放到最後面:"
   ]
  },
  {
   "cell_type": "code",
   "execution_count": 2,
   "id": "3ea2c02e-b70b-4c17-91d7-5da73fbee598",
   "metadata": {},
   "outputs": [],
   "source": [
    "@dataclasses.dataclass(frozen=True)\n",
    "class Employee:\n",
    "    name: str\n",
    "    job: JobType\n",
    "    salary: int\n",
    "    phone: str\n",
    "    email: str\n",
    "    age: int = -1\n",
    "    address: str = 'N/A'\n",
    "    birthday: str = 'N/A'"
   ]
  },
  {
   "cell_type": "code",
   "execution_count": 3,
   "id": "497ce2ef-ac57-45c5-b1fb-3dd1b7a54fe7",
   "metadata": {},
   "outputs": [
    {
     "data": {
      "text/plain": [
       "Employee(name='John', job=<JobType.Engineer: 3>, salary=123, phone='0983-111-333', email='john@google.com', age=41, address='N/A', birthday='N/A')"
      ]
     },
     "execution_count": 3,
     "metadata": {},
     "output_type": "execute_result"
    }
   ],
   "source": [
    "john = Employee(\n",
    "    name = 'John',\n",
    "    job = JobType.Engineer,\n",
    "    salary = 123,\n",
    "    phone = '0983-111-333',\n",
    "    email = 'john@google.com',\n",
    "    age = 41)\n",
    "\n",
    "john"
   ]
  },
  {
   "cell_type": "markdown",
   "id": "7e04373d-928e-4502-aee9-75e6265966fd",
   "metadata": {},
   "source": [
    "那現在如果我們知道 Engineer 的起薪是 30000; CEO 是 100000; HE 是 20000; Manager 是 50000, 那我們可以再減少需要輸入的參數如下:"
   ]
  },
  {
   "cell_type": "code",
   "execution_count": 4,
   "id": "6d27f95d-bad4-478d-9456-df7dc6a835d4",
   "metadata": {},
   "outputs": [],
   "source": [
    "@dataclasses.dataclass(frozen=True)\n",
    "class Employee:\n",
    "    name: str\n",
    "    job: JobType\n",
    "    salary: int\n",
    "    phone: str\n",
    "    email: str\n",
    "    age: int = -1\n",
    "    address: str = 'N/A'\n",
    "    birthday: str = 'N/A'\n",
    "\n",
    "    @classmethod\n",
    "    def as_engineer(\n",
    "        cls, name, phone, email, age, address: str = 'N/A', birthday: str = 'N/A', salary=30000):\n",
    "        return Employee(\n",
    "            name=name,\n",
    "            job=JobType.Engineer,\n",
    "            salary=salary,\n",
    "            phone=phone,\n",
    "            email=email,\n",
    "            age=age,\n",
    "            address=address,\n",
    "            birthday=birthday)\n",
    "\n",
    "    @classmethod\n",
    "    def as_manager(\n",
    "        cls, name, phone, email, age, address: str = 'N/A', birthday: str = 'N/A', salary=50000):\n",
    "        return Employee(\n",
    "            name=name,\n",
    "            job=JobType.Manager,\n",
    "            salary=salary,\n",
    "            phone=phone,\n",
    "            email=email,\n",
    "            age=age,\n",
    "            address=address,\n",
    "            birthday=birthday)"
   ]
  },
  {
   "cell_type": "code",
   "execution_count": 5,
   "id": "6729ef7b-889e-4f36-85c3-93bf2b180be7",
   "metadata": {},
   "outputs": [
    {
     "data": {
      "text/plain": [
       "Employee(name='John', job=<JobType.Engineer: 3>, salary=30000, phone='0983-111-333', email='john@google.com', age=41, address='N/A', birthday='N/A')"
      ]
     },
     "execution_count": 5,
     "metadata": {},
     "output_type": "execute_result"
    }
   ],
   "source": [
    "john = Employee.as_engineer(\n",
    "    name='John',\n",
    "    phone = '0983-111-333',\n",
    "    email = 'john@google.com',\n",
    "    age = 41)\n",
    "john"
   ]
  },
  {
   "cell_type": "code",
   "execution_count": 6,
   "id": "0460605c-be1c-4dae-8556-44b4c1006f33",
   "metadata": {},
   "outputs": [
    {
     "data": {
      "text/plain": [
       "Employee(name='John', job=<JobType.Manager: 2>, salary=50000, phone='0983-666-567', email='john@google.com', age=23, address='N/A', birthday='N/A')"
      ]
     },
     "execution_count": 6,
     "metadata": {},
     "output_type": "execute_result"
    }
   ],
   "source": [
    "mary = Employee.as_manager(\n",
    "    name='John',\n",
    "    phone = '0983-666-567',\n",
    "    email = 'john@google.com',\n",
    "    age = 23)\n",
    "mary"
   ]
  },
  {
   "cell_type": "markdown",
   "id": "62562a7b-6d28-4eea-abf6-87dca0572ad6",
   "metadata": {},
   "source": [
    "這樣有個問題是 `address` 與 `birthday` 參數日後如果要改值成 '?', 我們就有很多地方需要去改. 而且這參數的給法不是很直覺."
   ]
  },
  {
   "cell_type": "code",
   "execution_count": 7,
   "id": "04e609ca-c022-4246-8e7b-eae6e51d4711",
   "metadata": {},
   "outputs": [],
   "source": [
    "# TypeError: Employee.as_engineer() missing 1 required positional argument: 'age'\n",
    "# john = Employee.as_engineer(\n",
    "#     name='John',\n",
    "#     phone = '0983-111-333',\n",
    "#     email = 'john@google.com')"
   ]
  },
  {
   "cell_type": "markdown",
   "id": "abd01afd-287a-4c9e-bf85-f600df9991aa",
   "metadata": {},
   "source": [
    "於是我們就要進入今天的主題, 來看看怎麼使用 設計模式 [**Builder**](https://en.wikipedia.org/wiki/Builder_pattern) 套用到上面的用法."
   ]
  },
  {
   "cell_type": "markdown",
   "id": "8d731c29-ce4e-4af2-8c28-7a215b0bc9ea",
   "metadata": {},
   "source": [
    "## <b><font color='darkblue'>DP Builder</font></b>\r\n",
    "首先來看看這個 Pattern 的定義:\r\n",
    "> The Builder is a [**design pattern**](https://en.wikipedia.org/wiki/Software_design_pattern) designed to <b>provide a flexible solution to various object creation problems in [object-oriented  programming](https://en.wikipedia.org/wiki/Object-oriented_programming)</b>. The intent of the Builder design pattern is to <b>[separate](https://en.wikipedia.org/wiki/Separation_of_concerns) the construction of a complex object from its representation</b>. It is one of the Gang of Four [**design pattern**](https://en.wikipedia.org/wiki/Software_design_pattern).<br/><br/>\r\n",
    "> -- from [Wiki](https://en.wikipedia.org/wiki/Builder_pattern)\r\n",
    "\r\n",
    "接著是它的 class dia\n",
    "\n",
    "![class diagram](images/builder_class_diagram.PNG)gram:"
   ]
  },
  {
   "cell_type": "markdown",
   "id": "e34bd1dd-60ee-4caf-a5ba-16146ac5742f",
   "metadata": {},
   "source": [
    "接著我們回到類別 <b><font color='blue'>Employee</font></b> 上, 透過 Builder 設計模式, 我們可以改成:"
   ]
  },
  {
   "cell_type": "code",
   "execution_count": 8,
   "id": "a5e41cf5-4a9b-4cee-b593-95e132de35c5",
   "metadata": {},
   "outputs": [],
   "source": [
    "@dataclasses.dataclass(frozen=True)\n",
    "class Employee:\n",
    "    name: str\n",
    "    job: JobType\n",
    "    salary: int\n",
    "    phone: str\n",
    "    email: str\n",
    "    age: int\n",
    "    address: str\n",
    "    birthday: str\n",
    "    \n",
    "    class _Builder:\n",
    "        name: str\n",
    "        job: JobType\n",
    "        salary: int\n",
    "        phone: str\n",
    "        email: str\n",
    "        age: int = -1\n",
    "        address: str = 'N/A'\n",
    "        birthday: str = 'N/A'\n",
    "\n",
    "        def build(self) -> Employee:\n",
    "            return Employee(\n",
    "                name = self.name,\n",
    "                job = self.job,\n",
    "                salary = self.salary,\n",
    "                phone = self.phone,\n",
    "                email = self.email,\n",
    "                age = self.age,\n",
    "                address = self.address,\n",
    "                birthday = self.birthday)\n",
    "        \n",
    "        def set_name(self, name: str):\n",
    "            self.name = name\n",
    "            return self\n",
    "\n",
    "        def set_job(self, job: JobType):\n",
    "            self.job = job\n",
    "            return self\n",
    "\n",
    "        def set_salary(self, salary: int):\n",
    "            self.salary = salary\n",
    "            return self\n",
    "\n",
    "        def set_phone(self, phone: str):\n",
    "            self.phone = phone\n",
    "            return self\n",
    "\n",
    "        def set_email(self, email: str):\n",
    "            self.email = email\n",
    "            return self\n",
    "\n",
    "        def set_age(self, age: int):\n",
    "            self.age = age\n",
    "            return self\n",
    "\n",
    "        def set_address(self, address: str):\n",
    "            self.address = address\n",
    "            return self\n",
    "\n",
    "        def set_birthday(self, birthday: str):\n",
    "            self.birthday = birthday\n",
    "            return self\n",
    "\n",
    "    @classmethod\n",
    "    def as_engineer(cls) -> _Builder:\n",
    "        builder = Employee._Builder()\n",
    "        builder.set_job(JobType.Engineer)\n",
    "        builder.set_salary(30000)\n",
    "        return builder\n",
    "\n",
    "    @classmethod\n",
    "    def as_manager(cls) -> _Builder:\n",
    "        builder = Employee._Builder()\n",
    "        builder.set_job(JobType.Manager)\n",
    "        builder.set_salary(50000)\n",
    "        return builder"
   ]
  },
  {
   "cell_type": "code",
   "execution_count": 9,
   "id": "6f8b2581-e16b-4b49-8965-ed52c75a24ad",
   "metadata": {},
   "outputs": [
    {
     "data": {
      "text/plain": [
       "Employee(name='John', job=<JobType.Engineer: 3>, salary=30000, phone='0983-111-333', email='john@google.com', age=-1, address='N/A', birthday='N/A')"
      ]
     },
     "execution_count": 9,
     "metadata": {},
     "output_type": "execute_result"
    }
   ],
   "source": [
    "john = (\n",
    "    Employee.as_engineer()\n",
    "        .set_name('John')\n",
    "        .set_phone('0983-111-333')\n",
    "        .set_email('john@google.com')).build()\n",
    "\n",
    "john"
   ]
  },
  {
   "cell_type": "code",
   "execution_count": 10,
   "id": "def3840b-d68e-4937-bd93-15948d3ee2cf",
   "metadata": {},
   "outputs": [
    {
     "data": {
      "text/plain": [
       "Employee(name='Mary', job=<JobType.Manager: 2>, salary=50000, phone='0983-111-333', email='mary@google.com', age=23, address='N/A', birthday='N/A')"
      ]
     },
     "execution_count": 10,
     "metadata": {},
     "output_type": "execute_result"
    }
   ],
   "source": [
    "mary = (\n",
    "    Employee.as_manager()\n",
    "        .set_name('Mary')\n",
    "        .set_phone('0983-111-333')\n",
    "        .set_email('mary@google.com')\n",
    "        .set_age(23)).build()\n",
    "\n",
    "mary"
   ]
  },
  {
   "cell_type": "markdown",
   "id": "56b9f6c1-36a1-413b-9ab2-140ff3ab75b7",
   "metadata": {},
   "source": [
    "## <b><font color='darkblue'>Builder & Director</font></b>\n",
    "「**Director**」本身並不是一個獨立的模式，但它在 [**Builder**](https://en.wikipedia.org/wiki/Builder_pattern) 模式中扮演著至關重要的角色。它負責使用建造者介面來協調複雜物件的建構過程。\n",
    "![Builder example - House](images/builder_with_director_ex_house.PNG)\n",
    "\n",
    "接著來看一個比較完整的 class diagram of \"Builder\":\n",
    "![Builder & Director class diagram](images/builder_director_class_diagram.PNG)"
   ]
  },
  {
   "cell_type": "markdown",
   "id": "ba4104f2-f81c-41f2-b1f3-8a455915020d",
   "metadata": {},
   "source": [
    "### <b><font color='darkgreen'>Example 1 - Pixel Phone Testing</font></b>\n",
    "這邊我們有兩個相似的產品 `Pixel Phone` 與 `Pixel Watch`, 它們底層都是使用 Android OS. 所以我們可以使用 <b><font color='darkblue'>PixelProduct</font></b> 來當作這兩個產品的父類別. 然後我們定義了介面 <b><font color='violet'>AndroidBuilder</font></b> 並在上面提供方法說明如何建立者兩個產品的 controller. 而不同的產品會使用不同的 Builder 來課製彼此在製造過程中所需要的細節. "
   ]
  },
  {
   "cell_type": "markdown",
   "id": "3e63b805-fa8d-4c4c-9b6f-fc7cb9b4c671",
   "metadata": {},
   "source": [
    "#### <b>Builders & Products</b>"
   ]
  },
  {
   "cell_type": "code",
   "execution_count": 11,
   "id": "79c4c92d-9698-4421-bb1e-c4ce8062a9f8",
   "metadata": {},
   "outputs": [],
   "source": [
    "from typing import Protocol"
   ]
  },
  {
   "cell_type": "markdown",
   "id": "19c213e5-2833-43a4-b0bd-1a14e10a2a86",
   "metadata": {},
   "source": [
    "首先是產品的介面 <b><font color='violet'>PixelProduct</font></b> 與實作的 concrete 產品 <b><font color='blue'>PixelPhone</font></b> 與 <b><font color='blue'>PixelWatch</font></b>"
   ]
  },
  {
   "cell_type": "code",
   "execution_count": 12,
   "id": "6caa3b88-8c67-41c1-a88f-34adb8fa2864",
   "metadata": {},
   "outputs": [],
   "source": [
    "class PixelProduct:\n",
    "    def __init__(self):\n",
    "        self.modules = []\n",
    "        self.services = []\n",
    "\n",
    "    def __str__(self):\n",
    "        return (\n",
    "            f'{self.__class__}:\\n'\n",
    "            f'\\tModules: {\",\".join(self.modules)}\\n'\n",
    "            f'\\tServices: {\",\".join(self.services)}\\n\\n')\n",
    "\n",
    "    def __repr__(self):\n",
    "        return str(self)\n",
    "\n",
    "\n",
    "class PixelPhone(PixelProduct):\n",
    "    pass\n",
    "\n",
    "\n",
    "class PixelWatch(PixelProduct):\n",
    "    pass"
   ]
  },
  {
   "cell_type": "markdown",
   "id": "779ffae9-6b2b-41d2-ba63-eca12152b354",
   "metadata": {},
   "source": [
    "接著是 介面 <b><font color='violet'>AndroidBuilder</font></b> 說明需要的步驟來建立產品:"
   ]
  },
  {
   "cell_type": "code",
   "execution_count": 13,
   "id": "be2bbe3c-93e6-4ba7-ab2c-af2890d2ee9e",
   "metadata": {},
   "outputs": [],
   "source": [
    "class AndroidBuilder(Protocol):\n",
    "    def build(self):\n",
    "        product = self.dut\n",
    "        self.reset()\n",
    "        return product\n",
    "        \n",
    "    def install_sl4a(self):\n",
    "        pass\n",
    "\n",
    "    def install_mbs(self):\n",
    "        pass\n",
    "\n",
    "    def install_companion_app(self):\n",
    "        pass\n",
    "\n",
    "    def bind_wifi(self):\n",
    "        pass\n",
    "\n",
    "    def bind_bt(self):\n",
    "        pass\n",
    "\n",
    "    def bind_general(self):\n",
    "        pass"
   ]
  },
  {
   "cell_type": "markdown",
   "id": "67203c64-e917-49cd-bc4a-03ff29ea83b4",
   "metadata": {},
   "source": [
    "然後是個別產品的 Builder 的實作:"
   ]
  },
  {
   "cell_type": "code",
   "execution_count": 14,
   "id": "ce0e2be3-1380-443c-93d9-27f7a8b6272b",
   "metadata": {},
   "outputs": [],
   "source": [
    "class PixelPhoneBuilder(AndroidBuilder):\n",
    "    def __init__(self):\n",
    "        self.reset()\n",
    "\n",
    "    def reset(self):\n",
    "        self.dut: PixelProduct = PixelPhone()\n",
    "    \n",
    "    def install_sl4a(self):\n",
    "        self.dut.services.append('SL4A')\n",
    "        return self\n",
    "\n",
    "    def install_mbs(self):\n",
    "        self.dut.services.append('MBS')\n",
    "        return self\n",
    "\n",
    "    def install_companion_app(self):\n",
    "        print('Skip installing companion app')\n",
    "        return self\n",
    "\n",
    "    def bind_wifi(self):\n",
    "        self.dut.modules.append('Wifi')\n",
    "        return self\n",
    "\n",
    "    def bind_bt(self):\n",
    "        self.dut.modules.append('Bt')\n",
    "        return self\n",
    "\n",
    "    def bind_general(self):\n",
    "        self.dut.modules.append('Phone general')\n",
    "        return self"
   ]
  },
  {
   "cell_type": "code",
   "execution_count": 15,
   "id": "f08d4f18-0e72-4aa6-963d-1ac808880ea5",
   "metadata": {},
   "outputs": [],
   "source": [
    "class PixelWatchBuilder(AndroidBuilder):\n",
    "    def __init__(self):\n",
    "        self.reset()\n",
    "    \n",
    "    def reset(self):\n",
    "        self.dut: PixelProduct = PixelWatch()\n",
    "    \n",
    "    def install_sl4a(self):\n",
    "        self.dut.services.append('SL4A')\n",
    "        return self\n",
    "\n",
    "    def install_mbs(self):\n",
    "        self.dut.services.append('MBS')\n",
    "        return self\n",
    "\n",
    "    def install_companion_app(self):\n",
    "        self.dut.services.append('Rohan app')\n",
    "        return self\n",
    "\n",
    "    def bind_wifi(self):\n",
    "        self.dut.modules.append('Wifi')\n",
    "        return self\n",
    "\n",
    "    def bind_bt(self):\n",
    "        self.dut.modules.append('Bt')\n",
    "        return self\n",
    "\n",
    "    def bind_general(self):\n",
    "        self.dut.modules.append('Watch general')\n",
    "        return self"
   ]
  },
  {
   "cell_type": "markdown",
   "id": "73e5122c-6bf2-4ea2-8c85-7ac8d13643ab",
   "metadata": {},
   "source": [
    "接著我們可以利用上面的 Builder 類別來產生我們要的產品:"
   ]
  },
  {
   "cell_type": "code",
   "execution_count": 16,
   "id": "94c0418e-8086-41f4-8d7a-cd11cdca3dcb",
   "metadata": {},
   "outputs": [
    {
     "name": "stdout",
     "output_type": "stream",
     "text": [
      "Skip installing companion app\n"
     ]
    },
    {
     "data": {
      "text/plain": [
       "<class '__main__.PixelPhone'>:\n",
       "\tModules: Phone general\n",
       "\tServices: SL4A\n"
      ]
     },
     "execution_count": 16,
     "metadata": {},
     "output_type": "execute_result"
    }
   ],
   "source": [
    "# 建立 Pixel phone\n",
    "phone = (\n",
    "    PixelPhoneBuilder()\n",
    "        .install_sl4a()\n",
    "        .install_companion_app()\n",
    "        .bind_general()).build()\n",
    "\n",
    "phone"
   ]
  },
  {
   "cell_type": "code",
   "execution_count": 17,
   "id": "010d0c3d-6502-4f1d-89c3-9320235db5e4",
   "metadata": {},
   "outputs": [
    {
     "data": {
      "text/plain": [
       "<class '__main__.PixelWatch'>:\n",
       "\tModules: Watch general\n",
       "\tServices: SL4A,Rohan app\n"
      ]
     },
     "execution_count": 17,
     "metadata": {},
     "output_type": "execute_result"
    }
   ],
   "source": [
    "# 建立 Pixel watch\n",
    "watch = (\n",
    "    PixelWatchBuilder()\n",
    "        .install_sl4a()\n",
    "        .install_companion_app()\n",
    "        .bind_general()).build()\n",
    "\n",
    "watch"
   ]
  },
  {
   "cell_type": "markdown",
   "id": "e5a7b004-bb04-4dc6-8f7b-a6ef78b64751",
   "metadata": {},
   "source": [
    "#### <b>Director</b>\n",
    "接著我們在測試時, 不同的產品線的 DUT 可能會不同, 甚至不同的 test case 會需要不同的 devices. 這時 Director 就可以用來控制多產品時的初始化:"
   ]
  },
  {
   "cell_type": "code",
   "execution_count": 28,
   "id": "cf5e8579-91e8-46b3-9ed7-0ca7c8fbab18",
   "metadata": {},
   "outputs": [],
   "source": [
    "class TestCaseBroker:\n",
    "    def __init__(self):\n",
    "        self.dut = None\n",
    "        self.phone = None\n",
    "        self.watch = None\n",
    "        self.headset = None\n",
    "\n",
    "    def __str__(self):\n",
    "        return (\n",
    "            'Test Case:\\n'\n",
    "            f'\\t- DUT: {self.dut}\\n'\n",
    "            f'\\t- Phone: {self.phone}\\n'\n",
    "            f'\\t- Watch: {self.watch}\\n'\n",
    "            f'\\t- Headset: {self.headset}\\n\\n')\n",
    "\n",
    "    def __repr__(self):\n",
    "        return str(self)"
   ]
  },
  {
   "cell_type": "code",
   "execution_count": 43,
   "id": "ad98dbed-bed2-4726-89ed-5ac75f81b2bb",
   "metadata": {},
   "outputs": [],
   "source": [
    "class Director:\n",
    "    def __init__(self, phone_builder, watch_builder):\n",
    "        self.phone_builder = phone_builder\n",
    "        self.watch_builder = watch_builder\n",
    "\n",
    "    def build_test_case_phone_only(self):\n",
    "        broker = TestCaseBroker()\n",
    "        broker.dut = broker.phone = (\n",
    "            self.phone_builder\n",
    "                .install_sl4a()\n",
    "                .install_companion_app()\n",
    "                .bind_general()).build()\n",
    "        return broker\n",
    "\n",
    "    def build_test_case_watch_with_phone(self):\n",
    "        broker = TestCaseBroker()\n",
    "        broker.dut = broker.watch = (\n",
    "            self.watch_builder\n",
    "                .install_sl4a()\n",
    "                .install_companion_app()\n",
    "                .bind_general()).build()\n",
    "        broker.phone = (\n",
    "            self.phone_builder\n",
    "                .install_sl4a()\n",
    "                .install_mbs()\n",
    "                .install_companion_app()\n",
    "                .bind_general()).build()\n",
    "        return broker"
   ]
  },
  {
   "cell_type": "code",
   "execution_count": 44,
   "id": "50ace014-ec94-49b6-8793-37e1bd4482dd",
   "metadata": {},
   "outputs": [],
   "source": [
    "director = Director(PixelPhoneBuilder(), PixelWatchBuilder())"
   ]
  },
  {
   "cell_type": "code",
   "execution_count": 45,
   "id": "0efb5612-11a2-45e9-830f-4c1ec423a745",
   "metadata": {},
   "outputs": [
    {
     "name": "stdout",
     "output_type": "stream",
     "text": [
      "Skip installing companion app\n"
     ]
    },
    {
     "data": {
      "text/plain": [
       "Test Case:\n",
       "\t- DUT: <class '__main__.PixelPhone'>:\n",
       "\tModules: Phone general\n",
       "\tServices: SL4A\n",
       "\n",
       "\n",
       "\t- Phone: <class '__main__.PixelPhone'>:\n",
       "\tModules: Phone general\n",
       "\tServices: SL4A\n",
       "\n",
       "\n",
       "\t- Watch: None\n",
       "\t- Headset: None\n"
      ]
     },
     "execution_count": 45,
     "metadata": {},
     "output_type": "execute_result"
    }
   ],
   "source": [
    "test_case1_broker = director.build_test_case_phone_only()\n",
    "test_case1_broker"
   ]
  },
  {
   "cell_type": "code",
   "execution_count": 46,
   "id": "25c4ac47-9fd1-4081-855d-7bca4cdb50d7",
   "metadata": {},
   "outputs": [
    {
     "name": "stdout",
     "output_type": "stream",
     "text": [
      "Skip installing companion app\n"
     ]
    },
    {
     "data": {
      "text/plain": [
       "Test Case:\n",
       "\t- DUT: <class '__main__.PixelWatch'>:\n",
       "\tModules: Watch general\n",
       "\tServices: SL4A,Rohan app\n",
       "\n",
       "\n",
       "\t- Phone: <class '__main__.PixelPhone'>:\n",
       "\tModules: Phone general\n",
       "\tServices: SL4A,MBS\n",
       "\n",
       "\n",
       "\t- Watch: <class '__main__.PixelWatch'>:\n",
       "\tModules: Watch general\n",
       "\tServices: SL4A,Rohan app\n",
       "\n",
       "\n",
       "\t- Headset: None\n"
      ]
     },
     "execution_count": 46,
     "metadata": {},
     "output_type": "execute_result"
    }
   ],
   "source": [
    "test_case2_broker = director.build_test_case_watch_with_phone()\n",
    "test_case2_broker"
   ]
  },
  {
   "cell_type": "markdown",
   "id": "344c927b-e9ff-4d97-9a0e-ed652a6b8460",
   "metadata": {},
   "source": [
    "## <b><font color='darkblue'>Supplement</font></b>\n",
    "* [ithelp - 隨著自己想要的客製化 - 建造者模式 (Builder Pattern)](https://ithelp.ithome.com.tw/articles/10204732)\n",
    "> 建築者模式是設計來提供一個有彈性解決方案，用OOP的方式來解決一個不同(複雜)物件的創造。目的是為了要分離一個複雜物品的建造和表示建造的方式。\n",
    "* [medium - 設計模式—建造者模式 (Builder Design Pattern)](https://medium.com/wenchin-rolls-around/%E8%A8%AD%E8%A8%88%E6%A8%A1%E5%BC%8F-%E5%BB%BA%E9%80%A0%E8%80%85%E6%A8%A1%E5%BC%8F-builder-design-pattern-7c8eac7c9a7)\n",
    "> 建造者 (Builder) 模式將物件的「建構」與「表示」分離，隱藏並封裝建構過程的細節。它讓我們可以將物件本身拆解成不同的元件，一步一步建造每一部分，最後產生出我們想要的複雜物件。\n",
    "* [Refactor Guru - Builder](https://refactoring.guru/design-patterns/builder)\n",
    "> <b>Builder</b> is a creational design pattern that lets you construct complex objects step by step. The pattern allows you to produce different types and representations of an object using the same construction code."
   ]
  }
 ],
 "metadata": {
  "kernelspec": {
   "display_name": "Python 3 (ipykernel)",
   "language": "python",
   "name": "python3"
  },
  "language_info": {
   "codemirror_mode": {
    "name": "ipython",
    "version": 3
   },
   "file_extension": ".py",
   "mimetype": "text/x-python",
   "name": "python",
   "nbconvert_exporter": "python",
   "pygments_lexer": "ipython3",
   "version": "3.11.6"
  }
 },
 "nbformat": 4,
 "nbformat_minor": 5
}
