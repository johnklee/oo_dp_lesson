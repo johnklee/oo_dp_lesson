{
 "cells": [
  {
   "cell_type": "markdown",
   "id": "c495767a",
   "metadata": {},
   "source": [
    "<a id='sect0'></a>\n",
    "## <font color='darkblue'>Data Classes in Python 3.7+ (Guide)</font>\n",
    "\n",
    "### <font color='darkgreen'>Table of Contents</font>\n",
    "* <font size='3ptx'><b><a href='#sect1'>Alternatives to Data Classes</a></b></font>\n",
    "* <font size='3ptx'><b><a href='#sect2'>Basic Data Classes</a></b></font>\n",
    "  * Default Values\n",
    "  * Type Hints\n",
    "  * Adding Methods\n",
    "* <font size='3ptx'><b><a href='#sect3'>More Flexible Data Classes</a></b></font>\n",
    "  * Advanced Default Values\n",
    "  * You Need Representation?\n",
    "  * Comparing Cards\n",
    "* <font size='3ptx'><b><a href='#sect4'>Immutable Data Classes</a></b></font>\n",
    "* <font size='3ptx'><b><a href='#sect5'>Inheritance</a></b></font>\n",
    "* <font size='3ptx'><b><a href='#sect6'>Optimizing Data Classes</a></b></font>"
   ]
  },
  {
   "cell_type": "markdown",
   "id": "06c65f81",
   "metadata": {},
   "source": [
    "## <font color='darkblue'>Alternatives to Data Classes</font>\n",
    "([article source](https://realpython.com/python-data-classes/)) <font size='3ptx'><b>For simple data structures, you have probably already used a tuple or a dict</b></font>. You could represent the queen of hearts card in either of the following ways:\n",
    "\n",
    "```python\n",
    "queen_of_hearts_tuple = ('Q', 'Hearts')\n",
    "queen_of_hearts_dict = {'rank': 'Q', 'suit': 'Hearts'}\n",
    "```\n",
    "<br/>\n",
    "\n",
    "It works. However, it puts a lot of responsibility on you as a programmer:\n",
    "* You need to remember that the `queen_of_hearts_...` <a href='https://realpython.com/python-variables/'>variable</a> represents a card.\n",
    "* For the <b><a href='https://docs.python.org/3/library/stdtypes.html#tuple'>tuple</a></b> version, you need to remember the order of the attributes. Writing `('Spades', 'A')` will mess up your program but probably not give you an easily understandable error message.\n",
    "* If you use the <b><a href='https://docs.python.org/3/library/stdtypes.html#dict'>dict</a></b> version, you must make sure the names of the attributes are consistent. For instance `{'value': 'A', 'suit': 'Spades'}` will not work as expected.\n",
    "<br/>\n",
    "\n",
    "Furthermore, using these structures is not ideal:\n",
    "\n",
    "```python\n",
    ">>> queen_of_hearts_tuple[0]  # No named access\n",
    "'Q'\n",
    ">>> queen_of_hearts_dict['suit']  # Would be nicer with .suit\n",
    "'Hearts'\n",
    "```\n",
    "<br/>\n",
    "\n",
    "A better alternative is the <b><a href='https://dbader.org/blog/writing-clean-python-with-namedtuples'>namedtuple</a></b>. It has long been used to create readable small data structures. We can in fact recreate the data class example above using a <b><a href='https://dbader.org/blog/writing-clean-python-with-namedtuples'>namedtuple</a></b> like this:"
   ]
  },
  {
   "cell_type": "code",
   "execution_count": 1,
   "id": "215c94a5",
   "metadata": {},
   "outputs": [],
   "source": [
    "from collections import namedtuple\n",
    "\n",
    "NamedTupleCard = namedtuple('NamedTupleCard', ['rank', 'suit'])"
   ]
  },
  {
   "cell_type": "markdown",
   "id": "ea7fbda2",
   "metadata": {},
   "source": [
    "This definition of <b><font color='blue'>NamedTupleCard</font></b> will give the exact same output as our <b>DataClassCard</b> example did:"
   ]
  },
  {
   "cell_type": "code",
   "execution_count": 2,
   "id": "029599e4",
   "metadata": {},
   "outputs": [
    {
     "data": {
      "text/plain": [
       "NamedTupleCard(rank='Q', suit='Hearts')"
      ]
     },
     "execution_count": 2,
     "metadata": {},
     "output_type": "execute_result"
    }
   ],
   "source": [
    "queen_of_hearts = NamedTupleCard('Q', 'Hearts')\n",
    "queen_of_hearts"
   ]
  },
  {
   "cell_type": "code",
   "execution_count": 3,
   "id": "ee5204ca",
   "metadata": {},
   "outputs": [
    {
     "name": "stdout",
     "output_type": "stream",
     "text": [
      "rank=Q; suit=Hearts\n"
     ]
    }
   ],
   "source": [
    "print(f'rank={queen_of_hearts.rank}; suit={queen_of_hearts.suit}')"
   ]
  },
  {
   "cell_type": "code",
   "execution_count": 4,
   "id": "53d838a9",
   "metadata": {},
   "outputs": [
    {
     "data": {
      "text/plain": [
       "True"
      ]
     },
     "execution_count": 4,
     "metadata": {},
     "output_type": "execute_result"
    }
   ],
   "source": [
    "queen_of_hearts == NamedTupleCard('Q', 'Hearts')"
   ]
  },
  {
   "cell_type": "markdown",
   "id": "b7cf6d2a",
   "metadata": {},
   "source": [
    "<b>So why even bother with data classes?</b> First of all, data classes come with many more features than you have seen so far. At the same time, the <b><a href='https://dbader.org/blog/writing-clean-python-with-namedtuples'>namedtuple</a></b> has some other features that are not necessarily desirable. By design, a <b><a href='https://dbader.org/blog/writing-clean-python-with-namedtuples'>namedtuple</a></b> is a regular tuple. This can be seen in comparisons, for instance:"
   ]
  },
  {
   "cell_type": "code",
   "execution_count": 5,
   "id": "5dbe0148",
   "metadata": {},
   "outputs": [
    {
     "data": {
      "text/plain": [
       "True"
      ]
     },
     "execution_count": 5,
     "metadata": {},
     "output_type": "execute_result"
    }
   ],
   "source": [
    "queen_of_hearts == ('Q', 'Hearts')"
   ]
  },
  {
   "cell_type": "markdown",
   "id": "1abc39b1",
   "metadata": {},
   "source": [
    "While this might seem like a good thing, <b>this lack of awareness about its own type can lead to subtle and hard-to-find bugs, especially since it will also happily compare two different namedtuple classes</b>:"
   ]
  },
  {
   "cell_type": "code",
   "execution_count": 6,
   "id": "873d7fc6",
   "metadata": {},
   "outputs": [
    {
     "data": {
      "text/plain": [
       "True"
      ]
     },
     "execution_count": 6,
     "metadata": {},
     "output_type": "execute_result"
    }
   ],
   "source": [
    "Person = namedtuple('Person', ['first_initial', 'last_name'])\n",
    "ace_of_spades = NamedTupleCard('A', 'Spades')\n",
    "ace_of_spades == Person('A', 'Spades')"
   ]
  },
  {
   "cell_type": "markdown",
   "id": "b9faa3bb",
   "metadata": {},
   "source": [
    "The <b><a href='https://dbader.org/blog/writing-clean-python-with-namedtuples'>namedtuple</a></b> also comes with some restrictions. For instance, it is hard to add default values to some of the fields in a <b><a href='https://dbader.org/blog/writing-clean-python-with-namedtuples'>namedtuple</a></b>. A namedtuple is also by nature immutable. That is, the value of a <b><a href='https://dbader.org/blog/writing-clean-python-with-namedtuples'>namedtuple</a></b> can never change. In some applications, this is an awesome feature, but in other settings, it would be nice to have more flexibility:"
   ]
  },
  {
   "cell_type": "code",
   "execution_count": 7,
   "id": "6c1e88b1",
   "metadata": {},
   "outputs": [],
   "source": [
    "card = NamedTupleCard('7', 'Diamonds')\n",
    "# AttributeError: can't set attribute\n",
    "# card.rank = '9'"
   ]
  },
  {
   "cell_type": "markdown",
   "id": "afe5b183",
   "metadata": {},
   "source": [
    "<b><a href='https://docs.python.org/3/library/dataclasses.html'>Data classes</a></b> will not replace all uses of <b><a href='https://dbader.org/blog/writing-clean-python-with-namedtuples'>namedtuple</a></b>. For instance, if you need your data structure to behave like a tuple, then a named tuple is a great alternative!\n",
    "\n",
    "Another alternative, and one of the <a href='https://mail.python.org/pipermail/python-dev/2017-December/151034.html'>inspirations for data classes</a>, is the attrs project. With <b><a href='http://www.attrs.org/'>attrs</a></b> installed (<font color='blue'>pip install attrs</font>), you can write a card class as follows:"
   ]
  },
  {
   "cell_type": "code",
   "execution_count": 8,
   "id": "9ce94e35",
   "metadata": {},
   "outputs": [],
   "source": [
    "#!pip install attrs"
   ]
  },
  {
   "cell_type": "code",
   "execution_count": 9,
   "id": "d6c51ec2",
   "metadata": {},
   "outputs": [],
   "source": [
    "import attr\n",
    "\n",
    "@attr.s\n",
    "class AttrsCard:\n",
    "    rank = attr.ib()\n",
    "    suit = attr.ib()"
   ]
  },
  {
   "cell_type": "markdown",
   "id": "6a166cec",
   "metadata": {},
   "source": [
    "This can be used in exactly the same way as the <b><font color='blue'>DataClassCard</font></b> and <b><font color='blue'>NamedTupleCard</font></b> examples earlier. The <b><a href='http://www.attrs.org/'>attrs</a></b> project is great and does support some features that data classes do not, including converters and validators. Furthermore, <b><a href='http://www.attrs.org/'>attrs</a></b> has been around for a while and is supported in Python 2.7 as well as Python 3.4 and up. However, as <b><a href='http://www.attrs.org/'>attrs</a></b> is not a part of the standard library, it does add an external dependency to your projects. Through <b><a href='https://docs.python.org/3/library/dataclasses.html'>data classes</a></b>, similar functionality will be available everywhere."
   ]
  },
  {
   "cell_type": "markdown",
   "id": "b3994d10",
   "metadata": {},
   "source": [
    "<a id='sect2'></a>\n",
    "## <font color='darkblue'>Basic Data Classes</font> ([back](#sect0))\n",
    "* <font size='3ptx'><b><a href='#sect2_1'>Default Values</a></b></font>\n",
    "* <font size='3ptx'><b><a href='#sect2_2'>Type Hints</a></b></font>\n",
    "* <font size='3ptx'><b><a href='#sect2_3'>Adding Methods</a></b></font>\n",
    "\n",
    "Let us get back to <b><a href='https://docs.python.org/3/library/dataclasses.html'>data classes</a></b>. As an example, we will create a <b><font color='blue'>Position</font></b> class that will represent geographic positions with a <i>name</i> as well as the latitude and longitude:"
   ]
  },
  {
   "cell_type": "code",
   "execution_count": 10,
   "id": "c99445a7",
   "metadata": {},
   "outputs": [],
   "source": [
    "from dataclasses import dataclass\n",
    "\n",
    "@dataclass\n",
    "class Position:\n",
    "    name: str\n",
    "    lon: float\n",
    "    lat: float"
   ]
  },
  {
   "cell_type": "markdown",
   "id": "7484d437",
   "metadata": {},
   "source": [
    "What makes this a data class is the <b><font color='orange'>@dataclass</font></b> decorator just above the class definition. Beneath the class Position: line, you simply list the fields you want in your data class. The <b>:</b> notation used for the fields is using a new feature in Python 3.6 called <a href='https://www.python.org/dev/peps/pep-0526/'><b><font color='darkblue'>variable annotations</font></b></a>. We will <a href='https://realpython.com/python-data-classes/#type-hints'>soon</a> talk more about this notation and why we specify data types like `str` and `float`.\n",
    "\n",
    "Those few lines of code are all you need. The new class is ready for use:"
   ]
  },
  {
   "cell_type": "code",
   "execution_count": 11,
   "id": "78fed1f8",
   "metadata": {},
   "outputs": [
    {
     "name": "stdout",
     "output_type": "stream",
     "text": [
      "Position(name='Oslo', lon=10.8, lat=59.9)\n"
     ]
    }
   ],
   "source": [
    "pos = Position(\n",
    "    name='Oslo',\n",
    "    lon=10.8,\n",
    "    lat=59.9)\n",
    "\n",
    "print(pos)"
   ]
  },
  {
   "cell_type": "code",
   "execution_count": 12,
   "id": "868e30ba",
   "metadata": {},
   "outputs": [
    {
     "name": "stdout",
     "output_type": "stream",
     "text": [
      "Oslo is at 59.9°N, 10.8°E\n"
     ]
    }
   ],
   "source": [
    "print(f'{pos.name} is at {pos.lat}°N, {pos.lon}°E')"
   ]
  },
  {
   "cell_type": "markdown",
   "id": "7f9d5847",
   "metadata": {},
   "source": [
    "You can also create data classes similarly to how named tuples are created. The following is (<font color='brown'>almost</font>) equivalent to the definition of <b><font color='blue'>Position</font></b> above:"
   ]
  },
  {
   "cell_type": "code",
   "execution_count": 13,
   "id": "9b78e38b",
   "metadata": {},
   "outputs": [],
   "source": [
    "from dataclasses import make_dataclass\n",
    "\n",
    "Position = make_dataclass('Position', ['name', 'lat', 'lon'])"
   ]
  },
  {
   "cell_type": "markdown",
   "id": "4b06f64d",
   "metadata": {},
   "source": [
    "A data class is a regular Python class. The only thing that sets it apart is that it has basic <b><a href='https://docs.python.org/reference/datamodel.html#basic-customization'>data model methods</a></b> like .\\_\\_init__(), .\\_\\_repr__(), and .\\_\\_eq__() implemented for you."
   ]
  },
  {
   "cell_type": "markdown",
   "id": "8fccec4c",
   "metadata": {},
   "source": [
    "<a id='sect2_1'></a>\n",
    "### <font color='darkgreen'>Default Values</font>\n",
    "It is easy to add default values to the fields of your data class:"
   ]
  },
  {
   "cell_type": "code",
   "execution_count": 14,
   "id": "14b3f625",
   "metadata": {},
   "outputs": [],
   "source": [
    "from dataclasses import dataclass\n",
    "\n",
    "@dataclass\n",
    "class Position:\n",
    "    name: str\n",
    "    lon: float = 0.0\n",
    "    lat: float = 0.0"
   ]
  },
  {
   "cell_type": "markdown",
   "id": "0a3aa9cd",
   "metadata": {},
   "source": [
    "This works exactly as if you had specified the default values in the definition of the .\\_\\_init__() method of a regular class:"
   ]
  },
  {
   "cell_type": "code",
   "execution_count": 15,
   "id": "9c0b6fe5",
   "metadata": {},
   "outputs": [
    {
     "data": {
      "text/plain": [
       "Position(name='Null Island', lon=0.0, lat=0.0)"
      ]
     },
     "execution_count": 15,
     "metadata": {},
     "output_type": "execute_result"
    }
   ],
   "source": [
    "Position(name='Null Island')"
   ]
  },
  {
   "cell_type": "code",
   "execution_count": 16,
   "id": "659ffc53",
   "metadata": {},
   "outputs": [
    {
     "data": {
      "text/plain": [
       "Position(name='Greenwich', lon=0.0, lat=51.8)"
      ]
     },
     "execution_count": 16,
     "metadata": {},
     "output_type": "execute_result"
    }
   ],
   "source": [
    "Position(name='Greenwich', lat=51.8)"
   ]
  },
  {
   "cell_type": "code",
   "execution_count": 17,
   "id": "c37fb701",
   "metadata": {},
   "outputs": [
    {
     "data": {
      "text/plain": [
       "Position(name='Vancouver', lon=-123.1, lat=49.3)"
      ]
     },
     "execution_count": 17,
     "metadata": {},
     "output_type": "execute_result"
    }
   ],
   "source": [
    "Position(name='Vancouver', lon=-123.1, lat=49.3)"
   ]
  },
  {
   "cell_type": "markdown",
   "id": "aae847f9",
   "metadata": {},
   "source": [
    "<a href='https://realpython.com/python-data-classes/#advanced-default-values'>Later</a> you will learn about <a href='https://docs.python.org/3/library/dataclasses.html#default-factory-functions'>default_factory</a>, which gives a way to provide more complicated default values."
   ]
  },
  {
   "cell_type": "markdown",
   "id": "cbac8a88",
   "metadata": {},
   "source": [
    "<a id='sect2_2'></a>\n",
    "### <font color='darkgreen'>Type Hints</font>\n",
    "So far, we have not made a big fuss of the fact that data classes support <b><a href='https://realpython.com/python-type-checking/'>typing</a></b> out of the box. You have probably noticed that we defined the fields with a type hint: `name: str` says that `name` should be a text string (<font color='brown'>`str` type</font>).\n",
    "\n",
    "In fact, <b>adding some kind of type hint is mandatory when defining the fields in your data class.</b> Without a type hint, the field will not be a part of the data class. However, if you do not want to add explicit types to your data class, use <b><a href='https://docs.python.org/3/library/typing.html#the-any-type'>typing.Any</a></b>:"
   ]
  },
  {
   "cell_type": "code",
   "execution_count": 18,
   "id": "86b5aff3",
   "metadata": {},
   "outputs": [],
   "source": [
    "from dataclasses import dataclass\n",
    "from typing import Any\n",
    "\n",
    "@dataclass\n",
    "class WithoutExplicitTypes:\n",
    "    name: Any\n",
    "    value: Any = 42"
   ]
  },
  {
   "cell_type": "markdown",
   "id": "5db1fcbc",
   "metadata": {},
   "source": [
    "<b>While you need to add type hints in some form when using data classes, <font color='darkred'>these types are not enforced at runtime</font></b>. The following code runs without any problems:"
   ]
  },
  {
   "cell_type": "code",
   "execution_count": 19,
   "id": "695c3143",
   "metadata": {},
   "outputs": [
    {
     "data": {
      "text/plain": [
       "Position(name=3.14, lon='pi day', lat=2018)"
      ]
     },
     "execution_count": 19,
     "metadata": {},
     "output_type": "execute_result"
    }
   ],
   "source": [
    "Position(3.14, 'pi day', 2018)"
   ]
  },
  {
   "cell_type": "markdown",
   "id": "5e9464f7",
   "metadata": {},
   "source": [
    "This is how typing in Python usually works: <b><a href='https://www.python.org/dev/peps/pep-0484/#non-goals'>Python is and will always be a dynamically typed language</a></b>. To actually catch type errors, type checkers like <b><a href='http://mypy-lang.org/'>Mypy</a></b> can be run on your source code."
   ]
  },
  {
   "cell_type": "markdown",
   "id": "25009aab",
   "metadata": {},
   "source": [
    "<a id='sect2_3'></a>\n",
    "### <font color='darkgreen'>Adding Methods</font>\n",
    "You already know that <font size='3ptx'><b>a data class is just a regular class. That means that you can freely add your own methods to a data class</b></font>. As an example, let us calculate the distance between one position and another, along the Earth’s surface. One way to do this is by using <b><a href='https://en.wikipedia.org/wiki/Haversine_formula'>the haversine formula</a></b>:\n",
    "![1.png](images/1.PNG)\n",
    "<br/>\n",
    "\n",
    "You can add a <font color='blue'>.distance_to()</font> method to your data class just like you can with normal classes:"
   ]
  },
  {
   "cell_type": "code",
   "execution_count": 20,
   "id": "5daa1c93",
   "metadata": {},
   "outputs": [],
   "source": [
    "from dataclasses import dataclass\n",
    "from math import asin, cos, radians, sin, sqrt\n",
    "\n",
    "@dataclass\n",
    "class Position:\n",
    "    name: str\n",
    "    lon: float = 0.0\n",
    "    lat: float = 0.0\n",
    "\n",
    "    def distance_to(self, other):\n",
    "        r = 6371  # Earth radius in kilometers\n",
    "        lam_1, lam_2 = radians(self.lon), radians(other.lon)\n",
    "        phi_1, phi_2 = radians(self.lat), radians(other.lat)\n",
    "        h = (sin((phi_2 - phi_1) / 2)**2\n",
    "             + cos(phi_1) * cos(phi_2) * sin((lam_2 - lam_1) / 2)**2)\n",
    "        return 2 * r * asin(sqrt(h))"
   ]
  },
  {
   "cell_type": "markdown",
   "id": "f57d0057",
   "metadata": {},
   "source": [
    "It works as you would expect:"
   ]
  },
  {
   "cell_type": "code",
   "execution_count": 21,
   "id": "278c7c12",
   "metadata": {},
   "outputs": [
    {
     "data": {
      "text/plain": [
       "7181.7841229421165"
      ]
     },
     "execution_count": 21,
     "metadata": {},
     "output_type": "execute_result"
    }
   ],
   "source": [
    "oslo = Position(name='Oslo', lon=10.8, lat=59.9)\n",
    "vancouver = Position(name='Vancouver', lon=-123.1, lat=49.3)\n",
    "oslo.distance_to(vancouver)"
   ]
  },
  {
   "cell_type": "markdown",
   "id": "3502d80f",
   "metadata": {},
   "source": [
    "<a id='sect3'></a>\n",
    "## <font color='darkblue'>More Flexible Data Classes</font> ([back](#sect0))\n",
    "* <font size='3ptx'><b><a href='#sect3_1'>Advanced Default Values</a></b></font>\n",
    "* <font size='3ptx'><b><a href='#sect3_2'>You Need Representation?</a></b></font>\n",
    "* <font size='3ptx'><b><a href='#sect3_3'>Comparing Cards</a></b></font>\n",
    "\n",
    "So far, you have seen some of the basic features of the data class: it gives you some convenience methods, and you can still add default values and other methods. <b>Now you will learn about some more advanced features like parameters to the <a href='https://docs.python.org/3/library/dataclasses.html#dataclasses.dataclass'>@dataclass</a> decorator and the <a href='https://docs.python.org/3/library/dataclasses.html#dataclasses.field'>field()</a> function. Together, they give you more control when creating a data class</b>.\n",
    "\n",
    "Let us return to the playing card example you saw at the beginning of the tutorial and add a class containing a deck of cards while we are at it:\n",
    "> 撲克牌中的四種花色，即黑桃（spade）、紅桃（heart）、梅花（club）、方塊（dianmond），代表一年中的春夏秋冬四季，而每種花色剛好13張，指每個季節有13個星期。([source](https://kknews.cc/news/ax965yg.html))"
   ]
  },
  {
   "cell_type": "code",
   "execution_count": 22,
   "id": "3b5f2fac",
   "metadata": {},
   "outputs": [],
   "source": [
    "from dataclasses import dataclass\n",
    "from typing import List\n",
    "\n",
    "@dataclass\n",
    "class PlayingCard:\n",
    "    rank: str\n",
    "    suit: str\n",
    "\n",
    "@dataclass\n",
    "class Deck:\n",
    "    cards: List[PlayingCard]"
   ]
  },
  {
   "cell_type": "markdown",
   "id": "a6e50a28",
   "metadata": {},
   "source": [
    "A simple deck containing only two cards can be created like this:"
   ]
  },
  {
   "cell_type": "code",
   "execution_count": 23,
   "id": "6ef1fdb3",
   "metadata": {},
   "outputs": [
    {
     "data": {
      "text/plain": [
       "Deck(cards=[PlayingCard(rank='Q', suit='Heart'), PlayingCard(rank='A', suit='Spade')])"
      ]
     },
     "execution_count": 23,
     "metadata": {},
     "output_type": "execute_result"
    }
   ],
   "source": [
    "queen_of_hearts = PlayingCard(rank='Q', suit='Heart')\n",
    "ace_of_spades = PlayingCard(rank='A', suit='Spade')\n",
    "two_cards = Deck([queen_of_hearts, ace_of_spades])\n",
    "\n",
    "two_cards"
   ]
  },
  {
   "cell_type": "markdown",
   "id": "ab4cfc9a",
   "metadata": {},
   "source": [
    "<a id='sect3_1'></a>\n",
    "### <font color='darkgreen'>Advanced Default Values</font>\n",
    "<b>Say that you want to give a default value to the <font color='blue'>Deck</font></b>. It would for example be convenient if <font color='blue'>Deck()</font> created a regular (<font color='brown'>French</font>) deck of 52 playing cards. First, specify the different ranks and suits. Then, add a function <font color='blue'>make_french_deck()</font> that creates a list of instances of <font color='blue'><b>PlayingCard</b></font>:"
   ]
  },
  {
   "cell_type": "code",
   "execution_count": 24,
   "id": "30d84a19",
   "metadata": {},
   "outputs": [],
   "source": [
    "RANKS = '2 3 4 5 6 7 8 9 10 J Q K A'.split()\n",
    "SUITS = '♣ ♢ ♡ ♠'.split()\n",
    "\n",
    "def make_french_deck():\n",
    "    print(\"Making french deck...\")\n",
    "    return [PlayingCard(rank=r, suit=s) for s in SUITS for r in RANKS]"
   ]
  },
  {
   "cell_type": "markdown",
   "id": "495bc586",
   "metadata": {},
   "source": [
    "For fun, the four different suits are specified using their <b><a href='https://en.wikipedia.org/wiki/Playing_cards_in_Unicode'>Unicode symbols</a></b>.\n",
    "\n",
    "To simplify comparisons of cards later, the ranks and suits are also listed in their usual order."
   ]
  },
  {
   "cell_type": "code",
   "execution_count": 25,
   "id": "67e1ca36",
   "metadata": {},
   "outputs": [
    {
     "name": "stdout",
     "output_type": "stream",
     "text": [
      "Making french deck...\n"
     ]
    },
    {
     "data": {
      "text/plain": [
       "[PlayingCard(rank='2', suit='♣'),\n",
       " PlayingCard(rank='3', suit='♣'),\n",
       " PlayingCard(rank='4', suit='♣'),\n",
       " PlayingCard(rank='5', suit='♣'),\n",
       " PlayingCard(rank='6', suit='♣'),\n",
       " PlayingCard(rank='7', suit='♣'),\n",
       " PlayingCard(rank='8', suit='♣'),\n",
       " PlayingCard(rank='9', suit='♣'),\n",
       " PlayingCard(rank='10', suit='♣'),\n",
       " PlayingCard(rank='J', suit='♣')]"
      ]
     },
     "execution_count": 25,
     "metadata": {},
     "output_type": "execute_result"
    }
   ],
   "source": [
    "make_french_deck()[:10]"
   ]
  },
  {
   "cell_type": "markdown",
   "id": "d923139f",
   "metadata": {},
   "source": [
    "In theory, you could now use this function to specify a default value for <font color='blue'><b>Deck</b>.cards</font>:\n",
    "```python\n",
    "from dataclasses import dataclass\n",
    "from typing import List\n",
    "\n",
    "@dataclass\n",
    "class Deck:  # Will NOT work: mutable default <class 'list'> for field cards is not allowed: use default_factory\n",
    "    cards: List[PlayingCard] = make_french_deck()\n",
    "```"
   ]
  },
  {
   "cell_type": "code",
   "execution_count": 26,
   "id": "37ee2301",
   "metadata": {},
   "outputs": [],
   "source": [
    "#@dataclass\n",
    "#class Deck:  # Will NOT work\n",
    "#    cards: List[PlayingCard] = make_french_deck()"
   ]
  },
  {
   "cell_type": "markdown",
   "id": "5ef04022",
   "metadata": {},
   "source": [
    "<b>Don’t do this! This introduces one of the most common anti-patterns in Python: <a href='http://docs.python-guide.org/en/latest/writing/gotchas/#mutable-default-arguments'>using mutable default arguments</a>.</b> The problem is that all instances of <b><font color='blue'>Deck</font></b> will use the same list object as the default value of the <font color='blue'>.cards</font> property. This means that if, say, one card is removed from one <b><font color='blue'>Deck</font></b>, then it disappears from all other instances of <b><font color='blue'>Deck</font></b> as well. Actually, data classes try to <a href='https://www.python.org/dev/peps/pep-0557/#mutable-default-values'>prevent you from doing this</a>, and the code above will raise a <b><font color='blue'>ValueError</font></b>.\n",
    "\n",
    "Instead, data classes use something called a `default_factory` to handle mutable default values. To use `default_factory` (<font color='brown'>and many other cool features of data classes</font>), you need to use the <a href='https://docs.python.org/3/library/dataclasses.html#dataclasses.field'>field()</a> specifier:"
   ]
  },
  {
   "cell_type": "code",
   "execution_count": 27,
   "id": "c3797693",
   "metadata": {},
   "outputs": [],
   "source": [
    "from dataclasses import dataclass, field\n",
    "from typing import List\n",
    "\n",
    "@dataclass\n",
    "class Deck:\n",
    "    cards: List[PlayingCard] = field(default_factory=make_french_deck)"
   ]
  },
  {
   "cell_type": "markdown",
   "id": "2cc758f1",
   "metadata": {},
   "source": [
    "The argument to `default_factory` can be any zero parameter callable. Now it is easy to create a full deck of playing cards:"
   ]
  },
  {
   "cell_type": "code",
   "execution_count": 28,
   "id": "b27c50d7",
   "metadata": {},
   "outputs": [
    {
     "name": "stdout",
     "output_type": "stream",
     "text": [
      "Making french deck...\n"
     ]
    },
    {
     "data": {
      "text/plain": [
       "Deck(cards=[PlayingCard(rank='2', suit='♣'), PlayingCard(rank='3', suit='♣'), PlayingCard(rank='4', suit='♣'), PlayingCard(rank='5', suit='♣'), PlayingCard(rank='6', suit='♣'), PlayingCard(rank='7', suit='♣'), PlayingCard(rank='8', suit='♣'), PlayingCard(rank='9', suit='♣'), PlayingCard(rank='10', suit='♣'), PlayingCard(rank='J', suit='♣'), PlayingCard(rank='Q', suit='♣'), PlayingCard(rank='K', suit='♣'), PlayingCard(rank='A', suit='♣'), PlayingCard(rank='2', suit='♢'), PlayingCard(rank='3', suit='♢'), PlayingCard(rank='4', suit='♢'), PlayingCard(rank='5', suit='♢'), PlayingCard(rank='6', suit='♢'), PlayingCard(rank='7', suit='♢'), PlayingCard(rank='8', suit='♢'), PlayingCard(rank='9', suit='♢'), PlayingCard(rank='10', suit='♢'), PlayingCard(rank='J', suit='♢'), PlayingCard(rank='Q', suit='♢'), PlayingCard(rank='K', suit='♢'), PlayingCard(rank='A', suit='♢'), PlayingCard(rank='2', suit='♡'), PlayingCard(rank='3', suit='♡'), PlayingCard(rank='4', suit='♡'), PlayingCard(rank='5', suit='♡'), PlayingCard(rank='6', suit='♡'), PlayingCard(rank='7', suit='♡'), PlayingCard(rank='8', suit='♡'), PlayingCard(rank='9', suit='♡'), PlayingCard(rank='10', suit='♡'), PlayingCard(rank='J', suit='♡'), PlayingCard(rank='Q', suit='♡'), PlayingCard(rank='K', suit='♡'), PlayingCard(rank='A', suit='♡'), PlayingCard(rank='2', suit='♠'), PlayingCard(rank='3', suit='♠'), PlayingCard(rank='4', suit='♠'), PlayingCard(rank='5', suit='♠'), PlayingCard(rank='6', suit='♠'), PlayingCard(rank='7', suit='♠'), PlayingCard(rank='8', suit='♠'), PlayingCard(rank='9', suit='♠'), PlayingCard(rank='10', suit='♠'), PlayingCard(rank='J', suit='♠'), PlayingCard(rank='Q', suit='♠'), PlayingCard(rank='K', suit='♠'), PlayingCard(rank='A', suit='♠')])"
      ]
     },
     "execution_count": 28,
     "metadata": {},
     "output_type": "execute_result"
    }
   ],
   "source": [
    "Deck()"
   ]
  },
  {
   "cell_type": "code",
   "execution_count": 29,
   "id": "e363a4eb",
   "metadata": {},
   "outputs": [
    {
     "name": "stdout",
     "output_type": "stream",
     "text": [
      "Making french deck...\n",
      "d1 has 52 cards\n",
      "d1 has 0 cards\n",
      "Making french deck...\n",
      "d2 has 52 cards\n"
     ]
    }
   ],
   "source": [
    "d1 = Deck()\n",
    "print(f'd1 has {len(d1.cards)} cards')\n",
    "d1.cards = []\n",
    "print(f'd1 has {len(d1.cards)} cards')\n",
    "\n",
    "# Every new Deck will trigger `make_french_deck`\n",
    "d2 = Deck()\n",
    "print(f'd2 has {len(d2.cards)} cards')"
   ]
  },
  {
   "cell_type": "code",
   "execution_count": 30,
   "id": "5a478af1",
   "metadata": {},
   "outputs": [],
   "source": [
    "def method1(alist=[1]):\n",
    "    alist.append(alist[-1]+1)\n",
    "    print(alist)"
   ]
  },
  {
   "cell_type": "code",
   "execution_count": 31,
   "id": "37d8184f",
   "metadata": {},
   "outputs": [
    {
     "name": "stdout",
     "output_type": "stream",
     "text": [
      "[1, 2]\n"
     ]
    }
   ],
   "source": [
    "method1()"
   ]
  },
  {
   "cell_type": "code",
   "execution_count": 32,
   "id": "7b212d50",
   "metadata": {},
   "outputs": [
    {
     "name": "stdout",
     "output_type": "stream",
     "text": [
      "[1, 2, 3]\n"
     ]
    }
   ],
   "source": [
    "method1()"
   ]
  },
  {
   "cell_type": "markdown",
   "id": "3ad1aef9",
   "metadata": {},
   "source": [
    "<b>The <a href='https://docs.python.org/3/library/dataclasses.html#dataclasses.field'>field()</a> specifier is used to customize each field of a data class individually</b>. You will see some other examples later. For reference, these are the parameters <a href='https://docs.python.org/3/library/dataclasses.html#dataclasses.field'>field()</a> supports:\n",
    "* **default**: Default value of the field\n",
    "* **default_factory**: Function that returns the initial value of the field\n",
    "* **init**: Use field in .\\_\\_init__() method? (<font color='brown'>Default is True.</font>)\n",
    "* **repr**: Use field in repr of the object? (<font color='brown'>Default is True.</font>)\n",
    "* **compare**: Include the field in comparisons? (<font color='brown'>Default is True.</font>)\n",
    "* **hash**: Include the field when calculating <a href='https://docs.python.org/3/library/functions.html#hash'>hash()</a>? (<font color='brown'>Default is to use the same as for compare.</font>)\n",
    "* **metadata**: A mapping with information about the field\n",
    "<br/>\n",
    "\n",
    "In the Position example, you saw how to add simple default values by writing <font color='blue'>lat: float = 0.0</font>. However, if you also want to customize the field, for instance to hide it in the repr, you need to use the `default` parameter: <font color='blue'>lat: float = field(default=0.0, repr=False)</font>. You may not specify both `default` and `default_factory`."
   ]
  },
  {
   "cell_type": "code",
   "execution_count": 33,
   "id": "90bf00a4",
   "metadata": {},
   "outputs": [
    {
     "data": {
      "text/plain": [
       "MyData(name='John')"
      ]
     },
     "execution_count": 33,
     "metadata": {},
     "output_type": "execute_result"
    }
   ],
   "source": [
    "@dataclass\n",
    "class MyData:\n",
    "    name: str=field(default='John', repr=True)\n",
    "    age: int=field(default=99, repr=False)\n",
    "\n",
    "# Field `age` won't be shown\n",
    "my_data = MyData()\n",
    "my_data"
   ]
  },
  {
   "cell_type": "code",
   "execution_count": 34,
   "id": "db9bf699",
   "metadata": {},
   "outputs": [
    {
     "name": "stdout",
     "output_type": "stream",
     "text": [
      "my_data.age=99\n"
     ]
    }
   ],
   "source": [
    "print(f'my_data.age={my_data.age}')"
   ]
  },
  {
   "cell_type": "markdown",
   "id": "7a3acc01",
   "metadata": {},
   "source": [
    "The `metadata` parameter is not used by the data classes themselves but is available for you (<font color='brown'>or third party packages</font>) to attach information to fields. In the <b><font color='blue'>Position</font></b> example, you could for instance <b>specify that latitude and longitude should be given in degrees</b>:"
   ]
  },
  {
   "cell_type": "code",
   "execution_count": 35,
   "id": "a42da59d",
   "metadata": {},
   "outputs": [],
   "source": [
    "from dataclasses import dataclass, field\n",
    "\n",
    "@dataclass\n",
    "class Position:\n",
    "    name: str\n",
    "    lon: float = field(default=0.0, metadata={'unit': 'degrees'})\n",
    "    lat: float = field(default=0.0, metadata={'unit': 'degrees'})"
   ]
  },
  {
   "cell_type": "markdown",
   "id": "11e65298",
   "metadata": {},
   "source": [
    "The `metadata` (<font color='brown'>and other information about a field</font>) can be retrieved using the <font color='blue'>fields()</font> function (<font color='brown'>note the plural s</font>):"
   ]
  },
  {
   "cell_type": "code",
   "execution_count": 36,
   "id": "00840eaf",
   "metadata": {},
   "outputs": [
    {
     "data": {
      "text/plain": [
       "(Field(name='name',type=<class 'str'>,default=<dataclasses._MISSING_TYPE object at 0x7f9d61bac2b0>,default_factory=<dataclasses._MISSING_TYPE object at 0x7f9d61bac2b0>,init=True,repr=True,hash=None,compare=True,metadata=mappingproxy({}),_field_type=_FIELD),\n",
       " Field(name='lon',type=<class 'float'>,default=0.0,default_factory=<dataclasses._MISSING_TYPE object at 0x7f9d61bac2b0>,init=True,repr=True,hash=None,compare=True,metadata=mappingproxy({'unit': 'degrees'}),_field_type=_FIELD),\n",
       " Field(name='lat',type=<class 'float'>,default=0.0,default_factory=<dataclasses._MISSING_TYPE object at 0x7f9d61bac2b0>,init=True,repr=True,hash=None,compare=True,metadata=mappingproxy({'unit': 'degrees'}),_field_type=_FIELD))"
      ]
     },
     "execution_count": 36,
     "metadata": {},
     "output_type": "execute_result"
    }
   ],
   "source": [
    "from dataclasses import fields\n",
    "\n",
    "fields(Position)"
   ]
  },
  {
   "cell_type": "code",
   "execution_count": 37,
   "id": "f736b9d8",
   "metadata": {},
   "outputs": [
    {
     "data": {
      "text/plain": [
       "'degrees'"
      ]
     },
     "execution_count": 37,
     "metadata": {},
     "output_type": "execute_result"
    }
   ],
   "source": [
    "lat_unit = fields(Position)[2].metadata['unit']\n",
    "lat_unit"
   ]
  },
  {
   "cell_type": "code",
   "execution_count": 38,
   "id": "7c2dabec",
   "metadata": {},
   "outputs": [],
   "source": [
    "p = Position('test')\n",
    "# metadata only exist in dataclass Position. Not the instance of it.\n",
    "# Got AttributeError: 'float' object has no attribute 'metadata'\n",
    "#p.lon.metadata  // 'float' object has no attribute 'metadata'\n",
    "\n",
    "# fields can work on object of dataclass too.\n",
    "#fields(p)"
   ]
  },
  {
   "cell_type": "markdown",
   "id": "ded26452",
   "metadata": {},
   "source": [
    "<a id='sect3_2'></a>\n",
    "### <font color='darkgreen'>You Need Representation?</font>\n",
    "Recall that we can create decks of cards out of thin air:\n",
    "```python\n",
    ">>> Deck()\n",
    "Deck(cards=[PlayingCard(rank='2', suit='♣'), PlayingCard(rank='3', suit='♣'), ...\n",
    "            PlayingCard(rank='K', suit='♠'), PlayingCard(rank='A', suit='♠')])\n",
    "```\n",
    "<br/>\n",
    "\n",
    "While this representation of a Deck is explicit and readable, it is also very verbose. I have deleted 48 of the 52 cards in the deck in the output above. On an 80-column display, simply printing the full Deck takes up 22 lines! Let us add a more concise representation. In general, a Python object has two different string representations:\n",
    "* **repr(obj)** is defined by obj.\\_\\_repr__() and should return a developer-friendly representation of obj. If possible, this should be code that can recreate obj. Data classes do this.\n",
    "\n",
    "* **str(obj)** is defined by obj.\\_\\_str__() and should return a user-friendly representation of obj. Data classes do not implement a .\\_\\_str__() method, so Python will fall back to the .\\_\\_repr__() method.\n",
    "<br/>"
   ]
  },
  {
   "cell_type": "code",
   "execution_count": 39,
   "id": "e5634f9e",
   "metadata": {},
   "outputs": [
    {
     "data": {
      "text/plain": [
       "__repr__"
      ]
     },
     "execution_count": 39,
     "metadata": {},
     "output_type": "execute_result"
    }
   ],
   "source": [
    "class MyClass:\n",
    "    def __repr__(self):\n",
    "        return \"__repr__\"\n",
    "    \n",
    "    def __str__(self):\n",
    "        return \"__str__\"\n",
    "    \n",
    "my_obj = MyClass()\n",
    "my_obj"
   ]
  },
  {
   "cell_type": "code",
   "execution_count": 40,
   "id": "8ff3eda1",
   "metadata": {},
   "outputs": [
    {
     "data": {
      "text/plain": [
       "'__str__'"
      ]
     },
     "execution_count": 40,
     "metadata": {},
     "output_type": "execute_result"
    }
   ],
   "source": [
    "str(my_obj)"
   ]
  },
  {
   "cell_type": "code",
   "execution_count": 41,
   "id": "ab3cf3cf",
   "metadata": {},
   "outputs": [
    {
     "name": "stdout",
     "output_type": "stream",
     "text": [
      "__str__\n"
     ]
    }
   ],
   "source": [
    "print(my_obj)"
   ]
  },
  {
   "cell_type": "code",
   "execution_count": 42,
   "id": "a6da6836",
   "metadata": {},
   "outputs": [
    {
     "data": {
      "text/plain": [
       "'__repr__'"
      ]
     },
     "execution_count": 42,
     "metadata": {},
     "output_type": "execute_result"
    }
   ],
   "source": [
    "repr(my_obj)"
   ]
  },
  {
   "cell_type": "markdown",
   "id": "d22d16cd",
   "metadata": {},
   "source": [
    "Let us implement a user-friendly representation of a <b><font color='blue'>PlayingCard</font></b>:"
   ]
  },
  {
   "cell_type": "code",
   "execution_count": 43,
   "id": "c8332db1",
   "metadata": {},
   "outputs": [],
   "source": [
    "from dataclasses import dataclass\n",
    "\n",
    "@dataclass\n",
    "class PlayingCard:\n",
    "    rank: str\n",
    "    suit: str\n",
    "\n",
    "    def __str__(self):\n",
    "        return f'{self.suit}{self.rank}'"
   ]
  },
  {
   "cell_type": "markdown",
   "id": "b7da6a7f",
   "metadata": {},
   "source": [
    "The cards now look much nicer, but the deck is still as verbose as ever:"
   ]
  },
  {
   "cell_type": "code",
   "execution_count": 44,
   "id": "c41e0ef4",
   "metadata": {},
   "outputs": [
    {
     "name": "stdout",
     "output_type": "stream",
     "text": [
      "♠A\n"
     ]
    }
   ],
   "source": [
    "ace_of_spades = PlayingCard(rank='A', suit='♠')\n",
    "print(ace_of_spades)"
   ]
  },
  {
   "cell_type": "code",
   "execution_count": 45,
   "id": "08af0866",
   "metadata": {},
   "outputs": [
    {
     "name": "stdout",
     "output_type": "stream",
     "text": [
      "Making french deck...\n",
      "Deck(cards=[PlayingCard(rank='2', suit='♣'), PlayingCard(rank='3', suit='♣'), PlayingCard(rank='4', suit='♣'), PlayingCard(rank='5', suit='♣'), PlayingCard(rank='6', suit='♣'), PlayingCard(rank='7', suit='♣'), PlayingCard(rank='8', suit='♣'), PlayingCard(rank='9', suit='♣'), PlayingCard(rank='10', suit='♣'), PlayingCard(rank='J', suit='♣'), PlayingCard(rank='Q', suit='♣'), PlayingCard(rank='K', suit='♣'), PlayingCard(rank='A', suit='♣'), PlayingCard(rank='2', suit='♢'), PlayingCard(rank='3', suit='♢'), PlayingCard(rank='4', suit='♢'), PlayingCard(rank='5', suit='♢'), PlayingCard(rank='6', suit='♢'), PlayingCard(rank='7', suit='♢'), PlayingCard(rank='8', suit='♢'), PlayingCard(rank='9', suit='♢'), PlayingCard(rank='10', suit='♢'), PlayingCard(rank='J', suit='♢'), PlayingCard(rank='Q', suit='♢'), PlayingCard(rank='K', suit='♢'), PlayingCard(rank='A', suit='♢'), PlayingCard(rank='2', suit='♡'), PlayingCard(rank='3', suit='♡'), PlayingCard(rank='4', suit='♡'), PlayingCard(rank='5', suit='♡'), PlayingCard(rank='6', suit='♡'), PlayingCard(rank='7', suit='♡'), PlayingCard(rank='8', suit='♡'), PlayingCard(rank='9', suit='♡'), PlayingCard(rank='10', suit='♡'), PlayingCard(rank='J', suit='♡'), PlayingCard(rank='Q', suit='♡'), PlayingCard(rank='K', suit='♡'), PlayingCard(rank='A', suit='♡'), PlayingCard(rank='2', suit='♠'), PlayingCard(rank='3', suit='♠'), PlayingCard(rank='4', suit='♠'), PlayingCard(rank='5', suit='♠'), PlayingCard(rank='6', suit='♠'), PlayingCard(rank='7', suit='♠'), PlayingCard(rank='8', suit='♠'), PlayingCard(rank='9', suit='♠'), PlayingCard(rank='10', suit='♠'), PlayingCard(rank='J', suit='♠'), PlayingCard(rank='Q', suit='♠'), PlayingCard(rank='K', suit='♠'), PlayingCard(rank='A', suit='♠')])\n"
     ]
    }
   ],
   "source": [
    "print(Deck())"
   ]
  },
  {
   "cell_type": "markdown",
   "id": "3b4012bc",
   "metadata": {},
   "source": [
    "To show that it is possible to add your own .\\_\\_repr__() method as well, we will violate the principle that it should return code that can recreate an object. <b><a href='https://www.python.org/dev/peps/pep-0020/'>Practicality beats purity</a></b> after all. The following code adds a more concise representation of the <b><font color='blue'>Deck</font></b>:"
   ]
  },
  {
   "cell_type": "code",
   "execution_count": 46,
   "id": "aa3c8383",
   "metadata": {},
   "outputs": [],
   "source": [
    "from dataclasses import dataclass, field\n",
    "from typing import List\n",
    "\n",
    "@dataclass\n",
    "class Deck:\n",
    "    cards: List[PlayingCard] = field(default_factory=make_french_deck)\n",
    "\n",
    "    def __repr__(self):\n",
    "        cards = ', '.join(f'{c!s}' for c in self.cards)\n",
    "        return f'{self.__class__.__name__}({cards})'"
   ]
  },
  {
   "cell_type": "markdown",
   "id": "5482c0bd",
   "metadata": {},
   "source": [
    "Note the `!s` specifier in the `{c!s}` format string. It means that we explicitly want to use the <font color='blue'>str()</font> representation of each <font color='blue'><b>PlayingCard</b></font>. With the new .\\_\\_repr__(), the representation of <b><font color='blue'>Deck</font></b> is easier on the eyes"
   ]
  },
  {
   "cell_type": "code",
   "execution_count": 47,
   "id": "461c5597",
   "metadata": {},
   "outputs": [
    {
     "name": "stdout",
     "output_type": "stream",
     "text": [
      "Making french deck...\n"
     ]
    },
    {
     "data": {
      "text/plain": [
       "Deck(♣2, ♣3, ♣4, ♣5, ♣6, ♣7, ♣8, ♣9, ♣10, ♣J, ♣Q, ♣K, ♣A, ♢2, ♢3, ♢4, ♢5, ♢6, ♢7, ♢8, ♢9, ♢10, ♢J, ♢Q, ♢K, ♢A, ♡2, ♡3, ♡4, ♡5, ♡6, ♡7, ♡8, ♡9, ♡10, ♡J, ♡Q, ♡K, ♡A, ♠2, ♠3, ♠4, ♠5, ♠6, ♠7, ♠8, ♠9, ♠10, ♠J, ♠Q, ♠K, ♠A)"
      ]
     },
     "execution_count": 47,
     "metadata": {},
     "output_type": "execute_result"
    }
   ],
   "source": [
    "Deck()"
   ]
  },
  {
   "cell_type": "markdown",
   "id": "7c2e428f",
   "metadata": {},
   "source": [
    "<a id='sect3_3'></a>\n",
    "### <font color='darkgreen'>Comparing Cards</font>\n",
    "<b>In many card games, cards are compared to each other</b>. For instance in a typical <b><a href='https://en.wikipedia.org/wiki/Trick-taking_game'>trick taking game</a></b>, the highest card takes the trick. As it is currently implemented, the <b><font color='blue'>PlayingCard</font></b> class does not support this kind of comparison:\n",
    "```python\n",
    ">>> queen_of_hearts = PlayingCard('Q', '♡')\n",
    ">>> ace_of_spades = PlayingCard('A', '♠')\n",
    ">>> ace_of_spades > queen_of_hearts\n",
    "TypeError: '>' not supported between instances of 'Card' and 'Card'\n",
    "```\n",
    "<br/>\n",
    "\n",
    "This is, however, (seemingly) easy to rectify:"
   ]
  },
  {
   "cell_type": "code",
   "execution_count": 48,
   "id": "248a5e84",
   "metadata": {},
   "outputs": [],
   "source": [
    "from dataclasses import dataclass\n",
    "\n",
    "@dataclass(order=True)\n",
    "class PlayingCard:\n",
    "    rank: str\n",
    "    suit: str\n",
    "\n",
    "    def __str__(self):\n",
    "        return f'{self.suit}{self.rank}'"
   ]
  },
  {
   "cell_type": "markdown",
   "id": "5117ceb4",
   "metadata": {},
   "source": [
    "The <b><a href='https://docs.python.org/3/library/dataclasses.html#dataclasses.dataclass'>@dataclass</a></b> decorator has two forms. So far you have seen the simple form where <b><a href='https://docs.python.org/3/library/dataclasses.html#dataclasses.dataclass'>@dataclass</a></b> is specified without any parentheses and parameters. However, you can also give parameters to the <b><a href='https://docs.python.org/3/library/dataclasses.html#dataclasses.dataclass'>@dataclass</a></b> decorator in parentheses. The following parameters are supported:\n",
    "* **init**: Add .\\_\\_init__() method? (<font color='brown'>Default is True.</font>)\n",
    "* **repr**: Add .\\_\\_repr__() method? (<font color='brown'>Default is True.</font>)\n",
    "* **eq**: Add .\\_\\_eq__() method? (<font color='brown'>Default is True.</font>)\n",
    "* **order**: Add ordering methods? (<font color='brown'>Default is False.</font>)\n",
    "* **unsafe_hash**: Force the addition of a .\\_\\_hash__() method? (<font color='brown'>Default is False.</font>)\n",
    "* **frozen**: If True, assigning to fields raise an exception. (<font color='brown'>Default is False.</font>)\n",
    "<br/>\n",
    "\n",
    "See the <a href='https://www.python.org/dev/peps/pep-0557/#id7'>original PEP</a> for more information about each parameter. After setting <font color='blue'>order=True</font>, instances of <b><font color='blue'>PlayingCard</font></b> can be compared:"
   ]
  },
  {
   "cell_type": "code",
   "execution_count": 49,
   "id": "d7af8a67",
   "metadata": {},
   "outputs": [
    {
     "data": {
      "text/plain": [
       "False"
      ]
     },
     "execution_count": 49,
     "metadata": {},
     "output_type": "execute_result"
    }
   ],
   "source": [
    "queen_of_hearts = PlayingCard('Q', '♡')\n",
    "ace_of_spades = PlayingCard('A', '♠')\n",
    "ace_of_spades > queen_of_hearts"
   ]
  },
  {
   "cell_type": "code",
   "execution_count": 50,
   "id": "b3cf6c3c",
   "metadata": {},
   "outputs": [
    {
     "data": {
      "text/plain": [
       "65"
      ]
     },
     "execution_count": 50,
     "metadata": {},
     "output_type": "execute_result"
    }
   ],
   "source": [
    "ord('A')"
   ]
  },
  {
   "cell_type": "code",
   "execution_count": 51,
   "id": "eb88c955",
   "metadata": {},
   "outputs": [
    {
     "data": {
      "text/plain": [
       "81"
      ]
     },
     "execution_count": 51,
     "metadata": {},
     "output_type": "execute_result"
    }
   ],
   "source": [
    "ord('Q')"
   ]
  },
  {
   "cell_type": "code",
   "execution_count": 52,
   "id": "5a1c6c10",
   "metadata": {},
   "outputs": [
    {
     "data": {
      "text/plain": [
       "False"
      ]
     },
     "execution_count": 52,
     "metadata": {},
     "output_type": "execute_result"
    }
   ],
   "source": [
    "('A', '♠') > ('Q', '♡')"
   ]
  },
  {
   "cell_type": "markdown",
   "id": "79ffcf48",
   "metadata": {},
   "source": [
    "How are the two cards compared though? You have not specified how the ordering should be done, and for some reason Python seems to believe that a Queen is higher than an Ace…\n",
    "\n",
    "<b>It turns out that data classes compare objects as if they were tuples of their fields</b>. In other words, a Queen is higher than an Ace because 'Q' comes after 'A' in the alphabet:"
   ]
  },
  {
   "cell_type": "code",
   "execution_count": 53,
   "id": "0dd4c97b",
   "metadata": {},
   "outputs": [
    {
     "data": {
      "text/plain": [
       "False"
      ]
     },
     "execution_count": 53,
     "metadata": {},
     "output_type": "execute_result"
    }
   ],
   "source": [
    "('A', '♠') > ('Q', '♡')"
   ]
  },
  {
   "cell_type": "markdown",
   "id": "3e82080c",
   "metadata": {},
   "source": [
    "That does not really work for us. Instead, we need to define some kind of sort index that uses the order of RANKS and SUITS. Something like this:\n",
    "```python\n",
    ">>> RANKS = '2 3 4 5 6 7 8 9 10 J Q K A'.split()\n",
    ">>> SUITS = '♣ ♢ ♡ ♠'.split()\n",
    ">>> card = PlayingCard('Q', '♡')\n",
    ">>> RANKS.index(card.rank) * len(SUITS) + SUITS.index(card.suit)\n",
    "42\n",
    "```\n",
    "<br/>\n",
    "\n",
    "For <b><font color='blue'>PlayingCard</font></b> to use this sort index for comparisons, we need to add a field <font color='violet'>.sort_index</font> to the class. However, this field should be calculated from the other fields <font color='violet'>.rank</font> and <font color='violet'>.suit</font> automatically. This is exactly what the special method .\\_\\_post_init__() is for. It allows for special processing after the regular .\\_\\_init__() method is called:"
   ]
  },
  {
   "cell_type": "code",
   "execution_count": 54,
   "id": "8d4a317d",
   "metadata": {},
   "outputs": [],
   "source": [
    "from dataclasses import dataclass, field\n",
    "\n",
    "RANKS = '2 3 4 5 6 7 8 9 10 J Q K A'.split()\n",
    "SUITS = '♣ ♢ ♡ ♠'.split()\n",
    "\n",
    "@dataclass(order=True)\n",
    "class PlayingCard:\n",
    "    sort_index: int = field(init=False, repr=False)\n",
    "    rank: str\n",
    "    suit: str\n",
    "\n",
    "    def __post_init__(self):        \n",
    "        self.sort_index = (RANKS.index(self.rank) * len(SUITS)\n",
    "                           + SUITS.index(self.suit))\n",
    "        print(f'{self} with sort_index={self.sort_index}')\n",
    "\n",
    "    def __str__(self):\n",
    "        return f'{self.suit}{self.rank}'"
   ]
  },
  {
   "cell_type": "markdown",
   "id": "72aeb7c6",
   "metadata": {},
   "source": [
    "<b>Note that <font color='violet'>.sort_index</font> is added as the first field of the class. That way, the comparison is first done using <font color='violet'>.sort_index</font> and only if there are ties are the other fields used.</b> Using <font color='blue'>field()</font>, you must also specify that <font color='violet'>.sort_index</font> should not be included as a parameter in the .\\_\\_init__() method (<font color='brown'>because it is calculated from the</font> <font color='violet'>.rank</font> <font color='brown'>and</font> <font color='violet'>.suit</font> <font color='brown'>fields</font>). To avoid confusing the user about this implementation detail, it is probably also a good idea to remove <font color='violet'>.sort_index</font> from the `repr` of the class.\n",
    "\n",
    "Finally, aces are high:"
   ]
  },
  {
   "cell_type": "code",
   "execution_count": 55,
   "id": "e134b03f",
   "metadata": {},
   "outputs": [
    {
     "name": "stdout",
     "output_type": "stream",
     "text": [
      "♡Q with sort_index=42\n",
      "♠A with sort_index=51\n",
      "queen_of_hearts.sort_index=42; ace_of_spades.sort_index=51\n"
     ]
    }
   ],
   "source": [
    "queen_of_hearts = PlayingCard('Q', '♡')\n",
    "ace_of_spades = PlayingCard('A', '♠')\n",
    "print(f'queen_of_hearts.sort_index={queen_of_hearts.sort_index}; ace_of_spades.sort_index={ace_of_spades.sort_index}')"
   ]
  },
  {
   "cell_type": "code",
   "execution_count": 56,
   "id": "1d35184f",
   "metadata": {},
   "outputs": [
    {
     "data": {
      "text/plain": [
       "True"
      ]
     },
     "execution_count": 56,
     "metadata": {},
     "output_type": "execute_result"
    }
   ],
   "source": [
    "ace_of_spades > queen_of_hearts"
   ]
  },
  {
   "cell_type": "code",
   "execution_count": 57,
   "id": "95bdda9b",
   "metadata": {},
   "outputs": [
    {
     "data": {
      "text/plain": [
       "True"
      ]
     },
     "execution_count": 57,
     "metadata": {},
     "output_type": "execute_result"
    }
   ],
   "source": [
    "(51, 'A', '♠') > (42, 'Q', '♡')"
   ]
  },
  {
   "cell_type": "markdown",
   "id": "ce266a65",
   "metadata": {},
   "source": [
    "You can now easily create a sorted deck:"
   ]
  },
  {
   "cell_type": "code",
   "execution_count": 58,
   "id": "44f7e9a9",
   "metadata": {},
   "outputs": [
    {
     "name": "stdout",
     "output_type": "stream",
     "text": [
      "Making french deck...\n",
      "♣2 with sort_index=0\n",
      "♣3 with sort_index=4\n",
      "♣4 with sort_index=8\n",
      "♣5 with sort_index=12\n",
      "♣6 with sort_index=16\n",
      "♣7 with sort_index=20\n",
      "♣8 with sort_index=24\n",
      "♣9 with sort_index=28\n",
      "♣10 with sort_index=32\n",
      "♣J with sort_index=36\n",
      "♣Q with sort_index=40\n",
      "♣K with sort_index=44\n",
      "♣A with sort_index=48\n",
      "♢2 with sort_index=1\n",
      "♢3 with sort_index=5\n",
      "♢4 with sort_index=9\n",
      "♢5 with sort_index=13\n",
      "♢6 with sort_index=17\n",
      "♢7 with sort_index=21\n",
      "♢8 with sort_index=25\n",
      "♢9 with sort_index=29\n",
      "♢10 with sort_index=33\n",
      "♢J with sort_index=37\n",
      "♢Q with sort_index=41\n",
      "♢K with sort_index=45\n",
      "♢A with sort_index=49\n",
      "♡2 with sort_index=2\n",
      "♡3 with sort_index=6\n",
      "♡4 with sort_index=10\n",
      "♡5 with sort_index=14\n",
      "♡6 with sort_index=18\n",
      "♡7 with sort_index=22\n",
      "♡8 with sort_index=26\n",
      "♡9 with sort_index=30\n",
      "♡10 with sort_index=34\n",
      "♡J with sort_index=38\n",
      "♡Q with sort_index=42\n",
      "♡K with sort_index=46\n",
      "♡A with sort_index=50\n",
      "♠2 with sort_index=3\n",
      "♠3 with sort_index=7\n",
      "♠4 with sort_index=11\n",
      "♠5 with sort_index=15\n",
      "♠6 with sort_index=19\n",
      "♠7 with sort_index=23\n",
      "♠8 with sort_index=27\n",
      "♠9 with sort_index=31\n",
      "♠10 with sort_index=35\n",
      "♠J with sort_index=39\n",
      "♠Q with sort_index=43\n",
      "♠K with sort_index=47\n",
      "♠A with sort_index=51\n"
     ]
    },
    {
     "data": {
      "text/plain": [
       "Deck(♣2, ♢2, ♡2, ♠2, ♣3, ♢3, ♡3, ♠3, ♣4, ♢4, ♡4, ♠4, ♣5, ♢5, ♡5, ♠5, ♣6, ♢6, ♡6, ♠6, ♣7, ♢7, ♡7, ♠7, ♣8, ♢8, ♡8, ♠8, ♣9, ♢9, ♡9, ♠9, ♣10, ♢10, ♡10, ♠10, ♣J, ♢J, ♡J, ♠J, ♣Q, ♢Q, ♡Q, ♠Q, ♣K, ♢K, ♡K, ♠K, ♣A, ♢A, ♡A, ♠A)"
      ]
     },
     "execution_count": 58,
     "metadata": {},
     "output_type": "execute_result"
    }
   ],
   "source": [
    "Deck(sorted(make_french_deck()))"
   ]
  },
  {
   "cell_type": "markdown",
   "id": "a4cc34c5",
   "metadata": {},
   "source": [
    "Or, if you don’t care about sorting, this is how you draw a random hand of 10 cards:"
   ]
  },
  {
   "cell_type": "code",
   "execution_count": 59,
   "id": "ac37efda",
   "metadata": {},
   "outputs": [
    {
     "name": "stdout",
     "output_type": "stream",
     "text": [
      "Making french deck...\n",
      "♣2 with sort_index=0\n",
      "♣3 with sort_index=4\n",
      "♣4 with sort_index=8\n",
      "♣5 with sort_index=12\n",
      "♣6 with sort_index=16\n",
      "♣7 with sort_index=20\n",
      "♣8 with sort_index=24\n",
      "♣9 with sort_index=28\n",
      "♣10 with sort_index=32\n",
      "♣J with sort_index=36\n",
      "♣Q with sort_index=40\n",
      "♣K with sort_index=44\n",
      "♣A with sort_index=48\n",
      "♢2 with sort_index=1\n",
      "♢3 with sort_index=5\n",
      "♢4 with sort_index=9\n",
      "♢5 with sort_index=13\n",
      "♢6 with sort_index=17\n",
      "♢7 with sort_index=21\n",
      "♢8 with sort_index=25\n",
      "♢9 with sort_index=29\n",
      "♢10 with sort_index=33\n",
      "♢J with sort_index=37\n",
      "♢Q with sort_index=41\n",
      "♢K with sort_index=45\n",
      "♢A with sort_index=49\n",
      "♡2 with sort_index=2\n",
      "♡3 with sort_index=6\n",
      "♡4 with sort_index=10\n",
      "♡5 with sort_index=14\n",
      "♡6 with sort_index=18\n",
      "♡7 with sort_index=22\n",
      "♡8 with sort_index=26\n",
      "♡9 with sort_index=30\n",
      "♡10 with sort_index=34\n",
      "♡J with sort_index=38\n",
      "♡Q with sort_index=42\n",
      "♡K with sort_index=46\n",
      "♡A with sort_index=50\n",
      "♠2 with sort_index=3\n",
      "♠3 with sort_index=7\n",
      "♠4 with sort_index=11\n",
      "♠5 with sort_index=15\n",
      "♠6 with sort_index=19\n",
      "♠7 with sort_index=23\n",
      "♠8 with sort_index=27\n",
      "♠9 with sort_index=31\n",
      "♠10 with sort_index=35\n",
      "♠J with sort_index=39\n",
      "♠Q with sort_index=43\n",
      "♠K with sort_index=47\n",
      "♠A with sort_index=51\n"
     ]
    },
    {
     "data": {
      "text/plain": [
       "Deck(♠A, ♠2, ♢Q, ♠J, ♠7, ♠4, ♡2, ♣8, ♡8, ♣5)"
      ]
     },
     "execution_count": 59,
     "metadata": {},
     "output_type": "execute_result"
    }
   ],
   "source": [
    "from random import sample\n",
    "\n",
    "Deck(sample(make_french_deck(), k=10))"
   ]
  },
  {
   "cell_type": "markdown",
   "id": "15dbbe17",
   "metadata": {},
   "source": [
    "<a id='sect4'></a>\n",
    "## <font color='darkblue'>Immutable Data Classes</font> ([back](#sect0))\n",
    "<b>One of the defining features of the <a href='https://docs.python.org/3/library/collections.html#collections.namedtuple'>namedtuple</a> you saw earlier is that it is immutable.</b> That is, the value of its fields may never change. For many types of data classes, this is a great idea! To make a data class immutable, set <font color='blue'>frozen=True</font> when you create it. For example, the following is an immutable version of the <font color='blue'><b>Position</b></font> class <a href='https://realpython.com/python-data-classes/#basic-data-classes'>you saw earlier</a>:"
   ]
  },
  {
   "cell_type": "code",
   "execution_count": 60,
   "id": "b4d44bbc",
   "metadata": {},
   "outputs": [],
   "source": [
    "from dataclasses import dataclass\n",
    "\n",
    "@dataclass(frozen=True)\n",
    "class Position:\n",
    "    name: str\n",
    "    lon: float = 0.0\n",
    "    lat: float = 0.0"
   ]
  },
  {
   "cell_type": "markdown",
   "id": "cb22b508",
   "metadata": {},
   "source": [
    "In a frozen data class, you can not assign values to the fields after creation:\n",
    "```python\n",
    ">>> pos = Position('Oslo', 10.8, 59.9)\n",
    ">>> pos.name\n",
    "'Oslo'\n",
    ">>> pos.name = 'Stockholm'\n",
    "dataclasses.FrozenInstanceError: cannot assign to field 'name'\n",
    "```\n",
    "<br/>\n",
    "\n",
    "Be aware though that if your data class contains mutable fields, those might still change. This is true for all nested data structures in Python (<font color='brown'>see <a href='https://www.youtube.com/watch?v=p9ppfvHv2Us'>this video for further info</a></font>):"
   ]
  },
  {
   "cell_type": "code",
   "execution_count": 61,
   "id": "a4c103f7",
   "metadata": {},
   "outputs": [],
   "source": [
    "from dataclasses import dataclass\n",
    "from typing import List\n",
    "\n",
    "@dataclass(frozen=True)\n",
    "class ImmutableCard:\n",
    "    rank: str\n",
    "    suit: str\n",
    "\n",
    "@dataclass(frozen=True)\n",
    "class ImmutableDeck:\n",
    "    cards: List[ImmutableCard]"
   ]
  },
  {
   "cell_type": "code",
   "execution_count": 62,
   "id": "bd327a59",
   "metadata": {},
   "outputs": [
    {
     "data": {
      "text/plain": [
       "ImmutableDeck(cards=[ImmutableCard(rank='Q', suit='♡'), ImmutableCard(rank='A', suit='♠'), ImmutableCard(rank='2', suit='♣')])"
      ]
     },
     "execution_count": 62,
     "metadata": {},
     "output_type": "execute_result"
    }
   ],
   "source": [
    "ideck = ImmutableDeck([ImmutableCard('Q', '♡'), ImmutableCard('A', '♠')])\n",
    "# ideck.cards = []  # cannot assign to field 'cards'\n",
    "ideck.cards.append(ImmutableCard('2', '♣'))\n",
    "ideck"
   ]
  },
  {
   "cell_type": "markdown",
   "id": "14f42fc0",
   "metadata": {},
   "source": [
    "Even though both <b><font color='blue'>ImmutableCard</font></b> and <b><font color='blue'>ImmutableDeck</font></b> are immutable, the list holding cards is not. You can therefore still change the `cards` in the deck:\n",
    "```python\n",
    ">>> queen_of_hearts = ImmutableCard('Q', '♡')\n",
    ">>> ace_of_spades = ImmutableCard('A', '♠')\n",
    ">>> deck = ImmutableDeck([queen_of_hearts, ace_of_spades])\n",
    ">>> deck\n",
    "ImmutableDeck(cards=[ImmutableCard(rank='Q', suit='♡'), ImmutableCard(rank='A', suit='♠')])\n",
    ">>> deck.cards[0] = ImmutableCard('7', '♢')\n",
    ">>> deck\n",
    "ImmutableDeck(cards=[ImmutableCard(rank='7', suit='♢'), ImmutableCard(rank='A', suit='♠')])\n",
    "```\n",
    "<br/>\n",
    "\n",
    "<b>To avoid this, make sure all fields of an immutable data class use immutable types</b> (<font color='brown'>but remember that types are not enforced at runtime</font>). The <font color='blue'><b>ImmutableDeck</b></font> should be implemented using a tuple instead of a list."
   ]
  },
  {
   "cell_type": "markdown",
   "id": "f71844bc",
   "metadata": {},
   "source": [
    "<a id='sect5'></a>\n",
    "## <font color='darkblue'>Inheritance</font> ([back](#sect0))\n",
    "<b>You can <a href='https://realpython.com/python3-object-oriented-programming/'>subclass</a> data classes quite freely</b>. As an example, we will extend our <b><font color='blue'>Position</font></b> example with a `country` field and use it to record capitals:"
   ]
  },
  {
   "cell_type": "code",
   "execution_count": 63,
   "id": "013a66e5",
   "metadata": {},
   "outputs": [],
   "source": [
    "from dataclasses import dataclass\n",
    "\n",
    "@dataclass\n",
    "class Position:\n",
    "    name: str\n",
    "    lon: float\n",
    "    lat: float\n",
    "\n",
    "@dataclass\n",
    "class Capital(Position):\n",
    "    country: str"
   ]
  },
  {
   "cell_type": "markdown",
   "id": "25c3aab4",
   "metadata": {},
   "source": [
    "In this simple example, everything works without a hitch:"
   ]
  },
  {
   "cell_type": "code",
   "execution_count": 64,
   "id": "bbeb8dd9",
   "metadata": {},
   "outputs": [
    {
     "data": {
      "text/plain": [
       "Capital(name='Oslo', lon=10.8, lat=59.9, country='Norway')"
      ]
     },
     "execution_count": 64,
     "metadata": {},
     "output_type": "execute_result"
    }
   ],
   "source": [
    "Capital(name='Oslo', lon=10.8, lat=59.9, country='Norway')"
   ]
  },
  {
   "cell_type": "markdown",
   "id": "2e0a1800",
   "metadata": {},
   "source": [
    "The `country` field of <font color='blue'><b>Capital</b></font> is added after the three original fields in Position. Things get a little more complicated if any fields in the base class have default values. For example:\n",
    "```python\n",
    "from dataclasses import dataclass\n",
    "\n",
    "@dataclass\n",
    "class Position:\n",
    "    name: str\n",
    "    lon: float = 0.0\n",
    "    lat: float = 0.0\n",
    "\n",
    "@dataclass\n",
    "class Capital(Position):\n",
    "    country: str  # Does NOT work\n",
    "```\n",
    "<br/>\n",
    "\n",
    "<b>This code will immediately crash with a <font color='blue'>TypeError</font> complaining that “non-default argument ‘country’ follows default argument.”</b> The problem is that our new `country` field has no default value, while the `lon` and `lat` fields have default values. The data class will try to write an .\\_\\_init__() method with the following signature:\n",
    "```python\n",
    "def __init__(name: str, lon: float = 0.0, lat: float = 0.0, country: str):\n",
    "    ...\n",
    "```\n",
    "<br/>\n",
    "\n",
    "However, this is not valid Python. <a href='https://docs.python.org/reference/compound_stmts.html#function-definitions'>If a parameter has a default value, all following parameters must also have a default value</a>. In other words, if a field in a base class has a default value, then all new fields added in a subclass must have default values as well.\n",
    "\n",
    "<b>Another thing to be aware of is how fields are ordered in a subclass.</b> Starting with the base class, fields are ordered in the order in which they are first defined. If a field is redefined in a subclass, its order does not change. For example, if you define <b><font color='blue'>Position</font></b> and <b><font color='blue'>Capital</font></b> as follows:"
   ]
  },
  {
   "cell_type": "code",
   "execution_count": 65,
   "id": "244fbf3a",
   "metadata": {},
   "outputs": [],
   "source": [
    "from dataclasses import dataclass\n",
    "\n",
    "@dataclass\n",
    "class Position:\n",
    "    name: str\n",
    "    lon: float = 0.0\n",
    "    lat: float = 0.0\n",
    "        \n",
    "\n",
    "@dataclass\n",
    "class Capital(Position):\n",
    "    country: str = 'Unknown'\n",
    "    lat: float = 40.0"
   ]
  },
  {
   "cell_type": "markdown",
   "id": "9419c1df",
   "metadata": {},
   "source": [
    "Then the order of the fields in <b><font color='blue'>Capital</font></b> will still be `name`, `lon`, `lat`, `country`. However, the default value of lat will be 40.0."
   ]
  },
  {
   "cell_type": "code",
   "execution_count": 66,
   "id": "68b24ee5",
   "metadata": {},
   "outputs": [
    {
     "data": {
      "text/plain": [
       "Capital(name='Madrid', lon=0.0, lat=40.0, country='Spain')"
      ]
     },
     "execution_count": 66,
     "metadata": {},
     "output_type": "execute_result"
    }
   ],
   "source": [
    "Capital('Madrid', country='Spain')"
   ]
  },
  {
   "cell_type": "code",
   "execution_count": 67,
   "id": "58784c3f",
   "metadata": {},
   "outputs": [
    {
     "name": "stdout",
     "output_type": "stream",
     "text": [
      "Field(name='name',type=<class 'str'>,default=<dataclasses._MISSING_TYPE object at 0x7f9d61bac2b0>,default_factory=<dataclasses._MISSING_TYPE object at 0x7f9d61bac2b0>,init=True,repr=True,hash=None,compare=True,metadata=mappingproxy({}),_field_type=_FIELD)\n",
      "Field(name='lon',type=<class 'float'>,default=0.0,default_factory=<dataclasses._MISSING_TYPE object at 0x7f9d61bac2b0>,init=True,repr=True,hash=None,compare=True,metadata=mappingproxy({}),_field_type=_FIELD)\n",
      "Field(name='lat',type=<class 'float'>,default=40.0,default_factory=<dataclasses._MISSING_TYPE object at 0x7f9d61bac2b0>,init=True,repr=True,hash=None,compare=True,metadata=mappingproxy({}),_field_type=_FIELD)\n",
      "Field(name='country',type=<class 'str'>,default='Unknown',default_factory=<dataclasses._MISSING_TYPE object at 0x7f9d61bac2b0>,init=True,repr=True,hash=None,compare=True,metadata=mappingproxy({}),_field_type=_FIELD)\n"
     ]
    }
   ],
   "source": [
    "for f in fields(Capital): print(f)"
   ]
  },
  {
   "cell_type": "markdown",
   "id": "1a3ef29b",
   "metadata": {},
   "source": [
    "<a id='sect6'></a>\n",
    "## <font color='darkblue'>Optimizing Data Classes</font> ([back](#sect0))\n",
    "I’m going to end this tutorial with a few words about <b><a href='https://docs.python.org/reference/datamodel.html#slots'>slots</a></b>. Slots can be used to make classes faster and use less memory. Data classes have no explicit syntax for working with slots, but the normal way of creating slots works for data classes as well. (<font color='brown'>They really are just regular classes!</font>)"
   ]
  },
  {
   "cell_type": "code",
   "execution_count": 68,
   "id": "0e880309",
   "metadata": {},
   "outputs": [],
   "source": [
    "from dataclasses import dataclass\n",
    "\n",
    "@dataclass\n",
    "class SimplePosition:\n",
    "    name: str\n",
    "    lon: float\n",
    "    lat: float\n",
    "\n",
    "@dataclass\n",
    "class SlotPosition:\n",
    "    __slots__ = ['name', 'lon', 'lat']\n",
    "    name: str\n",
    "    lon: float\n",
    "    lat: float"
   ]
  },
  {
   "cell_type": "markdown",
   "id": "6bca2dcb",
   "metadata": {},
   "source": [
    "Essentially, slots are defined using .\\_\\_slots__ to list the variables on a class. Variables or attributes not present in .\\_\\_slots__ may not be defined. Furthermore, a slots class may not have default values.\n",
    "\n",
    "<b>The benefit of adding such restrictions is that certain optimizations may be done. For instance, slots classes take up less memory</b>, as can be measured using <b><a href='https://pythonhosted.org/Pympler/'>Pympler</a></b>:"
   ]
  },
  {
   "cell_type": "code",
   "execution_count": 69,
   "id": "19fb1bfb",
   "metadata": {},
   "outputs": [],
   "source": [
    "#!pip install pympler"
   ]
  },
  {
   "cell_type": "code",
   "execution_count": 70,
   "id": "8268ccbe",
   "metadata": {},
   "outputs": [
    {
     "data": {
      "text/plain": [
       "(424, 160)"
      ]
     },
     "execution_count": 70,
     "metadata": {},
     "output_type": "execute_result"
    }
   ],
   "source": [
    "from pympler import asizeof\n",
    "\n",
    "simple = SimplePosition('London', -0.1, 51.5)\n",
    "slot = SlotPosition('Madrid', -3.7, 40.4)\n",
    "asizeof.asizesof(simple, slot)\n",
    "# (424, 160)"
   ]
  },
  {
   "cell_type": "markdown",
   "id": "69e1df27",
   "metadata": {},
   "source": [
    "<b>Similarly, slots classes are typically faster to work with.</b> The following example measures the speed of attribute access on a slots data class and a regular data class using <b><a href='https://docs.python.org/3/library/timeit.html'>timeit</a></b> from the standard library."
   ]
  },
  {
   "cell_type": "code",
   "execution_count": 71,
   "id": "af7766ae",
   "metadata": {},
   "outputs": [
    {
     "data": {
      "text/plain": [
       "0.03253677603788674"
      ]
     },
     "execution_count": 71,
     "metadata": {},
     "output_type": "execute_result"
    }
   ],
   "source": [
    "from timeit import timeit\n",
    "\n",
    "timeit('slot.name', setup=\"slot=SlotPosition('Oslo', 10.8, 59.9)\", globals=globals())"
   ]
  },
  {
   "cell_type": "code",
   "execution_count": 72,
   "id": "79ba3aec",
   "metadata": {},
   "outputs": [
    {
     "data": {
      "text/plain": [
       "0.034331331960856915"
      ]
     },
     "execution_count": 72,
     "metadata": {},
     "output_type": "execute_result"
    }
   ],
   "source": [
    "timeit('simple.name', setup=\"simple=SimplePosition('Oslo', 10.8, 59.9)\", globals=globals())"
   ]
  },
  {
   "cell_type": "markdown",
   "id": "4faa2324",
   "metadata": {},
   "source": [
    "In this particular example, the slot class is about 35% faster."
   ]
  }
 ],
 "metadata": {
  "kernelspec": {
   "display_name": "Python 3 (ipykernel)",
   "language": "python",
   "name": "python3"
  },
  "language_info": {
   "codemirror_mode": {
    "name": "ipython",
    "version": 3
   },
   "file_extension": ".py",
   "mimetype": "text/x-python",
   "name": "python",
   "nbconvert_exporter": "python",
   "pygments_lexer": "ipython3",
   "version": "3.9.12"
  }
 },
 "nbformat": 4,
 "nbformat_minor": 5
}
