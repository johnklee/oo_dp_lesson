{
 "cells": [
  {
   "cell_type": "markdown",
   "id": "302d7feb",
   "metadata": {},
   "source": [
    "## <font color='darkblue'>Preface</font>\n",
    "(<a href='https://realpython.com/python-functional-programming/'>article source</a>) <b><a href='https://en.wikipedia.org/wiki/Functional_programming'>Functional programming</a></b> is a programming paradigm in which the primary method of computation is evaluation of functions. In this tutorial, you’ll explore functional programming in Python.\n",
    "\n",
    "Functional programming typically plays a fairly small role in Python code. But it’s good to be familiar with it. At a minimum, you’ll probably encounter it from time to time when reading code written by others. You may even find situations where it’s advantageous to use Python’s functional programming capabilities in your own code.\n",
    "\n",
    "In this tutorial, you’ll learn:\n",
    "* What the <b>functional programming</b> paradigm entails\n",
    "* What it means to say that functions are <b>first-class citizens</b> in Python\n",
    "* How to define <b>anonymous functions</b> with the lambda keyword\n",
    "* How to implement functional code using map(), filter(), and reduce()"
   ]
  },
  {
   "cell_type": "markdown",
   "id": "437da605",
   "metadata": {},
   "source": [
    "### <font color='darkgreen'>Agenda</font>\n",
    "* <font size='3ptx'><b><a href='#sect1'>What Is Functional Programming?</a></b></font>\n",
    "* <font size='3ptx'><b><a href='#sect2'>Function Programming in Python</a></b></font>\n",
    "* <font size='3ptx'><b><a href='#sect3'>HackerRank Samples</a></b></font>"
   ]
  },
  {
   "cell_type": "markdown",
   "id": "9ffdcc9c",
   "metadata": {},
   "source": [
    "<a id='sect1'></a>\n",
    "## <font color='darkblue'>What Is Functional Programming?</font>\n",
    "<b>A <font color='darkblue'>pure function</font> is a function whose output value follows solely from its input values, without any observable <a href='https://realpython.com/defining-your-own-python-function/#side-effects'>side effects</a>.</b> In <b>functional programming</b>, a program consists entirely of evaluation of pure functions. Computation proceeds by nested or <a href='https://en.wikipedia.org/wiki/Function_composition_(computer_science)'>composed function calls</a>, without changes to state or mutable data.\n",
    "\n",
    "The functional paradigm is popular because it <b>offers several advantages</b> over other programming paradigms. Functional code is:\n",
    "* <b>High level:</b> You’re describing the result you want rather than explicitly specifying the steps required to get there. Single statements tend to be concise but pack a lot of punch.\n",
    "* <b>Transparent:</b> The behavior of a pure function depends only on its inputs and outputs, without intermediary values. That eliminates the possibility of side effects, which facilitates <a href='https://realpython.com/python-debugging-pdb/'>debugging</a>.\n",
    "* <b>Parallelizable</b>: Routines that don’t cause side effects can more easily run in parallel with one another.\n",
    "\n",
    "<br/>\n",
    "Many programming languages support some degree of functional programming. In some languages, virtually all code follows the functional paradigm. <a href='https://www.haskell.org/'>Haskell</a> is one such example. Python, by contrast, does support functional programming but contains features of other programming models as well.\n",
    "\n",
    "While it’s true that an in-depth <a href='https://en.wikipedia.org/wiki/Functional_programming'>description of functional programming</a> is somewhat complex, <font size='3ptx'><b>the goal here isn’t to present a rigorous definition but to show you what you can do by way of functional programming in Python</b></font>.\n",
    "\n",
    "![fp_1](images/fp_1.PNG)\n",
    "<br/>"
   ]
  },
  {
   "cell_type": "markdown",
   "id": "a7a82c93",
   "metadata": {},
   "source": [
    "<a id='sect2'></a>\n",
    "## <font color='darkblue'>Function Programming in Python</font>\n",
    "* <font size='3ptx'><b><a href='#sect2_1'>Defining an Anonymous Function With `lambda`</a></b></font>\n",
    "* <font size='3ptx'><b><a href='#sect2_2'>Applying a Function to an Iterable With `map()`</a></b></font>\n",
    "* <font size='3ptx'><b><a href='#sect2_3'>Selecting Elements From an Iterable With `filter()`</a></b></font>\n",
    "* <font size='3ptx'><b><a href='#sect2_4'>Reducing an Iterable to a Single Value With `reduce()`</a></b></font>\n",
    "\n",
    "<b>To support functional programming, it’s useful if a <a href='https://realpython.com/defining-your-own-python-function/'>function</a> in a given programming language has two abilities</b>:\n",
    "\n",
    "1. To take another function as an argument\n",
    "2. To return another function to its caller\n",
    "\n",
    "<br/>\n",
    "Python plays nicely in both these respects. As we have known that <a href='https://realpython.com/python-variables/#object-references'>everything in a Python program is an object</a>. All objects in Python have more or less equal stature, and functions are no exception.\n",
    "\n",
    "<b>In Python, functions are <font color='darkblue'>first-class citizens</font></b>. That means functions have the same characteristics as values like <b><a href='https://realpython.com/python-strings/'>strings</a></b> and <b><a href='https://realpython.com/python-numbers/'>numbers</a></b>. Anything you would expect to be able to do with a string or number you can do with a function as well."
   ]
  },
  {
   "cell_type": "markdown",
   "id": "d908866f",
   "metadata": {},
   "source": [
    "<a id='sect2_1'></a>\n",
    "### <font color='darkgreen'>Defining an Anonymous Function With `lambda`</font>\n",
    "<b>Functional programming is all about calling functions and passing them around, so it naturally involves defining a lot of functions. You can always define a function in the usual way, using the <a href='https://realpython.com/defining-your-own-python-function/#function-calls-and-definition'>def</a> keyword as you have seen in previous tutorials in this series.</b>\n",
    "\n",
    "Sometimes, though, it’s convenient to be able to define an <b><font color='darkblue'>anonymous function</font></b> on the fly, without having to give it a name. In Python, you can do this with a <b><a href='https://docs.python.org/3/reference/expressions.html#lambda'>lambda expression</a></b>.\n",
    "\n",
    "The syntax of a lambda expression is as follows:\n",
    "```python\n",
    "lambda <parameter_list>: <expression>\n",
    "```\n",
    "\n",
    "<br/>\n",
    "The following table summarizes the parts of a lambda expression:\n",
    "\n",
    "![fp_2](images/fp_2.PNG)\n",
    "<br/>\n",
    "The value of a lambda expression is a <b><a href='https://docs.python.org/3/library/functions.html#callable'>callable</a></b> function, just like a function defined with the <i>def</i> keyword. It takes arguments, as specified by <i>\\<parameter_list></i>, and returns a value, as indicated by <i>\\<expression></i>.\n",
    "    \n",
    "Here’s a quick first example:    "
   ]
  },
  {
   "cell_type": "code",
   "execution_count": 1,
   "id": "d59e66af",
   "metadata": {},
   "outputs": [
    {
     "data": {
      "text/plain": [
       "<function __main__.<lambda>(s)>"
      ]
     },
     "execution_count": 1,
     "metadata": {},
     "output_type": "execute_result"
    }
   ],
   "source": [
    "lambda s: s[::-1]"
   ]
  },
  {
   "cell_type": "code",
   "execution_count": 2,
   "id": "907b6f3e",
   "metadata": {},
   "outputs": [
    {
     "data": {
      "text/plain": [
       "True"
      ]
     },
     "execution_count": 2,
     "metadata": {},
     "output_type": "execute_result"
    }
   ],
   "source": [
    "callable(lambda s: s[::-1])"
   ]
  },
  {
   "cell_type": "code",
   "execution_count": 3,
   "id": "f65d64f4",
   "metadata": {},
   "outputs": [
    {
     "data": {
      "text/plain": [
       "[3, 2, 1]"
      ]
     },
     "execution_count": 3,
     "metadata": {},
     "output_type": "execute_result"
    }
   ],
   "source": [
    "reverse_func = lambda s: s[::-1]\n",
    "reverse_func([1,2,3])"
   ]
  },
  {
   "cell_type": "code",
   "execution_count": 4,
   "id": "53d4eb8b",
   "metadata": {},
   "outputs": [
    {
     "data": {
      "text/plain": [
       "'CBA'"
      ]
     },
     "execution_count": 4,
     "metadata": {},
     "output_type": "execute_result"
    }
   ],
   "source": [
    "reverse_func('ABC')"
   ]
  },
  {
   "cell_type": "markdown",
   "id": "80462dd9",
   "metadata": {},
   "source": [
    "A lambda expression has its own local <a href='https://realpython.com/python-namespaces-scope/#namespaces-in-python'>namespace</a>, so the parameter names don’t conflict with identical names in the global namespace. <b>A lambda expression can access variables in the global namespace, but it can’t modify them</b>."
   ]
  },
  {
   "cell_type": "code",
   "execution_count": 5,
   "id": "825dfeb1",
   "metadata": {},
   "outputs": [
    {
     "data": {
      "text/plain": [
       "11"
      ]
     },
     "execution_count": 5,
     "metadata": {},
     "output_type": "execute_result"
    }
   ],
   "source": [
    "x = 10 # x in global namespace\n",
    "x_plus_one = lambda: x + 1  # Access x in global namespace\n",
    "x_plus_one()"
   ]
  },
  {
   "cell_type": "code",
   "execution_count": 6,
   "id": "733c852e",
   "metadata": {},
   "outputs": [
    {
     "data": {
      "text/plain": [
       "11"
      ]
     },
     "execution_count": 6,
     "metadata": {},
     "output_type": "execute_result"
    }
   ],
   "source": [
    "# x in global namespace won't be modifyed.\n",
    "x_plus_one()"
   ]
  },
  {
   "cell_type": "code",
   "execution_count": 7,
   "id": "8ce3e31d",
   "metadata": {},
   "outputs": [
    {
     "data": {
      "text/plain": [
       "13"
      ]
     },
     "execution_count": 7,
     "metadata": {},
     "output_type": "execute_result"
    }
   ],
   "source": [
    "x = 12\n",
    "x_plus_one()"
   ]
  },
  {
   "cell_type": "markdown",
   "id": "3238fdb5",
   "metadata": {},
   "source": [
    "Now you know how to define an anonymous function with lambda. For further reading on lambda functions, check out <a href='https://realpython.com/python-lambda/'>How to Use Python Lambda Functions</a>."
   ]
  },
  {
   "cell_type": "markdown",
   "id": "a3ab9ab0",
   "metadata": {},
   "source": [
    "<a id='sect2_2'></a>\n",
    "### <font color='darkgreen'><a href='https://realpython.com/python-functional-programming/#applying-a-function-to-an-iterable-with-map'>Applying a Function to an Iterable With `map()`</a></font>\n",
    "The first function on the docket is <a href='https://docs.python.org/3/library/functions.html#map'>map()</a>, which is a Python built-in function. With <a href='https://docs.python.org/3/library/functions.html#map'>map()</a>, you can apply a function to each element in an iterable in turn, and <a href='https://docs.python.org/3/library/functions.html#map'>map()</a> will return an iterator that yields the results. \n",
    "\n",
    "This can allow for some very concise code because a <a href='https://docs.python.org/3/library/functions.html#map'>map()</a> statement can often take the place of an explicit loop. The syntax for calling <a href='https://docs.python.org/3/library/functions.html#map'>map()</a> on a single iterable looks like this:\n",
    "\n",
    "```python\n",
    "map(<f>, <iterable>)\n",
    "```\n",
    "\n",
    "\n",
    "![fp_3](images/fp_3.PNG)\n",
    "<br/>\n",
    "Let's check a simple example:"
   ]
  },
  {
   "cell_type": "code",
   "execution_count": 8,
   "id": "75364f61",
   "metadata": {},
   "outputs": [],
   "source": [
    "i2f = {\n",
    "    'Beef': 'Hambuger',\n",
    "    'Sweet protato': 'Fries',\n",
    "    'Chicken': 'Fried chicken',\n",
    "    'Sweet corn': 'Popcorn'\n",
    "}\n",
    "\n",
    "cook = lambda i: i2f[i]"
   ]
  },
  {
   "cell_type": "code",
   "execution_count": 9,
   "id": "c8684c41",
   "metadata": {},
   "outputs": [],
   "source": [
    "ingredients = ['Beef', 'Sweet protato', 'Chicken', 'Sweet corn']"
   ]
  },
  {
   "cell_type": "code",
   "execution_count": 10,
   "id": "94965ede",
   "metadata": {},
   "outputs": [
    {
     "data": {
      "text/plain": [
       "<map at 0x7ff9c82070d0>"
      ]
     },
     "execution_count": 10,
     "metadata": {},
     "output_type": "execute_result"
    }
   ],
   "source": [
    "map(cook, ingredients)  # map will return a iterator (lazy evaluation)"
   ]
  },
  {
   "cell_type": "code",
   "execution_count": 11,
   "id": "aa1378dd",
   "metadata": {},
   "outputs": [
    {
     "data": {
      "text/plain": [
       "['Hambuger', 'Fries', 'Fried chicken', 'Popcorn']"
      ]
     },
     "execution_count": 11,
     "metadata": {},
     "output_type": "execute_result"
    }
   ],
   "source": [
    "food_list = list(map(cook, ingredients))\n",
    "food_list"
   ]
  },
  {
   "cell_type": "markdown",
   "id": "44225e9e",
   "metadata": {},
   "source": [
    "<a id='sect2_3'></a>\n",
    "### <font color='darkgreen'><a href='https://realpython.com/python-functional-programming/#selecting-elements-from-an-iterable-with-filter'>Selecting Elements From an Iterable With `filter()`</a></font>\n",
    "<a href='https://docs.python.org/3/library/functions.html#filter'>filter()</a> allows you to select or filter items from an iterable based on evaluation of the given function. It’s called as follows:\n",
    "\n",
    "```python\n",
    "filter(<f>, <iterable>)\n",
    "```\n",
    "\n",
    "![fp_3](images/fp_4.PNG)\n",
    "<br/>\n",
    "Let's check a simple example:"
   ]
  },
  {
   "cell_type": "code",
   "execution_count": 12,
   "id": "589e38b3",
   "metadata": {},
   "outputs": [
    {
     "data": {
      "text/plain": [
       "['Fries', 'Popcorn']"
      ]
     },
     "execution_count": 12,
     "metadata": {},
     "output_type": "execute_result"
    }
   ],
   "source": [
    "is_veg = lambda f: f in ['Fries', 'Popcorn']\n",
    "veg_food_list = list(filter(is_veg, food_list))\n",
    "veg_food_list"
   ]
  },
  {
   "cell_type": "markdown",
   "id": "78e61485",
   "metadata": {},
   "source": [
    "<a id='sect2_4'></a>\n",
    "### <font color='darkgreen'><a href='https://realpython.com/python-functional-programming/#reducing-an-iterable-to-a-single-value-with-reduce'>Reducing an Iterable to a Single Value With `reduce()`</a></font>\n",
    "<a href='https://docs.python.org/3/library/functools.html#functools.reduce'>reduce()</a> applies a function to the items in an iterable two at a time, progressively combining them to produce a single result:\n",
    "\n",
    "```python\n",
    "reduce(<f>, <iterable>)\n",
    "```\n",
    "\n",
    "![fp_5](images/fp_5.PNG)\n",
    "<br/>\n",
    "\n",
    "\n",
    "<a href='https://docs.python.org/3/library/functools.html#functools.reduce'>reduce()</a> was once a built-in function in Python. <a href='https://en.wikipedia.org/wiki/Guido_van_Rossum'>Guido van Rossum</a> apparently rather disliked <a href='https://docs.python.org/3/library/functools.html#functools.reduce'>reduce()</a> and advocated for its removal from the language entirely. Here’s what he had to say about it:\n",
    "> So now reduce(). This is actually the one I’ve always hated most, because, apart from a few examples involving + or *, almost every time I see a reduce() call with a non-trivial function argument, I need to grab pen and paper to diagram what’s actually being fed into that function before I understand what the reduce() is supposed to do. So in my mind, the applicability of reduce() is pretty much limited to associative operators, and in all other cases it’s better to write out the accumulation loop explicitly. (<a href='https://www.artima.com/weblogs/viewpost.jsp?thread=98196'>Source</a>)\n",
    "\n",
    "<br/>\n",
    "As you’ve seen, <a href='https://docs.python.org/3/library/functions.html#map'>map()</a> and <a href='https://docs.python.org/3/library/functions.html#filter'>filter()</a> remain built-in functions in Python. <a href='https://docs.python.org/3/library/functools.html#functools.reduce'>reduce()</a> is no longer a built-in function, but it’s available for import from a standard library module. To use <a href='https://docs.python.org/3/library/functools.html#functools.reduce'>reduce()</a>, you need to import it from a module called <b><a href='https://docs.python.org/3/library/functools.html#module-functools'>functools</a></b>. This is possible in several ways, but the following is the most straightforward:"
   ]
  },
  {
   "cell_type": "code",
   "execution_count": 13,
   "id": "9178916f",
   "metadata": {},
   "outputs": [],
   "source": [
    "from functools import reduce"
   ]
  },
  {
   "cell_type": "markdown",
   "id": "d8d54bbe",
   "metadata": {},
   "source": [
    "Let's check a simple example:"
   ]
  },
  {
   "cell_type": "code",
   "execution_count": 14,
   "id": "0fc2dbf7",
   "metadata": {},
   "outputs": [
    {
     "data": {
      "text/plain": [
       "24"
      ]
     },
     "execution_count": 14,
     "metadata": {},
     "output_type": "execute_result"
    }
   ],
   "source": [
    "# 4! = 24\n",
    "reduce(\n",
    "    lambda a, b: a * b,  # multi_func\n",
    "    [1, 2, 3, 4], # iterable object\n",
    "    1  # initializer\n",
    ")"
   ]
  },
  {
   "cell_type": "markdown",
   "id": "a43417ad",
   "metadata": {},
   "source": [
    "Another example with illustration:"
   ]
  },
  {
   "cell_type": "code",
   "execution_count": 15,
   "id": "2bfbc4b4",
   "metadata": {},
   "outputs": [
    {
     "data": {
      "text/plain": [
       "15"
      ]
     },
     "execution_count": 15,
     "metadata": {},
     "output_type": "execute_result"
    }
   ],
   "source": [
    "# If initializer is not given, the first item of iterable object is returned.\n",
    "f = lambda a, b: a+b\n",
    "reduce(\n",
    "    f, \n",
    "    [1, 2, 3, 4, 5]\n",
    ")"
   ]
  },
  {
   "cell_type": "markdown",
   "id": "087ff7f6",
   "metadata": {},
   "source": [
    "![reduce illustration](images/fp_6.PNG)\n",
    "<br/>"
   ]
  },
  {
   "cell_type": "markdown",
   "id": "bf85503b",
   "metadata": {},
   "source": [
    "<a id='sect3'></a>\n",
    "## <font color='darkblue'>HackerRank Sample</font>\n",
    "* <font size='3ptx'><b><a href='#sect3_1'>Ex1. gem-stones</a></b></font>\n",
    "* <font size='3ptx'><b><a href='#sect3_2'>Ex2. Permuting Two Arrays</a></b></font>\n",
    "\n",
    "接著我們來看看透過 FP 可以將問題如何簡潔的處理."
   ]
  },
  {
   "cell_type": "markdown",
   "id": "4c6eb64a",
   "metadata": {},
   "source": [
    "<a id='sect3_1'></a>\n",
    "### <font color='darkgreen'><a href='https://www.hackerrank.com/challenges/gem-stones/problem'>Ex1. gem-stones</a></font>\n",
    "![question1 explanation](images/fp_7.PNG)\n",
    "<br/>\n",
    "講白話就是找出那些元素在每個石頭都會出現.\n",
    "\n",
    "先來看一般解法, 演算法說明如下:\n",
    "1. 找出每個石頭的元素集合.\n",
    "2. 從每個石頭的元素集合, 找出每個石頭都存在的元素數目. (對集合進行 <b><a href='https://zh.wikipedia.org/zh-tw/%E4%BA%A4%E9%9B%86'>交集</a></b> 運算)"
   ]
  },
  {
   "cell_type": "code",
   "execution_count": 16,
   "id": "20a4a110",
   "metadata": {},
   "outputs": [],
   "source": [
    "arr = ['abcdde', 'baccd', 'eeabg']"
   ]
  },
  {
   "cell_type": "code",
   "execution_count": 17,
   "id": "a27dbf65",
   "metadata": {},
   "outputs": [],
   "source": [
    "def gemstones_imp(arr):\n",
    "    set_list = []\n",
    "    for s in arr:\n",
    "        set_list.append(set(s))\n",
    "        \n",
    "    cset = None\n",
    "    for eset in set_list:\n",
    "        if cset is None:\n",
    "            cset = eset\n",
    "        else:\n",
    "            cset = cset & eset\n",
    "            \n",
    "    return len(cset)"
   ]
  },
  {
   "cell_type": "code",
   "execution_count": 18,
   "id": "a3d1ac83",
   "metadata": {},
   "outputs": [
    {
     "name": "stdout",
     "output_type": "stream",
     "text": [
      "2\n"
     ]
    }
   ],
   "source": [
    "# All stones have element ['a', 'b']\n",
    "print(gemstones_imp(arr))"
   ]
  },
  {
   "cell_type": "markdown",
   "id": "ff7f49a5",
   "metadata": {},
   "source": [
    "接著來看看如果使用 FP (Functional Programming) 寫的代碼可以多簡潔: (這邊需要安裝 <b><a href='https://github.com/johnklee/fpu'>fpu</a></b> 模組)"
   ]
  },
  {
   "cell_type": "code",
   "execution_count": 33,
   "id": "9fc52267",
   "metadata": {},
   "outputs": [],
   "source": [
    "from fpu.flist import fl\n",
    "\n",
    "def gemstones_fp(arr):\n",
    "    return fl(arr).map(\n",
    "        lambda s: set(s)  # 1. 將每個 石頭 轉為 元素集合\n",
    "    ).reduce(\n",
    "        lambda a, b: a&b  # 2. 從 元素集合 找出 交集 的結果.\n",
    "    ).__len__()           # 3. 返回元素數目"
   ]
  },
  {
   "cell_type": "code",
   "execution_count": 34,
   "id": "4ffde3ba",
   "metadata": {},
   "outputs": [
    {
     "name": "stdout",
     "output_type": "stream",
     "text": [
      "2\n"
     ]
    }
   ],
   "source": [
    "print(gemstones_fp(arr))"
   ]
  },
  {
   "cell_type": "markdown",
   "id": "e14ed186",
   "metadata": {},
   "source": [
    "<a id='sect3_2'></a>\n",
    "### <font color='darkgreen'><a href='https://www.hackerrank.com/challenges/two-arrays/problem'>Ex2. Permuting Two Arrays</a></font>\n",
    "![ex2 explanation](images/fp_9.PNG)\n",
    "![ex2 explanation](images/fp_8.PNG)\n",
    "<br/>\n",
    "講白話就是給你兩個 array, 然後不管你怎麼重組這兩個 array, 接下來這兩個 array 每個位置上的元素相加要大於等於給定的 `k` 值.\n",
    "\n",
    "一樣先來看直覺解:"
   ]
  },
  {
   "cell_type": "code",
   "execution_count": 21,
   "id": "e66e7916",
   "metadata": {},
   "outputs": [],
   "source": [
    "datas = [\n",
    "    (10, [2, 1, 3], [7, 8, 9], True),\n",
    "    (5, [1, 2, 2, 1], [3, 3, 3, 4], False),\n",
    "    (2, [1]*1000000, [2]*1000000, True)\n",
    "]"
   ]
  },
  {
   "cell_type": "code",
   "execution_count": 22,
   "id": "7187ee96",
   "metadata": {},
   "outputs": [],
   "source": [
    "def two_arrays_imp(k, A, B):\n",
    "    sorted_a = sorted(A)\n",
    "    sorted_b = sorted(B, reverse=True)\n",
    "    \n",
    "    for a, b in zip(sorted_a, sorted_b):\n",
    "        if a + b < k:\n",
    "            return False\n",
    "        \n",
    "    return True"
   ]
  },
  {
   "cell_type": "code",
   "execution_count": 23,
   "id": "b0d2da5c",
   "metadata": {},
   "outputs": [
    {
     "name": "stdout",
     "output_type": "stream",
     "text": [
      "CPU times: user 49 ms, sys: 78.6 ms, total: 128 ms\n",
      "Wall time: 127 ms\n"
     ]
    }
   ],
   "source": [
    "%%time\n",
    "for k, A, B, ans in datas:\n",
    "    assert two_arrays_imp(k, A, B) == ans"
   ]
  },
  {
   "cell_type": "markdown",
   "id": "0bf9eaa5",
   "metadata": {},
   "source": [
    "接著是 FP 解:"
   ]
  },
  {
   "cell_type": "code",
   "execution_count": 37,
   "id": "897e8c26",
   "metadata": {},
   "outputs": [],
   "source": [
    "def two_arrays_fp(k, A, B):\n",
    "    sorted_a = sorted(A)\n",
    "    sorted_b = sorted(B, reverse=True)\n",
    "    return True if all(map(      # 3. 如果所有結果都是 True, 則返回 True\n",
    "        lambda t: sum(t) >= k,   # 2. 確認元素和大於 k 值\n",
    "        zip(sorted_a, sorted_b)  # 1. 依序取出兩個 array 的元素\n",
    "    )) else False                # 4. 否則返回 False"
   ]
  },
  {
   "cell_type": "code",
   "execution_count": 36,
   "id": "529d9163",
   "metadata": {},
   "outputs": [
    {
     "name": "stdout",
     "output_type": "stream",
     "text": [
      "CPU times: user 108 ms, sys: 11.5 ms, total: 119 ms\n",
      "Wall time: 118 ms\n"
     ]
    }
   ],
   "source": [
    "%%time\n",
    "for k, A, B, ans in datas:\n",
    "    assert two_arrays_fp(k, A, B) == ans"
   ]
  },
  {
   "cell_type": "markdown",
   "id": "a6111f4d",
   "metadata": {},
   "source": [
    "這邊你會發現 FP 的速度略比 一般解快. 原因是 <a href='https://docs.python.org/3/library/functions.html#map'>map</a> 函數是直接呼叫 native call (C 語言寫的), 所以會比在 Python 中的 loop 快."
   ]
  },
  {
   "cell_type": "markdown",
   "id": "36ac2b1a",
   "metadata": {},
   "source": [
    "## <font color='darkblue'>Supplement</font>\n",
    "* <a href='https://www.slideshare.net/secret/LzGWlNV17n3Qwn'>Introduction Function Programming in Python</a>"
   ]
  }
 ],
 "metadata": {
  "kernelspec": {
   "display_name": "Python 3",
   "language": "python",
   "name": "python3"
  },
  "language_info": {
   "codemirror_mode": {
    "name": "ipython",
    "version": 3
   },
   "file_extension": ".py",
   "mimetype": "text/x-python",
   "name": "python",
   "nbconvert_exporter": "python",
   "pygments_lexer": "ipython3",
   "version": "3.8.10"
  }
 },
 "nbformat": 4,
 "nbformat_minor": 5
}
