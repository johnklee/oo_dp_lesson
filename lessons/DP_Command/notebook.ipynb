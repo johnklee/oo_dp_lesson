{
 "cells": [
  {
   "cell_type": "markdown",
   "id": "b51af265",
   "metadata": {},
   "source": [
    "## <b><font color='darkblue'>Smart home application</font></b>\n",
    "考慮你在一家軟體公司上班, 這家公司最熱賣的產品的是 <b>SmartHome</b> App. 讓客戶可以有賓至如歸的感覺.\n",
    "\n",
    "考慮下面目前產品的實作:"
   ]
  },
  {
   "cell_type": "code",
   "execution_count": 1,
   "id": "3ff63e1d",
   "metadata": {},
   "outputs": [],
   "source": [
    "from typing import Protocol\n",
    "\n",
    "\n",
    "# 電器實作\n",
    "class Machine:\n",
    "  def turn_on(self):\n",
    "    print(f'Turn on {self.__class__.__name__}')\n",
    "    \n",
    "  def turn_off(self):\n",
    "    print(f'Turn off {self.__class__.__name__}')\n",
    "    \n",
    "\n",
    "class Lamp(Machine):\n",
    "  \"\"\" 檯燈 \"\"\"\n",
    "  \n",
    "  def adjust_light(self, brightness: int):\n",
    "    print(f'Adjust brightness to be {brightness}')\n",
    "    \n",
    "\n",
    "class AirCondr(Machine):\n",
    "  \"\"\" 空調 \"\"\"\n",
    "    \n",
    "  def adjust_temp(self, temp: int):\n",
    "    print(f'Adjust temperature to {temp} degree')\n",
    "    \n",
    "    \n",
    "class TV(Machine):\n",
    "  \"\"\" 電視 \"\"\"\n",
    "    \n",
    "  def switch_channel(self, channel: int):\n",
    "    print(f'Switch channel to {channel}')"
   ]
  },
  {
   "cell_type": "code",
   "execution_count": 2,
   "id": "1d9da5bb",
   "metadata": {},
   "outputs": [],
   "source": [
    "# 實例化 電器\n",
    "lamp = Lamp()\n",
    "air_condr = AirCondr()\n",
    "tv = TV()"
   ]
  },
  {
   "cell_type": "code",
   "execution_count": 3,
   "id": "14eb7b46",
   "metadata": {},
   "outputs": [],
   "source": [
    "# 公司的 SmartHome app 的抽象類別\n",
    "class SmartHome(Protocol):\n",
    "  \n",
    "  def __init__(self, lamp: Lamp, air_condr: AirCondr, tv: TV):\n",
    "    self._lamp = lamp\n",
    "    self._air_condr = air_condr\n",
    "    self._tv = tv\n",
    "    \n",
    "  def come_home(self):\n",
    "    pass\n",
    "  \n",
    "  def exit_home(self):\n",
    "    pass"
   ]
  },
  {
   "cell_type": "markdown",
   "id": "d98f6500",
   "metadata": {},
   "source": [
    "### <b><font color='darkgreen'>Customer A</font></b>\n",
    "* **Come Home**\n",
    "  - 打開檯燈\n",
    "  - 打開冷氣 並 調到 25 度\n",
    "* **Exit Home**\n",
    "  - 關閉檯燈\n",
    "  - 關閉冷氣"
   ]
  },
  {
   "cell_type": "code",
   "execution_count": 4,
   "id": "9e92cecf",
   "metadata": {},
   "outputs": [],
   "source": [
    "# 客戶 A\n",
    "class SmartHomeA(SmartHome):\n",
    "  \n",
    "  def come_home(self):\n",
    "    self._lamp.turn_on()\n",
    "    self._air_condr.turn_on()\n",
    "    self._air_condr.adjust_temp(25)\n",
    "    \n",
    "  def exit_home(self):\n",
    "    self._lamp.turn_off()\n",
    "    self._air_condr.turn_off()"
   ]
  },
  {
   "cell_type": "markdown",
   "id": "dccb3b7b",
   "metadata": {},
   "source": [
    "接著來測試一下我們的產品 A:"
   ]
  },
  {
   "cell_type": "code",
   "execution_count": 5,
   "id": "9e9d1bdc",
   "metadata": {},
   "outputs": [],
   "source": [
    "smart_home = SmartHomeA(lamp, air_condr, tv)"
   ]
  },
  {
   "cell_type": "code",
   "execution_count": 6,
   "id": "0c9718b0",
   "metadata": {},
   "outputs": [
    {
     "name": "stdout",
     "output_type": "stream",
     "text": [
      "Turn on Lamp\n",
      "Turn on AirCondr\n",
      "Adjust temperature to 25 degree\n"
     ]
    }
   ],
   "source": [
    "# 回家\n",
    "smart_home.come_home()"
   ]
  },
  {
   "cell_type": "code",
   "execution_count": 7,
   "id": "1b618c0d",
   "metadata": {},
   "outputs": [
    {
     "name": "stdout",
     "output_type": "stream",
     "text": [
      "Turn off Lamp\n",
      "Turn off AirCondr\n"
     ]
    }
   ],
   "source": [
    "# 離開家\n",
    "smart_home.exit_home()"
   ]
  },
  {
   "cell_type": "markdown",
   "id": "70d2b0d9",
   "metadata": {},
   "source": [
    "### <b><font color='darkgreen'>Customer B</font></b>\n",
    "* **Come Home**\n",
    "  - 打開檯燈\n",
    "  - 打開電視 並 轉到 65 台\n",
    "* **Exit Home**\n",
    "  - 關閉檯燈\n",
    "  - 關閉電視"
   ]
  },
  {
   "cell_type": "code",
   "execution_count": 8,
   "id": "7de655c9",
   "metadata": {},
   "outputs": [],
   "source": [
    "# 客戶 B\n",
    "class SmartHomeB(SmartHome):\n",
    "  \n",
    "  def come_home(self):\n",
    "    self._lamp.turn_on()\n",
    "    self._tv.turn_on()\n",
    "    self._tv.switch_channel(65)\n",
    "    \n",
    "  def exit_home(self):\n",
    "    self._lamp.turn_off()\n",
    "    self._tv.turn_off()"
   ]
  },
  {
   "cell_type": "markdown",
   "id": "bdec23a5",
   "metadata": {},
   "source": [
    "接著來測試一下我們的產品 B:"
   ]
  },
  {
   "cell_type": "code",
   "execution_count": 9,
   "id": "0db78e66",
   "metadata": {},
   "outputs": [],
   "source": [
    "smart_home = SmartHomeB(lamp, air_condr, tv)"
   ]
  },
  {
   "cell_type": "code",
   "execution_count": 10,
   "id": "c4f5a8b4",
   "metadata": {},
   "outputs": [
    {
     "name": "stdout",
     "output_type": "stream",
     "text": [
      "Turn on Lamp\n",
      "Turn on TV\n",
      "Switch channel to 65\n"
     ]
    }
   ],
   "source": [
    "# 回家\n",
    "smart_home.come_home()"
   ]
  },
  {
   "cell_type": "code",
   "execution_count": 11,
   "id": "8fec6809",
   "metadata": {},
   "outputs": [
    {
     "name": "stdout",
     "output_type": "stream",
     "text": [
      "Turn off Lamp\n",
      "Turn off TV\n"
     ]
    }
   ],
   "source": [
    "# 離開家\n",
    "smart_home.exit_home()"
   ]
  },
  {
   "cell_type": "markdown",
   "id": "309a1844",
   "metadata": {},
   "source": [
    "### <b><font color='darkgreen'>Requirement - TV 升級</font></b>\n",
    "客戶 B 要求升級 <b><font color='blue'>TV</font></b> 成 <b><font color='blue'>TV_Toshiba</font></b>"
   ]
  },
  {
   "cell_type": "code",
   "execution_count": 12,
   "id": "0762014f",
   "metadata": {},
   "outputs": [],
   "source": [
    "class TV_Toshiba(Machine):\n",
    "  \"\"\" Toshiba 電視 \"\"\"\n",
    "    \n",
    "  def change_channel(self, channel: int):\n",
    "    print(f'Change channel to {channel}')"
   ]
  },
  {
   "cell_type": "code",
   "execution_count": 13,
   "id": "7cc42dbe",
   "metadata": {},
   "outputs": [],
   "source": [
    "tv = TV_Toshiba()\n",
    "smart_home = SmartHomeB(lamp, air_condr, tv)"
   ]
  },
  {
   "cell_type": "code",
   "execution_count": 14,
   "id": "aa83ba0f",
   "metadata": {},
   "outputs": [
    {
     "name": "stdout",
     "output_type": "stream",
     "text": [
      "Turn on Lamp\n",
      "Turn on TV_Toshiba\n"
     ]
    },
    {
     "ename": "AttributeError",
     "evalue": "'TV_Toshiba' object has no attribute 'switch_channel'",
     "output_type": "error",
     "traceback": [
      "\u001b[0;31m---------------------------------------------------------------------------\u001b[0m",
      "\u001b[0;31mAttributeError\u001b[0m                            Traceback (most recent call last)",
      "Cell \u001b[0;32mIn[14], line 2\u001b[0m\n\u001b[1;32m      1\u001b[0m \u001b[38;5;66;03m# 回家 -> 爆炸 -> 客訴 ><\"\u001b[39;00m\n\u001b[0;32m----> 2\u001b[0m \u001b[43msmart_home\u001b[49m\u001b[38;5;241;43m.\u001b[39;49m\u001b[43mcome_home\u001b[49m\u001b[43m(\u001b[49m\u001b[43m)\u001b[49m\n",
      "Cell \u001b[0;32mIn[8], line 7\u001b[0m, in \u001b[0;36mSmartHomeB.come_home\u001b[0;34m(self)\u001b[0m\n\u001b[1;32m      5\u001b[0m \u001b[38;5;28mself\u001b[39m\u001b[38;5;241m.\u001b[39m_lamp\u001b[38;5;241m.\u001b[39mturn_on()\n\u001b[1;32m      6\u001b[0m \u001b[38;5;28mself\u001b[39m\u001b[38;5;241m.\u001b[39m_tv\u001b[38;5;241m.\u001b[39mturn_on()\n\u001b[0;32m----> 7\u001b[0m \u001b[38;5;28;43mself\u001b[39;49m\u001b[38;5;241;43m.\u001b[39;49m\u001b[43m_tv\u001b[49m\u001b[38;5;241;43m.\u001b[39;49m\u001b[43mswitch_channel\u001b[49m(\u001b[38;5;241m65\u001b[39m)\n",
      "\u001b[0;31mAttributeError\u001b[0m: 'TV_Toshiba' object has no attribute 'switch_channel'"
     ]
    }
   ],
   "source": [
    "# 回家 -> 爆炸 -> 客訴 ><\"\n",
    "smart_home.come_home()"
   ]
  },
  {
   "cell_type": "markdown",
   "id": "09644e4d",
   "metadata": {},
   "source": [
    "### <b><font color='darkgreen'>Requirement - 支援新電器</font></b>\n",
    "客戶 A 希望支援新電器音響 <b><font color='darkblue'>JBLBluetoothSpeaker</font></b>:"
   ]
  },
  {
   "cell_type": "code",
   "execution_count": 15,
   "id": "242e669d",
   "metadata": {},
   "outputs": [],
   "source": [
    "class JBLBluetoothSpeaker(Machine):\n",
    "  \"\"\" 藍芽喇叭 \"\"\"\n",
    "  \n",
    "  def adjust_volume(self, volume: int):\n",
    "    print(f'Adjust volume to be {volume}')"
   ]
  },
  {
   "cell_type": "code",
   "execution_count": 16,
   "id": "6d4177ce",
   "metadata": {},
   "outputs": [
    {
     "ename": "TypeError",
     "evalue": "SmartHome.__init__() takes 4 positional arguments but 5 were given",
     "output_type": "error",
     "traceback": [
      "\u001b[0;31m---------------------------------------------------------------------------\u001b[0m",
      "\u001b[0;31mTypeError\u001b[0m                                 Traceback (most recent call last)",
      "Cell \u001b[0;32mIn[16], line 3\u001b[0m\n\u001b[1;32m      1\u001b[0m \u001b[38;5;66;03m# 再次爆炸 -> 客訴 T_T\u001b[39;00m\n\u001b[1;32m      2\u001b[0m speaker \u001b[38;5;241m=\u001b[39m JBLBluetoothSpeaker()\n\u001b[0;32m----> 3\u001b[0m smart_home \u001b[38;5;241m=\u001b[39m \u001b[43mSmartHomeA\u001b[49m\u001b[43m(\u001b[49m\u001b[43mlamp\u001b[49m\u001b[43m,\u001b[49m\u001b[43m \u001b[49m\u001b[43mair_condr\u001b[49m\u001b[43m,\u001b[49m\u001b[43m \u001b[49m\u001b[43mtv\u001b[49m\u001b[43m,\u001b[49m\u001b[43m \u001b[49m\u001b[43mspeaker\u001b[49m\u001b[43m)\u001b[49m\n",
      "\u001b[0;31mTypeError\u001b[0m: SmartHome.__init__() takes 4 positional arguments but 5 were given"
     ]
    }
   ],
   "source": [
    "# 再次爆炸 -> 客訴 T_T\n",
    "speaker = JBLBluetoothSpeaker()\n",
    "smart_home = SmartHomeA(lamp, air_condr, tv, speaker)"
   ]
  },
  {
   "cell_type": "markdown",
   "id": "a5228a26",
   "metadata": {},
   "source": [
    "## <b><font color='darkblue'>DP - Command</font></b>\n",
    "總算進入到今天的主題 - [**Design pattern Command**](https://en.wikipedia.org/wiki/Command_pattern):\n",
    "> In object-oriented programming, the **command pattern** is a [behavioral design pattern](https://en.wikipedia.org/wiki/Behavioral_pattern) in which <b>an object is used to encapsulate all information needed to perform an action or trigger an event at a later time</b>. This information includes the method name, the object that owns the method and values for the method parameters.\n",
    "\n",
    "這是什麼意思？當Ａ要請求Ｂ執行任務時，Ａ會呼叫Ｂ然後Ｂ在完成任務，在這種情況下Ａ需直接和Ｂ進行溝通，就像Ａ是老闆，他要交代員工Ｂ去做事情一樣，如下圖。我們稱做 Ａ 為 <b>Invoker/Sender</b>，Ｂ為 <b>Reciver</b>。底下為此 pattern 的 UML class diagram:\n",
    "![class diagram](images/2.PNG)\n",
    "\n",
    "* **Command**:\t用來宣告執行操作的interface / abstract class。\n",
    "* **ConcreteCommand**:\t**Command** 的實體物件，通常會持有 Receiver，並呼叫 Receiver 的功能來完成命令要執行的操作。\n",
    "* **Receiver**(接收者):\t幹活的角色， 命令傳遞到被執行。\n",
    "* **Invoker**(請求者):\t接收並要求執行命令。\n",
    "* **Client**(裝配者):\t建立 Command Object，組裝 Command Object 和 Receiver"
   ]
  },
  {
   "cell_type": "markdown",
   "id": "e738751a",
   "metadata": {},
   "source": [
    "### <b><font color='darkgreen'>Smart Home App Refactoring</font></b>\n",
    "在重構 <b>SmartHome</b> App 之前, 我們有一些準備工作:"
   ]
  },
  {
   "cell_type": "code",
   "execution_count": 34,
   "id": "b9239328",
   "metadata": {},
   "outputs": [],
   "source": [
    "class Command(Protocol):\n",
    "  def execute(self):\n",
    "    pass\n",
    "  \n",
    "  \n",
    "class TurnOnTVCmd(Command):\n",
    "  def __init__(self, tv:TV, channel: int):\n",
    "    self._tv = tv\n",
    "    self._channel = channel\n",
    "    \n",
    "  def execute(self):\n",
    "    self._tv.turn_on()\n",
    "    self._tv.switch_channel(self._channel)\n",
    "    \n",
    "  def undo(self):\n",
    "    self._tv.turn_off()\n",
    "    \n",
    "    \n",
    "class TurnOnToshibaTVCmd(Command):\n",
    "  def __init__(self, tv:TV_Toshiba, channel: int):\n",
    "    self._tv = tv\n",
    "    self._channel = channel\n",
    "    \n",
    "  def execute(self):\n",
    "    self._tv.turn_on()\n",
    "    self._tv.change_channel(self._channel)\n",
    "    \n",
    "  def undo(self):\n",
    "    self._tv.turn_off()\n",
    "    \n",
    "    \n",
    "class TurnOnLamp(Command):\n",
    "  def __init__(self, lamp: Lamp):\n",
    "    self._lamp = lamp\n",
    "    \n",
    "  def execute(self):\n",
    "    self._lamp.turn_on()\n",
    "    \n",
    "  def undo(self):\n",
    "    self._lamp.turn_off()\n",
    "    \n",
    "    \n",
    "class TurnOnAirCondr(Command):\n",
    "  def __init__(self, air_condr: AirCondr, temp: int):\n",
    "    self._air_condr = air_condr\n",
    "    self._temp = temp\n",
    "    \n",
    "  def execute(self):\n",
    "    self._air_condr.turn_on()\n",
    "    self._air_condr.adjust_temp(self._temp)\n",
    "\n",
    "  def undo(self):\n",
    "    self._air_condr.turn_off()\n",
    "    \n",
    "    \n",
    "class TurnOnJBLSpeaker(Command):\n",
    "  def __init__(self, speaker: JBLBluetoothSpeaker, volume: int):\n",
    "    self._speaker = speaker\n",
    "    self._volume = volume\n",
    "    \n",
    "  def execute(self):\n",
    "    self._speaker.turn_on()\n",
    "    self._speaker.adjust_volume(self._volume)\n",
    "    \n",
    "  def undo(self):\n",
    "    self._speaker.turn_off()"
   ]
  },
  {
   "cell_type": "code",
   "execution_count": 25,
   "id": "bbae224d",
   "metadata": {},
   "outputs": [
    {
     "name": "stdout",
     "output_type": "stream",
     "text": [
      "Turn on TV\n",
      "Switch channel to 65\n"
     ]
    }
   ],
   "source": [
    "cmd = TurnOnTVCmd(TV(), 65)\n",
    "cmd.execute()"
   ]
  },
  {
   "cell_type": "code",
   "execution_count": 26,
   "id": "00268951",
   "metadata": {},
   "outputs": [
    {
     "name": "stdout",
     "output_type": "stream",
     "text": [
      "Turn off TV\n"
     ]
    }
   ],
   "source": [
    "cmd.undo()"
   ]
  },
  {
   "cell_type": "code",
   "execution_count": 30,
   "id": "5b83d6e6",
   "metadata": {},
   "outputs": [
    {
     "name": "stdout",
     "output_type": "stream",
     "text": [
      "Turn on TV_Toshiba\n",
      "Change channel to 65\n"
     ]
    }
   ],
   "source": [
    "cmd = TurnOnToshibaTVCmd(TV_Toshiba(), 65)\n",
    "cmd.execute()"
   ]
  },
  {
   "cell_type": "code",
   "execution_count": 31,
   "id": "b8cf0352",
   "metadata": {},
   "outputs": [
    {
     "name": "stdout",
     "output_type": "stream",
     "text": [
      "Turn off TV_Toshiba\n"
     ]
    }
   ],
   "source": [
    "cmd.undo()"
   ]
  },
  {
   "cell_type": "markdown",
   "id": "2f7e9a38",
   "metadata": {},
   "source": [
    "接著來重構我們的 <b>SmartHome</b>"
   ]
  },
  {
   "cell_type": "code",
   "execution_count": 37,
   "id": "41f308f2",
   "metadata": {},
   "outputs": [],
   "source": [
    "# 公司的 SmartHome app 類別\n",
    "class SmartHome(Protocol):\n",
    "  \n",
    "  def __init__(self, commands: list[Command]):\n",
    "    self._commands = commands\n",
    "    \n",
    "  def come_home(self):\n",
    "    for cmd in self._commands:\n",
    "      cmd.execute()\n",
    "  \n",
    "  def exit_home(self):\n",
    "    for cmd in self._commands:\n",
    "      cmd.undo()"
   ]
  },
  {
   "cell_type": "markdown",
   "id": "1b7d1400",
   "metadata": {},
   "source": [
    "### <b><font color='darkgreen'>Customer A</font></b>\n",
    "* **Come Home**\n",
    "  - 打開檯燈\n",
    "  - 打開冷氣 並 調到 25 度\n",
    "* **Exit Home**\n",
    "  - 關閉檯燈\n",
    "  - 關閉冷氣"
   ]
  },
  {
   "cell_type": "code",
   "execution_count": 38,
   "id": "a46c5101",
   "metadata": {},
   "outputs": [],
   "source": [
    "smart_home = SmartHome([\n",
    "  TurnOnLamp(lamp),\n",
    "  TurnOnAirCondr(air_condr, 25),\n",
    "])"
   ]
  },
  {
   "cell_type": "code",
   "execution_count": 39,
   "id": "82f37fb9",
   "metadata": {},
   "outputs": [
    {
     "name": "stdout",
     "output_type": "stream",
     "text": [
      "Turn on Lamp\n",
      "Turn on AirCondr\n",
      "Adjust temperature to 25 degree\n"
     ]
    }
   ],
   "source": [
    "# 回家\n",
    "smart_home.come_home()"
   ]
  },
  {
   "cell_type": "code",
   "execution_count": 40,
   "id": "4760a5b6",
   "metadata": {},
   "outputs": [
    {
     "name": "stdout",
     "output_type": "stream",
     "text": [
      "Turn off Lamp\n",
      "Turn off AirCondr\n"
     ]
    }
   ],
   "source": [
    "# 離開家\n",
    "smart_home.exit_home()"
   ]
  },
  {
   "cell_type": "markdown",
   "id": "7e347712",
   "metadata": {},
   "source": [
    "### <b><font color='darkgreen'>Customer B</font></b>\n",
    "* **Come Home**\n",
    "  - 打開檯燈\n",
    "  - 打開電視 並 轉到 65 台\n",
    "* **Exit Home**\n",
    "  - 關閉檯燈\n",
    "  - 關閉電視"
   ]
  },
  {
   "cell_type": "code",
   "execution_count": 44,
   "id": "3371625a",
   "metadata": {},
   "outputs": [],
   "source": [
    "smart_home = SmartHome([\n",
    "  TurnOnLamp(lamp),\n",
    "  TurnOnTVCmd(TV(), 65),\n",
    "])"
   ]
  },
  {
   "cell_type": "code",
   "execution_count": 45,
   "id": "9f5cc369",
   "metadata": {},
   "outputs": [
    {
     "name": "stdout",
     "output_type": "stream",
     "text": [
      "Turn on Lamp\n",
      "Turn on TV\n",
      "Switch channel to 65\n"
     ]
    }
   ],
   "source": [
    "# 回家\n",
    "smart_home.come_home()"
   ]
  },
  {
   "cell_type": "code",
   "execution_count": 46,
   "id": "f676cf21",
   "metadata": {},
   "outputs": [
    {
     "name": "stdout",
     "output_type": "stream",
     "text": [
      "Turn off Lamp\n",
      "Turn off TV\n"
     ]
    }
   ],
   "source": [
    "# 離開家\n",
    "smart_home.exit_home()"
   ]
  },
  {
   "cell_type": "markdown",
   "id": "d7a9a4b0",
   "metadata": {},
   "source": [
    "### <b><font color='darkgreen'>Customer B with Toshiba TV</font></b>\n",
    "* **Come Home**\n",
    "  - 打開檯燈\n",
    "  - 打開 Toshiba 電視 並 轉到 65 台\n",
    "* **Exit Home**\n",
    "  - 關閉檯燈\n",
    "  - 關閉電視"
   ]
  },
  {
   "cell_type": "code",
   "execution_count": 48,
   "id": "20e343f8",
   "metadata": {},
   "outputs": [],
   "source": [
    "smart_home = SmartHome([\n",
    "  TurnOnLamp(lamp),\n",
    "  TurnOnToshibaTVCmd(TV_Toshiba(), 65),\n",
    "])"
   ]
  },
  {
   "cell_type": "code",
   "execution_count": 49,
   "id": "009ec0e8",
   "metadata": {},
   "outputs": [
    {
     "name": "stdout",
     "output_type": "stream",
     "text": [
      "Turn on Lamp\n",
      "Turn on TV_Toshiba\n",
      "Change channel to 65\n"
     ]
    }
   ],
   "source": [
    "# 回家\n",
    "smart_home.come_home()"
   ]
  },
  {
   "cell_type": "code",
   "execution_count": 50,
   "id": "71188f82",
   "metadata": {},
   "outputs": [
    {
     "name": "stdout",
     "output_type": "stream",
     "text": [
      "Turn off Lamp\n",
      "Turn off TV_Toshiba\n"
     ]
    }
   ],
   "source": [
    "# 離開家\n",
    "smart_home.exit_home()"
   ]
  },
  {
   "cell_type": "markdown",
   "id": "02472a7b",
   "metadata": {},
   "source": [
    "### <b><font color='darkgreen'>Customer A with Speaker</font></b>\n",
    "* **Come Home**\n",
    "  - 打開檯燈\n",
    "  - 打開冷氣 並 調到 25 度\n",
    "  - 打開喇叭 並 調聲量到 30\n",
    "* **Exit Home**\n",
    "  - 關閉檯燈\n",
    "  - 關閉冷氣\n",
    "  - 關閉喇叭"
   ]
  },
  {
   "cell_type": "code",
   "execution_count": 52,
   "id": "08dc48f9",
   "metadata": {},
   "outputs": [],
   "source": [
    "smart_home = SmartHome([\n",
    "  TurnOnLamp(lamp),\n",
    "  TurnOnAirCondr(air_condr, 25),\n",
    "  TurnOnJBLSpeaker(JBLBluetoothSpeaker(), 30),\n",
    "])"
   ]
  },
  {
   "cell_type": "code",
   "execution_count": 53,
   "id": "4b9e9c14",
   "metadata": {},
   "outputs": [
    {
     "name": "stdout",
     "output_type": "stream",
     "text": [
      "Turn on Lamp\n",
      "Turn on AirCondr\n",
      "Adjust temperature to 25 degree\n",
      "Turn on JBLBluetoothSpeaker\n",
      "Adjust volume to be 30\n"
     ]
    }
   ],
   "source": [
    "# 回家\n",
    "smart_home.come_home()"
   ]
  },
  {
   "cell_type": "code",
   "execution_count": 54,
   "id": "56b56551",
   "metadata": {},
   "outputs": [
    {
     "name": "stdout",
     "output_type": "stream",
     "text": [
      "Turn off Lamp\n",
      "Turn off AirCondr\n",
      "Turn off JBLBluetoothSpeaker\n"
     ]
    }
   ],
   "source": [
    "# 離開家\n",
    "smart_home.exit_home()"
   ]
  },
  {
   "cell_type": "markdown",
   "id": "720989a8",
   "metadata": {},
   "source": [
    "## <b><font color='darkblue'>Supplement</font></b>\n",
    "* [iT邦幫忙 - 初探設計模式 - 命令模式 ( Command Pattern )](https://ithelp.ithome.com.tw/articles/10204425)\n",
    "```\n",
    "命令模式有幾個優點：\n",
    "* 它能較容易的設計一個命令序列。\n",
    "* 在需要的狀況下，可以較容易的將命令記入日誌。\n",
    "* 允許接收請求的一方決定是否要否決請求。\n",
    "* 可以容易的實現對請求的取消和重做。\n",
    "* 由於加進新的具體命令類別不影響其他類別，因此增加新的具體命令類別很容易。\n",
    "\n",
    "最後、最大的優點是將請求的物件和執行的物件分開。\n",
    "```\n",
    "\n",
    "* [Refactoring Guru - Command pattern](https://refactoring.guru/design-patterns/command)\n",
    "> <font size='3ptx'><b>Command is a behavioral design pattern</b> that turns a request into a stand-alone object that contains all information about the request</font>. This transformation lets you pass requests as a method arguments, delay or queue a request’s execution, and support undoable operations.\n",
    "![analog](images/1.PNG)\n",
    "\n",
    "* [Design Pattern 系列文章導讀 - 命令模式 | Command Pattern](https://ianjustin39.github.io/ianlife/design-pattern/command-pattern/)\n",
    "> 老闆(Sender)將任務封裝成備忘錄(Command)，然後秘書(Invoker)再經由備忘錄的工作事項分派任務給員工(Receiver)。如此一來老闆不需要知道是哪個員工執行，只需要秘書回報任務結果即可。\n",
    "\n",
    "* [Medium - Design Pattern: Behavioral Patterns — Command Pattern (命令模式)](https://medium.com/bucketing/behavioral-patterns-command-pattern-7e531c929fc3)\n",
    "> Chain of Responsibility將邏輯拆開，透過物件之間的連接做呼叫，物件間的聯就透過建構者或Dependency Inject注入。Commande Pattern比較偏向將一個物件原本的 method 拆解成一個個的 Command，而 Chain of Responsibility 的 Handler 粒度更大一點，更像是一個個完整邏輯的物件。"
   ]
  }
 ],
 "metadata": {
  "kernelspec": {
   "display_name": "Python 3 (ipykernel)",
   "language": "python",
   "name": "python3"
  },
  "language_info": {
   "codemirror_mode": {
    "name": "ipython",
    "version": 3
   },
   "file_extension": ".py",
   "mimetype": "text/x-python",
   "name": "python",
   "nbconvert_exporter": "python",
   "pygments_lexer": "ipython3",
   "version": "3.11.6"
  }
 },
 "nbformat": 4,
 "nbformat_minor": 5
}
