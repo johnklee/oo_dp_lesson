{
 "cells": [
  {
   "cell_type": "markdown",
   "id": "3a54d197",
   "metadata": {},
   "source": [
    "## <font color='darkblue'>Understanding the Python Mock Object Library</font>\n",
    "([article source](https://realpython.com/python-mock-library/)) <font size='3ptx'><b>When you’re writing robust code, tests are essential for verifying that your application logic is correct, reliable, and efficient. However, the value of your tests depends on how well they demonstrate these criteria.</b></font> Obstacles such as complex logic and unpredictable <b><a href='https://realpython.com/courses/managing-python-dependencies/'>dependencies</a></b> make writing valuable tests difficult. <b>The Python mock object library, <a href='https://docs.python.org/3/library/unittest.mock.html'>unittest.mock</a>, can help you overcome these obstacles</b>.\n",
    "\n",
    "By the end of this article, you’ll be able to:\n",
    "* Create Python mock objects using <b><a href='https://docs.python.org/3/library/unittest.mock.html#unittest.mock.Mock'>Mock</a></b>\n",
    "* Assert you’re using objects as you intended\n",
    "* Inspect usage data stored on your Python mocks\n",
    "* Configure certain aspects of your Python mock objects\n",
    "* Substitute your mocks for real objects using <a href='https://docs.python.org/3/library/unittest.mock.html#unittest.mock.patch'>patch()</a>\n",
    "* Avoid common problems inherent in Python mocking"
   ]
  },
  {
   "cell_type": "markdown",
   "id": "9f5b8acc",
   "metadata": {},
   "source": [
    "<a id='sect0'></a>\n",
    "### <font color='darkgreen'>Agenda</font>\n",
    "* <font size='3ptx'><a href='#sect1'><b>What Is Mocking?</b></a></font>\n",
    "* <font size='3ptx'><a href='#sect2'><b>The Python Mock Library</b></a></font>\n",
    "* <font size='3ptx'><a href='#sect3'><b>The Mock Object</b></a></font>\n",
    "* <font size='3ptx'><a href='#sect4'><b>patch()</b></a></font>\n",
    "* <font size='3ptx'><a href='#sect5'><b>Common Mocking Problems</b></a></font>\n",
    "* <font size='3ptx'><a href='#sect6'><b>Avoiding Common Problems Using Specifications</b></a></font>"
   ]
  },
  {
   "cell_type": "markdown",
   "id": "6ccb64f5",
   "metadata": {},
   "source": [
    "<a id='sect1'></a>\n",
    "## <font color='darkblue'>What Is Mocking?</font>\n",
    "<font size='3ptx'><b>A <a href='https://en.wikipedia.org/wiki/Mock_object'>mock object</a> substitutes and imitates a real object within a <a href='https://realpython.com/python-testing/'>testing environment</a>. It is a versatile and powerful tool for <a href='https://realpython.com/python-cli-testing/#mocks'>improving the quality of your tests</a>.</b></font> One reason to use Python mock objects is to control your code’s behavior during testing.\n",
    "\n",
    "For example, if your code makes <a href='https://realpython.com/python-requests/'>HTTP requests</a> to external services, then your tests execute predictably only so far as the services are behaving as you expected. Sometimes, <b>a temporary change in the behavior of these external services can cause intermittent failures within your test suite</b>.\n",
    "\n",
    "Because of this, <b>it would be better for you to test your code in a controlled environment. Replacing the actual request with a mock object would allow you to simulate external service outages and successful responses in a predictable way.</b>\n",
    "\n",
    "Sometimes, it is difficult to test certain areas of your codebase. Such areas include `except blocks` and `if statements` that are hard to satisfy. Using Python mock objects can help you control the execution path of your code to reach these areas and improve your <a href='https://en.wikipedia.org/wiki/Code_coverage'>code coverage</a>.\n",
    "\n",
    "<b>Another reason to use mock objects is to better understand how you’re using their real counterparts in your code</b>. A Python mock object contains data about its usage that you can inspect such as:\n",
    "* If you called a method\n",
    "* How you called the method\n",
    "* How often you called the method\n",
    "\n",
    "<b>Understanding what a <a href='https://docs.python.org/3/library/unittest.mock.html#module-unittest.mock'>mock object</a> does is the first step to learning how to use one.</b>"
   ]
  },
  {
   "cell_type": "markdown",
   "id": "d3cd4fce",
   "metadata": {},
   "source": [
    "<a id='sect2'></a>\n",
    "## <font color='darkblue'>The Python Mock Library</font> ([back](#sect0))\n",
    "The Python mock object library is <b><a href='https://docs.python.org/3/library/unittest.mock.html'>unittest.mock</a></b>. It provides an easy way to introduce mocks into your tests.\n",
    "\n",
    "<b><font color='darkred'>Note:</font></b> The standard library includes unittest.mock in Python 3.3 and later. If you’re using an older version of Python, you’ll need to install the official backport of the library. To do so, install mock from PyPI:\n",
    "```python\n",
    "$ pip install mock\n",
    "```\n",
    "<br/>\n",
    "\n",
    "<b><a href='https://docs.python.org/3/library/unittest.mock.html'>unittest.mock</a></b> provides a class called <b><a href='https://docs.python.org/3/library/unittest.mock.html#unittest.mock.Mock'>Mock</a></b> which you will use to imitate real objects in your codebase. Mock offers incredible flexibility and insightful data. This, along with its subclasses, will meet most Python mocking needs that you will face in your tests.\n",
    "\n",
    "The library also provides a function, called <a href='https://docs.python.org/3/library/unittest.mock.html#unittest.mock.patch'>patch()</a>, <b>which replaces the real objects in your code with <a href='https://docs.python.org/3/library/unittest.mock.html#unittest.mock.Mock'>Mock</a> instances</b>. You can use <a href='https://docs.python.org/3/library/unittest.mock.html#unittest.mock.patch'>patch()</a> as either a decorator or a context manager, giving you control over the scope in which the object will be mocked. Once the designated scope exits, <a href='https://docs.python.org/3/library/unittest.mock.html#unittest.mock.patch'>patch()</a> will clean up your code by replacing the mocked objects with their original counterparts.\n",
    "\n",
    "Finally, <b><a href='https://docs.python.org/3/library/unittest.mock.html'>unittest.mock</a></b> provides solutions for some of the issues inherent in mocking objects.\n",
    "\n",
    "Now, you have a better understanding of what mocking is and the library you’ll be using to do it. Let’s dive in and explore what features and functionalities <b><a href='https://docs.python.org/3/library/unittest.mock.html'>unittest.mock</a></b> offers."
   ]
  },
  {
   "cell_type": "markdown",
   "id": "2d6d1ded",
   "metadata": {},
   "source": [
    "<a id='sect3'></a>\n",
    "## <font color='darkblue'>The `Mock` Object</font> ([back](#sect0))\n",
    "* <b><a href='#sect3_1'>Lazy Attributes and Methods</a></b>\n",
    "* <b><a href='#sect3_2'>Assertions and Inspection</a></b>\n",
    "* <b><a href='#sect3_3'>Managing a Mock’s Return Value</a></b>\n",
    "* <b><a href='#sect3_4'>Managing a Mock’s Side Effects</a></b>\n",
    "* <b><a href='#sect3_5'>Configuring Your Mock</a></b>\n",
    "<br/>\n",
    "\n",
    "<font size='3ptx'><b><a href='https://docs.python.org/3/library/unittest.mock.html'>unittest.mock</a></b> offers a base class for mocking objects called <a href='https://docs.python.org/3/library/unittest.mock.html#unittest.mock.Mock'>Mock</a>. The use cases for <a href='https://docs.python.org/3/library/unittest.mock.html#unittest.mock.Mock'>Mock</a> are practically limitless because <a href='https://docs.python.org/3/library/unittest.mock.html#unittest.mock.Mock'>Mock</a> is so flexible.</font> Begin by instantiating a new <a href='https://docs.python.org/3/library/unittest.mock.html#unittest.mock.Mock'>Mock</a> instance:"
   ]
  },
  {
   "cell_type": "code",
   "execution_count": 1,
   "id": "7a3c3ce6",
   "metadata": {},
   "outputs": [
    {
     "data": {
      "text/plain": [
       "<Mock id='139792934590064'>"
      ]
     },
     "execution_count": 1,
     "metadata": {},
     "output_type": "execute_result"
    }
   ],
   "source": [
    "from unittest.mock import Mock\n",
    "\n",
    "mock = Mock()\n",
    "mock"
   ]
  },
  {
   "cell_type": "markdown",
   "id": "318e9bab",
   "metadata": {},
   "source": [
    "<b>Now, you are able to substitute an object in your code with your new <a href='https://docs.python.org/3/library/unittest.mock.html#unittest.mock.Mock'>Mock</a></b>. You can do this by passing it as an argument to a function or by redefining another object:\n",
    "```python\n",
    "# Pass mock as an argument to do_something()\n",
    "do_something(mock)\n",
    "\n",
    "# Patch the json library\n",
    "json = mock\n",
    "```\n",
    "<br/>\n",
    "\n",
    "When you substitute an object in your code, the <b><a href='https://docs.python.org/3/library/unittest.mock.html#unittest.mock.Mock'>Mock</a></b> must look like the real object it is replacing. Otherwise, your code will not be able to use the <b><a href='https://docs.python.org/3/library/unittest.mock.html#unittest.mock.Mock'>Mock</a></b> in place of the original object. For example, if you are mocking the <b><a href='https://docs.python.org/3/library/json.html'>json</a></b> library and your program calls <font color='blue'>dumps()</font>, then your Python mock object must also contain <font color='blue'>dumps()</font>. Next, you’ll see how <b><a href='https://docs.python.org/3/library/unittest.mock.html#unittest.mock.Mock'>Mock</a></b> deals with this challenge."
   ]
  },
  {
   "cell_type": "markdown",
   "id": "99ab90d2",
   "metadata": {},
   "source": [
    "<a id='sect3_1'></a>\n",
    "### <font color='darkgreen'>Lazy Attributes and Methods</font>\n",
    "<font size='3ptx'><b>A Mock must simulate any object that it replaces</b></font>. To achieve such flexibility, it creates its attributes when you access them:"
   ]
  },
  {
   "cell_type": "code",
   "execution_count": 2,
   "id": "f9c1fbc6",
   "metadata": {},
   "outputs": [
    {
     "data": {
      "text/plain": [
       "<Mock name='mock.some_attribute' id='139792933705280'>"
      ]
     },
     "execution_count": 2,
     "metadata": {},
     "output_type": "execute_result"
    }
   ],
   "source": [
    "mock.some_attribute"
   ]
  },
  {
   "cell_type": "code",
   "execution_count": 3,
   "id": "729651ea",
   "metadata": {},
   "outputs": [
    {
     "data": {
      "text/plain": [
       "<Mock name='mock.do_something()' id='139792933705904'>"
      ]
     },
     "execution_count": 3,
     "metadata": {},
     "output_type": "execute_result"
    }
   ],
   "source": [
    "mock.do_something()"
   ]
  },
  {
   "cell_type": "markdown",
   "id": "a8256257",
   "metadata": {},
   "source": [
    "Since <b><a href='https://docs.python.org/3/library/unittest.mock.html#unittest.mock.Mock'>Mock</a></b> can create arbitrary attributes on the fly, it is suitable to replace any object.\n",
    "\n",
    "Using an example from earlier, if you’re mocking the <b><a href='https://docs.python.org/3/library/json.html'>json</a></b> library and you call <font color='blue'>dumps()</font>, the Python mock object will create the method so that its interface can match the library’s interface:"
   ]
  },
  {
   "cell_type": "code",
   "execution_count": 4,
   "id": "fc6d1d44",
   "metadata": {},
   "outputs": [
    {
     "data": {
      "text/plain": [
       "<Mock name='mock.dumps()' id='139792933706432'>"
      ]
     },
     "execution_count": 4,
     "metadata": {},
     "output_type": "execute_result"
    }
   ],
   "source": [
    "json = Mock()\n",
    "json.dumps()"
   ]
  },
  {
   "cell_type": "markdown",
   "id": "5d78a800",
   "metadata": {},
   "source": [
    "Notice two key characteristics of this mocked version of <font color='blue'>dumps()</font>:\n",
    "1. Unlike the <a href='https://realpython.com/python-json/#serializing-json'>real dumps()</a>, this mocked method <b>requires no arguments. In fact, it will accept any arguments that you pass to it</b>.\n",
    "2. <b>The return value of <font color='blue'>dumps()</font> is also a Mock</b>. The capability of Mock to recursively define other mocks allows for you to use mocks in complex situations:"
   ]
  },
  {
   "cell_type": "code",
   "execution_count": 5,
   "id": "8a44a191",
   "metadata": {},
   "outputs": [
    {
     "data": {
      "text/plain": [
       "<Mock name='mock.loads().get()' id='139792933707728'>"
      ]
     },
     "execution_count": 5,
     "metadata": {},
     "output_type": "execute_result"
    }
   ],
   "source": [
    "json = Mock()\n",
    "json.loads('{\"k\": \"v\"}').get('k')"
   ]
  },
  {
   "cell_type": "markdown",
   "id": "db7ee1d9",
   "metadata": {},
   "source": [
    "Because the return value of each mocked method is also a <b><a href='https://docs.python.org/3/library/unittest.mock.html#unittest.mock.Mock'>Mock</a></b>, you can use your mocks in a multitude of ways.\n",
    "\n",
    "Mocks are flexible, but they’re also informative. Next, you’ll learn how you can use mocks to understand your code better."
   ]
  },
  {
   "cell_type": "markdown",
   "id": "3a09f532",
   "metadata": {},
   "source": [
    "<a id='sect3_2'></a>\n",
    "### <font color='darkgreen'>Assertions and Inspection</font>\n",
    "<b><a href='https://docs.python.org/3/library/unittest.mock.html#unittest.mock.Mock'>Mock</a></b> instances store data on how you used them. For instance, you can see if you called a method, how you called the method, and so on. There are two main ways to use this information.\n",
    "\n",
    "First, you can <b>assert that your program used an object as you expected</b>:"
   ]
  },
  {
   "cell_type": "code",
   "execution_count": 7,
   "id": "3ab6f73b",
   "metadata": {},
   "outputs": [
    {
     "data": {
      "text/plain": [
       "<Mock name='mock.loads()' id='139792933323344'>"
      ]
     },
     "execution_count": 7,
     "metadata": {},
     "output_type": "execute_result"
    }
   ],
   "source": [
    "from unittest.mock import Mock\n",
    "\n",
    "# Create a mock object\n",
    "json = Mock()\n",
    "\n",
    "json.loads('{\"key\": \"value\"}')"
   ]
  },
  {
   "cell_type": "code",
   "execution_count": 8,
   "id": "de8ff144",
   "metadata": {},
   "outputs": [
    {
     "data": {
      "text/plain": [
       "<Mock name='mock.loads()' id='139792933323344'>"
      ]
     },
     "execution_count": 8,
     "metadata": {},
     "output_type": "execute_result"
    }
   ],
   "source": [
    "# You know that you called loads() so you can\n",
    "# make assertions to test that expectation\n",
    "json.loads.assert_called()\n",
    "json.loads.assert_called_once()\n",
    "json.loads.assert_called_with('{\"key\": \"value\"}')\n",
    "json.loads.assert_called_once_with('{\"key\": \"value\"}')\n",
    "\n",
    "json.loads('{\"key\": \"value\"}')"
   ]
  },
  {
   "cell_type": "markdown",
   "id": "5b2be954",
   "metadata": {},
   "source": [
    "Assertion failure situations:\n",
    "```python\n",
    ">>> # If an assertion fails, the mock will raise an AssertionError\n",
    "... json.loads.assert_called_once()\n",
    "Traceback (most recent call last):\n",
    "  File \"<stdin>\", line 1, in <module>\n",
    "  File \"/usr/local/Cellar/python/3.6.5/Frameworks/Python.framework/Versions/3.6/lib/python3.6/unittest/mock.py\", line 795, in assert_called_once\n",
    "    raise AssertionError(msg)\n",
    "AssertionError: Expected 'loads' to have been called once. Called 2 times.\n",
    "\n",
    ">>> json.loads.assert_called_once_with('{\"key\": \"value\"}')\n",
    "Traceback (most recent call last):\n",
    "  File \"<stdin>\", line 1, in <module>\n",
    "  File \"/usr/local/Cellar/python/3.6.5/Frameworks/Python.framework/Versions/3.6/lib/python3.6/unittest/mock.py\", line 824, in assert_called_once_with\n",
    "    raise AssertionError(msg)\n",
    "AssertionError: Expected 'loads' to be called once. Called 2 times.\n",
    "\n",
    ">>> json.loads.assert_not_called()\n",
    "Traceback (most recent call last):\n",
    "  File \"<stdin>\", line 1, in <module>\n",
    "  File \"/usr/local/Cellar/python/3.6.5/Frameworks/Python.framework/Versions/3.6/lib/python3.6/unittest/mock.py\", line 777, in assert_not_called\n",
    "    raise AssertionError(msg)\n",
    "AssertionError: Expected 'loads' to not have been called. Called 2 times.\n",
    "```\n",
    "<br/>\n",
    "\n",
    "<a href='https://docs.python.org/3/library/unittest.mock.html#unittest.mock.Mock.assert_called'>.assert_called()</a> ensures you called the mocked method while <a href='https://docs.python.org/3/library/unittest.mock.html#unittest.mock.Mock.assert_called_once'>.assert_called_once()</a> checks that you called the method exactly one time. Both assertion functions have variants that let you inspect the arguments passed to the mocked method:\n",
    "* <a href='https://docs.python.org/3/library/unittest.mock.html#unittest.mock.Mock.assert_called_with'>.assert_called_with(*args, **kwargs)</a>\n",
    "* <a href='https://docs.python.org/3/library/unittest.mock.html#unittest.mock.Mock.assert_called_once_with'>.assert_called_once_with(*args, **kwargs)</a>\n",
    "\n",
    "To pass these assertions, you must call the mocked method with the same arguments that you pass to the actual method:\n",
    "```python\n",
    ">>> json = Mock()\n",
    ">>> json.loads(s='{\"key\": \"value\"}')\n",
    ">>> json.loads.assert_called_with('{\"key\": \"value\"}')\n",
    "Traceback (most recent call last):\n",
    "  File \"<stdin>\", line 1, in <module>\n",
    "  File \"/usr/local/Cellar/python/3.6.5/Frameworks/Python.framework/Versions/3.6/lib/python3.6/unittest/mock.py\", line 814, in assert_called_with\n",
    "    raise AssertionError(_error_message()) from cause\n",
    "AssertionError: Expected call: loads('{\"key\": \"value\"}')\n",
    "Actual call: loads(s='{\"key\": \"value\"}')\n",
    ">>> json.loads.assert_called_with(s='{\"key\": \"value\"}')\n",
    "```\n",
    "<br/>\n",
    "\n",
    "<font color='blue'>json.loads.assert_called_with('{\"key\": \"value\"}')</font> raised an <b><a href='https://docs.python.org/3/library/exceptions.html#AssertionError'>AssertionError</a></b> because it expected you to call <font color='blue'>loads()</font> with a positional argument, but you actually called it with a keyword argument. <font color='blue'>json.loads.assert_called_with(s='{\"key\": \"value\"}')</font> gets this assertion correct.\n",
    "\n",
    "Second, you can view special attributes to understand how your application used an object:"
   ]
  },
  {
   "cell_type": "code",
   "execution_count": 9,
   "id": "5962b3bc",
   "metadata": {},
   "outputs": [
    {
     "data": {
      "text/plain": [
       "<Mock name='mock.loads()' id='139792933324208'>"
      ]
     },
     "execution_count": 9,
     "metadata": {},
     "output_type": "execute_result"
    }
   ],
   "source": [
    "from unittest.mock import Mock\n",
    "\n",
    "# Create a mock object\n",
    "json = Mock()\n",
    "json.loads('{\"key\": \"value\"}')"
   ]
  },
  {
   "cell_type": "code",
   "execution_count": 10,
   "id": "0e282827",
   "metadata": {},
   "outputs": [
    {
     "data": {
      "text/plain": [
       "1"
      ]
     },
     "execution_count": 10,
     "metadata": {},
     "output_type": "execute_result"
    }
   ],
   "source": [
    "# Number of times you called loads():\n",
    "json.loads.call_count"
   ]
  },
  {
   "cell_type": "code",
   "execution_count": 11,
   "id": "672c90bb",
   "metadata": {},
   "outputs": [
    {
     "data": {
      "text/plain": [
       "call('{\"key\": \"value\"}')"
      ]
     },
     "execution_count": 11,
     "metadata": {},
     "output_type": "execute_result"
    }
   ],
   "source": [
    "# The last loads() call:\n",
    "json.loads.call_args"
   ]
  },
  {
   "cell_type": "code",
   "execution_count": 12,
   "id": "88b91df4",
   "metadata": {},
   "outputs": [
    {
     "data": {
      "text/plain": [
       "[call('{\"key\": \"value\"}')]"
      ]
     },
     "execution_count": 12,
     "metadata": {},
     "output_type": "execute_result"
    }
   ],
   "source": [
    "# List of loads() calls:\n",
    "json.loads.call_args_list"
   ]
  },
  {
   "cell_type": "code",
   "execution_count": 13,
   "id": "a431a6eb",
   "metadata": {},
   "outputs": [
    {
     "data": {
      "text/plain": [
       "[call.loads('{\"key\": \"value\"}')]"
      ]
     },
     "execution_count": 13,
     "metadata": {},
     "output_type": "execute_result"
    }
   ],
   "source": [
    "# List of calls to json's methods (recursively):\n",
    "json.method_calls"
   ]
  },
  {
   "cell_type": "markdown",
   "id": "704c92ca",
   "metadata": {},
   "source": [
    "You can write tests using these attributes to make sure that your objects behave as you intended.\n",
    "\n",
    "Now, you can create mocks and inspect their usage data. <b>Next, you’ll see how to customize mocked methods so that they become more useful in your testing environment.</b>"
   ]
  },
  {
   "cell_type": "markdown",
   "id": "0df331f9",
   "metadata": {},
   "source": [
    "<a id='sect3_3'></a>\n",
    "### <font color='darkgreen'>Managing a Mock’s Return Value</font>\n",
    "<font size='3ptx'><b>One reason to use mocks is to control your code’s behavior during tests. One way to do this is to specify a function’s <a href='https://docs.python.org/3/library/unittest.mock.html#unittest.mock.Mock.return_value'>return value</a>. Let’s use an example to see how this works.</b></font>\n",
    "\n",
    "First, create a file called <font color='olive'>my_calendar.py</font>. Add <font color='blue'>is_weekday()</font>, a function that uses Python’s <b><a href='https://docs.python.org/3/library/datetime.html'>datetime</a></b> library to determine whether or not today is a week day. Finally, write a test that asserts that the function works as expected:\n",
    "```python\n",
    "from datetime import datetime\n",
    "\n",
    "def is_weekday():\n",
    "    today = datetime.today()\n",
    "    # Python's datetime library treats Monday as 0 and Sunday as 6\n",
    "    return (0 <= today.weekday() < 5)\n",
    "\n",
    "# Test if today is a weekday\n",
    "assert is_weekday()\n",
    "```\n",
    "<br/>\n",
    "\n",
    "Since you’re testing if today is a weekday, the result depends on the day you run your test:\n",
    "```console\n",
    "$ python my_calendar.py\n",
    "```\n",
    "<br/>\n",
    "\n",
    "If this command produces no output, the assertion was successful. Unfortunately, if you run the command on a weekend, you’ll get an <b><a href='https://docs.python.org/3/library/exceptions.html#AssertionError'>AssertionError</a></b>:\n",
    "```console\n",
    "$ python my_calendar.py\n",
    "Traceback (most recent call last):\n",
    "  File \"test.py\", line 9, in <module>\n",
    "    assert is_weekday()\n",
    "AssertionError\n",
    "```\n",
    "<br/>\n",
    "\n",
    "<b>When writing tests, it is important to ensure that the results are predictable</b>. You can use <b><a href='https://docs.python.org/3/library/unittest.mock.html#unittest.mock.Mock'>Mock</a></b> to eliminate uncertainty from your code during testing. In this case, you can mock <b><a href='https://docs.python.org/3/library/datetime.html'>datetime</a></b> and set the <font color='blue'>.return_value</font> for <font color='blue'>.today()</font> to a day that you choose:"
   ]
  },
  {
   "cell_type": "code",
   "execution_count": 36,
   "id": "809e3ed2",
   "metadata": {},
   "outputs": [],
   "source": [
    "import datetime\n",
    "from unittest.mock import Mock"
   ]
  },
  {
   "cell_type": "code",
   "execution_count": 30,
   "id": "1723df3c",
   "metadata": {},
   "outputs": [
    {
     "data": {
      "text/plain": [
       "datetime.datetime(2021, 10, 17, 10, 4, 6, 278115)"
      ]
     },
     "execution_count": 30,
     "metadata": {},
     "output_type": "execute_result"
    }
   ],
   "source": [
    "datetime.datetime.today()"
   ]
  },
  {
   "cell_type": "code",
   "execution_count": 28,
   "id": "44513305",
   "metadata": {},
   "outputs": [],
   "source": [
    "def is_weekday_local():\n",
    "    today = datetime.datetime.today()\n",
    "    # Python's datetime library treats Monday as 0 and Sunday as 6\n",
    "    return (0 <= today.weekday() < 5)"
   ]
  },
  {
   "cell_type": "code",
   "execution_count": 37,
   "id": "14f53979",
   "metadata": {},
   "outputs": [],
   "source": [
    "####################\n",
    "# Arrange\n",
    "####################\n",
    "# Save a couple of test days\n",
    "tuesday = datetime.datetime(year=2019, month=1, day=1)\n",
    "saturday = datetime.datetime(year=2019, month=1, day=5)\n",
    "\n",
    "# Mock datetime to control today's date\n",
    "datetime = Mock()"
   ]
  },
  {
   "cell_type": "code",
   "execution_count": 39,
   "id": "c8a12d25",
   "metadata": {},
   "outputs": [
    {
     "data": {
      "text/plain": [
       "datetime.datetime(2019, 1, 1, 0, 0)"
      ]
     },
     "execution_count": 39,
     "metadata": {},
     "output_type": "execute_result"
    }
   ],
   "source": [
    "# Arrange: Mock .today() to return Tuesday\n",
    "datetime.datetime.today = Mock(return_value=tuesday)\n",
    "datetime.datetime.today()"
   ]
  },
  {
   "cell_type": "code",
   "execution_count": 40,
   "id": "890092d9",
   "metadata": {},
   "outputs": [],
   "source": [
    "# Act & Assert: Test Tuesday is a weekday\n",
    "assert is_weekday_local()"
   ]
  },
  {
   "cell_type": "code",
   "execution_count": 43,
   "id": "1524b134",
   "metadata": {},
   "outputs": [
    {
     "data": {
      "text/plain": [
       "datetime.datetime(2019, 1, 5, 0, 0)"
      ]
     },
     "execution_count": 43,
     "metadata": {},
     "output_type": "execute_result"
    }
   ],
   "source": [
    "# Arrange: Mock .today() to return Saturday\n",
    "datetime.datetime.today.return_value = saturday\n",
    "datetime.datetime.today()"
   ]
  },
  {
   "cell_type": "code",
   "execution_count": 44,
   "id": "6812ff4a",
   "metadata": {},
   "outputs": [],
   "source": [
    "# Act & Assert: Test Saturday is not a weekday\n",
    "assert not is_weekday()"
   ]
  },
  {
   "cell_type": "markdown",
   "id": "ab6fd581",
   "metadata": {},
   "source": [
    "<b><font color='darkred'>Further Reading:</font></b> Though mocking datetime like this is a good practice example for using Mock, a fantastic library already exists for mocking datetime called <b><a href='https://pypi.org/project/freezegun/'>freezegun</a></b> (<font color='brown'>FreezeGun is a library that allows your Python tests to travel through time by mocking the datetime module.</font>).\n",
    "\n",
    "When building your tests, you will likely come across cases where mocking a function’s return value will not be enough. This is because functions are often more complicated than a simple one-way flow of logic.\n",
    "\n",
    "Sometimes, you’ll want to make functions <b>return different values when you call them more than once or even raise exceptions. You can do this using <font color='violet'>.side_effect</font>.</b>"
   ]
  },
  {
   "cell_type": "markdown",
   "id": "5afbc1ec",
   "metadata": {},
   "source": [
    "<a id='sect3_4'></a>\n",
    "### <font color='darkgreen'>Managing a Mock’s Side Effects</font>\n",
    "<font size='3ptx'><b>You can control your code’s behavior by specifying a mocked function’s <a href='https://docs.python.org/3/library/unittest.mock.html#unittest.mock.Mock.side_effect'>side effects</a>. A <font color='violet'>.side_effect</font> defines what happens when you call the mocked function.</b></font>\n",
    "\n",
    "To test how this works, add a new function to <font color='olive'>my_calendar.py</font>:\n",
    "```python\n",
    "import requests\n",
    "\n",
    "def get_holidays():\n",
    "    r = requests.get('http://localhost/api/holidays')\n",
    "    if r.status_code == 200:\n",
    "        return r.json()\n",
    "    return None\n",
    "```\n",
    "<br/>\n",
    "\n",
    "<font color='blue'>get_holidays()</font> makes a request to the localhost server for a set of holidays. If the server responds successfully, <font color='blue'>get_holidays()</font> will return a dictionary. Otherwise, the method will return `None`.\n",
    "\n",
    "You can test how <font color='blue'>get_holidays()</font> will respond to a connection timeout by setting <font color='blue'>requests.get.side_effect</font>.\n",
    "\n",
    "For this example, you’ll only see the relevant code from <font color='olive'>my_calendar_test_v1.py</font>. You’ll build a test case using Python’s <b><a href='https://docs.python.org/3/library/unittest.html'>unittest</a></b> library:\n",
    "```python\n",
    "import unittest\n",
    "from requests.exceptions import Timeout\n",
    "from unittest.mock import Mock\n",
    "\n",
    "# Mock requests to control its behavior\n",
    "requests = Mock()\n",
    "\n",
    "\n",
    "def get_holidays():\n",
    "    r = requests.get('http://localhost/api/holidays')\n",
    "    if r.status_code == 200:\n",
    "        return r.json()\n",
    "    return None\n",
    "\n",
    "\n",
    "class TestCalendar(unittest.TestCase):\n",
    "  def test_get_holidays_timeout(self):\n",
    "    # Test a connection timeout\n",
    "    requests.get.side_effect = Timeout\n",
    "    with self.assertRaises(Timeout):\n",
    "      get_holidays()\n",
    "\n",
    "\n",
    "if __name__ == '__main__':\n",
    "    unittest.main()\n",
    "```\n",
    "<br/>\n",
    "\n",
    "You use <a href='https://docs.python.org/3/library/unittest.html#unittest.TestCase.assertRaises'>.assertRaises()</a> to verify that <font color='blue'>get_holidays()</font> raises an exception given the new side effect of <font color='blue'>get()</font>. Run this test to see the result of your test:"
   ]
  },
  {
   "cell_type": "code",
   "execution_count": 46,
   "id": "e1ec3400",
   "metadata": {},
   "outputs": [
    {
     "name": "stdout",
     "output_type": "stream",
     "text": [
      "\u001b[1m============================= test session starts ==============================\u001b[0m\n",
      "platform linux -- Python 3.8.10, pytest-6.2.4, py-1.10.0, pluggy-0.13.1\n",
      "benchmark: 3.4.1 (defaults: timer=time.perf_counter disable_gc=False min_rounds=5 min_time=0.000005 max_time=1.0 calibration_precision=10 warmup=False warmup_iterations=100000)\n",
      "rootdir: /root/Github/oo_dp_lesson/lessons/python_mock_library\n",
      "plugins: benchmark-3.4.1\n",
      "collected 1 item                                                               \u001b[0m\n",
      "\n",
      "my_calendar_test_v1.py \u001b[32m.\u001b[0m\u001b[32m                                                 [100%]\u001b[0m\n",
      "\n",
      "\u001b[32m============================== \u001b[32m\u001b[1m1 passed\u001b[0m\u001b[32m in 0.06s\u001b[0m\u001b[32m ===============================\u001b[0m\n"
     ]
    }
   ],
   "source": [
    "!pytest my_calendar_test_v1.py"
   ]
  },
  {
   "cell_type": "markdown",
   "id": "797ee2d0",
   "metadata": {},
   "source": [
    "If you want to be a little more dynamic, you can set <font color='violet'>.side_effect</font> to a function that Mock will invoke when you call your mocked method. The mock shares the arguments and return value of the <font color='violet'>.side_effect</font> function:\n",
    "* <font color='olive'>\"my_calendar_test_v2.py</font>:\n",
    "\n",
    "```python\n",
    "import requests\n",
    "import unittest\n",
    "from unittest.mock import Mock\n",
    "\n",
    "# Mock requests to control its behavior\n",
    "requests = Mock()\n",
    "\n",
    "\n",
    "def get_holidays():\n",
    "  r = requests.get('http://localhost/api/holidays')\n",
    "  if r.status_code == 200:\n",
    "    return r.json()\n",
    "  return None\n",
    "\n",
    "\n",
    "class TestCalendar(unittest.TestCase):\n",
    "  def log_request(self, url):\n",
    "    # Log a fake request for test output purposes\n",
    "    print(f'Making a request to {url}.')\n",
    "    print('Request received!')\n",
    "\n",
    "    # Create a new Mock to imitate a Response\n",
    "    response_mock = Mock()\n",
    "    response_mock.status_code = 200\n",
    "    response_mock.json.return_value = {\n",
    "      '12/25': 'Christmas',\n",
    "      '7/4': 'Independence Day',\n",
    "    }\n",
    "    return response_mock\n",
    "\n",
    "  def test_get_holidays_logging(self):\n",
    "    # Test a successful, logged request\n",
    "    requests.get.side_effect = self.log_request\n",
    "    assert get_holidays()['12/25'] == 'Christmas'\n",
    "\n",
    "\n",
    "if __name__ == '__main__':\n",
    "  unittest.main()\n",
    "```"
   ]
  },
  {
   "cell_type": "code",
   "execution_count": 49,
   "id": "4f42ac0a",
   "metadata": {},
   "outputs": [
    {
     "name": "stdout",
     "output_type": "stream",
     "text": [
      "Making a request to http://localhost/api/holidays.\r\n",
      "Request received!\r\n",
      "\u001b[32m.\u001b[0m\r\n",
      "\u001b[32m\u001b[32m\u001b[1m1 passed\u001b[0m\u001b[32m in 0.06s\u001b[0m\u001b[0m\r\n"
     ]
    }
   ],
   "source": [
    "!pytest -s -q my_calendar_test_v2.py"
   ]
  },
  {
   "cell_type": "markdown",
   "id": "569c0018",
   "metadata": {},
   "source": [
    "<font color='violet'>.side_effect</font> can also be an <b><a href='https://docs.python.org/3/glossary.html#term-iterable'>iterable</a></b>. The iterable must consist of return values, exceptions, or a mixture of both. The iterable will produce its next value every time you call your mocked method. For example, you can test that a retry after a Timeout returns a successful response:\n",
    "* <font color='olive'>my_calendar_test_v3.py</font>\n",
    "\n",
    "```python\n",
    "import unittest\n",
    "from requests.exceptions import Timeout\n",
    "from unittest.mock import Mock\n",
    "\n",
    "# Mock requests to control its behavior\n",
    "requests = Mock()\n",
    "\n",
    "\n",
    "def get_holidays():\n",
    "  r = requests.get('http://localhost/api/holidays')\n",
    "  if r.status_code == 200:\n",
    "    return r.json()\n",
    "  return None\n",
    "\n",
    "\n",
    "class TestCalendar(unittest.TestCase):\n",
    "  def test_get_holidays_retry(self):\n",
    "    # Create a new Mock to imitate a Response\n",
    "    response_mock = Mock()\n",
    "    response_mock.status_code = 200\n",
    "    response_mock.json.return_value = {\n",
    "      '12/25': 'Christmas',\n",
    "      '7/4': 'Independence Day',\n",
    "    }\n",
    "    # Set the side effect of .get()\n",
    "    requests.get.side_effect = [Timeout, response_mock]\n",
    "    # Test that the first request raises a Timeout\n",
    "    with self.assertRaises(Timeout):\n",
    "      get_holidays()\n",
    "    # Now retry, expecting a successful response\n",
    "    assert get_holidays()['12/25'] == 'Christmas'\n",
    "    # Finally, assert .get() was called twice\n",
    "    assert requests.get.call_count == 2\n",
    "\n",
    "\n",
    "if __name__ == '__main__':\n",
    "  unittest.main()\n",
    "```"
   ]
  },
  {
   "cell_type": "code",
   "execution_count": 51,
   "id": "6996aae1",
   "metadata": {},
   "outputs": [
    {
     "name": "stdout",
     "output_type": "stream",
     "text": [
      "\u001b[1m============================= test session starts ==============================\u001b[0m\n",
      "platform linux -- Python 3.8.10, pytest-6.2.4, py-1.10.0, pluggy-0.13.1\n",
      "benchmark: 3.4.1 (defaults: timer=time.perf_counter disable_gc=False min_rounds=5 min_time=0.000005 max_time=1.0 calibration_precision=10 warmup=False warmup_iterations=100000)\n",
      "rootdir: /root/Github/oo_dp_lesson/lessons/python_mock_library\n",
      "plugins: benchmark-3.4.1\n",
      "collected 1 item                                                               \u001b[0m\n",
      "\n",
      "my_calendar_test_v3.py \u001b[32m.\u001b[0m\u001b[32m                                                 [100%]\u001b[0m\n",
      "\n",
      "\u001b[32m============================== \u001b[32m\u001b[1m1 passed\u001b[0m\u001b[32m in 0.06s\u001b[0m\u001b[32m ===============================\u001b[0m\n"
     ]
    }
   ],
   "source": [
    "!pytest my_calendar_test_v3.py"
   ]
  },
  {
   "cell_type": "markdown",
   "id": "2fda07a9",
   "metadata": {},
   "source": [
    "The first time you call <font color='blue'>get_holidays()</font>, <font color='blue'>get()</font> raises a <b><font color='blue'>Timeout</font></b>. The second time, the method returns a valid holidays dictionary. These side effects match the order they appear in the list passed to <font color='violet'>.side_effect</font>."
   ]
  },
  {
   "cell_type": "markdown",
   "id": "243628d2",
   "metadata": {},
   "source": [
    "<a id='sect3_5'></a>\n",
    "### <font color='darkgreen'>Configuring Your Mock</font>\n",
    "<font size='3ptx'><b>You can configure a Mock to set up some of the object’s behaviors.</b></font> Some configurable members include `.side_effect`, `.return_value`, and `.name`. You configure a <b><a href='https://docs.python.org/3/library/unittest.mock.html#unittest.mock.Mock'>Mock</a></b> when you create one or when you use <a href='https://docs.python.org/3/library/unittest.mock.html#unittest.mock.Mock.configure_mock'>.configure_mock()</a>.\n",
    "\n",
    "You can configure a <b><a href='https://docs.python.org/3/library/unittest.mock.html#unittest.mock.Mock'>Mock</a></b> by specifying certain attributes when you initialize an object:\n",
    "```python\n",
    ">>> mock = Mock(side_effect=Exception)\n",
    ">>> mock()\n",
    "Traceback (most recent call last):\n",
    "  File \"<stdin>\", line 1, in <module>\n",
    "  File \"/usr/local/Cellar/python/3.6.5/Frameworks/Python.framework/Versions/3.6/lib/python3.6/unittest/mock.py\", line 939, in __call__\n",
    "    return _mock_self._mock_call(*args, **kwargs)\n",
    "  File \"/usr/local/Cellar/python/3.6.5/Frameworks/Python.framework/Versions/3.6/lib/python3.6/unittest/mock.py\", line 995, in _mock_call\n",
    "    raise effect\n",
    "Exception\n",
    "\n",
    ">>> mock = Mock(name='Real Python Mock')\n",
    ">>> mock\n",
    "<Mock name='Real Python Mock' id='4434041432'>\n",
    "\n",
    ">>> mock = Mock(return_value=True)\n",
    ">>> mock()\n",
    "True\n",
    "```\n",
    "<br/>\n",
    "\n",
    "While `.side_effect` and `.return_value` can be set on the <b><a href='https://docs.python.org/3/library/unittest.mock.html#unittest.mock.Mock'>Mock</a></b> instance, itself, other attributes like `.name` can only be set through <font color='olive'>.__init__()</font> or <a href='https://docs.python.org/3/library/unittest.mock.html#unittest.mock.Mock.configure_mock'>.configure_mock()</a>. If you try to set the `.name` of the Mock on the instance, you will get a different result:\n",
    "```python\n",
    ">>> mock = Mock(name='Real Python Mock')\n",
    ">>> mock.name\n",
    "<Mock name='Real Python Mock.name' id='4434041544'>\n",
    "\n",
    ">>> mock = Mock()\n",
    ">>> mock.name = 'Real Python Mock'\n",
    ">>> mock.name\n",
    "'Real Python Mock'\n",
    "```\n",
    "<br/>\n",
    "\n",
    "<b>`.name` is a common attribute for objects to use. So, Mock doesn’t let you set that value on the instance in the same way you can with `.return_value` or `.side_effect`</b>. If you access <font color='blue'>mock.name</font> you will create a `.name` attribute instead of configuring your mock.\n",
    "\n",
    "You can configure an existing Mock using <a href='https://docs.python.org/3/library/unittest.mock.html#unittest.mock.Mock.configure_mock'>.configure_mock()</a>:\n",
    "```python\n",
    ">>> mock = Mock()\n",
    ">>> mock.configure_mock(return_value=True)\n",
    ">>> mock()\n",
    "True\n",
    "```\n",
    "<br/>\n",
    "\n",
    "By unpacking a dictionary into either <a href='https://docs.python.org/3/library/unittest.mock.html#unittest.mock.Mock.configure_mock'>.configure_mock()</a> or <font color='blue'><b>Mock</b>.__init__()</font>, you can even configure your Python mock object’s attributes. Using <b><a href='https://docs.python.org/3/library/unittest.mock.html#unittest.mock.Mock'>Mock</a></b> configurations, you could simplify a previous example:\n",
    "```python\n",
    "# Verbose, old Mock\n",
    "response_mock = Mock()\n",
    "response_mock.json.return_value = {\n",
    "    '12/25': 'Christmas',\n",
    "    '7/4': 'Independence Day',\n",
    "}\n",
    "\n",
    "# Shiny, new .configure_mock()\n",
    "holidays = {'12/25': 'Christmas', '7/4': 'Independence Day'}\n",
    "response_mock = Mock(**{'json.return_value': holidays})\n",
    "```\n",
    "<br/>\n",
    "\n",
    "Now, you can create and configure Python mock objects. You can also use mocks to control the behavior of your application. So far, you’ve used mocks as arguments to functions or patching objects in the same module as your tests.\n",
    "\n",
    "<b>Next, you’ll learn how to substitute your mocks for real objects in other modules.</b>"
   ]
  },
  {
   "cell_type": "markdown",
   "id": "9ce5679e",
   "metadata": {},
   "source": [
    "<a id='sect4'></a>\n",
    "## <font color='darkblue'>patch()</font> ([back](#sect0))\n",
    "* <b><a href='#sect4_1'>`patch()` as a Decorator</a></b>\n",
    "* <b><a href='#sect4_2'>`patch()` as a Context Manager</a></b>\n",
    "* <b><a href='#sect4_3'>Patching an Object’s Attributes</a></b>\n",
    "* <b><a href='#sect4_4'>Where to Patch</a></b>\n",
    "<br/>\n",
    "\n",
    "<font size='3ptx'><b><a href='https://docs.python.org/3/library/unittest.mock.html#module-unittest.mock'>unittest.mock</a> provides a powerful mechanism for mocking objects, called <a href='https://docs.python.org/3/library/unittest.mock.html#unittest.mock.patch'>patch()</a>, which looks up an object in a given module and replaces that object with a <a href='https://docs.python.org/3/library/unittest.mock.html#unittest.mock.Mock'>Mock</a>.</b></font>\n",
    "\n",
    "Usually, you use <a href='https://docs.python.org/3/library/unittest.mock.html#unittest.mock.patch'>patch()</a> as a decorator or a context manager to provide a scope in which you will mock the target object."
   ]
  },
  {
   "cell_type": "markdown",
   "id": "5e444d5f",
   "metadata": {},
   "source": [
    "<a id='sect4_1'></a>\n",
    "### <font color='darkgreen'>`patch()` as a Decorator</font>\n",
    "<font size='3ptx'><b>If you want to mock an object for the duration of your entire test function, you can use `patch()` as a function <a href='https://realpython.com/primer-on-python-decorators/'>decorator</a>.</b></font>\n",
    "\n",
    "To see how this works, reorganize your <font color='olive'>my_calendar.py</font> file by putting the logic and tests into separate files:\n",
    "- <font color='olive'>my_calendar.py</font>\n",
    "\n",
    "```python\n",
    "import requests\n",
    "from datetime import datetime\n",
    "\n",
    "def is_weekday():\n",
    "    today = datetime.today()\n",
    "    # Python's datetime library treats Monday as 0 and Sunday as 6\n",
    "    return (0 <= today.weekday() < 5)\n",
    "\n",
    "\n",
    "def get_holidays():\n",
    "    r = requests.get('http://localhost/api/holidays')\n",
    "    if r.status_code == 200:\n",
    "        return r.json()\n",
    "    return None\n",
    "```\n",
    "<br/>\n",
    "\n",
    "These functions are now in their own file, separate from their tests. Next, you’ll re-create your tests in a file called <font color='olive'>my_calendar_test_v4.py</font>.\n",
    "\n",
    "Up to this point, you’ve monkey patched objects in the file in which they exist. <b><a href='https://en.wikipedia.org/wiki/Monkey_patch'>Monkey patching</a></b> is the replacement of one object with another at runtime. <b>Now, you’ll use <a href='https://docs.python.org/3/library/unittest.mock.html#unittest.mock.patch'>patch()</a> to replace your objects in <font color='olive'>my_calendar.py</font></b>:\n",
    "* <font color='olive'>my_calendar_test_v4.py</font>\n",
    "\n",
    "```python\n",
    "import unittest\n",
    "from my_calendar import get_holidays\n",
    "from requests.exceptions import Timeout\n",
    "from unittest.mock import patch\n",
    "\n",
    "\n",
    "class TestCalendar(unittest.TestCase):\n",
    "  @patch('my_calendar.requests')\n",
    "  def test_get_holidays_timeout(self, mock_requests):\n",
    "    mock_requests.get.side_effect = Timeout\n",
    "    with self.assertRaises(Timeout):\n",
    "      get_holidays()\n",
    "      mock_requests.get.assert_called_once()\n",
    "\n",
    "\n",
    "if __name__ == '__main__':\n",
    "    unittest.main()\n",
    "```\n",
    "<br/>\n",
    "\n",
    "For this case, you used <a href='https://docs.python.org/3/library/unittest.mock.html#unittest.mock.patch'>patch()</a> as a decorator and passed the target object’s path. The target path was `my_calendar.requests` which consists of the module name and the object.\n",
    "\n",
    "You also defined a new parameter for the test function. <a href='https://docs.python.org/3/library/unittest.mock.html#unittest.mock.patch'>patch()</a> uses this parameter to pass the mocked object into your test. From there, you can modify the mock or make assertions as necessary.\n",
    "\n",
    "You can execute this test module to ensure it’s working as expected:"
   ]
  },
  {
   "cell_type": "code",
   "execution_count": 52,
   "id": "900b7f60",
   "metadata": {},
   "outputs": [
    {
     "name": "stdout",
     "output_type": "stream",
     "text": [
      "\u001b[1m============================= test session starts ==============================\u001b[0m\n",
      "platform linux -- Python 3.8.10, pytest-6.2.4, py-1.10.0, pluggy-0.13.1\n",
      "benchmark: 3.4.1 (defaults: timer=time.perf_counter disable_gc=False min_rounds=5 min_time=0.000005 max_time=1.0 calibration_precision=10 warmup=False warmup_iterations=100000)\n",
      "rootdir: /root/Github/oo_dp_lesson/lessons/python_mock_library\n",
      "plugins: benchmark-3.4.1\n",
      "collected 1 item                                                               \u001b[0m\n",
      "\n",
      "my_calendar_test_v4.py \u001b[32m.\u001b[0m\u001b[32m                                                 [100%]\u001b[0m\n",
      "\n",
      "\u001b[32m============================== \u001b[32m\u001b[1m1 passed\u001b[0m\u001b[32m in 0.06s\u001b[0m\u001b[32m ===============================\u001b[0m\n"
     ]
    }
   ],
   "source": [
    "!pytest my_calendar_test_v4.py"
   ]
  },
  {
   "cell_type": "markdown",
   "id": "d89de439",
   "metadata": {},
   "source": [
    "<b><font color='darkred'>Technical Detail:</font></b> <a href='https://docs.python.org/3/library/unittest.mock.html#unittest.mock.patch'>patch()</a> returns an instance of <b><a href='https://docs.python.org/3/library/unittest.mock.html#unittest.mock.MagicMock'>MagicMock</a></b>, which is a <b><a href='https://docs.python.org/3/library/unittest.mock.html#unittest.mock.Mock'>Mock</a></b> subclass. <b><a href='https://docs.python.org/3/library/unittest.mock.html#unittest.mock.MagicMock'>MagicMock</a></b> is useful because it implements most magic methods for you, such as `.__len__()`, `.__str__()`, and `.__iter__()`, with reasonable defaults.\n",
    "\n",
    "Using <a href='https://docs.python.org/3/library/unittest.mock.html#unittest.mock.patch'>patch()</a> as a decorator worked well in this example. <b>In some cases, it is more readable, more effective, or easier to use <a href='https://docs.python.org/3/library/unittest.mock.html#unittest.mock.patch'>patch()</a> as a context manager</b>."
   ]
  },
  {
   "cell_type": "markdown",
   "id": "a50857b3",
   "metadata": {},
   "source": [
    "<a id='sect4_2'></a>\n",
    "### <font color='darkgreen'>`patch()` as a Context Manager</font>\n",
    "<font size='3ptx'><b>Sometimes, you’ll want to use <a href='https://docs.python.org/3/library/unittest.mock.html#unittest.mock.patch'>patch()</a> as a context manager rather than a decorator.</b></font> Some reasons why you might prefer a context manager include the following:\n",
    "* You only want to mock an object for a part of the test scope.\n",
    "* You are already using too many decorators or parameters, which hurts your test’s readability.\n",
    "<br/>\n",
    "\n",
    "To use <a href='https://docs.python.org/3/library/unittest.mock.html#unittest.mock.patch'>patch()</a> as a context manager, you use Python’s `with` statement:\n",
    "```python\n",
    "import unittest\n",
    "from my_calendar import get_holidays\n",
    "from requests.exceptions import Timeout\n",
    "from unittest.mock import patch\n",
    "\n",
    "class TestCalendar(unittest.TestCase):\n",
    "    def test_get_holidays_timeout(self):\n",
    "        with patch('my_calendar.requests') as mock_requests:\n",
    "            mock_requests.get.side_effect = Timeout\n",
    "            with self.assertRaises(Timeout):\n",
    "                get_holidays()\n",
    "                mock_requests.get.assert_called_once()\n",
    "\n",
    "if __name__ == '__main__':\n",
    "    unittest.main()\n",
    "```\n",
    "<br/>\n",
    "\n",
    "When the test exits the with statement, <a href='https://docs.python.org/3/library/unittest.mock.html#unittest.mock.patch'>patch()</a> replaces the mocked object with the original. Until now, you’ve mocked complete objects, but sometimes you’ll only want to mock a part of an object."
   ]
  },
  {
   "cell_type": "markdown",
   "id": "54657ee8",
   "metadata": {},
   "source": [
    "<a id='sect4_3'></a>\n",
    "### <font color='darkgreen'>Patching an Object’s Attributes</font>\n",
    "<font size='3ptx'><b>Let’s say you only want to mock one method of an object instead of the entire object. You can do so by using <a href='https://docs.python.org/3/library/unittest.mock.html#patch-object'>patch.object()</a>.</b></font>\n",
    "\n",
    "For example, <font color='blue'>.test_get_holidays_timeout()</font> really only needs to mock <font color='blue'>requests.get()</font> and set its <font color='violet'>.side_effect</font> to <b><font color='blue'>Timeout</font></b>:\n",
    "```python\n",
    "import unittest\n",
    "from my_calendar import requests, get_holidays\n",
    "from unittest.mock import patch\n",
    "\n",
    "class TestCalendar(unittest.TestCase):\n",
    "    @patch.object(requests, 'get', side_effect=requests.exceptions.Timeout)\n",
    "    def test_get_holidays_timeout(self, mock_requests):\n",
    "            with self.assertRaises(requests.exceptions.Timeout):\n",
    "                get_holidays()\n",
    "\n",
    "if __name__ == '__main__':\n",
    "    unittest.main()\n",
    "```\n",
    "<br/>\n",
    "\n",
    "In this example, you’ve mocked only <font color='blue'>get()</font> rather than all of <b><a href='https://docs.python-requests.org/en/latest/'>requests</a></b>. Every other attribute remains the same.\n",
    "\n",
    "<a href='https://docs.python.org/3/library/unittest.mock.html#unittest.mock.patch.object'>object()</a> takes the same configuration parameters that <a href='https://docs.python.org/3/library/unittest.mock.html#unittest.mock.patch'>patch()</a> does. But instead of passing the target’s path, you provide the target object, itself, as the first parameter. The second parameter is the attribute of the target object that you are trying to mock. You can also use <a href='https://docs.python.org/3/library/unittest.mock.html#unittest.mock.patch.object'>object()</a> as a context manager like <a href='https://docs.python.org/3/library/unittest.mock.html#unittest.mock.patch'>patch()</a>.\n",
    "\n",
    "<b><font color='darkred'>Further Reading</font></b>: Besides objects and attributes, you can also <a href='https://docs.python.org/3/library/unittest.mock.html#unittest.mock.patch'>patch()</a> dictionaries with <a href='https://docs.python.org/3/library/unittest.mock.html#unittest.mock.patch.dict'>patch.dict()</a>.\n",
    "\n",
    "<b>Learning how to use <a href='https://docs.python.org/3/library/unittest.mock.html#unittest.mock.patch'>patch()</a> is critical to mocking objects in other modules. However, sometimes it’s not obvious what the target object’s path is.</b>"
   ]
  },
  {
   "cell_type": "markdown",
   "id": "b3503f62",
   "metadata": {},
   "source": [
    "<a id='sect4_4'></a>\n",
    "### <font color='darkgreen'>Where to Patch</font>\n",
    "<font size='3ptx'><b>Knowing where to tell <a href='https://docs.python.org/3/library/unittest.mock.html#unittest.mock.patch'>patch()</a> to look for the object you want mocked is important because if you choose the wrong target location, the result of <a href='https://docs.python.org/3/library/unittest.mock.html#unittest.mock.patch'>patch()</a> could be something you didn’t expect.</b></font>\n",
    "\n",
    "Let’s say you are mocking <font color='blue'>is_weekday()</font> in <font color='olive'>my_calendar.py</font> using <a href='https://docs.python.org/3/library/unittest.mock.html#unittest.mock.patch'>patch()</a>:"
   ]
  },
  {
   "cell_type": "code",
   "execution_count": 54,
   "id": "6d13e2ab",
   "metadata": {},
   "outputs": [
    {
     "name": "stdout",
     "output_type": "stream",
     "text": [
      "<MagicMock name='is_weekday()' id='139792932655600'>\n"
     ]
    }
   ],
   "source": [
    "import my_calendar\n",
    "from unittest.mock import patch\n",
    "\n",
    "with patch('my_calendar.is_weekday'):\n",
    "    print(my_calendar.is_weekday())"
   ]
  },
  {
   "cell_type": "markdown",
   "id": "ac39271f",
   "metadata": {},
   "source": [
    "Now, let’s change this example slightly and import the function directly:"
   ]
  },
  {
   "cell_type": "code",
   "execution_count": 56,
   "id": "a6672f1d",
   "metadata": {},
   "outputs": [
    {
     "name": "stdout",
     "output_type": "stream",
     "text": [
      "False\n"
     ]
    }
   ],
   "source": [
    "from my_calendar import is_weekday\n",
    "from unittest.mock import patch\n",
    "\n",
    "with patch('my_calendar.is_weekday'):\n",
    "    print(is_weekday())"
   ]
  },
  {
   "cell_type": "markdown",
   "id": "82d0f1a3",
   "metadata": {},
   "source": [
    "<b><font color='darkred'>Note:</font></b> Depending on what day you are reading this tutorial, your console output may read True or False. <b>The important thing is that the output is not a <a href='https://docs.python.org/3/library/unittest.mock.html#unittest.mock.Mock'>Mock</a> like before</b>.\n",
    "\n",
    "<font color='blue'>from my_calendar import is_weekday</font> binds the real function to the local scope. So, even though you <a href='https://docs.python.org/3/library/unittest.mock.html#unittest.mock.patch'>patch()</a> the function later, you ignore the mock because you already have a local reference to the un-mocked function.\n",
    "\n",
    "<font size='3ptx'><b>A good rule of thumb is to <a href='https://docs.python.org/3/library/unittest.mock.html#unittest.mock.patch'>patch()</a> the object where it is looked up.</b></font>\n",
    "\n",
    "In the first example, mocking `my_calendar.is_weekday()` works because you look up the function in the <b><font color='darkblue'>my_calendar</font></b> module. In the second example, you have a local reference to <font color='blue'>is_weekday()</font>. Since you use the function found in the local scope, you should mock the local function:\n",
    "```python\n",
    ">>> from unittest.mock import patch\n",
    ">>> from my_calendar import is_weekday\n",
    "\n",
    ">>> with patch('__main__.is_weekday'):\n",
    "...     is_weekday()\n",
    "...\n",
    "<MagicMock name='is_weekday()' id='4502362992'>\n",
    "```\n",
    "<br/>\n",
    "\n",
    "<b>Next, you’ll see some common problems inherent in object mocking and the solutions that <a href='https://docs.python.org/3/library/unittest.mock.html#module-unittest.mock'>unittest.mock</a> provides.</b>"
   ]
  },
  {
   "cell_type": "markdown",
   "id": "7e722aa1",
   "metadata": {},
   "source": [
    "<a id='sect5'></a>\n",
    "## <font color='darkblue'>Common Mocking Problems</font> ([back](#sect0))\n",
    "* <b><a href='#sect5_1'>Changes to Object Interfaces and Misspellings</a></b>\n",
    "* <b><a href='#sect5_2'>Changes to External Dependencies</a></b>\n",
    "<br/>\n",
    "\n",
    "<font size='3ptx'><b>Mocking objects can introduce several problems into your tests. Some problems are inherent in mocking while others are specific to <a href='https://docs.python.org/3/library/unittest.mock.html#module-unittest.mock'>unittest.mock</a>. Keep in mind that there are other issues with mocking that are not mentioned in this tutorial.</b></font>\n",
    "\n",
    "The ones covered here are similar to each other in that the problem they cause is fundamentally the same. <b><font color='darkred'>In each case, the test assertions are irrelevant</font></b>. Though the intention of each mock is valid, the mocks themselves are not."
   ]
  },
  {
   "cell_type": "markdown",
   "id": "aeccdcbf",
   "metadata": {},
   "source": [
    "<a id='sect5_1'></a>\n",
    "### <font color='darkgreen'>Changes to Object Interfaces and Misspellings</font>\n",
    "<font size='3ptx'><b>Classes and function definitions change all the time. When the interface of an object changes, any tests relying on a Mock of that object may become irrelevant.</b></font>\n",
    "\n",
    "For example, you rename a method but forget that a test mocks that method and invokes <a href='https://docs.python.org/3/library/unittest.mock.html#unittest.mock.Mock.assert_not_called'>.assert_not_called()</a>. After the change, <a href='https://docs.python.org/3/library/unittest.mock.html#unittest.mock.Mock.assert_not_called'>.assert_not_called()</a> is still True. <b><font color='darkred'>The assertion is not useful, though, because the method no longer exists</font></b>.\n",
    "\n",
    "Irrelevant tests may not sound critical, but if they are your only tests and you assume that they work properly, the situation could be disastrous for your application.\n",
    "\n",
    "<b>A problem specific to <a href='https://docs.python.org/3/library/unittest.mock.html#unittest.mock.Mock'>Mock</a> is that a misspelling can break a test</b>. Recall that a <b><a href='https://docs.python.org/3/library/unittest.mock.html#unittest.mock.Mock'>Mock</a></b> creates its interface when you access its members. So, you will <font color='darkred'><b>inadvertently create a new attribute if you misspell its name</b></font>.\n",
    "\n",
    "If you call <font color='blue'>.asert_called()</font> instead of <font color='blue'>.assert_called()</font>, your test will not raise an <b><a href='https://docs.python.org/3/library/exceptions.html#AssertionError'>AssertionError</a></b>. This is because you’ve created a new method on the Python mock object named <font color='blue'>.asert_called()</font> instead of evaluating an actual assertion.\n",
    "\n",
    "These problems occur when you mock objects within your own codebase. A different problem arises when you mock objects interacting with external codebases."
   ]
  },
  {
   "cell_type": "markdown",
   "id": "ac1804d4",
   "metadata": {},
   "source": [
    "<a id='sect5_2'></a>\n",
    "### <font color='darkgreen'>Changes to External Dependencies</font>\n",
    "<font size='3ptx'><b>Imagine again that your code makes a request to an external API. In this case, the external dependency is the API which is susceptible to change without your consent.</b></font>\n",
    "\n",
    "On one hand, unit tests test isolated components of code. So, mocking the code that makes the request helps you to test your isolated components under controlled conditions. However, it also presents a potential problem.\n",
    "\n",
    "<b><font color='darkred'>If an external dependency changes its interface, your Python mock objects will become invalid</font></b>. If this happens (<font color='brown'>and the interface change is a breaking one</font>), your tests will pass because your mock objects have masked the change, but your production code will fail.\n",
    "\n",
    "Unfortunately, this is not a problem that <b><a href='https://docs.python.org/3/library/unittest.mock.html#module-unittest.mock'>unittest.mock</a></b> provides a solution for. You must exercise judgment when mocking external dependencies.\n",
    "\n",
    "All three of these issues can cause test irrelevancy and potentially costly issues because they threaten the integrity of your mocks. <b><a href='https://docs.python.org/3/library/unittest.mock.html#module-unittest.mock'>unittest.mock</a></b> gives you some tools for dealing with these problems."
   ]
  },
  {
   "cell_type": "markdown",
   "id": "653e156d",
   "metadata": {},
   "source": [
    "<a id='sect6'></a>\n",
    "## <font color='darkblue'>Avoiding Common Problems Using Specifications</font> ([back](#sect0))\n",
    "<font size='3ptx'><b>As mentioned before, if you change a class or function definition or you misspell a Python mock object’s attribute, you can cause problems with your tests.</b></font>\n",
    "\n",
    "These problems occur because <b><a href='https://docs.python.org/3/library/unittest.mock.html#unittest.mock.Mock'>Mock</a></b> creates attributes and methods when you access them. The answer to these issues is to prevent <b><a href='https://docs.python.org/3/library/unittest.mock.html#unittest.mock.Mock'>Mock</a></b> from creating attributes that don’t conform to the object you’re trying to mock.\n",
    "\n",
    "<b>When configuring a <a href='https://docs.python.org/3/library/unittest.mock.html#unittest.mock.Mock'>Mock</a>, you can pass an object specification to the <font color='violet'>spec</font> parameter</b>. The <font color='violet'>spec</font> parameter accepts a list of names or another object and defines the mock’s interface. If you attempt to access an attribute that does not belong to the specification, <b><a href='https://docs.python.org/3/library/unittest.mock.html#unittest.mock.Mock'>Mock</a></b> will raise an <b><a href='https://docs.python.org/3/library/exceptions.html#AssertionError'>AttributeError</a></b>:\n",
    "```python\n",
    ">>> from unittest.mock import Mock\n",
    ">>> calendar = Mock(spec=['is_weekday', 'get_holidays'])\n",
    "\n",
    ">>> calendar.is_weekday()\n",
    "<Mock name='mock.is_weekday()' id='4569015856'>\n",
    ">>> calendar.create_event()\n",
    "Traceback (most recent call last):\n",
    "  File \"<stdin>\", line 1, in <module>\n",
    "  File \"/usr/local/Cellar/python/3.6.5/Frameworks/Python.framework/Versions/3.6/lib/python3.6/unittest/mock.py\", line 582, in __getattr__\n",
    "    raise AttributeError(\"Mock object has no attribute %r\" % name)\n",
    "AttributeError: Mock object has no attribute 'create_event'\n",
    "```\n",
    "<br/>\n",
    "\n",
    "Here, you’ve specified that `calendar` has methods called <font color='blue'>.is_weekday()</font> and <font color='blue'>.get_holidays()</font>. When you access <font color='blue'>.is_weekday()</font>, it returns a <b><a href='https://docs.python.org/3/library/unittest.mock.html#unittest.mock.Mock'>Mock</a></b>. When you access .create_event(), a method that does not match the specification, mock raises an <b><a href='https://docs.python.org/3/library/exceptions.html#AssertionError'>AttributeError</a></b>.\n",
    "\n",
    "Specifications work the same way if you configure the <b><a href='https://docs.python.org/3/library/unittest.mock.html#unittest.mock.Mock'>Mock</a></b> with an object:\n",
    "```python\n",
    ">>> import my_calendar\n",
    ">>> from unittest.mock import Mock\n",
    "\n",
    ">>> calendar = Mock(spec=my_calendar)\n",
    ">>> calendar.is_weekday()\n",
    "<Mock name='mock.is_weekday()' id='4569435216'>\n",
    ">>> calendar.create_event()\n",
    "Traceback (most recent call last):\n",
    "  File \"<stdin>\", line 1, in <module>\n",
    "  File \"/usr/local/Cellar/python/3.6.5/Frameworks/Python.framework/Versions/3.6/lib/python3.6/unittest/mock.py\", line 582, in __getattr__\n",
    "    raise AttributeError(\"Mock object has no attribute %r\" % name)\n",
    "AttributeError: Mock object has no attribute 'create_event'\n",
    "```\n",
    "<br/>\n",
    "\n",
    "Furthermore, <b><a href='https://docs.python.org/3/library/unittest.mock.html#module-unittest.mock'>unittest.mock</a></b> provides convenient methods of automatically specifying a <b><a href='https://docs.python.org/3/library/unittest.mock.html#unittest.mock.Mock'>Mock</a></b> instance’s interface. One way to implement automatic specifications is <font color='violet'>create_autospec</font>:\n",
    "```python\n",
    ">>> import my_calendar\n",
    ">>> from unittest.mock import create_autospec\n",
    "\n",
    ">>> calendar = create_autospec(my_calendar)\n",
    ">>> calendar.is_weekday()\n",
    "<MagicMock name='mock.is_weekday()' id='4579049424'>\n",
    ">>> calendar.create_event()\n",
    "Traceback (most recent call last):\n",
    "  File \"<stdin>\", line 1, in <module>\n",
    "  File \"/usr/local/Cellar/python/3.6.5/Frameworks/Python.framework/Versions/3.6/lib/python3.6/unittest/mock.py\", line 582, in __getattr__\n",
    "    raise AttributeError(\"Mock object has no attribute %r\" % name)\n",
    "AttributeError: Mock object has no attribute 'create_event'\n",
    "```\n",
    "<br/>\n",
    "\n",
    "Like before, `calendar` is a <b><a href='https://docs.python.org/3/library/unittest.mock.html#unittest.mock.Mock'>Mock</a></b> instance whose interface matches `my_calendar`. If you’re using <a href='https://docs.python.org/3/library/unittest.mock.html#unittest.mock.patch'>patch()</a>, you can send an argument to the <font color='violet'>autospec</font> parameter to achieve the same result:\n",
    "```python\n",
    ">>> import my_calendar\n",
    ">>> from unittest.mock import patch\n",
    "\n",
    ">>> with patch('__main__.my_calendar', autospec=True) as calendar:\n",
    "...     calendar.is_weekday()\n",
    "...     calendar.create_event()\n",
    "...\n",
    "<MagicMock name='my_calendar.is_weekday()' id='4579094312'>\n",
    "Traceback (most recent call last):\n",
    "  File \"<stdin>\", line 1, in <module>\n",
    "  File \"/usr/local/Cellar/python/3.6.5/Frameworks/Python.framework/Versions/3.6/lib/python3.6/unittest/mock.py\", line 582, in __getattr__\n",
    "    raise AttributeError(\"Mock object has no attribute %r\" % name)\n",
    "AttributeError: Mock object has no attribute 'create_event'\n",
    "```"
   ]
  },
  {
   "cell_type": "markdown",
   "id": "d52069fd",
   "metadata": {},
   "source": [
    "## <font color='darkblue'>Supplement</font>\n",
    "* <a href='https://medium.com/@pjbgf/title-testing-code-ocd-and-the-aaa-pattern-df453975ab80'>Medium - Unit Testing and the Arrange, Act and Assert (AAA) Pattern</a>"
   ]
  }
 ],
 "metadata": {
  "kernelspec": {
   "display_name": "Python 3",
   "language": "python",
   "name": "python3"
  },
  "language_info": {
   "codemirror_mode": {
    "name": "ipython",
    "version": 3
   },
   "file_extension": ".py",
   "mimetype": "text/x-python",
   "name": "python",
   "nbconvert_exporter": "python",
   "pygments_lexer": "ipython3",
   "version": "3.8.10"
  }
 },
 "nbformat": 4,
 "nbformat_minor": 5
}
