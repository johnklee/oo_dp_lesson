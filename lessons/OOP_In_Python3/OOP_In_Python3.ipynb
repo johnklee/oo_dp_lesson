{
 "cells": [
  {
   "cell_type": "markdown",
   "id": "dda33f16",
   "metadata": {},
   "source": [
    "## <font color='darkblue'>Preface</font>\n",
    "([article source](https://realpython.com/python3-object-oriented-programming/)) <font size='3ptx'>[**Object-oriented programming**](https://en.wikipedia.org/wiki/Object-oriented_programming) (OOP) is a [**programming paradigm**](http://en.wikipedia.org/wiki/Programming_paradigm) that provides a means of structuring programs so that properties and behaviors are bundled into individual **objects**.</font>\n",
    "> 編程範型、編程範式或程式設計法（<font color='brown'>英語：Programming paradigm</font>），是指軟體工程中的一類典型的程式設計風格。常見的程式設計法有：[**函數式程式設計**](https://zh.wikipedia.org/wiki/%E5%87%BD%E6%95%B8%E5%BC%8F%E7%B7%A8%E7%A8%8B)、[**指令式程式設計**](https://zh.wikipedia.org/wiki/%E6%8C%87%E4%BB%A4%E5%BC%8F%E7%BC%96%E7%A8%8B)、[**程序式程式設計**](https://zh.wikipedia.org/wiki/%E8%BF%87%E7%A8%8B%E5%BC%8F%E7%BC%96%E7%A8%8B)、[**物件導向程式設計**](https://zh.wikipedia.org/wiki/%E9%9D%A2%E5%90%91%E5%AF%B9%E8%B1%A1%E7%BC%96%E7%A8%8B) 等等。\n",
    "\n",
    "For instance, **an object could represent a person with properties like a name, age, and address and behaviors such as walking, talking, breathing, and running.** Or it could represent an email with properties like a recipient list, subject, and body and behaviors like adding attachments and sending.\n",
    "```python\n",
    "class Person:\n",
    "    def __init__(self, name, age, address):\n",
    "        self.name = name\n",
    "        self.age = age\n",
    "        self.address = address\n",
    "        \n",
    "    def walk(self):\n",
    "        pass\n",
    "    \n",
    "    def talk(self):\n",
    "        pass\n",
    "    \n",
    "    def breath(self):\n",
    "        pass\n",
    "    \n",
    "    def run(self):\n",
    "        pass\n",
    "```\n",
    "\n",
    "Put another way, **object-oriented programming is an approach for modeling concrete, real-world things, like cars, as well as relations between things, like companies and employees, students and teachers, and so on.** OOP models real-world entities as software objects that have some data associated with them and can perform certain functions."
   ]
  },
  {
   "cell_type": "markdown",
   "id": "9e578d20",
   "metadata": {},
   "source": [
    "<a id='sect0'></a>\n",
    "### <font color='darkgreen'>Agenda</font>\n",
    "* <font size='3ptx'><b><a href='#sect0'>Principles of OOP</a></b></font>\n",
    "* <font size='3ptx'><b><a href='#sect1'>Define a Class in Python</a></b></font>\n",
    "* <font size='3ptx'><b><a href='#sect2'>Homework 3</a></b></font>"
   ]
  },
  {
   "cell_type": "markdown",
   "id": "863295b1",
   "metadata": {},
   "source": [
    "<a id='sect0'></a>\n",
    "## <font color='darkblue'>Principles of OOP</font>\n",
    "Object-oriented programming is based on the following principles:\n",
    "* <font size='3ptx'><b><a href='#oop_encapsulation'>Encapculation</a></b>: Reduce complexity + increase reusability</font>\n",
    "* <font size='3ptx'><b><a href='#oop_abstraction'>Abstraction</a></b>: Reduce complexity + isolate impact of future changes</font>\n",
    "* <font size='3ptx'><b><a href='#oop_inheritance'>Inheritance</a></b>: Elimerate redundant code</font>\n",
    "* <font size='3ptx'><b><a href='#oop_polymorphism'>Polymorphism</a></b>: Refactor urgly switch/case statements</font>"
   ]
  },
  {
   "cell_type": "markdown",
   "id": "fa552be8",
   "metadata": {},
   "source": [
    "<a id='oop_encapsulation'></a>\n",
    "### <font color='darkgreen'>Encapsulation</font> (封裝)\n",
    "<font size='3ptx'>**The implementation and state of each object are privately held inside a defined boundary, or class ([wiki](https://en.wikipedia.org/wiki/Object-oriented_programming#Encapsulation))**</font>. Other objects do not have access to this class or the authority to make changes but are only able to call a list of public functions, or methods. This characteristic of data hiding provides greater program security and avoids unintended data corruption."
   ]
  },
  {
   "cell_type": "code",
   "execution_count": 1,
   "id": "b76f8407",
   "metadata": {},
   "outputs": [
    {
     "name": "stdout",
     "output_type": "stream",
     "text": [
      "wage is 30100\n"
     ]
    }
   ],
   "source": [
    "# Procedure programming\n",
    "base_salary = 30000\n",
    "overtime_hr = 5\n",
    "rate = 20\n",
    "\n",
    "def get_wage(base_salary, overtime_hr, rate):\n",
    "    return base_salary + overtime_hr * rate\n",
    "\n",
    "wage = get_wage(base_salary, overtime_hr, rate)\n",
    "print(f\"wage is {wage}\")"
   ]
  },
  {
   "cell_type": "code",
   "execution_count": 3,
   "id": "d01d24fa",
   "metadata": {},
   "outputs": [
    {
     "data": {
      "text/plain": [
       "dict_keys(['__name__', '__doc__', '__package__', '__loader__', '__spec__', '__builtin__', '__builtins__', '_ih', '_oh', '_dh', 'In', 'Out', 'get_ipython', 'exit', 'quit', '_', '__', '___', '_i', '_ii', '_iii', '_i1', 'base_salary', 'overtime_hr', 'rate', 'get_wage', 'wage', '_i2', '_2', '_i3'])"
      ]
     },
     "execution_count": 3,
     "metadata": {},
     "output_type": "execute_result"
    }
   ],
   "source": [
    "globals().keys()"
   ]
  },
  {
   "cell_type": "code",
   "execution_count": 4,
   "id": "5d876f2a",
   "metadata": {},
   "outputs": [
    {
     "name": "stdout",
     "output_type": "stream",
     "text": [
      "wage is 10400\n",
      "dict_keys(['Employee', 'john', 'wage'])\n"
     ]
    }
   ],
   "source": [
    "# OOP Encapsulation: \n",
    "# Wrap up related properties, functions in a class\n",
    "def test_namespace():\n",
    "    class Employee:\n",
    "        def __init__(self, base_salary, overtime_hr, rate):\n",
    "            self.base_salary = base_salary\n",
    "            self.overtime_hr = overtime_hr\n",
    "            self.rate = rate\n",
    "        \n",
    "        def get_wage(self):\n",
    "            return self.base_salary + self.overtime_hr * self.rate\n",
    "    \n",
    "    john = Employee(10000, 20, 20)  # Create an object of Employee and named it as `john`.\n",
    "    wage = john.get_wage()\n",
    "    print(f\"wage is {wage}\")\n",
    "    print(f'{locals().keys()}')\n",
    "    \n",
    "test_namespace()"
   ]
  },
  {
   "cell_type": "markdown",
   "id": "d9167a27",
   "metadata": {},
   "source": [
    "<a id='oop_abstraction'></a>\n",
    "### <font color='darkgreen'>Abstraction</font> (抽象)\n",
    "<font size='3ptx'>**Objects only reveal internal mechanisms that are relevant for the use of other objects, hiding any unnecessary implementation code ([wiki](https://en.wikipedia.org/wiki/Abstraction_(computer_science)))**</font>. This concept helps developers more easily make changes and additions over time."
   ]
  },
  {
   "cell_type": "code",
   "execution_count": 5,
   "id": "81423421",
   "metadata": {},
   "outputs": [
    {
     "name": "stdout",
     "output_type": "stream",
     "text": [
      "Hello\n",
      "Hi\n"
     ]
    }
   ],
   "source": [
    "import abc\n",
    "\n",
    "class Person(abc.ABC):\n",
    "    @abc.abstractmethod\n",
    "    def greet(self):\n",
    "        raise NotImplementedError\n",
    "        \n",
    "class John(Person):\n",
    "    def greet(self):\n",
    "        print('Hello')\n",
    "        \n",
    "class Karen(Person):\n",
    "    def greet(self):\n",
    "        print('Hi')\n",
    "        \n",
    "p1 = John()\n",
    "p2 = Karen()\n",
    "p1.greet()\n",
    "p2.greet()"
   ]
  },
  {
   "cell_type": "markdown",
   "id": "575bebba",
   "metadata": {},
   "source": [
    "<a id='oop_inheritance'></a>\n",
    "### <font color='darkgreen'>Inheritance</font> (繼承)\n",
    "<font size='3ptx'>**Relationships and subclasses between objects can be assigned, allowing developers to reuse a common logic while still maintaining a unique hierarchy ([wiki](https://en.wikipedia.org/wiki/Inheritance_(object-oriented_programming)))**</font>. This property of OOP forces a more thorough data analysis, reduces development time and ensures a higher level of accuracy."
   ]
  },
  {
   "cell_type": "code",
   "execution_count": 7,
   "id": "58b79dd3",
   "metadata": {},
   "outputs": [
    {
     "name": "stdout",
     "output_type": "stream",
     "text": [
      "Cat is running\n",
      "Dog is running\n",
      "Mew~\n",
      "Woof!!!\n"
     ]
    }
   ],
   "source": [
    "# With inheritance, we can use parent class to avoid code duplication in the child class\n",
    "class Animal:\n",
    "    def __init__(self):\n",
    "        pass\n",
    "    \n",
    "    def run(self):\n",
    "        print(f\"{self.__class__.__name__} is running\")\n",
    "        \n",
    "\n",
    "class Cat(Animal):\n",
    "    def mew(self):\n",
    "        print(\"Mew~\")\n",
    "        \n",
    "\n",
    "class Dog(Animal):\n",
    "    def bark(self):\n",
    "        print(\"Woof!!!\")\n",
    "        \n",
    "        \n",
    "cat, dog = Cat(), Dog()\n",
    "\n",
    "# Both cat & dog can run\n",
    "cat.run()\n",
    "dog.run()\n",
    "\n",
    "# Cat can mew & Dog can bark\n",
    "cat.mew()\n",
    "dog.bark()"
   ]
  },
  {
   "cell_type": "markdown",
   "id": "11d2400f",
   "metadata": {},
   "source": [
    "<a id='oop_polymorphism'></a>\n",
    "### <font color='darkgreen'>Polymorphism</font>  (多形)\n",
    "<font size='3ptx'>**Objects can take on more than one form depending on the context ([wiki](https://en.wikipedia.org/wiki/Polymorphism_(computer_science)))**</font>. The program will determine which meaning or usage is necessary for each execution of that object, cutting down the need to duplicate code."
   ]
  },
  {
   "cell_type": "code",
   "execution_count": 57,
   "id": "93dd9429",
   "metadata": {},
   "outputs": [
    {
     "name": "stdout",
     "output_type": "stream",
     "text": [
      "Area of Karen's Square(4)=16\n",
      "Area of Rectangle(4,4)=16\n"
     ]
    }
   ],
   "source": [
    "# With Polymorphism, we can only define one method to calculate\n",
    "# the area of a shape as long as the object provide function `area`\n",
    "class Shape:\n",
    "    def area(self):\n",
    "        raise NotImplementedError()\n",
    "        \n",
    "\n",
    "class Square(Shape):\n",
    "    def __init__(self, length):\n",
    "        self.length = length\n",
    "        \n",
    "    def area(self):\n",
    "        return pow(self.length, 2)\n",
    "    \n",
    "    def __str__(self):\n",
    "        return f\"Karen's Square({self.length})\"\n",
    "    \n",
    "    \n",
    "class Rectangle(Shape):\n",
    "    def __init__(self, width, height):\n",
    "        self.width, self.height = width, height\n",
    "        \n",
    "    def area(self):\n",
    "        return self.width * self.height\n",
    "    \n",
    "    def __str__(self):\n",
    "        return f\"Rectangle({self.width},{self.height})\"\n",
    "\n",
    "\n",
    "# We don't have to define calculate_area_of_square & calculate_area_of_rectangle\n",
    "def calculate_area_of_shape(s: Shape):\n",
    "    print(f\"Area of {s}={s.area()}\")\n",
    "    \n",
    "    \n",
    "calculate_area_of_shape(Square(4))\n",
    "calculate_area_of_shape(Rectangle(4, 4))"
   ]
  },
  {
   "cell_type": "markdown",
   "id": "fa9dce41",
   "metadata": {},
   "source": [
    "<a id='sect1'></a>\n",
    "## <a href='https://realpython.com/python3-object-oriented-programming/#define-a-class-in-python'><font color='darkblue'>Define a Class in Python</font></a> ([back](#sect0))\n",
    "* <font size='3ptx'><b><a href='#sect1_1'>Classes (類別) vs Instances (物件)</a></b></font>\n",
    "* <font size='3ptx'><b><a href='#sect1_2'>How to Define a Class</a></b></font>\n",
    "* <font size='3ptx'><b><a href='#sect1_3'>Instantiate an Object in Python</a></b></font>\n",
    "* <font size='3ptx'><b><a href='#sect1_4'>Class and Instance Attributes</a></b></font>\n",
    "* <font size='3ptx'><b><a href='#sect1_5'>Instance Methods</a></b></font>\n",
    "* <font size='3ptx'><b><a href='#sect1_6'>Inherit From Other Classes in Python</a></b></font>\n",
    "  * <a href='#sect1_6_1'><b>Dog Park Example</b></a>\n",
    "  * <a href='#sect1_6_2'><b>Parent Classes vs Child Classes</b></a>\n",
    "  * <a href='#sect1_6_3'><b>Extend the Functionality of a Parent Class</b></a>\n",
    "\n",
    "[**Primitive data**](https://realpython.com/courses/python-data-types/) structures—like numbers, [**strings**](https://realpython.com/python-strings/), and lists—are designed to represent simple pieces of information, such as the cost of an apple, the name of a poem, or your favorite colors, respectively. What if you want to represent something more complex?\n",
    "\n",
    "**For example, let’s say you want to track employees in an organization.** You need to store some basic information about each employee, such as their name, age, position, and the year they started working.\n",
    "\n",
    "One way to do this is to represent each employee as a list:"
   ]
  },
  {
   "cell_type": "code",
   "execution_count": 6,
   "id": "7cf36917",
   "metadata": {},
   "outputs": [],
   "source": [
    "kirk = [\"James Kirk\", 34, \"Captain\", 2265]\n",
    "spock = [\"Spock\", 35, \"Science Officer\", 2254]\n",
    "mccoy = [\"Leonard McCoy\", \"Chief Medical Officer\", 2266]"
   ]
  },
  {
   "cell_type": "markdown",
   "id": "4a0bd6bf",
   "metadata": {},
   "source": [
    "There are a number of issues with this approach.\n",
    "\n",
    "First, it can make larger code files more difficult to manage. If you reference `kirk[0]` several lines away from where the `kirk` list is declared, will you remember that the element with index 0 is the employee’s name?\n",
    "\n",
    "Second, it can introduce errors if not every employee has the same number of elements in the list. In the mccoy list above, the age is missing, so `mccoy[1]` will return \"Chief Medical Officer\" instead of Dr. McCoy’s age.\n",
    "\n",
    "A great way to make this type of code more manageable and more maintainable is to use <font color='darkblue'><b>classes</b></font> (<font color='brown'>類別</font>)."
   ]
  },
  {
   "cell_type": "markdown",
   "id": "ea47b85d",
   "metadata": {},
   "source": [
    "<a id='sect1_1'></a>\n",
    "### <font color='darkgreen'>Classes (類別) vs Instances (物件)</font>\n",
    "<font size='3ptx'><b>Classes</b> are used to create user-defined data structures. Classes define functions called <b>methods</b>, which identify the behaviors and actions that an object created from the class can perform with its data.</font>\n",
    "\n",
    "In this tutorial, you’ll create a Dog class that stores some information about the characteristics and behaviors that an individual dog can have.\n",
    "\n",
    "**A class is a blueprint for how something should be defined.** It doesn’t actually contain any data. The <font color='blue'><b>Dog</b></font> class specifies that a name and an age are necessary for defining a dog, but it doesn’t contain the <i>name</i> or <i>age</i> of any specific dog.\n",
    "\n",
    "**While the class is the blueprint, an instance is an object that is built from a class and contains real data**. An instance of the <font color='blue'><b>Dog</b></font> class is not a blueprint anymore. It’s an actual dog with a name, like Miles, who’s four years old.\n",
    "\n",
    "Put another way, a class is like a form or questionnaire. An instance is like a form that has been filled out with information. Just like many people can fill out the same form with their own unique information, many instances can be created from a single class."
   ]
  },
  {
   "cell_type": "code",
   "execution_count": 10,
   "id": "8695852a",
   "metadata": {},
   "outputs": [
    {
     "name": "stdout",
     "output_type": "stream",
     "text": [
      "<class '__main__.Dog'>\n",
      "<__main__.Dog object at 0x7fc682734100>\n",
      "<class '__main__.Dog'>\n"
     ]
    }
   ],
   "source": [
    "print(Dog)           # Dog is a class\n",
    "d = Dog()\n",
    "print(d)             # d is an object\n",
    "print(d.__class__)   # created from Dog class"
   ]
  },
  {
   "cell_type": "markdown",
   "id": "29187e57",
   "metadata": {},
   "source": [
    "<a id='sect1_2'></a>\n",
    "### <font color='darkgreen'>How to Define a Class</font>\n",
    "<font size='3ptx'><b>All class definitions start with the <font color='darkblue'>class</font> keyword, which is followed by the name of the class and a colon</b></font> ([Class Definition Syntax](https://docs.python.org/3/tutorial/classes.html#class-definition-syntax)). Any code that is indented below the class definition is considered part of the class’s body.\n",
    "\n",
    "Here’s an example of a <font color='blue'><b>Dog</b></font> class:\n",
    "```python\n",
    "class Dog:\n",
    "    pass\n",
    "```\n",
    "The body of the <font color='blue'><b>Dog</b></font> class consists of a single statement: the `pass` keyword. `pass` is often used as a placeholder indicating where code will eventually go. It allows you to run this code without Python throwing an error. ([more on pass](https://realpython.com/python-pass/))\n",
    "> <font color='darkred'><b>Note</b></font>: <b>Python class names are written in CapitalizedWords notation by convention</b>. For example, a class for a specific breed of dog like the Jack Russell Terrier would be written as <font color='blue'><b>JackRussellTerrier</b></font>.\n",
    "\n",
    "The <font color='blue'><b>Dog</b></font> class isn’t very interesting right now, so let’s spruce it up a bit by defining some properties that all <font color='blue'><b>Dog</b></font> objects should have. There are a number of properties that we can choose from, including <i>name</i>, <i>age</i>, <i>coat color</i>, and <i>breed</i>. To keep things simple, we’ll just use <i>name</i> and <i>age</i>.\n",
    "\n",
    "The properties that all <font color='blue'><b>Dog</b></font> objects must have are defined in a method called <a href='https://docs.python.org/3/reference/datamodel.html#object.__init__'>.\\_\\_init__()</a>. Every time a new <font color='blue'><b>Dog</b></font> object is created, <a href='https://docs.python.org/3/reference/datamodel.html#object.__init__'>.\\_\\_init__()</a> sets the initial state of the object by assigning the values of the object’s properties. <b>That is, <a href='https://docs.python.org/3/reference/datamodel.html#object.__init__'>.\\_\\_init__()</a> initializes each new instance of the class.</b>\n",
    "\n",
    "You can give <a href='https://docs.python.org/3/reference/datamodel.html#object.__init__'>.\\_\\_init__()</a> any number of parameters, but the first parameter will always be a variable called `self`. When a new class instance is created, the instance is automatically passed to the self parameter in <a href='https://docs.python.org/3/reference/datamodel.html#object.__init__'>.\\_\\_init__()</a> so that new attributes can be defined on the object.\n",
    "\n",
    "Let’s update the <font color='blue'><b>Dog</b></font> class with an <a href='https://docs.python.org/3/reference/datamodel.html#object.__init__'>.\\_\\_init__()</a> method that creates <i>.name</i> and <i>.age</i> attributes:\n",
    "```python\n",
    "class Dog:\n",
    "    def __init__(self, name, age):\n",
    "        self.name = name\n",
    "        self.age = age\n",
    "```\n",
    "\n",
    "Notice that the <a href='https://docs.python.org/3/reference/datamodel.html#object.__init__'>.\\_\\_init__()</a> method’s signature is indented four spaces. The body of the method is indented by eight spaces. This indentation is vitally important. It tells Python that the <a href='https://docs.python.org/3/reference/datamodel.html#object.__init__'>.\\_\\_init__()</a> method belongs to the <font color='blue'><b>Dog</b></font> class.\n",
    "\n",
    "In the body of <a href='https://docs.python.org/3/reference/datamodel.html#object.__init__'>.\\_\\_init__()</a>, there are two statements using the self variable:\n",
    "* `self.name = name` creates an attribute called <i>name</i> and assigns to it the value of the <i>name</i> parameter.\n",
    "* `self.age = age` creates an attribute called <i>age</i> and assigns to it the value of the <i>age</i> parameter.\n",
    "\n",
    "<b>Attributes created in <a href='https://docs.python.org/3/reference/datamodel.html#object.__init__'>.\\_\\_init__()</a> are called <font color='darkblue'>instance attributes</font></b>. An instance attribute’s value is specific to a particular instance of the class. All <font color='blue'><b>Dog</b></font> objects have a <i>name</i> and an <i>age</i>, but the values for the <i>name</i> and <i>age</i> attributes will vary depending on the <font color='blue'><b>Dog</b></font> instance.\n",
    "\n",
    "On the other hand, <b><font color='darkblue'>class attributes</font> are attributes that have the same value for all class instances</b>. You can define a class attribute by assigning a value to a variable name outside of <a href='https://docs.python.org/3/reference/datamodel.html#object.__init__'>.\\_\\_init__()</a>.\n",
    "\n",
    "For example, the following <font color='blue'><b>Dog</b></font> class has a class attribute called species with the value \"Canis familiaris\":\n",
    "```python\n",
    "class Dog:\n",
    "    # Class attribute\n",
    "    species = \"Canis familiaris\"\n",
    "\n",
    "    def __init__(self, name, age):\n",
    "        self.name = name\n",
    "        self.age = age\n",
    "```\n",
    "\n",
    "<b><font color='darkblue'>Class attributes</font> are defined directly beneath the first line of the class name and are indented by four spaces. They must always be assigned an initial value. When an instance of the class is created, class attributes are automatically created and assigned to their initial values.</b>\n",
    "\n",
    "Use class attributes to define properties that should have the same value for every class instance. <b>Use <font color='darkblue'>instance attributes</font> for properties that vary from one instance to another.</b>\n",
    "\n",
    "Now that we have a <font color='blue'><b>Dog</b></font> class, let’s create some dogs!"
   ]
  },
  {
   "cell_type": "markdown",
   "id": "1ccd56ca",
   "metadata": {},
   "source": [
    "<a id='sect1_3'></a>\n",
    "### <font color='darkgreen'>Instantiate an Object in Python</font>\n",
    "Type the following:"
   ]
  },
  {
   "cell_type": "code",
   "execution_count": 11,
   "id": "3750535e",
   "metadata": {},
   "outputs": [],
   "source": [
    "class Dog:\n",
    "    pass"
   ]
  },
  {
   "cell_type": "markdown",
   "id": "1275834e",
   "metadata": {},
   "source": [
    "This creates a new <font color='blue'><b>Dog</b></font> class  with no attributes or methods.\n",
    "\n",
    "<b>Creating a new object from a class is called <font color='darkblue'>instantiating an object</font>.</b> You can instantiate a new <font color='blue'><b>Dog</b></font> object by typing the name of the class, followed by opening and closing parentheses:"
   ]
  },
  {
   "cell_type": "code",
   "execution_count": 14,
   "id": "07485e15",
   "metadata": {},
   "outputs": [
    {
     "name": "stdout",
     "output_type": "stream",
     "text": [
      "a_dog=<__main__.Dog object at 0x7fc682734670> with id=140490568844912\n"
     ]
    }
   ],
   "source": [
    "a_dog = Dog()\n",
    "print(f'a_dog={a_dog} with id={id(a_dog)}')"
   ]
  },
  {
   "cell_type": "code",
   "execution_count": 16,
   "id": "1af98d88",
   "metadata": {},
   "outputs": [
    {
     "name": "stdout",
     "output_type": "stream",
     "text": [
      "a_dog=<__main__.Dog object at 0x7fc682734670> with id=140490568844912\n"
     ]
    }
   ],
   "source": [
    "# Let variable `b_dog` point to `a_dog`. So they share same object.\n",
    "# Same object means same memory address and id\n",
    "b_dog = a_dog\n",
    "print(f'a_dog={b_dog} with id={id(b_dog)}')"
   ]
  },
  {
   "cell_type": "markdown",
   "id": "13e2d7a0",
   "metadata": {},
   "source": [
    "You now have a new <font color='blue'><b>Dog</b></font> object at 0x7f6ad87e6a00. This funny-looking string of letters and numbers is a memory address that indicates where the <font color='blue'><b>Dog</b></font> object is stored in your computer’s memory. Note that the address you see on your screen will be different.\n",
    "\n",
    "Now instantiate a second <font color='blue'><b>Dog</b></font> object:"
   ]
  },
  {
   "cell_type": "code",
   "execution_count": 9,
   "id": "5b12427b",
   "metadata": {},
   "outputs": [
    {
     "data": {
      "text/plain": [
       "<__main__.Dog at 0x7fbb70218370>"
      ]
     },
     "execution_count": 9,
     "metadata": {},
     "output_type": "execute_result"
    }
   ],
   "source": [
    "Dog()"
   ]
  },
  {
   "cell_type": "markdown",
   "id": "7f8fbe8a",
   "metadata": {},
   "source": [
    "The new <font color='blue'><b>Dog</b></font> instance is located at a different memory address. That’s because it’s an entirely new instance and is completely unique from the first <font color='blue'><b>Dog</b></font> object that you instantiated.\n",
    "\n",
    "To see this another way, type the following:"
   ]
  },
  {
   "cell_type": "code",
   "execution_count": 10,
   "id": "dd9b07f5",
   "metadata": {},
   "outputs": [
    {
     "data": {
      "text/plain": [
       "False"
      ]
     },
     "execution_count": 10,
     "metadata": {},
     "output_type": "execute_result"
    }
   ],
   "source": [
    "d1, d2 = Dog(), Dog()\n",
    "d1 == d2"
   ]
  },
  {
   "cell_type": "markdown",
   "id": "e7d2d2aa",
   "metadata": {},
   "source": [
    "In this code, you create two new <font color='blue'><b>Dog</b></font> objects and assign them to the variables <i>d1</i> and <i>d2</i>. When you compare a and b using the `==` operator, the result is False. Even though <i>d1</i> and <i>d2</i> are both instances of the <font color='blue'><b>Dog</b></font> class, <b>they represent two distinct objects in memory</b>. ([Mapping operators to functions](https://docs.python.org/3/library/operator.html#mapping-operators-to-functions))"
   ]
  },
  {
   "cell_type": "code",
   "execution_count": 58,
   "id": "8c720bba",
   "metadata": {},
   "outputs": [
    {
     "name": "stdout",
     "output_type": "stream",
     "text": [
      "other is d2\n"
     ]
    },
    {
     "data": {
      "text/plain": [
       "True"
      ]
     },
     "execution_count": 58,
     "metadata": {},
     "output_type": "execute_result"
    }
   ],
   "source": [
    "class Dog:\n",
    "    def __init__(self, name):\n",
    "        self.name = name\n",
    "        \n",
    "    def __str__(self):\n",
    "        return self.name\n",
    "        \n",
    "    def __eq__(self, other):\n",
    "        print(f'other is {other}')\n",
    "        return isinstance(other, Dog)\n",
    "    \n",
    "d1, d2 = Dog('d1'), Dog('d2')\n",
    "d1 == d2"
   ]
  },
  {
   "cell_type": "markdown",
   "id": "bf49809f",
   "metadata": {},
   "source": [
    "<a id='sect1_4'></a>\n",
    "### <font color='darkgreen'>Class and Instance Attributes</font>\n",
    "Now create a new <font color='blue'><b>Dog</b></font> class with a class attribute called <i>`.species`</i> and two instance attributes called <i>`.name`</i> and <i>`.age`</i>:"
   ]
  },
  {
   "cell_type": "code",
   "execution_count": 60,
   "id": "55788977",
   "metadata": {},
   "outputs": [],
   "source": [
    "class Dog:\n",
    "    species = \"Golden retriever\" # 黃金獵犬\n",
    "    \n",
    "    def __init__(self, name, age):\n",
    "        self.name = name\n",
    "        self.age = age"
   ]
  },
  {
   "cell_type": "markdown",
   "id": "7796182d",
   "metadata": {},
   "source": [
    "To instantiate objects of this <font color='blue'><b>Dog</b></font> class, you need to provide values for the <i>name</i> and <i>age</i>. If you don’t, then Python raises a [**TypeError**](https://docs.python.org/3/library/exceptions.html#TypeError):"
   ]
  },
  {
   "cell_type": "code",
   "execution_count": 12,
   "id": "cd7aabc1",
   "metadata": {},
   "outputs": [],
   "source": [
    "# TypeError: __init__() missing 2 required positional arguments: 'name' and 'age'\n",
    "# Dog()"
   ]
  },
  {
   "cell_type": "markdown",
   "id": "0e42993d",
   "metadata": {},
   "source": [
    "To pass arguments to the <i>name</i> and <i>age</i> parameters, put values into the parentheses after the class name:"
   ]
  },
  {
   "cell_type": "code",
   "execution_count": 61,
   "id": "2490b12e",
   "metadata": {},
   "outputs": [],
   "source": [
    "buddy = Dog(\"Buddy\", 9)\n",
    "miles = Dog(\"Miles\", 4)\n",
    "miky = Dog(age=2, name='Miky')"
   ]
  },
  {
   "cell_type": "markdown",
   "id": "a28ec670",
   "metadata": {},
   "source": [
    "This creates three new <font color='blue'><b>Dog</b></font> instances—one for a nine-year-old dog named Buddy, one for a four-year-old dog named Miles and one for a two years-old Miky.\n",
    "\n",
    "The <a href='https://docs.python.org/3/reference/datamodel.html#object.__init__'>.\\_\\_init__()</a> class’s <a href='https://docs.python.org/3/reference/datamodel.html#object.__init__'>.\\_\\_init__()</a> method has three parameters, so why are only two arguments passed to it in the example?\n",
    "\n",
    "<b>When you instantiate a <a href='https://docs.python.org/3/reference/datamodel.html#object.__init__'>.\\_\\_init__()</a> object, Python creates a new instance and passes it to the first parameter of <a href='https://docs.python.org/3/reference/datamodel.html#object.__init__'>.\\_\\_init__()</a>. This essentially removes the `self` parameter, so you only need to worry about the <i>name</i> and <i>age</i> parameters.</b>\n",
    "\n",
    "After you create the <font color='blue'><b>Dog</b></font> instances, you can access their instance attributes using dot notation:"
   ]
  },
  {
   "cell_type": "code",
   "execution_count": 62,
   "id": "47057ca2",
   "metadata": {},
   "outputs": [
    {
     "name": "stdout",
     "output_type": "stream",
     "text": [
      "Buddy, 9\n",
      "Miles, 4\n"
     ]
    }
   ],
   "source": [
    "print(f\"{buddy.name}, {buddy.age}\")\n",
    "print(f\"{miles.name}, {miles.age}\")"
   ]
  },
  {
   "cell_type": "markdown",
   "id": "c750f129",
   "metadata": {},
   "source": [
    "You can access <font color='darkblue'><b>class attributes</b></font> the same way:"
   ]
  },
  {
   "cell_type": "code",
   "execution_count": 63,
   "id": "8f99facd",
   "metadata": {},
   "outputs": [
    {
     "name": "stdout",
     "output_type": "stream",
     "text": [
      "Golden retriever == Golden retriever\n"
     ]
    }
   ],
   "source": [
    "print(f\"{buddy.species} == {miles.species}\")"
   ]
  },
  {
   "cell_type": "markdown",
   "id": "155e144c",
   "metadata": {},
   "source": [
    "<b>One of the biggest advantages of using classes to organize data is that instances are guaranteed to have the attributes you expect.</b> All <font color='blue'><b>Dog</b></font> instances have <i>.species</i>, <i>.name</i>, and <i>.age</i> attributes, so you can use those attributes with confidence knowing that they will always return a value.\n",
    "\n",
    "Although the attributes are guaranteed to exist, their values can be changed dynamically:"
   ]
  },
  {
   "cell_type": "code",
   "execution_count": 64,
   "id": "8f0bc75c",
   "metadata": {},
   "outputs": [
    {
     "name": "stdout",
     "output_type": "stream",
     "text": [
      "10\n",
      "Felis silvestris\n",
      "Golden retriever\n"
     ]
    }
   ],
   "source": [
    "buddy.age = 10\n",
    "print(f\"{buddy.age}\")\n",
    "\n",
    "miles.species = \"Felis silvestris\"\n",
    "print(f\"{miles.species}\")\n",
    "\n",
    "# Guess the output here. \"Felis silvestris\" or \"Golden retriever\"\n",
    "print(f\"{buddy.species}\")   "
   ]
  },
  {
   "cell_type": "code",
   "execution_count": 65,
   "id": "bf4c1a0b",
   "metadata": {},
   "outputs": [
    {
     "data": {
      "text/plain": [
       "False"
      ]
     },
     "execution_count": 65,
     "metadata": {},
     "output_type": "execute_result"
    }
   ],
   "source": [
    "id(miles.species) == id(buddy.species)"
   ]
  },
  {
   "cell_type": "markdown",
   "id": "8ae7495f",
   "metadata": {},
   "source": [
    "<b>The key takeaway here is that custom objects are mutable by default</b>. An object is mutable if it can be altered dynamically. For example, lists and [**dictionaries**](https://realpython.com/python-dicts/) are mutable, but strings and tuples are immutable."
   ]
  },
  {
   "cell_type": "code",
   "execution_count": 66,
   "id": "5de35c07",
   "metadata": {},
   "outputs": [
    {
     "data": {
      "text/plain": [
       "['Buddy', 10]"
      ]
     },
     "execution_count": 66,
     "metadata": {},
     "output_type": "execute_result"
    }
   ],
   "source": [
    "l = ['Buddy', 9, ] # list\n",
    "l[1] = 10\n",
    "l"
   ]
  },
  {
   "cell_type": "code",
   "execution_count": 68,
   "id": "beb98ed5",
   "metadata": {},
   "outputs": [],
   "source": [
    "# TypeError: 'tuple' object does not support item assignment\n",
    "#t = ('Buddy', 9, )\n",
    "#t[1] = 10"
   ]
  },
  {
   "cell_type": "markdown",
   "id": "e29e7826",
   "metadata": {},
   "source": [
    "<a id='sect1_5'></a>\n",
    "### <font color='darkgreen'>Instance Methods</font>\n",
    "<b><font color='darkblue'>Instance methods</font> are functions that are defined inside a class and can only be called from an instance of that class.</b> Just like <a href='https://docs.python.org/3/reference/datamodel.html#object.__init__'>.\\_\\_init__()</a>, an instance method’s first parameter is always `self`.\n",
    "\n",
    "To illustrate how it works, let's extend out <font color='blue'><b>Dog</b></font> class:"
   ]
  },
  {
   "cell_type": "code",
   "execution_count": 69,
   "id": "1a181260",
   "metadata": {},
   "outputs": [],
   "source": [
    "class Dog:\n",
    "    species = \"Golden retriever\"\n",
    "\n",
    "    def __init__(self, name, age):\n",
    "        self.name = name\n",
    "        self.age = age\n",
    "\n",
    "    # Instance method\n",
    "    def description(self):\n",
    "        \"\"\"Gets the description of dog\n",
    "        \n",
    "        Returns:\n",
    "            str, the description of dog\n",
    "        \"\"\"\n",
    "        return f\"{self.name} is {self.age} years old\"\n",
    "\n",
    "    # Another instance method    \n",
    "    def speak(self, sound):\n",
    "        \"\"\"Makes dog speak\n",
    "        \n",
    "        Args:\n",
    "            sound: str, the sound to make.\n",
    "            \n",
    "        Returns:\n",
    "            str, the sound made by the dog.\n",
    "        \"\"\"\n",
    "        return f\"{self.name} says {sound}\""
   ]
  },
  {
   "cell_type": "markdown",
   "id": "f81bf08c",
   "metadata": {},
   "source": [
    "This <font color='blue'><b>Dog</b></font> class has two instance methods:\n",
    "1. <font color='blue'>.description()</font> returns a string displaying the name and age of the dog.\n",
    "2. <font color='blue'>.speak()</font> has one parameter called sound and returns a string containing the dog’s name and the sound the dog makes.\n",
    "\n",
    "Let's play with this enhanced <font color='blue'><b>Dog</b></font> class now:"
   ]
  },
  {
   "cell_type": "code",
   "execution_count": 70,
   "id": "f3d5c7cc",
   "metadata": {},
   "outputs": [
    {
     "data": {
      "text/plain": [
       "'Miles is 4 years old'"
      ]
     },
     "execution_count": 70,
     "metadata": {},
     "output_type": "execute_result"
    }
   ],
   "source": [
    "miles = Dog(\"Miles\", 4)\n",
    "miles.description()"
   ]
  },
  {
   "cell_type": "code",
   "execution_count": 71,
   "id": "6f6459a3",
   "metadata": {},
   "outputs": [
    {
     "data": {
      "text/plain": [
       "'Miles says Woof Woof'"
      ]
     },
     "execution_count": 71,
     "metadata": {},
     "output_type": "execute_result"
    }
   ],
   "source": [
    "miles.speak(\"Woof Woof\")"
   ]
  },
  {
   "cell_type": "code",
   "execution_count": 72,
   "id": "68abe9ef",
   "metadata": {},
   "outputs": [
    {
     "data": {
      "text/plain": [
       "'Miles says Bow Wow'"
      ]
     },
     "execution_count": 72,
     "metadata": {},
     "output_type": "execute_result"
    }
   ],
   "source": [
    "miles.speak(\"Bow Wow\")"
   ]
  },
  {
   "cell_type": "markdown",
   "id": "39dcf933",
   "metadata": {},
   "source": [
    "<b>When writing your own classes, it’s a good idea to have a method that returns a string containing useful information about an instance of the class</b>. However, <font color='blue'>.description()</font> isn’t the most [Pythonic](https://realpython.com/learning-paths/writing-pythonic-code/) way of doing this.\n",
    "\n",
    "When you create a list object, you can use [print()](https://docs.python.org/3/library/functions.html#print) to display a string that looks like the list:"
   ]
  },
  {
   "cell_type": "code",
   "execution_count": 31,
   "id": "d8c0c553",
   "metadata": {},
   "outputs": [
    {
     "name": "stdout",
     "output_type": "stream",
     "text": [
      "['Fletcher', 'David', 'Dan']\n"
     ]
    }
   ],
   "source": [
    "names = [\"Fletcher\", \"David\", \"Dan\"]\n",
    "print(names)"
   ]
  },
  {
   "cell_type": "markdown",
   "id": "660009be",
   "metadata": {},
   "source": [
    "Let’s see what happens when you [print()](https://docs.python.org/3/library/functions.html#print) the <i>miles</i> object:"
   ]
  },
  {
   "cell_type": "code",
   "execution_count": 73,
   "id": "5acf3d88",
   "metadata": {},
   "outputs": [
    {
     "name": "stdout",
     "output_type": "stream",
     "text": [
      "<__main__.Dog object at 0x7fc681c24910>\n"
     ]
    }
   ],
   "source": [
    "print(miles)"
   ]
  },
  {
   "cell_type": "markdown",
   "id": "0347974c",
   "metadata": {},
   "source": [
    "When you <font color='blue'>print(miles)</font>, you get a cryptic looking message telling you that miles is a <font color='blue'><b>Dog</b></font> object at the memory address 0x7f6ad86a9670. This message isn’t very helpful. You can change what gets printed by defining a special instance method called <a href='https://docs.python.org/3/reference/datamodel.html#object.__str__'>.\\_\\_str__()</a>.\n",
    "\n",
    "In the editor window, change the name of the Dog class’s <font color='blue'>.description()</font> method to <a href='https://docs.python.org/3/reference/datamodel.html#object.__str__'>.\\_\\_str__()</a>:"
   ]
  },
  {
   "cell_type": "code",
   "execution_count": 74,
   "id": "72d3f6f0",
   "metadata": {},
   "outputs": [],
   "source": [
    "class Dog:\n",
    "    species = \"Golden retriever\"\n",
    "    \n",
    "    def __init__(self, name, age):\n",
    "        self.name = name\n",
    "        self.age = age\n",
    "\n",
    "    # Replace .description() with __str__()\n",
    "    def __str__(self):\n",
    "        return f\"{self.name} is {self.age} years old\""
   ]
  },
  {
   "cell_type": "code",
   "execution_count": 75,
   "id": "506ac188",
   "metadata": {},
   "outputs": [
    {
     "name": "stdout",
     "output_type": "stream",
     "text": [
      "Miles is 4 years old\n"
     ]
    }
   ],
   "source": [
    "miles = Dog(\"Miles\", 4)\n",
    "print(miles)  # miles.__str__ is called implicitly"
   ]
  },
  {
   "cell_type": "markdown",
   "id": "34589e33",
   "metadata": {},
   "source": [
    "Methods like <a href='https://docs.python.org/3/reference/datamodel.html#object.__str__'>.\\_\\_str__()</a> and <a href='https://docs.python.org/3/reference/datamodel.html#object.__init__'>.\\_\\_init__()</a> are called <font color='darkblue'><b>dunder methods</b></font> because they begin and end with double underscores. There are many dunder methods that you can use to customize classes in Python. Although too advanced a topic for a beginning Python book, understanding dunder methods is an important part of mastering object-oriented programming in Python. (<font color='brown'>For more, check <a href='https://docs.python.org/3/reference/datamodel.html#object.__str__'>Data Model</a></font>)\n",
    "\n",
    "In the next section, you’ll see how to take your knowledge one step further and create classes from other classes."
   ]
  },
  {
   "cell_type": "markdown",
   "id": "bf4d9be8",
   "metadata": {},
   "source": [
    "<a id='sect1_6'></a>\n",
    "### <font color='darkgreen'>Inherit From Other Classes in Python</font>\n",
    "<font size='3ptx'><b><a href='https://realpython.com/inheritance-composition-python/'>Inheritance</a> is the process by which one class takes on the attributes and methods of another</b></font>. Newly formed classes are called <font color='darkblue'><b>child classes</b></font>, and the classes that <font color='darkblue'><b>child classes</b></font> are derived from are called <font color='darkblue'><b>parent classes</b></font>.\n",
    "> <font color='darkred'><b>Note</b></font>: This tutorial is adapted from the chapter “<b>Object-Oriented Programming (OOP)</b>” in [Python Basics: A Practical Introduction to Python 3](https://realpython.com/products/python-basics-book/). If you enjoy what you’re reading, then be sure to check out the rest of the book.\n",
    "\n",
    "<b>Child classes can override or extend the attributes and methods of parent classes.</b> In other words, child classes inherit all of the parent’s attributes and methods but can also specify attributes and methods that are unique to themselves.\n",
    "\n",
    "Although the analogy isn’t perfect, you can think of object inheritance sort of like genetic inheritance.\n",
    "\n",
    "You may have inherited your hair color from your mother. It’s an attribute you were born with. Let’s say you decide to color your hair purple. Assuming your mother doesn’t have purple hair, you’ve just <font color='darkblue'><b>overridden</b></font> the hair color attribute that you inherited from your mom.\n",
    "\n",
    "You also inherit, in a sense, your language from your parents. If your parents speak English, then you’ll also speak English. Now imagine you decide to learn a second language, like German. In this case you’ve <font color='darkblue'><b>extended</b></font> your attributes because you’ve added an attribute that your parents don’t have."
   ]
  },
  {
   "cell_type": "markdown",
   "id": "ef26a871",
   "metadata": {},
   "source": [
    "<a id='sect1_6_1'></a>\n",
    "#### Dog Park Example\n",
    "Pretend for a moment that you’re at a dog park. There are many dogs of different breeds at the park, all engaging in various dog behaviors. Suppose now that you want to model the dog park with Python classes. The <font color='blue'><b>Dog</b></font> class that you wrote in the previous section can distinguish dogs by <i>name</i> and <i>age</i> but not by breed.\n",
    "\n",
    "You could modify the <font color='blue'><b>Dog</b></font> class by adding a <i>.breed</i> attribute:"
   ]
  },
  {
   "cell_type": "code",
   "execution_count": 76,
   "id": "e4a1f581",
   "metadata": {},
   "outputs": [],
   "source": [
    "class Dog:\n",
    "    species = \"Golden retriever\"\n",
    "\n",
    "    def __init__(self, name, age, breed):\n",
    "        self.name = name\n",
    "        self.age = age\n",
    "        self.breed = breed"
   ]
  },
  {
   "cell_type": "markdown",
   "id": "d9987bd7",
   "metadata": {},
   "source": [
    "Now you can model the dog park by instantiating a bunch of different dogs in the interactive window:"
   ]
  },
  {
   "cell_type": "code",
   "execution_count": 77,
   "id": "88b264ce",
   "metadata": {},
   "outputs": [],
   "source": [
    "miles = Dog(\"Miles\", 4, \"Jack Russell Terrier\")\n",
    "buddy = Dog(\"Buddy\", 9, \"Dachshund\")\n",
    "jack = Dog(\"Jack\", 3, \"Bulldog\")\n",
    "jim = Dog(\"Jim\", 5, \"Bulldog\")"
   ]
  },
  {
   "cell_type": "markdown",
   "id": "f00b4d49",
   "metadata": {},
   "source": [
    "Each breed of dog has slightly different behaviors. For example, bulldogs have a low bark that sounds like woof, but dachshunds have a higher-pitched bark that sounds more like yap.\n",
    "\n",
    "Using just the <font color='blue'><b>Dog</b></font> class, you must supply a string for the sound argument of <font color='blue'>.speak()</font> every time you call it on a <font color='blue'><b>Dog</b></font> instance:\n",
    "```python\n",
    ">>> buddy.speak(\"Yap\")\n",
    "'Buddy says Yap'\n",
    "\n",
    ">>> jim.speak(\"Woof\")\n",
    "'Jim says Woof'\n",
    "\n",
    ">>> jack.speak(\"Woof\")\n",
    "'Jack says Woof'\n",
    "```\n",
    "\n",
    "Passing a string to every call to <font color='blue'>.speak()</font> is repetitive and inconvenient. Moreover, the string representing the sound that each <font color='blue'><b>Dog</b></font> instance makes should be determined by its .breed attribute, but here you have to manually pass the correct string to <font color='blue'>.speak()</font> every time it’s called.\n",
    "\n",
    "You can simplify the experience of working with the <font color='blue'><b>Dog</b></font> class by creating a child class for each breed of dog. <b>This allows you to extend the functionality that each child class inherits, including specifying a default argument for <font color='blue'>.speak()</font>.</b>"
   ]
  },
  {
   "cell_type": "markdown",
   "id": "d5130cda",
   "metadata": {},
   "source": [
    "<a id='sect1_6_2'></a>\n",
    "#### Parent Classes vs Child Classes\n",
    "Let’s create a child class for each of the three breeds mentioned above: `Jack Russell Terrier`, `Dachshund`, and `Bulldog`.\n",
    "\n",
    "For reference, here’s the full definition of the <font color='blue'><b>Dog</b></font> class:"
   ]
  },
  {
   "cell_type": "code",
   "execution_count": 78,
   "id": "d6908c07",
   "metadata": {},
   "outputs": [],
   "source": [
    "class Dog:\n",
    "    species = \"Canis familiaris\"\n",
    "\n",
    "    def __init__(self, name, age):\n",
    "        self.name = name\n",
    "        self.age = age\n",
    "\n",
    "    def __str__(self):\n",
    "        return f\"{self.name} is {self.age} years old\"\n",
    "\n",
    "    def speak(self, sound):\n",
    "        return f\"{self.name} says {sound}\""
   ]
  },
  {
   "cell_type": "markdown",
   "id": "3588f33f",
   "metadata": {},
   "source": [
    "Remember, to create a child class, you create new class with its own name and then put the name of the parent class in parentheses. For example:"
   ]
  },
  {
   "cell_type": "code",
   "execution_count": 36,
   "id": "96c044af",
   "metadata": {},
   "outputs": [],
   "source": [
    "class JackRussellTerrier(Dog):\n",
    "    pass\n",
    "\n",
    "class Dachshund(Dog):\n",
    "    pass\n",
    "\n",
    "class Bulldog(Dog):\n",
    "    pass"
   ]
  },
  {
   "cell_type": "markdown",
   "id": "e94f2c9a",
   "metadata": {},
   "source": [
    "You can now instantiate some dogs of specific breeds in the interactive window:"
   ]
  },
  {
   "cell_type": "code",
   "execution_count": 79,
   "id": "6d77e750",
   "metadata": {},
   "outputs": [],
   "source": [
    "miles = JackRussellTerrier(\"Miles\", 4)\n",
    "buddy = Dachshund(\"Buddy\", 9)\n",
    "jack = Bulldog(\"Jack\", 3)\n",
    "jim = Bulldog(\"Jim\", 5)"
   ]
  },
  {
   "cell_type": "markdown",
   "id": "d0b60c6e",
   "metadata": {},
   "source": [
    "<b>Instances of child classes inherit all of the attributes and methods of the parent class:</b>"
   ]
  },
  {
   "cell_type": "code",
   "execution_count": 80,
   "id": "5ac4fddd",
   "metadata": {},
   "outputs": [
    {
     "name": "stdout",
     "output_type": "stream",
     "text": [
      "miles's species is Canis familiaris\n",
      "boddy's name is Buddy\n",
      "Jack is 3 years old\n",
      "Jim says Woof\n"
     ]
    }
   ],
   "source": [
    "print(f'miles\\'s species is {miles.species}')\n",
    "print(f'boddy\\'s name is {buddy.name}')\n",
    "print(jack)\n",
    "print(jim.speak(\"Woof\"))"
   ]
  },
  {
   "cell_type": "markdown",
   "id": "a360b6c3",
   "metadata": {},
   "source": [
    "To determine which class a given object belongs to, you can use the built-in [type()](https://docs.python.org/3/library/functions.html#type):"
   ]
  },
  {
   "cell_type": "code",
   "execution_count": 81,
   "id": "9aa86f6e",
   "metadata": {},
   "outputs": [
    {
     "name": "stdout",
     "output_type": "stream",
     "text": [
      "type(miles): <class '__main__.JackRussellTerrier'>\n",
      "Is miles of type of JackRussellTerrier? True\n"
     ]
    }
   ],
   "source": [
    "print(f\"type(miles): {type(miles)}\")\n",
    "print(\"Is miles of type of JackRussellTerrier? {}\".format(type(miles) == JackRussellTerrier))"
   ]
  },
  {
   "cell_type": "code",
   "execution_count": 82,
   "id": "67c9cf06",
   "metadata": {},
   "outputs": [
    {
     "data": {
      "text/plain": [
       "37625504"
      ]
     },
     "execution_count": 82,
     "metadata": {},
     "output_type": "execute_result"
    }
   ],
   "source": [
    "id(type(miles))"
   ]
  },
  {
   "cell_type": "code",
   "execution_count": 83,
   "id": "4ecebbd1",
   "metadata": {},
   "outputs": [
    {
     "data": {
      "text/plain": [
       "37625504"
      ]
     },
     "execution_count": 83,
     "metadata": {},
     "output_type": "execute_result"
    }
   ],
   "source": [
    "id(JackRussellTerrier)"
   ]
  },
  {
   "cell_type": "markdown",
   "id": "a8c2e9a2",
   "metadata": {},
   "source": [
    "What if you want to determine if miles is also an instance of the <font color='blue'><b>Dog</b></font> class? You can do this with the built-in [isinstance()](https://docs.python.org/3/library/functions.html#isinstance):\n",
    "![1.png](images/1.PNG)\n",
    "<br/>"
   ]
  },
  {
   "cell_type": "code",
   "execution_count": 86,
   "id": "fcb1eec9",
   "metadata": {},
   "outputs": [
    {
     "name": "stdout",
     "output_type": "stream",
     "text": [
      "True\n",
      "False\n",
      "False\n"
     ]
    }
   ],
   "source": [
    "print(isinstance(miles, JackRussellTerrier)) # Is object `miles` created from class Jack\n",
    "\n",
    "# Q1: True or False?\n",
    "print(isinstance(miles, Dog))\n",
    "\n",
    "# Q2: True of False?\n",
    "print(isinstance(buddy, JackRussellTerrier))"
   ]
  },
  {
   "cell_type": "markdown",
   "id": "f1a273ac",
   "metadata": {},
   "source": [
    "**More generally, all objects created from a child class are instances of the parent class, although they may not be instances of other child classes.** Now that you’ve created child classes for some different breeds of dogs, let’s give each breed its own sound."
   ]
  },
  {
   "cell_type": "markdown",
   "id": "f4d530cd",
   "metadata": {},
   "source": [
    "<a id='sect1_6_3'></a>\n",
    "#### Extend the Functionality of a Parent Class\n",
    "Since different breeds of dogs have slightly different barks, you want to provide a default value for the sound argument of their respective <font color='blue'>.speak()</font> methods. To do this, you need to override <font color='blue'>.speak()</font> in the class definition for each breed.\n",
    "\n",
    "**To override a method defined on the parent class, you define a method with the same name on the child class**. Here’s what that looks like for the <font color='blue'><b>JackRussellTerrier</b></font> class:"
   ]
  },
  {
   "cell_type": "code",
   "execution_count": 87,
   "id": "c2f13eb2",
   "metadata": {},
   "outputs": [],
   "source": [
    "class JackRussellTerrier(Dog):\n",
    "    def speak(self, sound=\"Arf\"):\n",
    "        return f\"{self.name} speak {sound}\""
   ]
  },
  {
   "cell_type": "markdown",
   "id": "75d64498",
   "metadata": {},
   "source": [
    "Now <font color='blue'>.speak()</font> is defined on the <font color='blue'><b>JackRussellTerrier</b></font> class with the default argument for sound set to \"Arf\"."
   ]
  },
  {
   "cell_type": "code",
   "execution_count": 88,
   "id": "3d76f8f1",
   "metadata": {},
   "outputs": [
    {
     "data": {
      "text/plain": [
       "'Miles speak Arf'"
      ]
     },
     "execution_count": 88,
     "metadata": {},
     "output_type": "execute_result"
    }
   ],
   "source": [
    "miles = JackRussellTerrier(\"Miles\", 4)\n",
    "miles.speak()"
   ]
  },
  {
   "cell_type": "markdown",
   "id": "afff6d3d",
   "metadata": {},
   "source": [
    "Sometimes dogs make different barks, so if Miles gets angry and growls, you can still call <font color='blue'>.speak()</font> with a different sound:"
   ]
  },
  {
   "cell_type": "code",
   "execution_count": 43,
   "id": "2ec85d44",
   "metadata": {},
   "outputs": [
    {
     "data": {
      "text/plain": [
       "'Miles says Grrr'"
      ]
     },
     "execution_count": 43,
     "metadata": {},
     "output_type": "execute_result"
    }
   ],
   "source": [
    "miles.speak(\"Grrr\")"
   ]
  },
  {
   "cell_type": "markdown",
   "id": "df5e229c",
   "metadata": {},
   "source": [
    "**One thing to keep in mind about class inheritance is that changes to the parent class automatically propagate to child classes**. This occurs as long as the attribute or method being changed isn’t overridden in the child class."
   ]
  },
  {
   "cell_type": "code",
   "execution_count": 89,
   "id": "a548e670",
   "metadata": {},
   "outputs": [
    {
     "name": "stdout",
     "output_type": "stream",
     "text": [
      "Speak Hi to Karen\n",
      "Say Hi to Karen\n"
     ]
    }
   ],
   "source": [
    "class P:\n",
    "    MESSAGE = 'Hi'\n",
    "    \n",
    "    def greeting(self, name):\n",
    "        return f\"Say {self.MESSAGE} to {name}\"\n",
    "    \n",
    "class C(P):\n",
    "    def greeting(self, name='Karen'):\n",
    "        return f\"Speak {self.MESSAGE} to {name}\"\n",
    "    \n",
    "    def g(self, name='Karen', by_super=False):\n",
    "        if by_super:\n",
    "            return super().greeting(name)\n",
    "        else:\n",
    "            return self.greeting(name)\n",
    "    \n",
    "c1 = C()\n",
    "print(c1.g())                # Use greeting from C\n",
    "print(c1.g(by_super=True))   # Use greeting from P"
   ]
  },
  {
   "cell_type": "code",
   "execution_count": 55,
   "id": "1d800a9c",
   "metadata": {},
   "outputs": [
    {
     "data": {
      "text/plain": [
       "'Speak Hello to Karen'"
      ]
     },
     "execution_count": 55,
     "metadata": {},
     "output_type": "execute_result"
    }
   ],
   "source": [
    "# Change parent class's MESSAGE\n",
    "P.MESSAGE = 'Hello'\n",
    "\n",
    "c2 = C()\n",
    "c2.g()   # The behavior of child class is changed too"
   ]
  },
  {
   "cell_type": "markdown",
   "id": "52a6d338",
   "metadata": {},
   "source": [
    "You can access the parent class from inside a method of a child class by using [super()](https://docs.python.org/3/library/functions.html#super):\n",
    "> <b><font color='darkred'>Note</font></b>: In the above examples, the class hierarchy is very straightforward. The <b><font color='blue'>JackRussellTerrier</font></b> class has a single parent class, <font color='blue'><b>Dog</b></font>. In real-world examples, the class hierarchy can get quite complicated.\n",
    "> [super()](https://docs.python.org/3/library/functions.html#super) does much more than just search the parent class for a method or an attribute. It traverses the entire class hierarchy for a matching method or attribute. If you aren’t careful, [super()](https://docs.python.org/3/library/functions.html#super) can have surprising results."
   ]
  },
  {
   "cell_type": "markdown",
   "id": "df4352b6",
   "metadata": {},
   "source": [
    "<a id='sect2'></a>\n",
    "## <font color='darkblue'>Homework 3</font>\n",
    "又到了有趣的 Homework 時間, 請參考下面 Class Diagram:\n",
    "![class diagram](images/Homework3_Classdiagram.PNG)\n",
    "<br/>"
   ]
  },
  {
   "cell_type": "markdown",
   "id": "01921b35",
   "metadata": {},
   "source": [
    "底下是測試代碼:\n",
    "```python\n",
    "# 只點主餐\n",
    "fc = FriedChicken()\n",
    "hb = Hambuger()\n",
    "print(fc)               # 預期看到 \"炸雞 (50)\"\n",
    "print(fc.get_name())    # 預期看到 \"炸雞\"\n",
    "print(fc.get_price())   # 預期看到 50\n",
    "print(hb)               # 預期看到 \"漢堡 (30)\"\n",
    "print(hb.get_name())    # 預期看到 \"漢堡\"\n",
    "print(hb.get_price())   # 預期看到 30\n",
    "\n",
    "# 點 主餐 + 附餐\n",
    "sd1 = SideDish1(fc)\n",
    "sd2 = SideDish2(hb)\n",
    "\n",
    "print(sd1)              # 預期看到 \"炸雞|可樂|薯條 (80)\"\n",
    "print(sd1.drink)        # 預期看到 \"可樂\"\n",
    "print(sd1.snack)        # 預期看到 \"薯條\"\n",
    "print(sd1.main_meal)    # 預期看到 \"炸雞 (50)\"\n",
    "print(sd1.get_name())   # 預期看到 \"炸雞|可樂|薯條\n",
    "print(sd1.get_price())  # 預期看到 80\n",
    "\n",
    "print(sd2)              # 預期看到 \"漢堡|紅茶|雞塊 (90)\"\n",
    "print(sd2.drink)        # 預期看到 \"紅茶\"\n",
    "print(sd2.snack)        # 預期看到 \"雞塊\"\n",
    "print(sd2.main_meal)    # 預期看到 \"漢堡 (30)\"\n",
    "print(sd2.get_name())   # 預期看到 \"漢堡|紅茶|雞塊\n",
    "print(sd2.get_price())  # 預期看到 90\n",
    "\n",
    "sd1 = SideDish1(hb)\n",
    "print(sd1)              # 預期看到 ?\n",
    "print(sd1.drink)        # 預期看到 ?\n",
    "print(sd1.snack)        # 預期看到 ?\n",
    "print(sd1.get_name())   # 預期看到 ?\n",
    "print(sd1.get_price())  # 預期看到 ?\n",
    "```"
   ]
  },
  {
   "cell_type": "markdown",
   "id": "181ac2d7",
   "metadata": {},
   "source": [
    "## <font color='darkblue'>Supplement</font>\n",
    "* [RealPython - Python's Instance, Class, and Static Methods Demystified](https://realpython.com/instance-class-and-static-methods-demystified/)\n",
    "> In this tutorial I’ll help demystify what’s behind class methods, static methods, and regular instance methods...\n",
    "* [TutorialsTeacher: Python - Magic or Dunder Methods](https://www.tutorialsteacher.com/python/magic-methods-in-python)\n",
    "* [Youtube - Object-oriented Programming in 7 minutes | Mosh](https://www.youtube.com/watch?v=pTB0EiLXUC8)\n",
    "> 4 pillars of object-oriented programming: encapsulation, abstraction, inheritance and polymorphism. \n",
    "* [RealPython - Inheritance and Composition: A Python OOP Guide](https://realpython.com/inheritance-composition-python/)\n",
    "> <b>Inheritance</b> and <b>composition</b> are two major concepts in object oriented programming that model the relationship between two classes. They drive the design of an application and determine how the application should evolve as new features are added or requirements change.\n",
    "* [Yourube - Python Object Oriented Programming (OOP) - For Beginners](https://www.youtube.com/watch?v=JeznW_7DlB0)\n",
    "> In this beginner object oriented programming tutorial I will be covering everything you need to know about classes, objects and OOP in python. <b>This tutorial is designed for beginner python programmers and will give you a strong foundation in object oriented principles</b>.\n",
    "* [Linkin course - Python OO Programming](https://www.linkedin.com/learning/python-object-oriented-programming/python-object-oriented-programming?autoplay=true&resume=false&u=56685617)"
   ]
  }
 ],
 "metadata": {
  "kernelspec": {
   "display_name": "Python 3 (ipykernel)",
   "language": "python",
   "name": "python3"
  },
  "language_info": {
   "codemirror_mode": {
    "name": "ipython",
    "version": 3
   },
   "file_extension": ".py",
   "mimetype": "text/x-python",
   "name": "python",
   "nbconvert_exporter": "python",
   "pygments_lexer": "ipython3",
   "version": "3.9.9"
  }
 },
 "nbformat": 4,
 "nbformat_minor": 5
}
