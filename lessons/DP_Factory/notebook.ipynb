{
 "cells": [
  {
   "cell_type": "markdown",
   "id": "9de0a91e-d77f-489c-a947-1fa8c450f31a",
   "metadata": {},
   "source": [
    "## <b><font color='darkblue'>Preface</font></b>\r\n",
    "<b><font size='3ptx'>Define an interface for creating an object, but let subclasses decide which class to instantiate. Factory Method lets a class defer instantiation to subclasses. [By Gang of Four](https://en.wikipedia.org/wiki/Design_Patterns) </font> </b>\r\n",
    "\r\n",
    "![ui](images/factory.png)\r\n",
    "\r\n",
    "<font size='3ptx'>[**Creational patterns**](https://en.wikipedia.org/wiki/Design_Patterns#Creational)</font> are ones that create objects, rather than having to instantiate objects directly. This gives the program more flexibility in deciding which objects need to be created for a given case.\r\n",
    "* **Simple factory** or **static factory** method which uses a simple method to create objects from same interface.\r\n",
    "* **[Abstract factory](https://en.wikipedia.org/wiki/Abstract_factory_pattern)** groups object factories that have a common theme.\r\n",
    "* [Builder](https://en.wikipedia.org/wiki/Builder_pattern) constructs complex objects by separating construction and representation.\r\n",
    "* [**Factory method**](https://en.wikipedia.org/wiki/Factory_method_pattern) creates objects without specifying the exact class to create.\r\n",
    "* [**Prototype**](https://en.wikipedia.org/wiki/Prototype_pattern) creates objects by cloning an existing object.\r\n",
    "* [**Singleton**](https://en.wikipedia.org/wiki/Singleton_pattern) restricts object creation for a class to only one instance.e instance.e instance. instance.nce.ng)"
   ]
  },
  {
   "cell_type": "code",
   "execution_count": 2,
   "id": "3f411cb3-ff21-4130-8ef8-7f3c20eb6a1a",
   "metadata": {},
   "outputs": [],
   "source": [
    "import enum\n",
    "from typing import Protocol"
   ]
  },
  {
   "cell_type": "markdown",
   "id": "08c77139-7583-44ae-b986-0df2d5fc2737",
   "metadata": {},
   "source": [
    "## <b><font color='darkblue'>Simple Factory</font></b>\n",
    "<b><font size='3ptx'>目的：定義一個簡單工廠，傳入不同的參數取得不同的類別物件</font></b>\n",
    "> 簡單工廠又稱為靜態工廠模式，一般來說同一工廠內所產生的類別會有一個共同的父類別(介面)\n",
    "> 簡單工廠模式是一種管理物件創建的模式，隨著輸入的參數不同，簡單工廠會回傳不同的物件，使用者取得物件的時候只要傳入正確的參數，不需要去理解這個物件。\n",
    "\n",
    "底下我們會以 [這篇](https://skyyen999.gitbooks.io/-study-design-pattern-in-java/content/simpleFactory.html) 為範例說明:\n",
    "> <b>首先，先從新手村開始</b> <br/>\n",
    "> 簡單工廠模式是一種管理物件創建的模式，隨著輸入的參數不同，簡單工廠會回傳不同的物件，使用者取得物件的時候只要傳入正確的參數，不需要去理解這個物件。<br/><br/>\n",
    "> 現在要設計一個訓練冒險者 Adventurer 的訓練營 Training Camp，裡面可以訓練的冒險者種類有弓箭手 Archer、鬥士 Warrior。套到簡單工廠模式中，訓練營就是我們的簡單工廠(SimpleFactory)，冒險者則是產品的父類別(Product)，弓箭手與鬥士為實體產品(Concrete Product)。如果有人要來招募冒險者組隊，只要跟訓練營說請幫我訓練一個冒險者就可以，不用去理解訓練過程。"
   ]
  },
  {
   "cell_type": "markdown",
   "id": "ee80d65c-3094-4b79-be9c-c64e649c36c1",
   "metadata": {},
   "source": [
    "### <b><font color='darkgreen'>Protocol `Adventurer`</font></b>\n",
    "在 Factory 系列, 我們會有一個 Interface, Protocol 或 Abstract class 來抽象我們要建立的對象. 這邊我們定義一個  Protocol `Adventurer`:"
   ]
  },
  {
   "cell_type": "code",
   "execution_count": 3,
   "id": "405d5632-e092-49a8-9bf3-851f4f5acf5a",
   "metadata": {},
   "outputs": [],
   "source": [
    "class Adventurer(Protocol):\n",
    "    def get_type(self) -> str:\n",
    "        \"\"\"Get the description of the adventurer.\"\"\"\n",
    "        ..."
   ]
  },
  {
   "cell_type": "markdown",
   "id": "f1cbe31f-2174-467e-aa8c-f73a3fad54c9",
   "metadata": {},
   "source": [
    "### <b><font color='darkgreen'>class `Archer` & class `Warrior`</font></b>\n",
    "在 Factory 系列, 我們會根據參數產生不同的產品. 這邊我們 concrete 的產品 (class) 是 **`Archer`** 與 **`Warrior`**:"
   ]
  },
  {
   "cell_type": "code",
   "execution_count": 4,
   "id": "3e7bc671-325b-4a0e-8d55-757291b1acbe",
   "metadata": {},
   "outputs": [],
   "source": [
    "class Archer(Adventurer):\n",
    "    def __init__(self):\n",
    "        self.weapon = None\n",
    "        \n",
    "    def get_type(self) -> str:\n",
    "        return f'I am a archer with weapon={self.weapon}. :D'\n",
    "\n",
    "    def equip_with_weapon(self):\n",
    "        self.weapon = 'arm'\n",
    "        \n",
    "\n",
    "class Warrior(Adventurer):\n",
    "    def __init__(self):\n",
    "        self.weapon = None\n",
    "        \n",
    "    def get_type(self) -> str:\n",
    "        return f'I am a warrior with {self.weapon}!'\n",
    "\n",
    "    def get_weapon(self):\n",
    "        self.weapon = 'sword'"
   ]
  },
  {
   "cell_type": "markdown",
   "id": "6bd1b3aa-41fd-4ff8-ba15-104ffb60e2f1",
   "metadata": {},
   "source": [
    "### <b><font color='darkgreen'>Method to generate concrete product</font></b>\n",
    "接著我們會準備一個 function, 根據傳入的參數來決定實際要返回的 **`Adventurer`** 會是什麼 (**`Warrior`** or **`Archer`**)."
   ]
  },
  {
   "cell_type": "code",
   "execution_count": 5,
   "id": "e8f99a87-cb0e-4489-8aaf-dd083259cc8b",
   "metadata": {},
   "outputs": [],
   "source": [
    "class AdventurerType(enum.Enum):\n",
    "    Archer = 1\n",
    "    Warrior = 2"
   ]
  },
  {
   "cell_type": "code",
   "execution_count": 23,
   "id": "79b9e59b-1c7e-4bff-8c61-487723264845",
   "metadata": {},
   "outputs": [],
   "source": [
    "def get_adventurer(adventurer_type: AdventurerType) -> Adventurer:\n",
    "    \"\"\"Gets trained adventurer according to the type.\"\"\"\n",
    "    if adventurer_type == AdventurerType.Archer:\n",
    "        adventurer = Archer()\n",
    "        adventurer.equip_with_weapon()\n",
    "    elif adventurer_type == AdventurerType.Warrior:\n",
    "        adventurer = Warrior()\n",
    "        adventurer.get_weapon()\n",
    "    else:\n",
    "        raise ValueError(f'Unknown type={adventurer_type}!')\n",
    "        \n",
    "    return adventurer"
   ]
  },
  {
   "cell_type": "code",
   "execution_count": 7,
   "id": "174e8196-088e-476f-adc4-d627a74951e9",
   "metadata": {},
   "outputs": [
    {
     "data": {
      "text/plain": [
       "'I am a archer with weapon=arm. :D'"
      ]
     },
     "execution_count": 7,
     "metadata": {},
     "output_type": "execute_result"
    }
   ],
   "source": [
    "get_adventurer(AdventurerType.Archer).get_type()"
   ]
  },
  {
   "cell_type": "code",
   "execution_count": 8,
   "id": "617c58e3-9161-49a1-8ce1-e296109d5f15",
   "metadata": {},
   "outputs": [
    {
     "data": {
      "text/plain": [
       "'I am a warrior with sword!'"
      ]
     },
     "execution_count": 8,
     "metadata": {},
     "output_type": "execute_result"
    }
   ],
   "source": [
    "get_adventurer(AdventurerType.Warrior).get_type()"
   ]
  },
  {
   "cell_type": "markdown",
   "id": "bab51745-3114-441f-8050-e7f1d874ec8f",
   "metadata": {},
   "source": [
    "### <b><font color='darkgreen'>Class Diagram</font></b>\n",
    "![class diagram](https://skyyen999.gitbooks.io/-study-design-pattern-in-java/content/image/simpleFactory.gif)"
   ]
  },
  {
   "cell_type": "markdown",
   "id": "bfd82215-c1f6-4230-9712-671ea3b19d5d",
   "metadata": {},
   "source": [
    "### <b><font color='darkgreen'>Summary</font></b>\n",
    "當你有多個 Product 並使用相同的 Interface, 同時它們的初始化並不相同, 這時你可以考慮 <b><font color='darkblue'>Simple Factory</font></b>. 這個 design pattern 把物件的初始化集中到同一個 module/地方 來滿足 design principle [**SRP**](https://en.wikipedia.org/wiki/Single_responsibility_principle) (Single Responsibility Principle), 但是依舊不能滿足 [**OCP**](https://en.wikipedia.org/wiki/Open%E2%80%93closed_principle) (Open closed principle). 例如:\n",
    "> 現在新手村要多訓練一種冒險者，魔法師 Magician，只要在方法 `get_adventurer` 內增加一個 elif 分支就好。不過這樣直接修改 方法 `get_adventurer` 的程式碼，違反了開放/封閉原則，因此簡單工廠不能算是一個健全的設計模式，<b>不過如果簡單工廠在小型的軟體架構中很好用，因此一般設計模式的教學都會從簡單工廠模式開始，實務上也常常會用到這個簡單的模式</b>。\n",
    "\n",
    "下一個我們要介紹的 DP 是 [**Factory Method**](https://en.wikipedia.org/wiki/Factory_method_pattern)."
   ]
  },
  {
   "cell_type": "markdown",
   "id": "e2af8f56-1c47-4582-8fec-bd69a9950503",
   "metadata": {},
   "source": [
    "## <b><font color='darkblue'>Factory Method</font></b>\n",
    "<b><font size='3ptx'>目的：提供一個工廠介面，將產生實體的程式碼交由子類別各自實現</font></b>\n",
    "> <b>剛才的簡單工廠模式因為只有一個工廠，要新增產品種類要直接修改工廠類別裡面的程式碼，直接破壞了開放/封閉原則</b>，在工廠模式中，我們將工廠 (Factory) 提升為一種抽象的概念，也就是說現在工廠是一個介面 (Interface/Protocol)，<b>工廠介面只會規範實體工廠類別</b> (Concrete Factory) <b>應該返回哪種產品，實際上要如何製作產品則交給實體工廠來實作</b>。\n",
    "\n",
    "底下我們會以 [這篇](https://skyyen999.gitbooks.io/-study-design-pattern-in-java/content/factory.html) 為範例說明:\n",
    "> 現在訓練營已經被提升為一種概念，訓練各種冒險者的過程應該是不一樣的，不能像以前這樣一個訓練營訓練出所有種類的冒險者，<b>例如培訓近身格鬥的鬥士與躲遠遠放冷箭的弓箭手應該是不同的培訓過程</b>。\n",
    "> <br/><br/>\n",
    "> 新手村現在建立了兩座訓練營，弓箭手訓練營、鬥士訓練營，相信看名子就知道這兩種訓練訓練營的功能是什麼。如此一來，如果想要修改弓箭手的訓練流程，就修改弓箭手訓練營裡面的程式碼即可，不用擔心是否會影響鬥士訓練營的運作，而且如要增加冒險者的類別，例如說劍士，只要新增一座劍士訓練營，完全不會改動到抽象訓練營與本來的實體訓練營。"
   ]
  },
  {
   "cell_type": "markdown",
   "id": "09715de6-0345-4bad-8d48-91d06bee1dc0",
   "metadata": {},
   "source": [
    "### <b><font color='darkgreen'>Class Diagram</font></b>\n",
    "![class diagram](https://skyyen999.gitbooks.io/-study-design-pattern-in-java/content/image/factory.gif)"
   ]
  },
  {
   "cell_type": "markdown",
   "id": "b148f0ad-8bc7-4b76-9b3f-f7092430fc9b",
   "metadata": {},
   "source": [
    "### <b><font color='darkgreen'>Protocols `TrainingCamp`</font> (Factory protocol)</b>"
   ]
  },
  {
   "cell_type": "code",
   "execution_count": 9,
   "id": "9415448d-2d79-4e5f-bc9e-f590b8052094",
   "metadata": {},
   "outputs": [],
   "source": [
    "class TrainingCamp(Protocol):\n",
    "    def train_adventurer(self) -> Adventurer:\n",
    "        ..."
   ]
  },
  {
   "cell_type": "markdown",
   "id": "3e2f6ed7-9bbb-40b9-9c46-3032509f1c46",
   "metadata": {},
   "source": [
    "### <b><font color='darkgreen'>class `ArcherTrainingCamp` and `WarriorTrainingCamp`</font> (Concrete factory)</b>"
   ]
  },
  {
   "cell_type": "code",
   "execution_count": 10,
   "id": "a53301f9-4f7a-4833-a212-d56af7cfc450",
   "metadata": {},
   "outputs": [],
   "source": [
    "class ArcherTrainingCamp(TrainingCamp):\n",
    "    def train_adventurer(self) -> Adventurer:\n",
    "        adventurer = Archer()\n",
    "        adventurer.equip_with_weapon()\n",
    "        return adventurer\n",
    "\n",
    "\n",
    "class WarriorTrainingCamp(TrainingCamp):\n",
    "    def train_adventurer(self) -> Adventurer:\n",
    "        adventurer = Warrior()\n",
    "        adventurer.get_weapon()\n",
    "        return adventurer"
   ]
  },
  {
   "cell_type": "markdown",
   "id": "2fe26162-9e02-446e-9e5c-d5dac4c0a94f",
   "metadata": {},
   "source": [
    "這樣有個好處, 需要新的 Adventurer `Magician`, 我們只需要新增 class 而不是去修改既有的 class (滿足 [**OCP**](https://en.wikipedia.org/wiki/Open%E2%80%93closed_principle)):"
   ]
  },
  {
   "cell_type": "code",
   "execution_count": 11,
   "id": "d5bdc2ff-e8bf-4905-b9b1-5791f8d3d32b",
   "metadata": {},
   "outputs": [],
   "source": [
    "class Magician(Adventurer):\n",
    "    def __init__(self):\n",
    "        self.weapon = None\n",
    "        \n",
    "    def get_type(self) -> str:\n",
    "        return f'I am a magician with {self.weapon}!'\n",
    "\n",
    "    def obtain_weapon(self):\n",
    "        self.weapon = 'magic wand'"
   ]
  },
  {
   "cell_type": "code",
   "execution_count": 12,
   "id": "9853aac1-3b29-45b0-b40d-02c5f043c57d",
   "metadata": {},
   "outputs": [],
   "source": [
    "class MagicianTrainingCamp(TrainingCamp):\n",
    "    def train_adventurer(self) -> Adventurer:\n",
    "        adventurer = Magician()\n",
    "        adventurer.obtain_weapon()\n",
    "        return adventurer"
   ]
  },
  {
   "cell_type": "code",
   "execution_count": 13,
   "id": "d489aed3-225c-49fe-8cc0-b4ed36cbd6e9",
   "metadata": {},
   "outputs": [
    {
     "data": {
      "text/plain": [
       "'I am a magician with magic wand!'"
      ]
     },
     "execution_count": 13,
     "metadata": {},
     "output_type": "execute_result"
    }
   ],
   "source": [
    "MagicianTrainingCamp().train_adventurer().get_type()"
   ]
  },
  {
   "cell_type": "markdown",
   "id": "fd1510f6-8367-4663-8fb5-df0eccf1bd37",
   "metadata": {},
   "source": [
    "### <b><font color='darkgreen'>Summary</font></b>\r\n",
    "簡單工廠模式與工廠模式比較：\r\n",
    "* **簡單工廠模式**：工廠直接負責管理所有的產品，利用 if else 或 switch case 判斷式來產生產品。\r\n",
    "* **工廠模式**：工廠提升為一個概念，實際上產生產品的是實作工廠概念的實體工廠。廠。"
   ]
  },
  {
   "cell_type": "markdown",
   "id": "b37056a1-dd2f-4434-b61d-7674c3817b03",
   "metadata": {},
   "source": [
    "## <b><font color='darkblue'>抽象工廠模式 Abstract Factory Pattern</font></b>\n",
    "<b><font size='3ptx'>目的：用一個工廠介面來產生一系列相關的物件，但實際建立哪些物件由實作工廠的子類別來實現</font></b>\n",
    "\n",
    "底下我們會以 [這篇](https://skyyen999.gitbooks.io/-study-design-pattern-in-java/content/abstractFactory1.html) 為範例說明:\n",
    "> <b>出發冒險之前，一定要有裝備</b><br/>\n",
    "> 有了冒險者之後，他們還需要各種裝備才能出門探險，假如一個冒險者需要武器、頭盔、上衣、褲子、鞋子 5 種裝備， 村莊內又有 4 種不同專業的冒險者，這樣我們就要建立20種工廠類別來生產裝備，而且每增加一種冒險者類別， 就要多增加5個實體工廠類別，如果使用剛才的工廠模式來管理生產裝備，實體工廠類別就會變非常得多，這時候有點經驗的程式設計師就會意識到程式碼可能因此變雜亂不易維護。 <br/><br/>\n",
    "> 在這種情境之下，工廠模式不能解決我們的問題，因此這邊改變一下工廠的定義，首先工廠仍然只是一個抽象介面(Factory)，但是介面規定工廠現在生產的不是一種產品， 而是生產一個冒險者類別一系列所有的裝備，也就是說一間工廠要生產武器、頭盔、上衣、褲子、鞋子 5 種裝備(Product)， 當然有了抽象工廠介面後當然也需要實體工廠 (Concrete Factory)，例如說鬥士裝備生產工廠就會生產一系列的鬥士裝備 (Concrete Product) ，這就是抽象工廠模式。 以下範例讓我偷懶一下，一個冒險者只有武器與上衣兩種裝備就好。"
   ]
  },
  {
   "cell_type": "markdown",
   "id": "20bef1d1-8d08-48ca-bb60-eff839b2ece3",
   "metadata": {},
   "source": [
    "### <b><font color='darkgreen'>Class Diagram</font></b>\n",
    "![class diagram](https://skyyen999.gitbooks.io/-study-design-pattern-in-java/content/image/abstractFactory.gif)"
   ]
  },
  {
   "cell_type": "markdown",
   "id": "98f1e312-1b4c-46d3-a8ba-eb5f74776961",
   "metadata": {},
   "source": [
    "### <b><font color='darkgreen'>裝備介面 `Weapon` and `Clothes`</font></b>"
   ]
  },
  {
   "cell_type": "code",
   "execution_count": 31,
   "id": "cc6d491b-a1b7-4580-9311-b5eb138cbe02",
   "metadata": {},
   "outputs": [],
   "source": [
    "class Weapon(Protocol):\n",
    "    @property\n",
    "    def name(self) -> str:\n",
    "        return self._name\n",
    "\n",
    "    @property\n",
    "    def attack_value(self) -> float:\n",
    "        return self._atk_val\n",
    "    \n",
    "    def __str__(self) -> str:\n",
    "        return f'{self.name} (atk={self.attack_value})'\n",
    "\n",
    "    def __repr__(self):\n",
    "        return self.__str__()\n",
    "\n",
    "\n",
    "class Clothes(Protocol):\n",
    "    @property\n",
    "    def name(self) -> str:\n",
    "        return self._name\n",
    "\n",
    "    @property\n",
    "    def defence_value(self) -> float:\n",
    "        return self._def_val\n",
    "\n",
    "    def __str__(self) -> str:\n",
    "        return f'{self.name} (def={self.defence_value})'\n",
    "\n",
    "    def __repr__(self):\n",
    "        return self.__str__()"
   ]
  },
  {
   "cell_type": "markdown",
   "id": "cdf51772-db18-4744-a007-5f76eacebf4e",
   "metadata": {},
   "source": [
    "### <b><font color='darkgreen'>實體裝備 `Armor`, `Leather`, `LongSword` and `Bow`</font></b>"
   ]
  },
  {
   "cell_type": "code",
   "execution_count": 35,
   "id": "7541a172-64fc-4474-b33a-a7d5b48ef667",
   "metadata": {},
   "outputs": [],
   "source": [
    "class Armor(Clothes):\n",
    "    def __init__(self, name, value):\n",
    "        self._name = name\n",
    "        self._def_val = value\n",
    "\n",
    "\n",
    "class Leather(Clothes):\n",
    "    def __init__(self, name, value):\n",
    "        self._name = name\n",
    "        self._def_val = value\n",
    "\n",
    "\n",
    "class LongSword(Weapon):\n",
    "    def __init__(self, name, value):\n",
    "        self._name = name\n",
    "        self._atk_val = value\n",
    "\n",
    "\n",
    "class Bow(Weapon):\n",
    "    def __init__(self, name, value):\n",
    "        self._name = name\n",
    "        self._atk_val = value"
   ]
  },
  {
   "cell_type": "markdown",
   "id": "f94766db-b035-4da4-a90d-d6b02b78a7bc",
   "metadata": {},
   "source": [
    "### <b><font color='darkgreen'>抽象裝備工廠 `EquipFactory`</font></b>"
   ]
  },
  {
   "cell_type": "code",
   "execution_count": 37,
   "id": "606434b3-9511-4202-afd4-ab77932bb174",
   "metadata": {},
   "outputs": [],
   "source": [
    "class EquipFactory(Protocol):\n",
    "    def get_clothes(self) -> Clothes:\n",
    "        ...\n",
    "\n",
    "    def get_weapon(self) -> Weapon:\n",
    "        ..."
   ]
  },
  {
   "cell_type": "markdown",
   "id": "f98dcb69-1e3a-45b8-aefe-d21db770ce06",
   "metadata": {},
   "source": [
    "### <b><font color='darkgreen'>實體工廠類別 `WarriorEquipFactory` & `ArcherEquipFactory`</font></b>"
   ]
  },
  {
   "cell_type": "code",
   "execution_count": 39,
   "id": "c838a44b-f944-4238-a401-54e5bfc0112d",
   "metadata": {},
   "outputs": [],
   "source": [
    "class WarriorEquipFactory(EquipFactory):\n",
    "    def get_clothes(self) -> Clothes:\n",
    "        return Armor('plate armour', 10)\n",
    "\n",
    "    def get_weapon(self) -> Weapon:\n",
    "        return LongSword('iron long sword', 5)\n",
    "\n",
    "\n",
    "class ArcherEquipFactory(EquipFactory):\n",
    "    def get_clothes(self) -> Clothes:\n",
    "        return Leather('leather', 2)\n",
    "\n",
    "    def get_weapon(self) -> Weapon:\n",
    "        return Bow('bow', 3)\n",
    "\n",
    "\n",
    "class WarriorEquipWithClothesAsFeatherFactory(EquipFactory):\n",
    "    def get_clothes(self) -> Clothes:\n",
    "        return Leather('leather', 2)\n",
    "\n",
    "    def get_weapon(self) -> Weapon:\n",
    "        return LongSword('iron long sword', 5)"
   ]
  },
  {
   "cell_type": "markdown",
   "id": "d1e201f7-cf38-4e47-9aae-0157ec2c9f91",
   "metadata": {},
   "source": [
    "### <b><font color='darkgreen'>使用範例</font></b>"
   ]
  },
  {
   "cell_type": "code",
   "execution_count": 40,
   "id": "9b0708c2-fa71-4a63-84eb-af3613995512",
   "metadata": {},
   "outputs": [],
   "source": [
    "class Archer(Adventurer):\n",
    "    def __init__(self):\n",
    "        self.weapon = None\n",
    "        self.clothes = None\n",
    "        \n",
    "    def get_type(self) -> str:\n",
    "        return f'I am a archer wearing {self.clothes} with weapon={self.weapon}. :D'\n",
    "\n",
    "    def equip_with(self, equip_factory: EquipFactory):\n",
    "        self.weapon = equip_factory.get_weapon()\n",
    "        self.clothes = equip_factory.get_clothes()\n",
    "        \n",
    "\n",
    "class Warrior(Adventurer):\n",
    "    def __init__(self):\n",
    "        self.weapon = None\n",
    "        self.clothes = None\n",
    "        \n",
    "    def get_type(self) -> str:\n",
    "        return f'I am a warrior wearing {self.clothes} with {self.weapon}!'\n",
    "\n",
    "    def equip_with(self, equip_factory: EquipFactory):\n",
    "        self.weapon = equip_factory.get_weapon()\n",
    "        self.clothes = equip_factory.get_clothes()"
   ]
  },
  {
   "cell_type": "code",
   "execution_count": 45,
   "id": "0593fff7-284c-4a58-a46b-1684b47a5aab",
   "metadata": {},
   "outputs": [],
   "source": [
    "class ArcherTrainingCamp(TrainingCamp):\n",
    "    def train_adventurer(self) -> Adventurer:\n",
    "        adventurer = Archer()\n",
    "        adventurer.equip_with(ArcherEquipFactory())\n",
    "        return adventurer\n",
    "\n",
    "\n",
    "class WarriorTrainingCamp(TrainingCamp):\n",
    "    def train_adventurer(self) -> Adventurer:\n",
    "        adventurer = Warrior()\n",
    "        adventurer.equip_with(WarriorEquipFactory())\n",
    "        return adventurer"
   ]
  },
  {
   "cell_type": "code",
   "execution_count": 43,
   "id": "7c84c8c4-2c98-4cf5-99f2-aac5857c9578",
   "metadata": {},
   "outputs": [
    {
     "data": {
      "text/plain": [
       "'I am a archer wearing leather (def=2) with weapon=bow (atk=3). :D'"
      ]
     },
     "execution_count": 43,
     "metadata": {},
     "output_type": "execute_result"
    }
   ],
   "source": [
    "ArcherTrainingCamp().train_adventurer().get_type()"
   ]
  },
  {
   "cell_type": "code",
   "execution_count": 46,
   "id": "c3ef02c7-630f-45cd-a275-abd06ad2af52",
   "metadata": {},
   "outputs": [
    {
     "data": {
      "text/plain": [
       "'I am a warrior wearing plate armour (def=10) with iron long sword (atk=5)!'"
      ]
     },
     "execution_count": 46,
     "metadata": {},
     "output_type": "execute_result"
    }
   ],
   "source": [
    "WarriorTrainingCamp().train_adventurer().get_type()"
   ]
  },
  {
   "cell_type": "markdown",
   "id": "f8b2918a-80b1-4adb-bc8e-2ddcb8eea725",
   "metadata": {},
   "source": [
    "### <b><font color='darkgreen'>Summary</font></b>\n",
    "工廠模式與抽像工廠模式比較：\r\n",
    "* **工廠模式**：工廠模式注重的是如何產生一個物件，例如弓箭手訓練營只要負責如果生產出弓箭手。\r\n",
    "* **抽像工廠模式**：抽像工廠模式注重在產品的抽象關係，像武器與衣服本來是扯不上關係的兩種物品，不過這兩種物品都是屬於同一種冒險者的裝備，因此他們就有了這層抽象關係。"
   ]
  },
  {
   "cell_type": "markdown",
   "id": "5f9a83ae-f644-46bd-91c7-bf08853aeaa8",
   "metadata": {},
   "source": [
    "## <b><font color='darkblue'>Supplement</font></b>\n",
    "* [Medium - Design 101 : What is the Simple Factory Pattern?](https://blog.devgenius.io/design-101-what-is-the-simple-factory-pattern-919d957458c8)\n",
    "* [[Day 07] 經典比較 — Simple Factory / Factory / Abstract Factory](https://ithelp.ithome.com.tw/articles/10322515?sc=rss.iron)\n",
    "* [簡單工廠模式 Simple Factory](https://skyyen999.gitbooks.io/-study-design-pattern-in-java/content/simpleFactory.html)\n",
    "* [HeadFirst - Chapter 4. The Factory Pattern: Baking with OO Goodness](https://www.oreilly.com/library/view/head-first-design/0596007124/ch04.html)"
   ]
  }
 ],
 "metadata": {
  "kernelspec": {
   "display_name": "Python 3 (ipykernel)",
   "language": "python",
   "name": "python3"
  },
  "language_info": {
   "codemirror_mode": {
    "name": "ipython",
    "version": 3
   },
   "file_extension": ".py",
   "mimetype": "text/x-python",
   "name": "python",
   "nbconvert_exporter": "python",
   "pygments_lexer": "ipython3",
   "version": "3.11.6"
  }
 },
 "nbformat": 4,
 "nbformat_minor": 5
}
