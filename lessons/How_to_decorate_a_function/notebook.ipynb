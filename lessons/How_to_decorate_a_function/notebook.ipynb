{
 "cells": [
  {
   "cell_type": "markdown",
   "id": "2c590bd0",
   "metadata": {},
   "source": [
    "<a id='sect0'></a>\n",
    "## <font color='darkblue'>Agenda</font>\n",
    "* <font size='3ptx'><b><a href='#sect1'>Functions</a></b></font>\n",
    "* <font size='3ptx'><b><a href='#sect2'>Simple Decorators</a></b></font>\n",
    "* <font size='3ptx'><b><a href='#sect3'>A Few Real World Examples</a></b></font>\n",
    "* <font size='3ptx'><b><a href='#sect4'>Fancy Decorators</a></b></font>\n",
    "* <font size='3ptx'><b><a href='#sect5'>More Real World Examples</a></b></font>\n",
    "* <font size='3ptx'><b><a href='#sect6'>Homework 5</a></b></font>\n",
    "* <font size='3ptx'><b><a href='#sect7'>Real World Case (Rohan BCST)</a></b></font>\n",
    "\n",
    "<a id='sect1'></a>\n",
    "## <font color='darkblue'>Functions</font>\n",
    "* <font size='3ptx'><b><a href='#sect1_1'>First-Class Objects</a></b></font>\n",
    "* <font size='3ptx'><b><a href='#sect1_2'>Inner Functions</a></b></font>\n",
    "* <font size='3ptx'><b><a href='#sect1_3'>Returning Functions From Functions</a></b></font>\n",
    "\n",
    "([article source](https://realpython.com/primer-on-python-decorators/#functions)) Before you can understand decorators, you must first understand how functions work. For our purposes, <b>a function returns a value based on the given arguments</b>. Here is a very simple example:\n",
    "```python\n",
    ">>> def add_one(number):\n",
    "...     return number + 1\n",
    "\n",
    ">>> add_one(2)\n",
    "3\n",
    "```\n",
    "\n",
    "<br/>\n",
    "<b>In general, functions in Python may also have side effects rather than just turning an input into an output</b>. The <a href='https://realpython.com/python-print/'>print() function</a> is a basic example of this: it returns <a href='https://realpython.com/null-in-python/'>None</a> while having the <b><a href='https://en.wikipedia.org/wiki/Side_effect_(computer_science)'>side effect</a></b> of outputting something to the console. However, to understand decorators, it is enough to think about functions as something that turns given arguments into a value.\n",
    "\n",
    "<b><font color='darkred'>Note</font></b>: In <a href='https://realpython.com/python-functional-programming/'>functional programming</a>, you work (almost) only with <b>pure functions without side effects</b>. While not a purely functional language, Python supports many of the functional programming concepts, including functions as first-class objects."
   ]
  },
  {
   "cell_type": "markdown",
   "id": "b6b3ab12",
   "metadata": {},
   "source": [
    "<a id='sect1_1'></a>\n",
    "### <font color='darkgreen'>First-Class Objects</font>\n",
    "In Python, functions are <b><a href='https://dbader.org/blog/python-first-class-functions'>first-class objects</a></b>. This means that <b>functions can be passed around and used as arguments</b>, just like <a href='https://realpython.com/python-data-types/'>any other object (string, int, float, list, and so on)</a>. Consider the following three functions:"
   ]
  },
  {
   "cell_type": "code",
   "execution_count": 1,
   "id": "4dc88cee",
   "metadata": {},
   "outputs": [],
   "source": [
    "def say_hello(name):\n",
    "    return f\"Hello {name}\"\n",
    "\n",
    "def be_awesome(name):\n",
    "    return f\"Yo {name}, together we are the awesomest!\"\n",
    "\n",
    "def greet_bob(greeter_func):\n",
    "    return greeter_func(\"Bob\")"
   ]
  },
  {
   "cell_type": "markdown",
   "id": "896409c7",
   "metadata": {},
   "source": [
    "Here, <font color='blue'>say_hello()</font> and <font color='blue'>be_awesome()</font> are regular functions that expect a name given as a string. The <font color='blue'>greet_bob()</font> function however, expects a function as its argument. We can, for instance, pass it the <font color='blue'>say_hello()</font> or the <font color='blue'>be_awesome()</font> function:"
   ]
  },
  {
   "cell_type": "code",
   "execution_count": 2,
   "id": "ed43a8db",
   "metadata": {},
   "outputs": [
    {
     "data": {
      "text/plain": [
       "'Yo Bob, together we are the awesomest!'"
      ]
     },
     "execution_count": 2,
     "metadata": {},
     "output_type": "execute_result"
    }
   ],
   "source": [
    "greet_bob(say_hello)\n",
    "greet_bob(be_awesome)"
   ]
  },
  {
   "cell_type": "markdown",
   "id": "b7f2389e",
   "metadata": {},
   "source": [
    "<a id='sect1_2'></a>\n",
    "### <font color='darkgreen'>Inner Functions</font>\n",
    "It’s possible to <a href='https://realpython.com/defining-your-own-python-function/'>define functions</a> inside other functions. Such functions are called <b><font color='darkblue'>inner functions</font></b>. Here’s an example of a function with two inner functions:"
   ]
  },
  {
   "cell_type": "code",
   "execution_count": 3,
   "id": "69612896",
   "metadata": {},
   "outputs": [],
   "source": [
    "def parent():\n",
    "    print(\"Printing from the parent() function\")\n",
    "\n",
    "    def first_child():\n",
    "        print(\"Printing from the first_child() function\")\n",
    "\n",
    "    def second_child():\n",
    "        print(\"Printing from the second_child() function\")\n",
    "\n",
    "    second_child()\n",
    "    first_child()"
   ]
  },
  {
   "cell_type": "markdown",
   "id": "2811e0ad",
   "metadata": {},
   "source": [
    "What happens when you call the <font color='blue'>parent()</font> function? Think about this for a minute. The output will be as follows:"
   ]
  },
  {
   "cell_type": "code",
   "execution_count": 4,
   "id": "749fdbd0",
   "metadata": {},
   "outputs": [
    {
     "name": "stdout",
     "output_type": "stream",
     "text": [
      "Printing from the parent() function\n",
      "Printing from the second_child() function\n",
      "Printing from the first_child() function\n"
     ]
    }
   ],
   "source": [
    "parent()"
   ]
  },
  {
   "cell_type": "markdown",
   "id": "c1620199",
   "metadata": {},
   "source": [
    "Furthermore, the inner functions are not defined until the parent function is called. They are locally scoped to <font color='blue'>parent()</font>: they only exist inside the <font color='blue'>parent()</font> function as local <a href='https://realpython.com/python-variables/'>variables</a>. Try calling <font color='blue'>first_child()</font>. You should get an error:\n",
    "```\n",
    "Traceback (most recent call last):\n",
    "  File \"<stdin>\", line 1, in <module>\n",
    "NameError: name 'first_child' is not defined\n",
    "```"
   ]
  },
  {
   "cell_type": "markdown",
   "id": "49f52766",
   "metadata": {},
   "source": [
    "<a id='sect1_3'></a>\n",
    "### <font color='darkgreen'>Returning Functions From Functions</font>\n",
    "<b>Python also allows you to use functions as return values</b>. The following example returns one of the inner functions from the outer <font color='blue'>parent()</font> function:"
   ]
  },
  {
   "cell_type": "code",
   "execution_count": 5,
   "id": "59ccab12",
   "metadata": {},
   "outputs": [],
   "source": [
    "def parent(num):\n",
    "    def first_child():\n",
    "        return \"Hi, I am Emma\"\n",
    "\n",
    "    def second_child():\n",
    "        return \"Call me Liam\"\n",
    "\n",
    "    if num == 1:\n",
    "        return first_child\n",
    "    else:\n",
    "        return second_child"
   ]
  },
  {
   "cell_type": "markdown",
   "id": "1ae93165",
   "metadata": {},
   "source": [
    "This can be seen in the following example:"
   ]
  },
  {
   "cell_type": "code",
   "execution_count": 6,
   "id": "1891251a",
   "metadata": {},
   "outputs": [
    {
     "name": "stdout",
     "output_type": "stream",
     "text": [
      "first=<function parent.<locals>.first_child at 0x7fe1843ee510>\n",
      "second=<function parent.<locals>.second_child at 0x7fe1843ee620>\n",
      "\n",
      "first is function? True\n"
     ]
    }
   ],
   "source": [
    "import inspect\n",
    "\n",
    "first = parent(1)\n",
    "second = parent(2)\n",
    "\n",
    "print(f\"first={first}\\nsecond={second}\\n\")\n",
    "print(f\"first is function? {inspect.isfunction(first)}\")"
   ]
  },
  {
   "cell_type": "markdown",
   "id": "3880bf2e",
   "metadata": {},
   "source": [
    "<a id='sect2'></a>\n",
    "## <a href='https://realpython.com/primer-on-python-decorators/#simple-decorators'><font color='darkblue'>Simple Decorators</font></a> (<a href='#sect0'>back</a>)\n",
    "* <font size='3ptx'><b><a href='#sect2_1'>Syntactic Sugar!</a></b></font>\n",
    "* <font size='3ptx'><b><a href='#sect2_2'>Reusing Decorators</a></b></font>\n",
    "* <font size='3ptx'><b><a href='#sect2_3'>Decorating Functions With Arguments</a></b></font>\n",
    "* <font size='3ptx'><b><a href='#sect2_4'>Returning Values From Decorated Functions</a></b></font>\n",
    "* <font size='3ptx'><b><a href='#sect2_5'>Who Are You, Really?</a></b></font>\n",
    "\n",
    "<b>Now that you’ve seen that functions are just like any other object in Python, you’re ready to move on and see the magical beast that is the Python decorator</b>. Let’s start with an example:"
   ]
  },
  {
   "cell_type": "code",
   "execution_count": 7,
   "id": "c83e91d7",
   "metadata": {},
   "outputs": [],
   "source": [
    "def my_decorator(func):\n",
    "    def wrapper():\n",
    "        print(\"Something is happening before the function is called.\")\n",
    "        func()\n",
    "        print(\"Something is happening after the function is called.\")\n",
    "    return wrapper\n",
    "\n",
    "def say_whee():\n",
    "    print(\"Whee!\")\n",
    "\n",
    "say_whee = my_decorator(say_whee)"
   ]
  },
  {
   "cell_type": "markdown",
   "id": "1cf9ef15",
   "metadata": {},
   "source": [
    "Can you guess what happens when you call say_whee()? Try it:"
   ]
  },
  {
   "cell_type": "code",
   "execution_count": 8,
   "id": "ab617d19",
   "metadata": {},
   "outputs": [
    {
     "name": "stdout",
     "output_type": "stream",
     "text": [
      "Something is happening before the function is called.\n",
      "Whee!\n",
      "Something is happening after the function is called.\n"
     ]
    }
   ],
   "source": [
    "say_whee()"
   ]
  },
  {
   "cell_type": "markdown",
   "id": "19223383",
   "metadata": {},
   "source": [
    "To understand what’s going on here, look back at the previous examples. We are literally just applying everything you have learned so far. <b>The so-called decoration happens at the following line:</b>\n",
    "```python\n",
    "say_whee = my_decorator(say_whee)\n",
    "```\n",
    "\n",
    "In effect, the name <i>say_whee</i> now points to the <font color='blue'>wrapper()</font> inner function. Remember that you return wrapper as a function when you call <font color='blue'>my_decorator(say_whee)</font>:"
   ]
  },
  {
   "cell_type": "code",
   "execution_count": 9,
   "id": "1ff521c5",
   "metadata": {},
   "outputs": [
    {
     "name": "stdout",
     "output_type": "stream",
     "text": [
      "<function my_decorator.<locals>.wrapper at 0x7fe1843ee9d8>\n",
      "wrapper\n"
     ]
    }
   ],
   "source": [
    "print(say_whee)\n",
    "print(say_whee.__name__)"
   ]
  },
  {
   "cell_type": "markdown",
   "id": "725319df",
   "metadata": {},
   "source": [
    "Put simply: <b>decorators wrap a function, modifying its behavior.</b>\n",
    "\n",
    "Before moving on, let’s have a look at a second example. Because <font color='blue'>wrapper()</font> is a regular Python function, the way a decorator modifies a function can change dynamically. So as not to disturb your neighbors, the following example will only run the decorated code during the day:"
   ]
  },
  {
   "cell_type": "code",
   "execution_count": 10,
   "id": "01b062c9",
   "metadata": {},
   "outputs": [],
   "source": [
    "from datetime import datetime\n",
    "\n",
    "def not_during_the_night(func):\n",
    "    def wrapper():\n",
    "        if 7 <= datetime.now().hour < 22:\n",
    "            func()\n",
    "        else:\n",
    "            pass  # Hush, the neighbors are asleep\n",
    "    return wrapper\n",
    "\n",
    "def say_whee():\n",
    "    print(\"Whee!\")\n",
    "\n",
    "say_whee = not_during_the_night(say_whee)"
   ]
  },
  {
   "cell_type": "markdown",
   "id": "2023c277",
   "metadata": {},
   "source": [
    "Depend on your local time, nothing will happen when hour < 7am and hour > 22pm"
   ]
  },
  {
   "cell_type": "markdown",
   "id": "005fe116",
   "metadata": {},
   "source": [
    "<a id='sect2_1'></a>\n",
    "### <font color='darkgreen'>Syntactic Sugar!</font>\n",
    "The way you decorated <font color='blue'>say_whee()</font> above is a little clunky. First of all, you end up typing the name <i>say_whee</i> three times. In addition, <b>the decoration gets a bit hidden away below the definition of the function</b>.\n",
    "\n",
    "Instead, Python allows you to <b>use decorators in a simpler way with the <font color='orange'>@</font> symbol</b>, sometimes called the <a href='https://www.python.org/dev/peps/pep-0318/#background'>“pie” syntax</a>. The following example does the exact same thing as the first decorator example:"
   ]
  },
  {
   "cell_type": "code",
   "execution_count": 11,
   "id": "4925a0d2",
   "metadata": {},
   "outputs": [],
   "source": [
    "def my_decorator(func):\n",
    "    def wrapper():\n",
    "        print(\"Something is happening before the function is called.\")\n",
    "        func()\n",
    "        print(\"Something is happening after the function is called.\")\n",
    "    return wrapper\n",
    "\n",
    "@my_decorator\n",
    "def say_whee():\n",
    "    print(\"Whee!\")"
   ]
  },
  {
   "cell_type": "markdown",
   "id": "aafd3316",
   "metadata": {},
   "source": [
    "So, <font color='blue'>@my_decorator</font> is just an easier way of saying <font color='blue'>say_whee = my_decorator(say_whee)</font>. It’s how you apply a decorator to a function."
   ]
  },
  {
   "cell_type": "markdown",
   "id": "604c70b1",
   "metadata": {},
   "source": [
    "<a id='sect2_2'></a>\n",
    "### <font color='darkgreen'>Reusing Decorators</font>\n",
    "<b>Recall that a decorator is just a regular Python function</b>. All the usual tools for easy reusability are available. Let’s move the decorator to its own module that can be used in many other functions.\n",
    "\n",
    "* <font color='olive'>my_decorators.py</font>\n",
    "```python\n",
    "def do_twice(func):\n",
    "    def wrapper_do_twice():\n",
    "        func()\n",
    "        func()\n",
    "    return wrapper_do_twice\n",
    "```"
   ]
  },
  {
   "cell_type": "markdown",
   "id": "29fd343b",
   "metadata": {},
   "source": [
    "You can now use this new decorator in other files by doing a regular import:"
   ]
  },
  {
   "cell_type": "code",
   "execution_count": 12,
   "id": "ba6bb4ea",
   "metadata": {},
   "outputs": [],
   "source": [
    "from my_decorators import do_twice\n",
    "\n",
    "@do_twice\n",
    "def say_whee():\n",
    "    print(\"Whee!\")"
   ]
  },
  {
   "cell_type": "markdown",
   "id": "3b975658",
   "metadata": {},
   "source": [
    "When you run this example, you should see that the original <font color='blue'>say_whee()</font> is executed twice:"
   ]
  },
  {
   "cell_type": "code",
   "execution_count": 13,
   "id": "9ffdd33f",
   "metadata": {},
   "outputs": [
    {
     "name": "stdout",
     "output_type": "stream",
     "text": [
      "Whee!\n",
      "Whee!\n"
     ]
    }
   ],
   "source": [
    "say_whee()"
   ]
  },
  {
   "cell_type": "markdown",
   "id": "b3d4aebc",
   "metadata": {},
   "source": [
    "<font color='violet'><b>Free Bonus</b></font>: <a href='https://realpython.com/primer-on-python-decorators/'>Click here to get access to a free \"The Power of Python Decorators\"</a> guide that shows you 3 advanced decorator patterns and techniques you can use to write to cleaner and more Pythonic programs."
   ]
  },
  {
   "cell_type": "markdown",
   "id": "675a6bbb",
   "metadata": {},
   "source": [
    "<a id='sect2_3'></a>\n",
    "### <font color='darkgreen'>Decorating Functions With Arguments</font>\n",
    "<b>Say that you have a function that accepts some arguments. Can you still decorate it?</b> Let’s try:"
   ]
  },
  {
   "cell_type": "code",
   "execution_count": 14,
   "id": "83ad45de",
   "metadata": {},
   "outputs": [],
   "source": [
    "from my_decorators import do_twice\n",
    "\n",
    "@do_twice\n",
    "def greet(name):\n",
    "    print(f\"Hello {name}\")"
   ]
  },
  {
   "cell_type": "markdown",
   "id": "f7a5c1d2",
   "metadata": {},
   "source": [
    "Unfortunately, running this code raises an error:\n",
    "```python\n",
    ">>> greet(\"World\")\n",
    "Traceback (most recent call last):\n",
    "  File \"<stdin>\", line 1, in <module>\n",
    "TypeError: wrapper_do_twice() takes 0 positional arguments but 1 was given\n",
    "```\n",
    "\n",
    "The problem is that the inner function <font color='blue'>wrapper_do_twice()</font> does not take any arguments, but `name=\"World\"` was passed to it. You could fix this by letting <font color='blue'>wrapper_do_twice()</font> accept one argument, but then it would not work for the <font color='blue'>say_whee()</font> function you created earlier.\n",
    "\n",
    "The solution is to use <a href='https://realpython.com/python-kwargs-and-args/'><b>\\*args and \\*\\*kwargs</b></a> in the inner wrapper function. Then it will <b>accept an arbitrary number of positional and keyword arguments</b>. Update <font color='olive'>my_decorators.py</font> as follows:\n",
    "```python\n",
    "def do_twice_v2(func):\n",
    "  def wrapper_do_twice_v2(*args, **kwargs):\n",
    "    func(*args, **kwargs)\n",
    "    func(*args, **kwargs)\n",
    "  return wrapper_do_twice\n",
    "```\n",
    "\n",
    "The <font color='blue'>wrapper_do_twice_v2()</font> inner function now accepts any number of arguments and passes them on to the function it decorates. Now both your <font color='blue'>say_whee()</font> and <font color='blue'>greet()</font> examples works:"
   ]
  },
  {
   "cell_type": "code",
   "execution_count": 15,
   "id": "2f43930b",
   "metadata": {},
   "outputs": [
    {
     "name": "stdout",
     "output_type": "stream",
     "text": [
      "Whee!\n",
      "Whee!\n",
      "Hello John\n",
      "Hello John\n"
     ]
    }
   ],
   "source": [
    "from my_decorators import do_twice_v2\n",
    "\n",
    "@do_twice_v2\n",
    "def say_whee():\n",
    "    print(\"Whee!\")\n",
    "    \n",
    "@do_twice_v2\n",
    "def greet(name):\n",
    "    print(f\"Hello {name}\")\n",
    "    \n",
    "say_whee()\n",
    "greet('John')"
   ]
  },
  {
   "cell_type": "markdown",
   "id": "a607a4f4",
   "metadata": {},
   "source": [
    "<a id='sect2_4'></a>\n",
    "### <font color='darkgreen'>Returning Values From Decorated Functions</font>\n",
    "<b>What happens to the return value of decorated functions?</b> Well, that’s up to the decorator to decide. Let’s say you decorate a simple function as follows:"
   ]
  },
  {
   "cell_type": "code",
   "execution_count": 16,
   "id": "15cce63f",
   "metadata": {},
   "outputs": [],
   "source": [
    "from my_decorators import do_twice_v2\n",
    "\n",
    "@do_twice_v2\n",
    "def return_greeting(name):\n",
    "    print(\"Creating greeting\")\n",
    "    return f\"Hi {name}\""
   ]
  },
  {
   "cell_type": "markdown",
   "id": "4e1f6e40",
   "metadata": {},
   "source": [
    "Try to use it:"
   ]
  },
  {
   "cell_type": "code",
   "execution_count": 17,
   "id": "22137288",
   "metadata": {},
   "outputs": [
    {
     "name": "stdout",
     "output_type": "stream",
     "text": [
      "Creating greeting\n",
      "Creating greeting\n",
      "None\n"
     ]
    }
   ],
   "source": [
    "hi_adam = return_greeting(\"Adam\")\n",
    "print(hi_adam)  # None"
   ]
  },
  {
   "cell_type": "markdown",
   "id": "b9f9c881",
   "metadata": {},
   "source": [
    "<font color='darkred'>Oops, your decorator ate the return value from the function.</font>\n",
    "\n",
    "Because the <font color='blue'>do_twice_wrapper_v2()</font> doesn’t explicitly return a value, the call <font color='blue'>return_greeting(\"Adam\")</font> ended up returning None. <b>To fix this, you need to make sure the wrapper function returns the return value of the decorated function.</b> Update your <font color='olive'>my_decorators.py</font> file:\n",
    "```python\n",
    "def do_twice_v3(func):\n",
    "  def wrapper_do_twice_v3(*args, **kwargs):\n",
    "    func(*args, **kwargs)\n",
    "    return func(*args, **kwargs)\n",
    "  return wrapper_do_twice_v3\n",
    "```\n",
    "\n",
    "The return value from the last execution of the function is returned:"
   ]
  },
  {
   "cell_type": "code",
   "execution_count": 18,
   "id": "8108b96c",
   "metadata": {},
   "outputs": [
    {
     "name": "stdout",
     "output_type": "stream",
     "text": [
      "Creating greeting\n",
      "Creating greeting\n",
      "Hi John\n"
     ]
    }
   ],
   "source": [
    "from my_decorators import do_twice_v3\n",
    "\n",
    "@do_twice_v3\n",
    "def return_greeting(name):\n",
    "    print(\"Creating greeting\")\n",
    "    return f\"Hi {name}\"\n",
    "\n",
    "hi_john = return_greeting(\"John\")\n",
    "print(hi_john)"
   ]
  },
  {
   "cell_type": "markdown",
   "id": "278abeee",
   "metadata": {},
   "source": [
    "<a id='sect2_5'></a>\n",
    "### <font color='darkgreen'>Who Are You, Really?</font>\n",
    "<b>A great convenience when working with Python, especially in the interactive shell, is its powerful introspection ability.</b> <b><a href='https://en.wikipedia.org/wiki/Type_introspection'>Introspection</a></b> is the ability of an object to know about its own attributes at runtime. For instance, a function knows its own name and <a href='https://realpython.com/documenting-python-code/'>documentation</a>:"
   ]
  },
  {
   "cell_type": "code",
   "execution_count": 19,
   "id": "87dee263",
   "metadata": {},
   "outputs": [
    {
     "name": "stdout",
     "output_type": "stream",
     "text": [
      "print is <built-in function print>\n",
      "print's name is print\n",
      "Help on built-in function print in module builtins:\n",
      "\n",
      "print(...)\n",
      "    print(value, ..., sep=' ', end='\\n', file=sys.stdout, flush=False)\n",
      "    \n",
      "    Prints the values to a stream, or to sys.stdout by default.\n",
      "    Optional keyword arguments:\n",
      "    file:  a file-like object (stream); defaults to the current sys.stdout.\n",
      "    sep:   string inserted between values, default a space.\n",
      "    end:   string appended after the last value, default a newline.\n",
      "    flush: whether to forcibly flush the stream.\n",
      "\n"
     ]
    }
   ],
   "source": [
    "print(f\"print is {print}\")\n",
    "print(f\"print's name is {print.__name__}\")\n",
    "help(print)"
   ]
  },
  {
   "cell_type": "markdown",
   "id": "3f532803",
   "metadata": {},
   "source": [
    "The introspection works for functions you define yourself as well:"
   ]
  },
  {
   "cell_type": "code",
   "execution_count": 20,
   "id": "d4babcd0",
   "metadata": {},
   "outputs": [
    {
     "name": "stdout",
     "output_type": "stream",
     "text": [
      "say_whee is <function do_twice_v2.<locals>.wrapper_do_twice_v2 at 0x7fe184270048>\n",
      "say_whee's name is wrapper_do_twice_v2\n",
      "Help on function wrapper_do_twice_v2 in module my_decorators:\n",
      "\n",
      "wrapper_do_twice_v2(*args, **kwargs)\n",
      "\n"
     ]
    }
   ],
   "source": [
    "print(f\"say_whee is {say_whee}\")\n",
    "print(f\"say_whee's name is {say_whee.__name__}\")\n",
    "help(say_whee)"
   ]
  },
  {
   "cell_type": "markdown",
   "id": "aabd4fdd",
   "metadata": {},
   "source": [
    "However, after being decorated, <font color='blue'>say_whee()</font> has gotten very confused about its identity. It now reports being the <font color='blue'>wrapper_do_twice_v2()</font> inner function inside the <font color='blue'>do_twice()</font> decorator. Although technically true, this is not very useful information.\n",
    "\n",
    "To fix this, decorators should use the <b><a href='https://docs.python.org/3/library/functools.html#functools.wraps'>@functools.wraps</a> decorator, which will preserve information about the original function</b>. Update <font color='olive'>my_decorators.py</font> again:\n",
    "```python\n",
    "import functools\n",
    "\n",
    "def do_twice_v4(func):\n",
    "    @functools.wraps(func)\n",
    "    def wrapper_do_twice_v4(*args, **kwargs):\n",
    "        func(*args, **kwargs)\n",
    "        return func(*args, **kwargs)\n",
    "\n",
    "    return wrapper_do_twice_v4\n",
    "```\n",
    "\n",
    "You do not need to change anything about the decorated <font color='blue'>say_whee()</font> function:"
   ]
  },
  {
   "cell_type": "code",
   "execution_count": 21,
   "id": "b5ec990f",
   "metadata": {},
   "outputs": [],
   "source": [
    "from my_decorators import do_twice_v4\n",
    "\n",
    "@do_twice_v4\n",
    "def say_whee():\n",
    "    print(\"Whee!\")"
   ]
  },
  {
   "cell_type": "code",
   "execution_count": 22,
   "id": "2c576994",
   "metadata": {},
   "outputs": [
    {
     "name": "stdout",
     "output_type": "stream",
     "text": [
      "Whee!\n",
      "Whee!\n"
     ]
    }
   ],
   "source": [
    "say_whee()"
   ]
  },
  {
   "cell_type": "code",
   "execution_count": 23,
   "id": "a8788ddf",
   "metadata": {},
   "outputs": [
    {
     "name": "stdout",
     "output_type": "stream",
     "text": [
      "say_whee is <function say_whee at 0x7fe184275598>\n",
      "say_whee's name is say_whee\n",
      "Help on function say_whee in module __main__:\n",
      "\n",
      "say_whee()\n",
      "\n"
     ]
    }
   ],
   "source": [
    "print(f\"say_whee is {say_whee}\")\n",
    "print(f\"say_whee's name is {say_whee.__name__}\")\n",
    "help(say_whee)"
   ]
  },
  {
   "cell_type": "markdown",
   "id": "77c99554",
   "metadata": {},
   "source": [
    "Much better! Now <font color='olive'>say_whee()</font> is still itself after decoration.\n",
    "\n",
    "<font color='darkred'><b>Technical Detail:</b></font> The <b><a href='https://docs.python.org/3/library/functools.html#functools.wraps'>@functools.wraps</a></b> decorator uses the function functools.update_wrapper() to update special attributes like \\_\\_name__ and \\_\\_doc__ that are used in the introspection."
   ]
  },
  {
   "cell_type": "markdown",
   "id": "f1fae336",
   "metadata": {},
   "source": [
    "<a id='sect3'></a>\n",
    "## <a href='https://realpython.com/primer-on-python-decorators/#a-few-real-world-examples'><font color='darkblue'>A Few Real World Examples</font></a> (<a href='#sect0'>back</a>)\n",
    "* <font size='3ptx'><b><a href='#sect3_1'>Timing Functions</a></b></font>\n",
    "* <font size='3ptx'><b><a href='#sect3_2'>Debugging Code</a></b></font>\n",
    "* <font size='3ptx'><b><a href='#sect3_3'>Registering Plugins</a></b></font>\n",
    "* <font size='3ptx'><b><a href='#sect3_4'>Is the User Logged In?</a></b></font>\n",
    "\n",
    "<b>Let’s look at a few more useful examples of decorators</b>. You’ll notice that they’ll mainly follow the same pattern that you’ve learned so far:\n",
    "\n",
    "```python\n",
    "import functools\n",
    "\n",
    "def decorator(func):\n",
    "    @functools.wraps(func)\n",
    "    def wrapper_decorator(*args, **kwargs):\n",
    "        # Do something before\n",
    "        value = func(*args, **kwargs)\n",
    "        # Do something after\n",
    "        return value\n",
    "    return wrapper_decorator\n",
    "```\n",
    "\n",
    "This formula is a good boilerplate template for building more complex decorators."
   ]
  },
  {
   "cell_type": "markdown",
   "id": "629997ca",
   "metadata": {},
   "source": [
    "<a id='sect3_1'></a>\n",
    "### <font color='darkgreen'>Timing Functions</font>\n",
    "Let’s start by creating a <font color='orange'><b>@timer</b></font> decorator. <b>It will measure the time a function takes to execute and print the duration to the console.</b> Here’s the code:\n",
    "```python\n",
    "import functools\n",
    "import time\n",
    "\n",
    "def timer(func):\n",
    "    \"\"\"Print the runtime of the decorated function\"\"\"\n",
    "    @functools.wraps(func)\n",
    "    def wrapper_timer(*args, **kwargs):\n",
    "        start_time = time.perf_counter()    # 1\n",
    "        value = func(*args, **kwargs)\n",
    "        end_time = time.perf_counter()      # 2\n",
    "        run_time = end_time - start_time    # 3\n",
    "        print(f\"Finished {func.__name__!r} in {run_time:.4f} secs\")\n",
    "        return value\n",
    "    return wrapper_timer\n",
    "```\n",
    "\n",
    "Let's check how to apply this decorator with example:"
   ]
  },
  {
   "cell_type": "code",
   "execution_count": 24,
   "id": "bea0093b",
   "metadata": {},
   "outputs": [],
   "source": [
    "from my_decorators import timer\n",
    "\n",
    "@timer\n",
    "def waste_some_time(num_times):\n",
    "    for _ in range(num_times):\n",
    "        sum([i**2 for i in range(10000)])"
   ]
  },
  {
   "cell_type": "markdown",
   "id": "f45c4253",
   "metadata": {},
   "source": [
    "This decorator works by storing the time just before the function starts running (<font color='brown'>at the line marked # 1</font>) and just after the function finishes (<font color='brown'>at # 2</font>). The time the function takes is then the difference between the two (at # 3). We use the <a href='https://docs.python.org/library/time.html#time.perf_counter'><b>time</b>.perf_counter()</a> function, which does a good job of measuring time intervals. Here are some examples of timings:"
   ]
  },
  {
   "cell_type": "code",
   "execution_count": 25,
   "id": "dd122906",
   "metadata": {},
   "outputs": [
    {
     "name": "stdout",
     "output_type": "stream",
     "text": [
      "Finished 'waste_some_time' in 0.0030 secs\n",
      "Finished 'waste_some_time' in 2.6783 secs\n"
     ]
    }
   ],
   "source": [
    "waste_some_time(1)\n",
    "waste_some_time(999)"
   ]
  },
  {
   "cell_type": "markdown",
   "id": "4ff76158",
   "metadata": {},
   "source": [
    "<font color='darkred'><b>Note</b>:</font> The @timer decorator is great if you just want to get an idea about the runtime of your functions. If you want to do more precise measurements of code, you should instead consider the <b><a href='https://docs.python.org/library/timeit.html'>timeit module</a></b> in the standard library. It temporarily disables <a href='https://realpython.com/python-memory-management/#garbage-collection'>garbage collection</a> and runs multiple trials to strip out noise from quick function calls."
   ]
  },
  {
   "cell_type": "markdown",
   "id": "fb12f79c",
   "metadata": {},
   "source": [
    "<a id='sect3_2'></a>\n",
    "### <font color='darkgreen'>Debugging Code</font>\n",
    "The following <b><font color='orange'>@debug</font></b> decorator will print the arguments a function is called with as well as its return value every time the function is called:\n",
    "```python\n",
    "def debug(func):\n",
    "    \"\"\"Print the function signature and return value\"\"\"\n",
    "    @functools.wraps(func)\n",
    "    def wrapper_debug(*args, **kwargs):\n",
    "        args_repr = [repr(a) for a in args]                      # 1\n",
    "        kwargs_repr = [f\"{k}={v!r}\" for k, v in kwargs.items()]  # 2\n",
    "        signature = \", \".join(args_repr + kwargs_repr)           # 3\n",
    "        print(f\"Calling {func.__name__}({signature})\")\n",
    "        value = func(*args, **kwargs)\n",
    "        print(f\"{func.__name__!r} returned {value!r}\")           # 4\n",
    "        return value\n",
    "    return wrapper_debug\n",
    "```\n",
    "\n",
    "The signature is created by joining the <a href='https://dbader.org/blog/python-repr-vs-str'>string representations</a> of all the arguments. The numbers in the following list correspond to the numbered comments in the code:\n",
    "1. Create a list of the positional arguments. Use <a href='https://docs.python.org/3/library/functions.html#repr'>repr()</a> to get a nice string representing each argument.\n",
    "2. Create a list of the keyword arguments. The <a href='https://realpython.com/python-f-strings/'>f-string</a> formats each argument as key=value where the `!r` specifier means that <a href='https://docs.python.org/3/library/functions.html#repr'>repr()</a> is used to represent the value.\n",
    "3. The lists of positional and keyword arguments is joined together to one signature string with each argument separated by a comma.\n",
    "4. The return value is printed after the function is executed.\n",
    "\n",
    "Let’s see how the decorator works in practice by applying it to a simple function with one position and one keyword argument:"
   ]
  },
  {
   "cell_type": "code",
   "execution_count": 26,
   "id": "282c380a",
   "metadata": {},
   "outputs": [],
   "source": [
    "from my_decorators import debug\n",
    "\n",
    "@debug\n",
    "def make_greeting(name, age=None):\n",
    "    if age is None:\n",
    "        return f\"Howdy {name}!\"\n",
    "    else:\n",
    "        return f\"Whoa {name}! {age} already, you are growing up!\""
   ]
  },
  {
   "cell_type": "markdown",
   "id": "91779514",
   "metadata": {},
   "source": [
    "Note how the <font color='orange'><b>@debug</b></font> decorator prints the signature and return value of the <fonr color='blue'>make_greeting()</font> function:"
   ]
  },
  {
   "cell_type": "code",
   "execution_count": 27,
   "id": "ad22cc1e",
   "metadata": {},
   "outputs": [
    {
     "name": "stdout",
     "output_type": "stream",
     "text": [
      "Calling make_greeting('Benjamin')\n",
      "'make_greeting' returned 'Howdy Benjamin!'\n"
     ]
    },
    {
     "data": {
      "text/plain": [
       "'Howdy Benjamin!'"
      ]
     },
     "execution_count": 27,
     "metadata": {},
     "output_type": "execute_result"
    }
   ],
   "source": [
    "make_greeting(\"Benjamin\")"
   ]
  },
  {
   "cell_type": "code",
   "execution_count": 28,
   "id": "0dd9232e",
   "metadata": {},
   "outputs": [
    {
     "name": "stdout",
     "output_type": "stream",
     "text": [
      "Calling make_greeting('Richard', age=112)\n",
      "'make_greeting' returned 'Whoa Richard! 112 already, you are growing up!'\n"
     ]
    },
    {
     "data": {
      "text/plain": [
       "'Whoa Richard! 112 already, you are growing up!'"
      ]
     },
     "execution_count": 28,
     "metadata": {},
     "output_type": "execute_result"
    }
   ],
   "source": [
    "make_greeting(\"Richard\", age=112)"
   ]
  },
  {
   "cell_type": "code",
   "execution_count": 29,
   "id": "213224ef",
   "metadata": {},
   "outputs": [
    {
     "name": "stdout",
     "output_type": "stream",
     "text": [
      "Calling make_greeting(name='Dorrisile', age=116)\n",
      "'make_greeting' returned 'Whoa Dorrisile! 116 already, you are growing up!'\n"
     ]
    },
    {
     "data": {
      "text/plain": [
       "'Whoa Dorrisile! 116 already, you are growing up!'"
      ]
     },
     "execution_count": 29,
     "metadata": {},
     "output_type": "execute_result"
    }
   ],
   "source": [
    "make_greeting(name=\"Dorrisile\", age=116)"
   ]
  },
  {
   "cell_type": "markdown",
   "id": "fd7867e5",
   "metadata": {},
   "source": [
    "<a id='sect3_3'></a>\n",
    "### <font color='darkgreen'>Registering Plugins</font>\n",
    "Decorators don’t have to wrap the function they’re decorating. They can also simply register that a function exists and return it unwrapped. This can be used, for instance, to create a light-weight plug-in architecture:"
   ]
  },
  {
   "cell_type": "code",
   "execution_count": 30,
   "id": "fcc1fba9",
   "metadata": {},
   "outputs": [],
   "source": [
    "import random\n",
    "PLUGINS = dict()\n",
    "\n",
    "def register(func):\n",
    "    \"\"\"Register a function as a plug-in\"\"\"\n",
    "    PLUGINS[func.__name__] = func\n",
    "    return func\n",
    "\n",
    "@register\n",
    "def say_hello(name):\n",
    "    return f\"Hello {name}\"\n",
    "\n",
    "@register\n",
    "def be_awesome(name):\n",
    "    return f\"Yo {name}, together we are the awesomest!\"\n",
    "\n",
    "def randomly_greet(name):\n",
    "    greeter, greeter_func = random.choice(list(PLUGINS.items()))\n",
    "    print(f\"Using {greeter!r}\")\n",
    "    return greeter_func(name)"
   ]
  },
  {
   "cell_type": "markdown",
   "id": "ff04964e",
   "metadata": {},
   "source": [
    "The <b><font color='orange'>@register</font></b> decorator simply stores a reference to the decorated function in the global PLUGINS dict. Note that you do not have to write an inner function or use <b><a href='https://docs.python.org/3/library/functools.html#functools.wraps'>@functools.wraps</a></b> in this example because you are returning the original function unmodified.\n",
    "\n",
    "The <font color='blue'>randomly_greet()</font> function randomly chooses one of the registered functions to use."
   ]
  },
  {
   "cell_type": "code",
   "execution_count": 31,
   "id": "2888e9ec",
   "metadata": {},
   "outputs": [
    {
     "data": {
      "text/plain": [
       "{'say_hello': <function __main__.say_hello(name)>,\n",
       " 'be_awesome': <function __main__.be_awesome(name)>}"
      ]
     },
     "execution_count": 31,
     "metadata": {},
     "output_type": "execute_result"
    }
   ],
   "source": [
    "PLUGINS"
   ]
  },
  {
   "cell_type": "code",
   "execution_count": 32,
   "id": "ae841317",
   "metadata": {},
   "outputs": [
    {
     "name": "stdout",
     "output_type": "stream",
     "text": [
      "Using 'say_hello'\n"
     ]
    },
    {
     "data": {
      "text/plain": [
       "'Hello Alice'"
      ]
     },
     "execution_count": 32,
     "metadata": {},
     "output_type": "execute_result"
    }
   ],
   "source": [
    "randomly_greet(\"Alice\")"
   ]
  },
  {
   "cell_type": "markdown",
   "id": "9751caac",
   "metadata": {},
   "source": [
    "The main benefit of this simple plugin architecture is that you do not need to maintain a list of which plugins exist. That list is created when the plugins register themselves. This makes it trivial to add a new plugin: just define the function and decorate it with <b><font color='orange'>@register</font></b>.\n",
    "\n",
    "If you are familiar with <a href='https://docs.python.org/3/library/functions.html#globals'>globals()</a> in Python, you might see some similarities to how the plugin architecture works. <b><a href='https://docs.python.org/3/library/functions.html#globals'>globals()</a> gives access to all global variables in the current scope, including your plugins</b>:\n",
    "```python\n",
    ">>> globals()\n",
    "{..., # Lots of variables not shown here.\n",
    " 'say_hello': <function say_hello at 0x7f768eae6730>,\n",
    " 'be_awesome': <function be_awesome at 0x7f768eae67b8>,\n",
    " 'randomly_greet': <function randomly_greet at 0x7f768eae6840>}\n",
    "```\n",
    "\n",
    "Using the <b><font color='orange'>@register</font></b> decorator, you can create your own curated list of interesting variables, effectively hand-picking some functions from <a href='https://docs.python.org/3/library/functions.html#globals'>globals()</a>."
   ]
  },
  {
   "cell_type": "markdown",
   "id": "ffd8a4c3",
   "metadata": {},
   "source": [
    "<a id='sect3_4'></a>\n",
    "### <font color='darkgreen'>Is the User Logged In?</font>\n",
    "The final example before moving on to some fancier decorators is commonly used when working with a web framework. In this example, we are using <b><a href='https://realpython.com/tutorials/flask/'>Flask</a></b> to set up a /secret web page that should only be visible to users that are logged in or otherwise authenticated:\n",
    "```python\n",
    "from flask import Flask, g, request, redirect, url_for\n",
    "import functools\n",
    "app = Flask(__name__)\n",
    "\n",
    "def login_required(func):\n",
    "    \"\"\"Make sure user is logged in before proceeding\"\"\"\n",
    "    @functools.wraps(func)\n",
    "    def wrapper_login_required(*args, **kwargs):\n",
    "        if g.user is None:\n",
    "            return redirect(url_for(\"login\", next=request.url))\n",
    "        return func(*args, **kwargs)\n",
    "    return wrapper_login_required\n",
    "\n",
    "@app.route(\"/secret\")\n",
    "@login_required\n",
    "def secret():\n",
    "    ...\n",
    "```\n",
    "\n",
    "While this gives an idea about how to add authentication to your web framework, you should usually not write these types of decorators yourself. For Flask, you can use the <a href='https://flask-login.readthedocs.io/en/latest/#flask_login.login_required'>Flask-Login extension</a> instead, which adds more security and functionality."
   ]
  },
  {
   "cell_type": "markdown",
   "id": "dac911e8",
   "metadata": {},
   "source": [
    "<a id='sect4'></a>\n",
    "## <a href='https://realpython.com/primer-on-python-decorators/#fancy-decorators'><font color='darkblue'>Fancy Decorators</font></a> (<a href='#sect0'>back</a>)\n",
    "So far, you’ve seen how to create simple decorators. You already have a pretty good understanding of what decorators are and how they work. Feel free to take a break from this article to practice everything you’ve learned.\n",
    "\n",
    "In the second part of this tutorial, we’ll explore more advanced features, including how to use the following:\n",
    "* <font size='3ptx'><b><a href='#sect4_1'>Decorating Classes</a></b></font>\n",
    "* <font size='3ptx'><b><a href='#sect4_2'>Several decorators on one function</a></b></font>\n",
    "* <font size='3ptx'><b><a href='#sect4_3'>Decorators with arguments</a></b></font>\n",
    "* <font size='3ptx'><b><a href='#sect4_4'>Decorators that can optionally take arguments</a></b></font>\n",
    "* <font size='3ptx'><b><a href='#sect4_5'>Stateful decorators</a></b></font>\n",
    "* <font size='3ptx'><b><a href='#sect4_6'>Classes as decorators</a></b></font>"
   ]
  },
  {
   "cell_type": "markdown",
   "id": "35dca99d",
   "metadata": {},
   "source": [
    "<a id='sect4_1'></a>\n",
    "### <font color='darkgreen'>Decorating Classes</font>\n",
    "There are two different ways you can use decorators on classes. The first one is very close to what you have already done with functions: you can <b>decorate the methods of a class</b>. This was <a href='https://www.python.org/dev/peps/pep-0318/#motivation'>one of the motivations</a> for introducing decorators back in the day.\n",
    "\n",
    "Some commonly used decorators that are even built-ins in Python are <b><a href='https://docs.python.org/3/library/functions.html#classmethod'>@classmethod</a></b>, <b><a href='https://docs.python.org/3/library/functions.html#staticmethod'>@staticmethod</a></b>, and <b><a href='https://docs.python.org/3/library/functions.html#property'>@property</a></b>. The <b><a href='https://docs.python.org/3/library/functions.html#classmethod'>@classmethod</a></b> and <b><a href='https://docs.python.org/3/library/functions.html#staticmethod'>@staticmethod</a></b> decorators are used to define methods inside a class namespace that are not connected to a particular instance of that class. The <b><a href='https://docs.python.org/3/library/functions.html#property'>@property</a></b> decorator is used to customize <a href='https://docs.python.org/howto/descriptor.html#properties'>getters and setters</a> for class attributes.\n",
    "\n",
    "The following definition of a Circle class uses the @classmethod, @staticmethod, and @property decorators:\n",
    "```python\n",
    "class Circle:\n",
    "    def __init__(self, radius):\n",
    "        self._radius = radius\n",
    "\n",
    "    @property\n",
    "    def radius(self):\n",
    "        \"\"\"Get value of radius\"\"\"\n",
    "        return self._radius\n",
    "\n",
    "    @radius.setter\n",
    "    def radius(self, value):\n",
    "        \"\"\"Set radius, raise error if negative\"\"\"\n",
    "        if value >= 0:\n",
    "            self._radius = value\n",
    "        else:\n",
    "            raise ValueError(\"Radius must be positive\")\n",
    "\n",
    "    @property\n",
    "    def area(self):\n",
    "        \"\"\"Calculate area inside circle\"\"\"\n",
    "        return self.pi() * self.radius**2\n",
    "\n",
    "    def cylinder_volume(self, height):\n",
    "        \"\"\"Calculate volume of cylinder with circle as base\"\"\"\n",
    "        return self.area * height\n",
    "\n",
    "    @classmethod\n",
    "    def unit_circle(cls):\n",
    "        \"\"\"Factory method creating a circle with radius 1\"\"\"\n",
    "        return cls(1)\n",
    "\n",
    "    @staticmethod\n",
    "    def pi():\n",
    "        \"\"\"Value of π, could use math.pi instead though\"\"\"\n",
    "        return 3.1415926535\n",
    "```\n",
    "\n",
    "Let’s define a class where we decorate some of its methods using the <a href='https://realpython.com/primer-on-python-decorators/#debugging-code'>@debug</a> and <a href='https://realpython.com/primer-on-python-decorators/#timing-functions'>@timer</a> decorators from <a href='https://realpython.com/primer-on-python-decorators/#a-few-real-world-examples'>earlier</a>:"
   ]
  },
  {
   "cell_type": "code",
   "execution_count": 33,
   "id": "f54a25bb",
   "metadata": {},
   "outputs": [],
   "source": [
    "from my_decorators import debug, timer\n",
    "\n",
    "class TimeWaster:\n",
    "    @debug\n",
    "    def __init__(self, max_num):\n",
    "        self.max_num = max_num\n",
    "\n",
    "    @timer\n",
    "    def waste_time(self, num_times):\n",
    "        for _ in range(num_times):\n",
    "            sum([i**2 for i in range(self.max_num)])"
   ]
  },
  {
   "cell_type": "markdown",
   "id": "cee40af6",
   "metadata": {},
   "source": [
    "Using this class, you can see the effect of the decorators:"
   ]
  },
  {
   "cell_type": "code",
   "execution_count": 34,
   "id": "1862e675",
   "metadata": {},
   "outputs": [
    {
     "name": "stdout",
     "output_type": "stream",
     "text": [
      "Calling __init__(<__main__.TimeWaster object at 0x7fe184401668>, 1000)\n",
      "'__init__' returned None\n"
     ]
    }
   ],
   "source": [
    "tw = TimeWaster(1000)"
   ]
  },
  {
   "cell_type": "code",
   "execution_count": 35,
   "id": "fb8679e3",
   "metadata": {},
   "outputs": [
    {
     "name": "stdout",
     "output_type": "stream",
     "text": [
      "Finished 'waste_time' in 0.2599 secs\n"
     ]
    }
   ],
   "source": [
    "tw.waste_time(999)"
   ]
  },
  {
   "cell_type": "markdown",
   "id": "9d4ed60e",
   "metadata": {},
   "source": [
    "The other way to use decorators on classes is to <b>decorate the whole class</b>. This is, for example, done in the new <b><a href='https://realpython.com/python-data-classes/'>dataclasses module</a></b> in Python 3.7:\n",
    "```python\n",
    "from dataclasses import dataclass\n",
    "\n",
    "@dataclass\n",
    "class PlayingCard:\n",
    "    rank: str\n",
    "    suit: str\n",
    "```\n",
    "\n",
    "The meaning of the syntax is similar to the function decorators. In the example above, you could have done the decoration by writing <font color='blue'>PlayingCard = dataclass(PlayingCard)</font>.\n",
    "\n",
    "A <a href='https://www.python.org/dev/peps/pep-3129/#rationale'>common use of class decorators</a> is to be a simpler alternative to some use-cases of <b><a href='https://realpython.com/python-metaclasses/'>metaclasses</a></b>. In both cases, <b>you are changing the definition of a class dynamically</b>.\n",
    "\n",
    "Writing a class decorator is very similar to writing a function decorator. The only difference is that the decorator will receive a class and not a function as an argument. In fact, all the <a href='https://realpython.com/primer-on-python-decorators/#a-few-real-world-examples'>decorators you saw above</a> will work as class decorators. When you are using them on a class instead of a function, their effect might not be what you want. In the following example, the <font color='orange'><b>@timer</b></font> decorator is applied to a class:"
   ]
  },
  {
   "cell_type": "code",
   "execution_count": 36,
   "id": "76ee2858",
   "metadata": {},
   "outputs": [],
   "source": [
    "from my_decorators import timer\n",
    "\n",
    "@timer\n",
    "class TimeWaster:\n",
    "    def __init__(self, max_num):\n",
    "        self.max_num = max_num\n",
    "\n",
    "    def waste_time(self, num_times):\n",
    "        for _ in range(num_times):\n",
    "            sum([i**2 for i in range(self.max_num)])"
   ]
  },
  {
   "cell_type": "markdown",
   "id": "751e3a60",
   "metadata": {},
   "source": [
    "Decorating a class does not decorate its methods. Recall that @timer is just shorthand for <font color='blue'>TimeWaster = timer(TimeWaster)</font>."
   ]
  },
  {
   "cell_type": "code",
   "execution_count": 37,
   "id": "289c0cc5",
   "metadata": {},
   "outputs": [
    {
     "name": "stdout",
     "output_type": "stream",
     "text": [
      "Finished 'TimeWaster' in 0.0000 secs\n"
     ]
    }
   ],
   "source": [
    "tw = TimeWaster(1000)"
   ]
  },
  {
   "cell_type": "code",
   "execution_count": 38,
   "id": "20a06d19",
   "metadata": {},
   "outputs": [],
   "source": [
    "tw.waste_time(999)"
   ]
  },
  {
   "cell_type": "markdown",
   "id": "1f8a9e07",
   "metadata": {},
   "source": [
    "<a href='https://realpython.com/primer-on-python-decorators/#creating-singletons'>Later</a>, you will see an example defining a proper class decorator, namely <b><font color='orange'>@singleton</font></b>, which ensures that there is only one instance of a class."
   ]
  },
  {
   "cell_type": "markdown",
   "id": "bfc6b5d5",
   "metadata": {},
   "source": [
    "<a id='sect4_2'></a>\n",
    "### <font color='darkgreen'>Nesting Decorators</font>\n",
    "<b>You can apply several decorators to a function by stacking them on top of each other:</b>"
   ]
  },
  {
   "cell_type": "code",
   "execution_count": 39,
   "id": "f8717628",
   "metadata": {},
   "outputs": [],
   "source": [
    "from my_decorators import debug, do_twice_v4\n",
    "\n",
    "@debug\n",
    "@do_twice_v4\n",
    "def greet(name):\n",
    "    print(f\"Hello {name}\")"
   ]
  },
  {
   "cell_type": "markdown",
   "id": "02a6cad8",
   "metadata": {},
   "source": [
    "Think about this as the decorators being executed in the order they are listed. In other words, <font color='orange'><b>@debug</b></font> calls <font color='orange'><b>@do_twice_v4</b></font>, which calls <font color='blue'>greet()</font>, or <font color='blue'>debug(do_twice(greet()))</font>:"
   ]
  },
  {
   "cell_type": "code",
   "execution_count": 40,
   "id": "9b7c757d",
   "metadata": {},
   "outputs": [
    {
     "name": "stdout",
     "output_type": "stream",
     "text": [
      "Calling greet('Eva')\n",
      "Hello Eva\n",
      "Hello Eva\n",
      "'greet' returned None\n"
     ]
    }
   ],
   "source": [
    "greet(\"Eva\")"
   ]
  },
  {
   "cell_type": "markdown",
   "id": "ea56df5e",
   "metadata": {},
   "source": [
    "Observe the difference if we change the order of <font color='orange'><b>@debug</b></font> and <font color='orange'><b>@do_twice_v4</b></font>:"
   ]
  },
  {
   "cell_type": "code",
   "execution_count": 41,
   "id": "93c30dba",
   "metadata": {},
   "outputs": [],
   "source": [
    "from my_decorators import debug, do_twice_v4\n",
    "\n",
    "@do_twice_v4\n",
    "@debug\n",
    "def greet(name):\n",
    "    print(f\"Hello {name}\")"
   ]
  },
  {
   "cell_type": "code",
   "execution_count": 42,
   "id": "ba81fd76",
   "metadata": {},
   "outputs": [
    {
     "name": "stdout",
     "output_type": "stream",
     "text": [
      "Calling greet('Eva')\n",
      "Hello Eva\n",
      "'greet' returned None\n",
      "Calling greet('Eva')\n",
      "Hello Eva\n",
      "'greet' returned None\n"
     ]
    }
   ],
   "source": [
    "greet(\"Eva\")"
   ]
  },
  {
   "cell_type": "markdown",
   "id": "62f278e7",
   "metadata": {},
   "source": [
    "<a id='sect4_3'></a>\n",
    "### <font color='darkgreen'>Decorators With Arguments</font>\n",
    "<b>Sometimes, it’s useful to pass arguments to your decorators.</b> For instance, <font color='orange'><b>@do_twice_v4</b></font> could be extended to a <font color='orange'><b>@repeat(num_times)</b></font> decorator. The number of times to execute the decorated function could then be given as an argument.\n",
    "\n",
    "This would allow you to do something like this:\n",
    "```python\n",
    "@repeat(num_times=4)\n",
    "def greet(name):\n",
    "    print(f\"Hello {name}\")\n",
    "```\n",
    "\n",
    "So it's execution looks like:\n",
    "```python\n",
    ">>> greet(\"World\")\n",
    "Hello World\n",
    "Hello World\n",
    "Hello World\n",
    "Hello World\n",
    "```\n",
    "\n",
    "Think about how you could achieve this.\n",
    "\n",
    "So far, the name written after the @ has referred to a function object that can be called with another function. To be consistent, you then need <font color='blue'>repeat(num_times=4)</font> to return a function object that can act as a decorator. Luckily, <a href='https://realpython.com/primer-on-python-decorators/#returning-functions-from-functions'>you already know how to return functions!</a> In general, you want something like the following:\n",
    "```python\n",
    "def repeat(num_times):\n",
    "    def decorator_repeat(func):\n",
    "        ...  # Create and return a wrapper function\n",
    "    return decorator_repeat\n",
    "```\n",
    "\n",
    "Typically, the decorator creates and returns an inner wrapper function, so writing the example out in full will give you an inner function within an inner function. While this might sound like the programming equivalent of the <a href='https://en.wikipedia.org/wiki/Inception'>Inception movie</a>, we’ll untangle it all in a moment:\n",
    "```python\n",
    "def repeat(num_times):\n",
    "    def decorator_repeat(func):\n",
    "        @functools.wraps(func)\n",
    "        def wrapper_repeat(*args, **kwargs):\n",
    "            for _ in range(num_times):\n",
    "                value = func(*args, **kwargs)\n",
    "            return value\n",
    "        return wrapper_repeat\n",
    "    return decorator_repeat\n",
    "```\n",
    "\n",
    "It looks a little messy, but we have only put the same decorator pattern you have seen many times by now inside one additional def that handles the arguments to the decorator. Let’s start with the innermost function:\n",
    "```python\n",
    "def wrapper_repeat(*args, **kwargs):\n",
    "    for _ in range(num_times):\n",
    "        value = func(*args, **kwargs)\n",
    "    return value\n",
    "```\n",
    "\n",
    "This <font color='blue'>wrapper_repeat()</font> function takes arbitrary arguments and returns the value of the decorated function, <font color='blue'>func()</font>. This wrapper function also contains the loop that calls the decorated function `num_times` times. This is no different from the earlier wrapper functions you have seen, except that it is using the `num_times` parameter that must be supplied from the outside.\n",
    "<br/><br/>\n",
    "One step out, you’ll find the decorator function:\n",
    "```python\n",
    "def decorator_repeat(func):\n",
    "    @functools.wraps(func)\n",
    "    def wrapper_repeat(*args, **kwargs):\n",
    "        ...\n",
    "    return wrapper_repeat\n",
    "```\n",
    "\n",
    "<br/>\n",
    "Again, <font color='blue'>decorator_repeat()</font> looks exactly like the decorator functions you have written earlier, except that it’s named differently. That’s because we reserve the base name — <font color='blue'>repeat()</font> — for the outermost function, which is the one the user will call.\n",
    "<br/><br/>\n",
    "As you have already seen, the outermost function returns a reference to the decorator function:\n",
    "\n",
    "```python\n",
    "def repeat(num_times):\n",
    "    def decorator_repeat(func):\n",
    "        ...\n",
    "    return decorator_repeat\n",
    "```\n",
    "<br/><br/>\n",
    "With everything set up, let’s see if the results are as expected:"
   ]
  },
  {
   "cell_type": "code",
   "execution_count": 43,
   "id": "e6d800c8",
   "metadata": {},
   "outputs": [
    {
     "name": "stdout",
     "output_type": "stream",
     "text": [
      "Hello Selina\n",
      "Hello Selina\n",
      "Hello Selina\n",
      "Hello Selina\n"
     ]
    }
   ],
   "source": [
    "from my_decorators import repeat\n",
    "\n",
    "@repeat(num_times=4)\n",
    "def greet(name):\n",
    "    print(f\"Hello {name}\")\n",
    "    \n",
    "greet('Selina')"
   ]
  },
  {
   "cell_type": "markdown",
   "id": "5e253e4f",
   "metadata": {},
   "source": [
    "<a id='sect4_4'></a>\n",
    "### <font color='darkgreen'>Both Please, But Never Mind the Bread</font>\n",
    "<b>With a little bit of care, you can also define decorators that can be used both with and without arguments. Most likely, you don’t need this, but it is nice to have the flexibility.</b>\n",
    "\n",
    "As you saw in the previous section, when a decorator uses arguments, you need to add an extra outer function. The challenge is for your code to figure out if the decorator has been called with or without arguments.\n",
    "\n",
    "Since the function to decorate is only passed in directly if the decorator is called without arguments, the function must be an optional argument. This means that the decorator arguments must all be specified by keyword. You can enforce this with the special * syntax, which means that <a href='https://www.python.org/dev/peps/pep-3102/'>all following parameters are keyword-only</a>:\n",
    "```python\n",
    "def name(_func=None, *, kw1=val1, kw2=val2, ...):  # 1\n",
    "    def decorator_name(func):\n",
    "        ...  # Create and return a wrapper function.\n",
    "\n",
    "    if _func is None:\n",
    "        return decorator_name                      # 2\n",
    "    else:\n",
    "        return decorator_name(_func)               # 3\n",
    "```\n",
    "\n",
    "Here, the <i>\\_func</i> argument acts as a marker, noting whether the decorator has been called with arguments or not:\n",
    "1. If name has been called without arguments, the decorated function will be passed in as <i>\\_func</i>. If it has been called with arguments, then <i>\\_func</i> will be None, and some of the keyword arguments may have been changed from their default values. The * in the argument list means that the remaining arguments can’t be called as positional arguments.\n",
    "2. In this case, the decorator was called with arguments. Return a decorator function that can read and return a function.\n",
    "3. In this case, the decorator was called without arguments. Apply the decorator to the function immediately.\n",
    "\n",
    "<br/>\n",
    "Using this boilerplate on the <font color='orange'><b>@repeat</b></font> decorator in the previous section, you can write the following:\n",
    "\n",
    "```python\n",
    "def repeat(_func=None, *, num_times=2):\n",
    "    def decorator_repeat(func):\n",
    "        @functools.wraps(func)\n",
    "        def wrapper_repeat(*args, **kwargs):\n",
    "            for _ in range(num_times):\n",
    "                value = func(*args, **kwargs)\n",
    "            return value\n",
    "        return wrapper_repeat\n",
    "\n",
    "    if _func is None:\n",
    "        return decorator_repeat\n",
    "    else:\n",
    "        return decorator_repeat(_func)\n",
    "```\n",
    "\n",
    "Compare this with the original <font color='orange'><b>@repeat</b></font>. The only changes are the added <i>\\_func</i> parameter and the if-else at the end.\n",
    "\n",
    "<a href='https://github.com/dabeaz/python-cookbook/blob/master/src/9/defining_a_decorator_that_takes_an_optional_argument/example.py'>Recipe 9.6</a> of the excellent <a href='https://realpython.com/asins/1449340377/'>Python Cookbook</a> shows an alternative solution using <a href='https://docs.python.org/library/functools.html#functools.partial'><b>functools</b>.partial()</a>.\n",
    "\n",
    "These examples show that <font color='orange'><b>@repeat</b></font> can now be used with or without arguments:"
   ]
  },
  {
   "cell_type": "code",
   "execution_count": 44,
   "id": "0b84391d",
   "metadata": {},
   "outputs": [],
   "source": [
    "@repeat\n",
    "def say_whee():\n",
    "    print(\"Whee!\")\n",
    "\n",
    "@repeat(num_times=3)\n",
    "def greet(name):\n",
    "    print(f\"Hello {name}\")"
   ]
  },
  {
   "cell_type": "code",
   "execution_count": 45,
   "id": "c8616035",
   "metadata": {},
   "outputs": [
    {
     "name": "stdout",
     "output_type": "stream",
     "text": [
      "Whee!\n",
      "Whee!\n"
     ]
    }
   ],
   "source": [
    "say_whee()"
   ]
  },
  {
   "cell_type": "code",
   "execution_count": 46,
   "id": "8869ffbb",
   "metadata": {},
   "outputs": [
    {
     "name": "stdout",
     "output_type": "stream",
     "text": [
      "Hello Penny\n",
      "Hello Penny\n",
      "Hello Penny\n"
     ]
    }
   ],
   "source": [
    "greet(\"Penny\")"
   ]
  },
  {
   "cell_type": "markdown",
   "id": "c2daf1e2",
   "metadata": {},
   "source": [
    "<a id='sect4_5'></a>\n",
    "### <font color='darkgreen'>Stateful Decorators</font>\n",
    "<b>Sometimes, it’s useful to have a decorator that can keep track of state.</b> As a simple example, we will create a decorator that counts the number of times a function is called.\n",
    "\n",
    "<b><font color='darkred'>Note</font></b>: <a href='https://realpython.com/primer-on-python-decorators/#functions'>In the beginning of this guide</a>, we talked about pure functions returning a value based on given arguments. Stateful decorators are quite the opposite, where the return value will depend on the current state, as well as the given arguments.\n",
    "\n",
    "In the <a href='https://realpython.com/primer-on-python-decorators/#classes-as-decorators'>next section</a>, you will see how to use classes to keep state. But in simple cases, you can also get away with using <a href='https://www.python.org/dev/peps/pep-0232/'>function attributes</a>:\n",
    "```python\n",
    "import functools\n",
    "\n",
    "def count_calls(func):\n",
    "    @functools.wraps(func)\n",
    "    def wrapper_count_calls(*args, **kwargs):\n",
    "        wrapper_count_calls.num_calls += 1\n",
    "        print(f\"Call {wrapper_count_calls.num_calls} of {func.__name__!r}\")\n",
    "        return func(*args, **kwargs)\n",
    "    wrapper_count_calls.num_calls = 0\n",
    "    return wrapper_count_calls\n",
    "```\n",
    "\n",
    "<br/>\n",
    "The state—the number of calls to the function—is stored in the function attribute <font color='violet'>.num_calls</font> on the wrapper function. Here is the effect of using it:"
   ]
  },
  {
   "cell_type": "code",
   "execution_count": 47,
   "id": "9709b4b0",
   "metadata": {},
   "outputs": [],
   "source": [
    "from my_decorators import count_calls\n",
    "\n",
    "@count_calls\n",
    "def say_whee():\n",
    "    print(\"Whee!\")"
   ]
  },
  {
   "cell_type": "code",
   "execution_count": 48,
   "id": "92a8bcf2",
   "metadata": {},
   "outputs": [
    {
     "name": "stdout",
     "output_type": "stream",
     "text": [
      "Call 1 of 'say_whee'\n",
      "Whee!\n"
     ]
    }
   ],
   "source": [
    "say_whee()"
   ]
  },
  {
   "cell_type": "code",
   "execution_count": 49,
   "id": "e24f39dd",
   "metadata": {},
   "outputs": [
    {
     "name": "stdout",
     "output_type": "stream",
     "text": [
      "Call 2 of 'say_whee'\n",
      "Whee!\n"
     ]
    }
   ],
   "source": [
    "say_whee()"
   ]
  },
  {
   "cell_type": "code",
   "execution_count": 50,
   "id": "d9f465f3",
   "metadata": {},
   "outputs": [
    {
     "data": {
      "text/plain": [
       "2"
      ]
     },
     "execution_count": 50,
     "metadata": {},
     "output_type": "execute_result"
    }
   ],
   "source": [
    "say_whee.num_calls"
   ]
  },
  {
   "cell_type": "markdown",
   "id": "e86d9eb5",
   "metadata": {},
   "source": [
    "<a id='sect4_6'></a>\n",
    "### <font color='darkgreen'>Classes as Decorators</font>\n",
    "<b>The typical way to maintain state is by using classes</b>. In this section, you’ll see how to rewrite the <font color='orange'><b>@count_calls</b></font> example from the previous section using a class as a decorator.\n",
    "\n",
    "Recall that the decorator syntax <font color='orange'><b>@my_decorator</b></font> is just an easier way of saying <font color='blue'>func = my_decorator(func)</font>. Therefore, if <i>my_decorator</i> is a class, it needs to take func as an argument in its .\\_\\_init__() method. Furthermore, the class instance needs to be callable so that it can stand in for the decorated function.\n",
    "\n",
    "For a class instance to be callable, you implement the special <a href='https://docs.python.org/3/reference/datamodel.html#object.__call__'>.\\_\\_call__()</a> method:"
   ]
  },
  {
   "cell_type": "code",
   "execution_count": 51,
   "id": "47678fb2",
   "metadata": {},
   "outputs": [],
   "source": [
    "class Counter:\n",
    "    def __init__(self, start=0):\n",
    "        self.count = start\n",
    "\n",
    "    def __call__(self):\n",
    "        self.count += 1\n",
    "        print(f\"Current count is {self.count}\")"
   ]
  },
  {
   "cell_type": "markdown",
   "id": "d3b8e5a8",
   "metadata": {},
   "source": [
    "The .\\_\\_call__() method is executed each time you try to call an instance of the class:"
   ]
  },
  {
   "cell_type": "code",
   "execution_count": 52,
   "id": "e6ee1b55",
   "metadata": {},
   "outputs": [
    {
     "name": "stdout",
     "output_type": "stream",
     "text": [
      "Current count is 1\n",
      "Current count is 2\n"
     ]
    }
   ],
   "source": [
    "counter = Counter()\n",
    "counter()  # Current count is 1\n",
    "counter()  # Current count is 2"
   ]
  },
  {
   "cell_type": "markdown",
   "id": "af40f7fb",
   "metadata": {},
   "source": [
    "Therefore, a typical implementation of a decorator class needs to implement .\\_\\_init__() and .\\_\\_call__():\n",
    "```python\n",
    "import functools\n",
    "\n",
    "class CountCalls:\n",
    "    def __init__(self, func):\n",
    "        functools.update_wrapper(self, func)\n",
    "        self.func = func\n",
    "        self.num_calls = 0\n",
    "\n",
    "    def __call__(self, *args, **kwargs):\n",
    "        self.num_calls += 1\n",
    "        print(f\"Call {self.num_calls} of {self.func.__name__!r}\")\n",
    "        return self.func(*args, **kwargs)\n",
    "```"
   ]
  },
  {
   "cell_type": "code",
   "execution_count": 53,
   "id": "8308d5aa",
   "metadata": {},
   "outputs": [],
   "source": [
    "from my_decorators import CountCalls\n",
    "\n",
    "@CountCalls\n",
    "def say_whee():\n",
    "    print(\"Whee!\")"
   ]
  },
  {
   "cell_type": "markdown",
   "id": "60372dde",
   "metadata": {},
   "source": [
    "The .\\_\\_init__() method must store a reference to the function and can do any other necessary initialization. The .\\_\\_call__() method will be called instead of the decorated function. It does essentially the same thing as the <font color='blue'>wrapper()</font> function in our earlier examples. Note that you need to use the <a href='https://docs.python.org/3/library/functools.html#functools.update_wrapper'><b>functools</b>.update_wrapper()</a> function instead of <a href='https://docs.python.org/3/library/functools.html#functools.wraps'><b>@functools.wraps</b></a>.\n",
    "\n",
    "This <font color='orange'><b>@CountCalls</b></font> decorator works the same as the one in the previous section:"
   ]
  },
  {
   "cell_type": "code",
   "execution_count": 54,
   "id": "bcc66bfb",
   "metadata": {},
   "outputs": [
    {
     "name": "stdout",
     "output_type": "stream",
     "text": [
      "Call 1 of 'say_whee'\n",
      "Whee!\n"
     ]
    }
   ],
   "source": [
    "say_whee()"
   ]
  },
  {
   "cell_type": "code",
   "execution_count": 55,
   "id": "d97cfeec",
   "metadata": {},
   "outputs": [
    {
     "name": "stdout",
     "output_type": "stream",
     "text": [
      "Call 2 of 'say_whee'\n",
      "Whee!\n"
     ]
    }
   ],
   "source": [
    "say_whee()"
   ]
  },
  {
   "cell_type": "code",
   "execution_count": 56,
   "id": "743d4600",
   "metadata": {},
   "outputs": [
    {
     "data": {
      "text/plain": [
       "2"
      ]
     },
     "execution_count": 56,
     "metadata": {},
     "output_type": "execute_result"
    }
   ],
   "source": [
    "say_whee.num_calls"
   ]
  },
  {
   "cell_type": "markdown",
   "id": "2f316f2c",
   "metadata": {},
   "source": [
    "<a id='sect5'></a>\n",
    "## <font color='darkblue'>More Real World Examples</font> (<a href='#sect0'>back</a>)\n",
    "* <font size='3ptx'><b><a href='#sect5_1'>Creating Singletons</a></b></font>\n",
    "* <font size='3ptx'><b><a href='#sect5_2'>Caching Return Values</a></b></font>\n",
    "* <font size='3ptx'><b><a href='#sect5_3'>Adding Information About Units</a></b></font>\n",
    "* <font size='3ptx'><b><a href='#sect5_4'>Validating JSON</a></b></font>\n",
    "\n",
    "<b>We’ve come a far way now, having figured out how to create all kinds of decorators.</b> Let’s wrap it up, putting our newfound knowledge into creating a few more examples that might actually be useful in the real world."
   ]
  },
  {
   "cell_type": "markdown",
   "id": "852d4ed7",
   "metadata": {},
   "source": [
    "<a id='sect5_1'></a>\n",
    "### <font color='darkgreen'>Creating Singletons</font>\n",
    "<b>A singleton is a class with only one instance.</b> There are several singletons in Python that you use frequently, including `None`, `True`, and `False`. It is the fact that `None` is a singleton that allows you to compare for `None` using the <a href='https://realpython.com/python-is-identity-vs-equality/'>is keyword</a>, like you saw in the <b><a href='https://realpython.com/primer-on-python-decorators/#both-please-but-never-mind-the-bread'>Both Please</a></b> section:\n",
    "```python\n",
    "if _func is None:\n",
    "    return decorator_name\n",
    "else:\n",
    "    return decorator_name(_func)\n",
    "```\n",
    "\n",
    "<b>Using `is` returns True only for objects that are the exact same instance</b>. The following <font color='orange'><b>@singleton</b></font> decorator turns a class into a singleton by storing the first instance of the class as an attribute. Later attempts at creating an instance simply return the stored instance:\n",
    "\n",
    "```python\n",
    "def singleton(cls):\n",
    "    \"\"\"Make a class a Singleton class (only one instance)\"\"\"\n",
    "    @functools.wraps(cls)\n",
    "    def wrapper_singleton(*args, **kwargs):\n",
    "        if not wrapper_singleton.instance:\n",
    "            wrapper_singleton.instance = cls(*args, **kwargs)\n",
    "        return wrapper_singleton.instance\n",
    "    wrapper_singleton.instance = None\n",
    "    return wrapper_singleton\n",
    "```\n",
    "As you see, this class decorator follows the same template as our function decorators. The only difference is that we are using <i>cls</i> instead of <i>func</i> as the parameter name to indicate that it is meant to be a class decorator.\n",
    "\n",
    "Let’s see if it works:"
   ]
  },
  {
   "cell_type": "code",
   "execution_count": 57,
   "id": "055e2736",
   "metadata": {},
   "outputs": [],
   "source": [
    "from my_decorators import singleton\n",
    "\n",
    "@singleton\n",
    "class TheOne:\n",
    "    pass"
   ]
  },
  {
   "cell_type": "code",
   "execution_count": 58,
   "id": "90fb417f",
   "metadata": {},
   "outputs": [],
   "source": [
    "first_one = TheOne()\n",
    "another_one = TheOne()"
   ]
  },
  {
   "cell_type": "code",
   "execution_count": 59,
   "id": "28b99b4d",
   "metadata": {},
   "outputs": [
    {
     "name": "stdout",
     "output_type": "stream",
     "text": [
      "id(first_one)=140606561274232\n",
      "id(another_one)=140606561274232\n",
      "first_one is another_one=True\n"
     ]
    }
   ],
   "source": [
    "print(f\"id(first_one)={id(first_one)}\")\n",
    "print(f\"id(another_one)={id(another_one)}\")\n",
    "print(f\"first_one is another_one={first_one is another_one}\")"
   ]
  },
  {
   "cell_type": "markdown",
   "id": "dfd2a64d",
   "metadata": {},
   "source": [
    "It seems clear that <i>first_one</i> is indeed the exact same instance as <i>another_one</i>.\n",
    "\n",
    "<b><font color='darkred'>Note</font></b>: Singleton classes are not really used as often in Python as in other languages. The effect of a singleton is usually better implemented as a global variable in a module."
   ]
  },
  {
   "cell_type": "markdown",
   "id": "e9c4ffd3",
   "metadata": {},
   "source": [
    "<a id='sect5_2'></a>\n",
    "### <font color='darkgreen'>Caching Return Values</font>\n",
    "<b>Decorators can provide a nice mechanism for <a href='https://en.wikipedia.org/wiki/Cache_%28computing%29'>caching</a> and <a href='https://en.wikipedia.org/wiki/Memoization'>memoization</a></b>. As an example, let’s look at a <a href='https://realpython.com/python-thinking-recursively/'>recursive</a> definition of the <a href='https://en.wikipedia.org/wiki/Fibonacci_number'>Fibonacci sequence</a>:"
   ]
  },
  {
   "cell_type": "code",
   "execution_count": 60,
   "id": "690bc231",
   "metadata": {},
   "outputs": [],
   "source": [
    "from my_decorators import count_calls\n",
    "\n",
    "@count_calls\n",
    "def fibonacci(num):\n",
    "    if num < 2:\n",
    "        return num\n",
    "    \n",
    "    return fibonacci(num - 1) + fibonacci(num - 2)"
   ]
  },
  {
   "cell_type": "markdown",
   "id": "2c5fe066",
   "metadata": {},
   "source": [
    "While the implementation is simple, its runtime performance is terrible:"
   ]
  },
  {
   "cell_type": "code",
   "execution_count": 61,
   "id": "d4ebdc8b",
   "metadata": {},
   "outputs": [
    {
     "name": "stdout",
     "output_type": "stream",
     "text": [
      "Call 1 of 'fibonacci'\n",
      "Call 2 of 'fibonacci'\n",
      "Call 3 of 'fibonacci'\n",
      "Call 4 of 'fibonacci'\n",
      "Call 5 of 'fibonacci'\n",
      "Call 6 of 'fibonacci'\n",
      "Call 7 of 'fibonacci'\n",
      "Call 8 of 'fibonacci'\n",
      "Call 9 of 'fibonacci'\n",
      "Call 10 of 'fibonacci'\n",
      "Call 11 of 'fibonacci'\n",
      "Call 12 of 'fibonacci'\n",
      "Call 13 of 'fibonacci'\n",
      "Call 14 of 'fibonacci'\n",
      "Call 15 of 'fibonacci'\n"
     ]
    },
    {
     "data": {
      "text/plain": [
       "5"
      ]
     },
     "execution_count": 61,
     "metadata": {},
     "output_type": "execute_result"
    }
   ],
   "source": [
    "fibonacci(5)"
   ]
  },
  {
   "cell_type": "code",
   "execution_count": 62,
   "id": "5e9f8d82",
   "metadata": {},
   "outputs": [
    {
     "data": {
      "text/plain": [
       "15"
      ]
     },
     "execution_count": 62,
     "metadata": {},
     "output_type": "execute_result"
    }
   ],
   "source": [
    "fibonacci.num_calls"
   ]
  },
  {
   "cell_type": "markdown",
   "id": "ee0f3dec",
   "metadata": {},
   "source": [
    "<b>To calculate the tenth Fibonacci number, you should really only need to calculate the preceding Fibonacci numbers, but this implementation somehow needs a whopping 15 calculations</b>. It gets worse quickly: 21891 calculations are needed for <font color='blue'>fibonacci(20)</font> and almost 2.7 million calculations for the 30th number. This is because the code keeps recalculating Fibonacci numbers that are already known.\n",
    "\n",
    "The usual solution is to implement Fibonacci numbers using a for loop and a lookup table. However, simple caching of the calculations will also do the trick:\n",
    "```python\n",
    "def cache(func):\n",
    "    \"\"\"Keep a cache of previous function calls\"\"\"\n",
    "    @functools.wraps(func)\n",
    "    def wrapper_cache(*args, **kwargs):\n",
    "        cache_key = args + tuple(kwargs.items())\n",
    "        if cache_key not in wrapper_cache.cache:\n",
    "            wrapper_cache.cache[cache_key] = func(*args, **kwargs)\n",
    "        return wrapper_cache.cache[cache_key]\n",
    "    wrapper_cache.cache = dict()\n",
    "    return wrapper_cache\n",
    "```\n",
    "\n",
    "The cache works as a lookup table, so now <font color='blue'>fibonacci()</font> only does the necessary calculations once:"
   ]
  },
  {
   "cell_type": "code",
   "execution_count": 63,
   "id": "dd3857c4",
   "metadata": {},
   "outputs": [],
   "source": [
    "from my_decorators import cache, count_calls\n",
    "\n",
    "@count_calls\n",
    "@cache\n",
    "def fibonacci(num):\n",
    "    if num < 2:\n",
    "        return num\n",
    "    return fibonacci(num - 1) + fibonacci(num - 2)"
   ]
  },
  {
   "cell_type": "code",
   "execution_count": 64,
   "id": "6d7527b7",
   "metadata": {},
   "outputs": [
    {
     "name": "stdout",
     "output_type": "stream",
     "text": [
      "Call 1 of 'fibonacci'\n",
      "Call 2 of 'fibonacci'\n",
      "Call 3 of 'fibonacci'\n",
      "Call 4 of 'fibonacci'\n",
      "Call 5 of 'fibonacci'\n",
      "Call 6 of 'fibonacci'\n",
      "Call 7 of 'fibonacci'\n",
      "Call 8 of 'fibonacci'\n",
      "Call 9 of 'fibonacci'\n"
     ]
    },
    {
     "data": {
      "text/plain": [
       "5"
      ]
     },
     "execution_count": 64,
     "metadata": {},
     "output_type": "execute_result"
    }
   ],
   "source": [
    "fibonacci(5)"
   ]
  },
  {
   "cell_type": "code",
   "execution_count": 65,
   "id": "e82ea480",
   "metadata": {},
   "outputs": [
    {
     "name": "stdout",
     "output_type": "stream",
     "text": [
      "Call 1 of 'fibonacci'\n",
      "Call 2 of 'fibonacci'\n",
      "Call 3 of 'fibonacci'\n",
      "Call 4 of 'fibonacci'\n",
      "Call 5 of 'fibonacci'\n",
      "Call 6 of 'fibonacci'\n",
      "Call 7 of 'fibonacci'\n",
      "Call 8 of 'fibonacci'\n",
      "Call 9 of 'fibonacci'\n",
      "Call 10 of 'fibonacci'\n",
      "Call 11 of 'fibonacci'\n",
      "Call 12 of 'fibonacci'\n",
      "Call 13 of 'fibonacci'\n",
      "Call 14 of 'fibonacci'\n",
      "Call 15 of 'fibonacci'\n",
      "Call 16 of 'fibonacci'\n",
      "Call 17 of 'fibonacci'\n",
      "Call 18 of 'fibonacci'\n",
      "Call 19 of 'fibonacci'\n",
      "Call 20 of 'fibonacci'\n",
      "Call 21 of 'fibonacci'\n",
      "Call 22 of 'fibonacci'\n",
      "Call 23 of 'fibonacci'\n",
      "Call 24 of 'fibonacci'\n",
      "Call 25 of 'fibonacci'\n",
      "Call 26 of 'fibonacci'\n",
      "Call 27 of 'fibonacci'\n",
      "Call 28 of 'fibonacci'\n",
      "Call 29 of 'fibonacci'\n",
      "Call 30 of 'fibonacci'\n",
      "Call 31 of 'fibonacci'\n"
     ]
    },
    {
     "data": {
      "text/plain": [
       "6765"
      ]
     },
     "execution_count": 65,
     "metadata": {},
     "output_type": "execute_result"
    }
   ],
   "source": [
    "fibonacci.num_calls = 0\n",
    "fibonacci(20)"
   ]
  },
  {
   "cell_type": "markdown",
   "id": "c665e1d2",
   "metadata": {},
   "source": [
    "In the standard library, a <b><a href='https://realpython.com/lru-cache-python/'>Least Recently Used (LRU)</a></b> cache is available as <a href='https://docs.python.org/library/functools.html#functools.lru_cache'><b>@functools</b>.lru_cache</a>. This decorator has more features than the one you saw above. You should use <a href='https://docs.python.org/library/functools.html#functools.lru_cache'><b>@functools</b>.lru_cache</a> instead of writing your own cache decorator:"
   ]
  },
  {
   "cell_type": "code",
   "execution_count": 66,
   "id": "31c27a1f",
   "metadata": {},
   "outputs": [],
   "source": [
    "import functools\n",
    "\n",
    "@functools.lru_cache(maxsize=4)\n",
    "def fibonacci(num):\n",
    "    print(f\"Calculating fibonacci({num})\")\n",
    "    if num < 2:\n",
    "        return num\n",
    "    return fibonacci(num - 1) + fibonacci(num - 2)"
   ]
  },
  {
   "cell_type": "markdown",
   "id": "bf6eb81b",
   "metadata": {},
   "source": [
    "<b>The <font color='violet'>maxsize</font> parameter specifies how many recent calls are cached. The default value is 128, but you can specify <font color='blue'>maxsize=None</font> to cache all function calls.</b> However, be aware that this can cause memory problems if you are caching many large objects.\n",
    "\n",
    "You can use the <font color='blue'>.cache_info()</font> method to see how the cache performs, and you can tune it if needed. In our example, we used an artificially small maxsize to see the effect of elements being removed from the cache:"
   ]
  },
  {
   "cell_type": "code",
   "execution_count": 67,
   "id": "cb010757",
   "metadata": {},
   "outputs": [
    {
     "name": "stdout",
     "output_type": "stream",
     "text": [
      "Calculating fibonacci(10)\n",
      "Calculating fibonacci(9)\n",
      "Calculating fibonacci(8)\n",
      "Calculating fibonacci(7)\n",
      "Calculating fibonacci(6)\n",
      "Calculating fibonacci(5)\n",
      "Calculating fibonacci(4)\n",
      "Calculating fibonacci(3)\n",
      "Calculating fibonacci(2)\n",
      "Calculating fibonacci(1)\n",
      "Calculating fibonacci(0)\n"
     ]
    },
    {
     "data": {
      "text/plain": [
       "55"
      ]
     },
     "execution_count": 67,
     "metadata": {},
     "output_type": "execute_result"
    }
   ],
   "source": [
    "fibonacci(10)"
   ]
  },
  {
   "cell_type": "code",
   "execution_count": 68,
   "id": "4ebd1f85",
   "metadata": {},
   "outputs": [
    {
     "data": {
      "text/plain": [
       "CacheInfo(hits=8, misses=11, maxsize=4, currsize=4)"
      ]
     },
     "execution_count": 68,
     "metadata": {},
     "output_type": "execute_result"
    }
   ],
   "source": [
    "fibonacci.cache_info()"
   ]
  },
  {
   "cell_type": "markdown",
   "id": "85ab3b34",
   "metadata": {},
   "source": [
    "<a id='sect5_3'></a>\n",
    "### <font color='darkgreen'>Adding Information About Units</font>\n",
    "The following example is somewhat similar to the <a href='https://realpython.com/primer-on-python-decorators/#registering-plugins'>Registering Plugins</a> example from earlier, in that it does not really change the behavior of the decorated function. Instead, it simply adds <font color='violet'>unit</font> as a function attribute:\n",
    "```python\n",
    "def set_unit(unit):\n",
    "    \"\"\"Register a unit on a function\"\"\"\n",
    "    def decorator_set_unit(func):\n",
    "        func.unit = unit\n",
    "        return func\n",
    "    return decorator_set_unit\n",
    "```\n",
    "\n",
    "The following example calculates the volume of a cylinder based on its radius and height in centimeters:"
   ]
  },
  {
   "cell_type": "code",
   "execution_count": 69,
   "id": "c443b9fc",
   "metadata": {},
   "outputs": [],
   "source": [
    "from my_decorators import set_unit\n",
    "import math\n",
    "\n",
    "@set_unit(unit=\"cm^3\")\n",
    "def volume(radius, height):\n",
    "    return math.pi * radius**2 * height"
   ]
  },
  {
   "cell_type": "markdown",
   "id": "78b5436b",
   "metadata": {},
   "source": [
    "This <font color='violet'>.unit</font> function attribute can later be accessed when needed:"
   ]
  },
  {
   "cell_type": "code",
   "execution_count": 70,
   "id": "a23c2897",
   "metadata": {},
   "outputs": [
    {
     "name": "stdout",
     "output_type": "stream",
     "text": [
      "141.3716694115407 cm^3\n"
     ]
    }
   ],
   "source": [
    "v = volume(3, 5)\n",
    "print(f\"{v} {volume.unit}\")"
   ]
  },
  {
   "cell_type": "markdown",
   "id": "912a3603",
   "metadata": {},
   "source": [
    "Note that you could have achieved something similar using <a href='https://www.python.org/dev/peps/pep-3107/'>function annotations</a>:\n",
    "```python\n",
    "import math\n",
    "\n",
    "def volume(radius, height) -> \"cm^3\":\n",
    "    return math.pi * radius**2 * height\n",
    "```\n",
    "\n",
    "However, since annotations are <a href='https://www.python.org/dev/peps/pep-0484/'>used for type hints</a>, it would be hard to combine such units as annotations with <a href='https://realpython.com/python-type-checking/#static-type-checking'>static type checking</a>.\n",
    "\n",
    "Units become even more powerful and fun when connected with a library that can convert between units. One such library is <b><a href='http://pint.readthedocs.io/'>pint</a></b>. With pint installed (<font color='blue'>pip install Pint</font>), you can for instance convert the volume to cubic inches or gallons:\n",
    "```python\n",
    ">>> import pint\n",
    ">>> ureg = pint.UnitRegistry()\n",
    ">>> vol = volume(3, 5) * ureg(volume.unit)\n",
    "\n",
    ">>> vol\n",
    "<Quantity(141.3716694115407, 'centimeter ** 3')>\n",
    "\n",
    ">>> vol.to(\"cubic inches\")\n",
    "<Quantity(8.627028576414954, 'inch ** 3')>\n",
    "\n",
    ">>> vol.to(\"gallons\").m  # Magnitude\n",
    "0.0373464440537444\n",
    "```\n",
    "\n",
    "You could also modify the decorator to return a pint <b><a href='https://pint.readthedocs.io/en/latest/tutorial.html'>Quantity</a></b> directly. Such a <b><a href='https://pint.readthedocs.io/en/latest/tutorial.html'>Quantity</a></b> is made by multiplying a value with the unit. In pint, units must be looked up in a <b>UnitRegistry</b>. The registry is stored as a function attribute to avoid cluttering the namespace:\n",
    "```python\n",
    "def use_unit(unit):\n",
    "    \"\"\"Have a function return a Quantity with given unit\"\"\"\n",
    "    use_unit.ureg = pint.UnitRegistry()\n",
    "    def decorator_use_unit(func):\n",
    "        @functools.wraps(func)\n",
    "        def wrapper_use_unit(*args, **kwargs):\n",
    "            value = func(*args, **kwargs)\n",
    "            return value * use_unit.ureg(unit)\n",
    "        return wrapper_use_unit\n",
    "    return decorator_use_unit\n",
    "```\n",
    "\n",
    "With the <font color='orange'><b>@use_unit</b></font> decorator, converting units is practically effortless:"
   ]
  },
  {
   "cell_type": "code",
   "execution_count": 71,
   "id": "8ea8e480",
   "metadata": {},
   "outputs": [],
   "source": [
    "from my_decorators import use_unit\n",
    "\n",
    "@use_unit(\"meters per second\")\n",
    "def average_speed(distance, duration):\n",
    "    return distance / duration"
   ]
  },
  {
   "cell_type": "code",
   "execution_count": 72,
   "id": "9828bcdd",
   "metadata": {},
   "outputs": [
    {
     "data": {
      "text/html": [
       "10.438413361169102 meter/second"
      ],
      "text/latex": [
       "$10.438413361169102\\ \\frac{\\mathrm{meter}}{\\mathrm{second}}$"
      ],
      "text/plain": [
       "10.438413361169102 <Unit('meter / second')>"
      ]
     },
     "execution_count": 72,
     "metadata": {},
     "output_type": "execute_result"
    }
   ],
   "source": [
    "bolt = average_speed(100, 9.58)\n",
    "bolt"
   ]
  },
  {
   "cell_type": "code",
   "execution_count": 73,
   "id": "1907ab0b",
   "metadata": {},
   "outputs": [
    {
     "data": {
      "text/html": [
       "37.578288100208766 kilometer/hour"
      ],
      "text/latex": [
       "$37.578288100208766\\ \\frac{\\mathrm{kilometer}}{\\mathrm{hour}}$"
      ],
      "text/plain": [
       "37.578288100208766 <Unit('kilometer / hour')>"
      ]
     },
     "execution_count": 73,
     "metadata": {},
     "output_type": "execute_result"
    }
   ],
   "source": [
    "bolt.to(\"km per hour\")"
   ]
  },
  {
   "cell_type": "code",
   "execution_count": 74,
   "id": "1c3fd570",
   "metadata": {},
   "outputs": [
    {
     "data": {
      "text/plain": [
       "23.35006567906474"
      ]
     },
     "execution_count": 74,
     "metadata": {},
     "output_type": "execute_result"
    }
   ],
   "source": [
    "bolt.to(\"mph\").m  # Magnitude"
   ]
  },
  {
   "cell_type": "markdown",
   "id": "ca58fb82",
   "metadata": {},
   "source": [
    "<a id='sect5_4'></a>\n",
    "### <font color='darkgreen'>Validating JSON</font>\n",
    "Let’s look at one last use case. Take a quick look at the following <b><a href='https://realpython.com/tutorials/flask/'>Flask</a></b> route handler:\n",
    "```python\n",
    "@app.route(\"/grade\", methods=[\"POST\"])\n",
    "def update_grade():\n",
    "    json_data = request.get_json()\n",
    "    if \"student_id\" not in json_data:\n",
    "        abort(400)\n",
    "    # Update database\n",
    "    return \"success!\"\n",
    "```\n",
    "\n",
    "<br/>\n",
    "<b>Here we ensure that the key <i>student_id</i> is part of the request. Although this validation works, it really does not belong in the function itself.</b> Plus, perhaps there are other routes that use the exact same validation. So, let’s keep it <a href='https://en.wikipedia.org/wiki/Don%27t_repeat_yourself'>DRY</a> and abstract out any unnecessary logic with a decorator. The following <font color='orange'><b>@validate_json</b></font> decorator will do the job:\n",
    "\n",
    "```python\n",
    "from flask import Flask, request, abort\n",
    "import functools\n",
    "app = Flask(__name__)\n",
    "\n",
    "def validate_json(*expected_args):                  # 1\n",
    "    def decorator_validate_json(func):\n",
    "        @functools.wraps(func)\n",
    "        def wrapper_validate_json(*args, **kwargs):\n",
    "            json_object = request.get_json()\n",
    "            for expected_arg in expected_args:      # 2\n",
    "                if expected_arg not in json_object:\n",
    "                    abort(400)\n",
    "            return func(*args, **kwargs)\n",
    "        return wrapper_validate_json\n",
    "    return decorator_validate_json\n",
    "```\n",
    "\n",
    "<br/>\n",
    "In the above code, the decorator takes a variable length list as an argument so that we can pass in as many string arguments as necessary, each representing a key used to validate the <a href='https://realpython.com/python-json/'>JSON</a> data:\n",
    "\n",
    "1. The list of keys that must be present in the JSON is given as arguments to the decorator.\n",
    "2. The wrapper function validates that each expected key is present in the JSON data.\n",
    "\n",
    "<br/>\n",
    "The route handler can then focus on its real job—updating grades—as it can safely assume that JSON data are valid:\n",
    "\n",
    "```python\n",
    "@app.route(\"/grade\", methods=[\"POST\"])\n",
    "@validate_json(\"student_id\")\n",
    "def update_grade():\n",
    "    json_data = request.get_json()\n",
    "    # Update database.\n",
    "    return \"success!\"\n",
    "```"
   ]
  },
  {
   "cell_type": "markdown",
   "id": "5f604cec",
   "metadata": {},
   "source": [
    "<a id='sect6'></a>\n",
    "## <font color='darkblue'>Homework 5</font> (<a href='#sect0'>back</a>)\n",
    "<b><a href='https://en.wikipedia.org/wiki/Facade_pattern'>Facade</a></b> 是一個相當常見的 design pattern, 用圖是來封裝複雜的thired party APIs 呼叫流程與繁瑣的套件引用過程, 並以定義了 <b><font size='3ptx'>\"統一且不變的 API 函數\"</font></b> 提供給外部的程式使用. <b>如此日後就算這些 third party 的使用方法或是 API 的規格有任何變動, 外部使用程式因為是面對統一的 API 函數, 所以不會受到影響</b>. 底下是 Wiki page 的介紹:\n",
    "> The facade pattern (also spelled façade) is a software-design pattern commonly used in object-oriented programming. Analogous to a facade in architecture, a facade is an object that serves as a front-facing interface masking more complex underlying or structural code. \n",
    "\n",
    "<br/>\n",
    "\n",
    "接著是 Facade 的 class diagram 與 Sequence diagram 範例:\n",
    "![facade_diagrams](images/Facade_diagrams.PNG)\n",
    "<br/>\n",
    "\n",
    "接著在這個 Homework 中, 我們有兩個外部的模組 <font color='olive'>greeting.py</font> 與 <font color='olive'>bye.py</font> 定義如下:\n",
    "\n",
    "* <font color='olive'><b>greeting.py</b></font>:\n",
    "\n",
    "```python\n",
    "def say_hi(name):\n",
    "  return f\"Hi {name} ^^.\"\n",
    "\n",
    "\n",
    "def say_hello(name):\n",
    "  return f\"Hello, {name}~\"\n",
    "\n",
    "\n",
    "def say_aloha(name):\n",
    "  return f\"Aloha, {name}!\"\n",
    "```\n",
    "\n",
    "* <font color='olive'><b>bye.py</b></font>:\n",
    "\n",
    "```python\n",
    "def say_goodbye(name):\n",
    "  return f\"Goodbye, {name}!\"\n",
    "\n",
    "\n",
    "def say_seeu(name):\n",
    "  return f\"See you, {name}~\"\n",
    "\n",
    "\n",
    "def say_takecare(name):\n",
    "  return f\"Take care! {name}.\"\n",
    "```\n",
    "\n",
    "\n",
    "<br/>\n",
    "同時根據上面的 Facade pattern, 我們也定義了一個統一的介面 <font color='olive'>api_facade.py</font> 以提供外部程式使用:\n",
    "\n",
    "* <font color='olive'><b>api_facade.py</b></font>:\n",
    "\n",
    "```python\n",
    "PUBLIC_API_STORES = {}\n",
    "''' Key as api name; value as api object'''\n",
    "\n",
    "GREET_API_NAME = 'greet_api'\n",
    "''' Name of greeting API '''\n",
    "\n",
    "BYE_API_NAME = 'bye_api'\n",
    "''' Name of API to say bye'''\n",
    "\n",
    "\n",
    "def regr_greet_api(name=GREET_API_NAME):\n",
    "  pass\n",
    "\n",
    "\n",
    "def regr_bye_api(name=BYE_API_NAME):\n",
    "  pass\n",
    "```\n",
    "\n",
    "這個 Homework 便是需要你幫忙實作上面 <font color='blue'>regr_greet_api</font> 與 <font color='blue'>regr_bye_api</font> 兩個 decorators, 所以我們可以到 <font color='olive'>greeting.py</font> 與 <font color='olive'>bye.py</font> 模組註冊我們想用的 greeting 與 bye APIs. 例如我們可以如下註冊:\n"
   ]
  },
  {
   "cell_type": "code",
   "execution_count": 75,
   "id": "9327aeca",
   "metadata": {},
   "outputs": [],
   "source": [
    "import api_facade\n",
    "from api_facade import regr_greet_api, regr_bye_api\n",
    "\n",
    "@regr_greet_api\n",
    "def my_hello(name):\n",
    "    return f\"Hello, {name}~\"\n",
    "\n",
    "@regr_bye_api(api_name='test_bye')\n",
    "def my_takecare(name):\n",
    "    return f\"Take care! {name}.\""
   ]
  },
  {
   "cell_type": "markdown",
   "id": "67acc5a0",
   "metadata": {},
   "source": [
    "如此我們便可以如下使用註冊的 public API:"
   ]
  },
  {
   "cell_type": "code",
   "execution_count": 76,
   "id": "8fa61575",
   "metadata": {},
   "outputs": [],
   "source": [
    "def do_work(name='Selina', greet_api_name=api_facade.GREET_API_NAME, bye_api_name=api_facade.BYE_API_NAME):\n",
    "    print(api_facade.PUBLIC_API_STORES[greet_api_name](name))\n",
    "    print(api_facade.PUBLIC_API_STORES[bye_api_name](name))"
   ]
  },
  {
   "cell_type": "code",
   "execution_count": 77,
   "id": "04ed4330",
   "metadata": {},
   "outputs": [
    {
     "name": "stdout",
     "output_type": "stream",
     "text": [
      "Hello, Selina~\n",
      "Take care! Selina.\n"
     ]
    }
   ],
   "source": [
    "do_work(bye_api_name='test_bye')"
   ]
  },
  {
   "cell_type": "markdown",
   "id": "14cbccf9",
   "metadata": {},
   "source": [
    "我們可以動態的改變 greeting, bye 的作法而不會動到我們自己定義的 <font color='blue'>do_work</font> 函式, 例如:"
   ]
  },
  {
   "cell_type": "code",
   "execution_count": 78,
   "id": "b2e9337f",
   "metadata": {},
   "outputs": [],
   "source": [
    "@regr_greet_api\n",
    "def greet_by_chinese(name):\n",
    "    return f\"早安, {name}~\"\n",
    "\n",
    "@regr_bye_api\n",
    "def bye_by_chinese(name):\n",
    "    return f\"再見, {name}. ^^\""
   ]
  },
  {
   "cell_type": "code",
   "execution_count": 79,
   "id": "202395a0",
   "metadata": {},
   "outputs": [
    {
     "name": "stdout",
     "output_type": "stream",
     "text": [
      "早安, Selina~\n",
      "再見, Selina. ^^\n"
     ]
    }
   ],
   "source": [
    "do_work()"
   ]
  },
  {
   "cell_type": "markdown",
   "id": "251a7260",
   "metadata": {},
   "source": [
    "<a id='sect7'></a>\n",
    "## <font color='darkblue'>Real World Case - Rohan BCST </font> (<a href='#sect0'>back</a>)\n",
    "在模組 [`cmd_get_test_function_by_name.py`](https://team.git.corp.google.com/android-qmc-pqm-bt/BTAutomation/+/refs/heads/master/commands/cmd_get_test_function_by_name.py) 代碼 86-88 註解中:\n",
    "```\n",
    "  TODO(johnkclee): A long list of switcher is a bad smell.\n",
    "    We can let each testing module to provide a dict for switcher\n",
    "    to expand with so to hugely reduce the code here.\n",
    "```\n",
    "\n",
    "指出了問題, 在這個模組中, 我們定義了測試函數的名稱與物件到屬性 `self.switcher` 中:\n",
    "\n",
    "```python\n",
    "    # TBD: Define testing function for Rohan\n",
    "    self.switcher = {\n",
    "      'pick_up_call_from_headset': bt_pick_up_call_from_headset,\n",
    "      'hang_up_call_from_headset': bt_hang_up_call_from_headset,\n",
    "      'trigger_redial_from_headset': bt_trigger_redial_from_headset,\n",
    "      ...\n",
    "      'volume_down_from_dut': bt_volume_down_from_dut,\n",
    "      'phone_earpiece_on': bt_phone_earpiece_on,\n",
    "    }\n",
    "```\n",
    "\n",
    "也就是日後如果我們要定義新的測試函數, 必須有以下兩個動作:\n",
    "* 在對應測試模組中定義測試函數 e.g.: 在 `a2dp_test_utils.py` 中定義 `launch_abc_check`:\n",
    "```python\n",
    "def launch_abc_check(device):\n",
    "    # TBD\n",
    "    pass\n",
    "```\n",
    "* 在 [`cmd_get_test_function_by_name.py`](https://team.git.corp.google.com/android-qmc-pqm-bt/BTAutomation/+/refs/heads/master/commands/cmd_get_test_function_by_name.py) 中的 `self.switcher` 加入一筆新的紀錄. e.g.:\n",
    "```python\n",
    "    self.switcher = {\n",
    "        ...\n",
    "        'launch_abc_check_from_rohan': launch_abc_check,\n",
    "        ...\n",
    "    }\n",
    "```\n",
    "\n",
    "這某種程度違反了 <b><a href='https://en.wikipedia.org/wiki/Single-responsibility_principle'>SRP</a></b> (Single Responsibility Principle). 模組 [`cmd_get_test_function_by_name.py`](https://team.git.corp.google.com/android-qmc-pqm-bt/BTAutomation/+/refs/heads/master/commands/cmd_get_test_function_by_name.py) 事實上提供了主程式來根據測試函數名稱來查找對應的測試函數物件, 當我們定義新的測試函數時, 理論上不應該需要修改到此模組!\n",
    "\n",
    "這裡要請妳利用在 <b><a href='#sect5'>Homework5</a></b> 使用到的技巧, 應用到這個問題上, 讓我們在定義新的測試函數時, 可以不需要頻繁的修改 模組 [`cmd_get_test_function_by_name.py`](https://team.git.corp.google.com/android-qmc-pqm-bt/BTAutomation/+/refs/heads/master/commands/cmd_get_test_function_by_name.py), 而只需要在測試模組上定義新的測試函數時, 加上 decorator <b><font color='orange'>@regr_tf</font></b> 時, 即可將該測試函數動態註冊給 [`cmd_get_test_function_by_name.py`](https://team.git.corp.google.com/android-qmc-pqm-bt/BTAutomation/+/refs/heads/master/commands/cmd_get_test_function_by_name.py) 模組:\n",
    "```python\n",
    "@regr_tf\n",
    "def launch_abc_check(device):\n",
    "    # TBD\n",
    "    pass\n",
    "```"
   ]
  }
 ],
 "metadata": {
  "kernelspec": {
   "display_name": "Python 3",
   "language": "python",
   "name": "python3"
  },
  "language_info": {
   "codemirror_mode": {
    "name": "ipython",
    "version": 3
   },
   "file_extension": ".py",
   "mimetype": "text/x-python",
   "name": "python",
   "nbconvert_exporter": "python",
   "pygments_lexer": "ipython3",
   "version": "3.7.3"
  }
 },
 "nbformat": 4,
 "nbformat_minor": 5
}
