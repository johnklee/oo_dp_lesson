{
 "cells": [
  {
   "cell_type": "markdown",
   "id": "0fec078f",
   "metadata": {},
   "source": [
    "## <font color='darkblue'>Homework1</font>\n",
    "* <b><font size='3ptx'><a href='#hw1_1'>實作類別 CounterV2</a></font></b>\n",
    "* <b><font size='3ptx'><a href='#hw1_2'>實作思路</a></font></b>\n",
    "* <b><font size='3ptx'><a href='#hw1_3'>延伸閱讀</a></font></b>\n",
    "<br/>\n",
    "\n",
    "Below is the requirement of [**Homework1**](https://github.com/johnklee/oo_dp_lesson/issues/1):\n",
    "* **針對 VIP 結帳的 policy:**\n",
    "    * If the total price is less than 100, keep the original price: input=99, output=99\n",
    "    * If the total price is between \\[100~200`], take 10% off: input=200, output=180\n",
    "    * If the total price is between \\[201~500`], take 20% off: input=500, output=400\n",
    "    * If the total price is greater than 500, take 40% off. If the calculated price is less than 400, use 400:\n",
    "      - input=600, output=max(400, 600*0.6)=max(400, 360)=400\n",
    "      - input=1000, output=600\n",
    "* **針對 MEMBER 結帳的 policy:**\n",
    "    * If the customer is a member: Always take 10% off.\n",
    "* **針對 NORMAL 結帳的 policy:** \n",
    "    * no discount at all."
   ]
  },
  {
   "cell_type": "code",
   "execution_count": 1,
   "id": "9d4ecaac",
   "metadata": {},
   "outputs": [],
   "source": [
    "from enum import Enum\n",
    "from typing import List\n",
    "\n",
    "#######################\n",
    "# Task2\n",
    "#######################\n",
    "class CustomerType(Enum):\n",
    "        NORMAL=0\n",
    "        MEMBER=1\n",
    "        VIP=3"
   ]
  },
  {
   "cell_type": "markdown",
   "id": "35551408",
   "metadata": {},
   "source": [
    "<a id='hw1_1'></a>\n",
    "### <font color='darkgreen'>實作類別 CounterV2</font>\n",
    "底下是實作類別 **CounterV2** 的 skeleton:\n",
    "```python\n",
    "class CounterV2:\n",
    "  def __init__(self):\n",
    "    pass\n",
    "\n",
    "  def count(self, prices:List[int], customer_type:CustomerType):\n",
    "    '''Calculate the final price based on given list of price according to customer type\n",
    "\n",
    "    - If the customer is VIP: Use same discount policy as Counter\n",
    "    - If the customer is a member: Always take 10% off.\n",
    "    - Otherwise, no discount at all.\n",
    "    '''\n",
    "    # TBD\n",
    "    pass\n",
    "```"
   ]
  },
  {
   "cell_type": "markdown",
   "id": "7c089b80",
   "metadata": {},
   "source": [
    "<a id='hw1_2'></a>\n",
    "### <font color='darkgreen'>實作思路</font>\n",
    "不過是 VIP, MEMBER 還是 NORMAL 的客戶, 計算的過程雖然不同 (Policy), 但是 輸入(Input) 與 輸出(Output) 的結構與類型卻是一致的:\n",
    "![14.PNG](images/14.PNG)\n",
    "<br/>\n",
    "\n",
    "這個結構非常符合 design pattern 中的 [**Strategy pattern**](https://en.wikipedia.org/wiki/Strategy_pattern), 來看一下它的 class diagram:\n",
    "![class diagram](images/W3sDesign_Strategy_Design_Pattern_UML.jpg)\n",
    "<br/>\n",
    "\n",
    "上面的類別可以理解成:\n",
    "* **Context**: 等同類別 **CounterV2**. 利用 Policy 計算折扣.\n",
    "* **Strategy**: 等同類別 **Policy**. 用來計算折扣.\n",
    "\n",
    "根據這個概念, 接著實作如下:"
   ]
  },
  {
   "cell_type": "code",
   "execution_count": 4,
   "id": "b357fa13",
   "metadata": {},
   "outputs": [],
   "source": [
    "import math\n",
    "from abc import abstractmethod, ABC\n",
    "from typing import List\n",
    "\n",
    "\n",
    "class Policy(ABC):\n",
    "    @abstractmethod\n",
    "    def count(self, prices:List[int]) -> int:\n",
    "        raise NotImplemented()\n",
    "        \n",
    "        \n",
    "class VipPolicy(Policy):\n",
    "    def count(self, prices:List[int]) -> int:\n",
    "        price_sum = sum(prices)\n",
    "        if price_sum < 100:\n",
    "            return price_sum\n",
    "        elif price_sum <= 200:\n",
    "            return math.floor(0.9 * price_sum)\n",
    "        elif price_sum <= 500:\n",
    "            return math.floor(0.8 * price_sum)\n",
    "        else:\n",
    "            return max(400, math.floor(0.6 * price_sum))\n",
    "        \n",
    "class MemberPolicy(Policy):\n",
    "    def count(self, prices:List[int]) -> int:\n",
    "        price_sum = sum(prices)\n",
    "        return math.floor(price_sum * 0.9)\n",
    "\n",
    "\n",
    "class NormalPolicy(Policy):\n",
    "    def count(self, prices:List[int]) -> int:    \n",
    "        return sum(prices)"
   ]
  },
  {
   "cell_type": "markdown",
   "id": "b6de6cdd",
   "metadata": {},
   "source": [
    "因為我們將折扣透過 <b><font color='blue'>Policy</font></b> 封裝起來, 原先的類別 <font color='blue'>**CounterV2**</font> 的實作變得簡單: "
   ]
  },
  {
   "cell_type": "code",
   "execution_count": 5,
   "id": "1e0564a3",
   "metadata": {},
   "outputs": [],
   "source": [
    "class CounterV2:\n",
    "    def __init__(self):\n",
    "        pass\n",
    "\n",
    "    def count(self, prices:List[int], customer_type:CustomerType) -> int:\n",
    "        '''Calculate the final price based on given list of price according to customer type\n",
    "        - If the customer is VIP: Use same discount policy as Counter\n",
    "        - If the customer is a member: Always take 10% off.\n",
    "        - Otherwise, no discount at all.\n",
    "        \n",
    "        Args:\n",
    "            prices: List of price to calculate final pay.\n",
    "            customer_type: Cusomer type.\n",
    "            \n",
    "        Returns:\n",
    "            The final pay.\n",
    "        '''\n",
    "        if customer_type == CustomerType.NORMAL:\n",
    "            return NormalCount().count(prices)\n",
    "        elif customer_type == CustomerType.MEMBER:\n",
    "            return MemberPolicy().count(prices)\n",
    "        else:\n",
    "            return VipPolicy().count(prices) "
   ]
  },
  {
   "cell_type": "markdown",
   "id": "6e029751",
   "metadata": {},
   "source": [
    "上面的 if/else 事實上可以再優化, 之後在介紹其他 design pattern 時會再說明:"
   ]
  },
  {
   "cell_type": "code",
   "execution_count": 6,
   "id": "fd4dc111",
   "metadata": {},
   "outputs": [],
   "source": [
    "class CounterV2:\n",
    "    def __init__(self):\n",
    "        pass\n",
    "\n",
    "    def count(self, prices:List[int], customer_type:CustomerType):\n",
    "        '''Calculate the final price based on given list of price according to customer type\n",
    "        - If the customer is VIP: Use same discount policy as Counter\n",
    "        - If the customer is a member: Always take 10% off.\n",
    "        - Otherwise, no discount at all.\n",
    "        \n",
    "        Args:\n",
    "            prices: List of price to calculate final pay.\n",
    "            customer_type: Cusomer type.\n",
    "            \n",
    "        Returns:\n",
    "            The final pay.\n",
    "        '''\n",
    "        return globals()[customer_type.name.capitalize()+\"Policy\"]().count(prices)        "
   ]
  },
  {
   "cell_type": "markdown",
   "id": "f13ddef4",
   "metadata": {},
   "source": [
    "接著我們便可使用如下:"
   ]
  },
  {
   "cell_type": "code",
   "execution_count": 7,
   "id": "309ff071",
   "metadata": {},
   "outputs": [
    {
     "name": "stdout",
     "output_type": "stream",
     "text": [
      "prices=[600]:\n",
      "\tNORMAL should pay 600\n",
      "\tMEMBER should pay 540\n",
      "\tVIP should pay 400\n"
     ]
    }
   ],
   "source": [
    "cnt = CounterV2()\n",
    "prices = [600]\n",
    "print(f\"prices={prices}:\")\n",
    "for ct in CustomerType:\n",
    "    print(f\"\\t{ct.name} should pay {cnt.count(prices, ct)}\")"
   ]
  },
  {
   "cell_type": "markdown",
   "id": "c5bb8bc7",
   "metadata": {},
   "source": [
    "<a id='hw1_3'></a>\n",
    "### <font color='darkgreen'>延伸閱讀</font>\n",
    "* [Refactoring Guru - Strategy in Python](https://refactoring.guru/design-patterns/strategy/python/example)\n",
    "> Strategy is a behavioral design pattern that turns a set of behaviors into objects and makes them interchangeable inside original context object.\n",
    "* [Headfirst Design Pattern - Ch1](https://www.oreilly.com/library/view/head-first-design/0596007124/ch01.html)\n",
    "> The **Strategy Pattern** defines a family of algorithms, encapsulates each one, and makes them interchangeable. Strategy lets the algorithm vary independently from clients that use it."
   ]
  },
  {
   "cell_type": "markdown",
   "id": "fe187402",
   "metadata": {},
   "source": [
    "<a id='sect2'></a>\n",
    "## <font color='darkblue'>Command Pattern</font>\n",
    "* <font size='3ptx'><b><a href='#sect2_1'>Class Diagram</a></b></font>\n",
    "* <font size='3ptx'><b><a href='#sect2_2'>使用範例</a></b></font>\n",
    "* <font size='3ptx'><b><a href='#sect2_3'>Homework2</a></b></font>\n",
    "* <font size='3ptx'><b><a href='#sect2_4'>延伸閱讀</a></b></font>\n",
    "<br/>\n",
    "\n",
    "在物件導向程式設計的範疇中，[**命令模式**](https://zh.wikipedia.org/wiki/%E5%91%BD%E4%BB%A4%E6%A8%A1%E5%BC%8F)（<font color='brown'>英語: Command pattern</font>）是一種設計模式，它嘗試以物件來代表實際行動。**命令物件 可以把 行動** (action) **及其參數封裝起來，於是這些行動可以被**：\n",
    "* 重複多次\n",
    "* 取消（如果該物件有實作的話）\n",
    "* 取消後又再重做\n",
    "\n",
    "這些都是現代大型應用程式所必須的功能，即「復原」及「重複」。除此之外，可以用命令模式來實作的功能例子還有：\n",
    "* 交易行為\n",
    "* 進度列\n",
    "* 精靈\n",
    "* 使用者介面按鈕及功能表項目\n",
    "* 執行緒 pool\n",
    "* 巨集收錄"
   ]
  },
  {
   "cell_type": "markdown",
   "id": "68ee6c0c",
   "metadata": {},
   "source": [
    "<a id='sect2_1'></a>\n",
    "### <font color='darkgreen'>Class Diagram</font>\n",
    "* <font color='blue'><b>Invoker</b></font>: 寄存建立的 <b>Command</b> 物件清單, 並將來自 <b>Client</b> 的呼叫轉成執行對應的 <b>Command</b> 上的函數.\n",
    "* <font color='blue'><b>Command</b></font>: 執行動作的介面.\n",
    "* <font color='blue'><b>ConcreteCommand</b></font>: 執行動作的實作\n",
    "* <font color='blue'><b>Client</b></font>: 決定 <b>Invoker</b> 需要建立的 <b>Command</b> 物件清單\n",
    "* <font color='blue'><b>Receiver</b></font>: 執行 <b>Command</b> 上的函數時會被呼叫的物件總稱.\n",
    "\n",
    "![command class diagram](images/16.PNG)\n",
    "<br/>\n",
    "上面是學術或上課老師的講法, 接下來是類比成生活事件 ([source](https://ithelp.ithome.com.tw/articles/10246587)):\n",
    "> 老闆 (Client) 將任務封裝成備忘錄 (Command)，然後交付給秘書(Invoker), 接著 秘書(Invoker) 便根據 備忘錄的工作事項 (Command) 分派任務給員工(Receiver)。如此一來老闆不需要知道是哪個員工執行，只需要秘書回報任務結果即可。"
   ]
  },
  {
   "cell_type": "markdown",
   "id": "6aff363b",
   "metadata": {},
   "source": [
    "<a id='sect2_2'></a>\n",
    "### <font color='darkgreen'>使用範例</font>  ([back](#sect2))\n",
    "考慮 我們 (<font color='blue'><b>User</b></font>) 要設計一個萬能遙控器 (<font color='blue'><b>RemoteController</b></font>), 它目前能夠:\n",
    "* 關/開 燈 (<font color='blue'><b>Lamp</b></font>)\n",
    "\n",
    "如果套到 [<b>Command pattern</b>](https://zh.wikipedia.org/wiki/%E5%91%BD%E4%BB%A4%E6%A8%A1%E5%BC%8F):"
   ]
  },
  {
   "cell_type": "code",
   "execution_count": 10,
   "id": "8b8f8485",
   "metadata": {},
   "outputs": [],
   "source": [
    "from abc import abstractmethod, ABC\n",
    "\n",
    "\n",
    "class Lamp(object):\n",
    "    \"\"\"Lamp (Receiver) implementation.\"\"\"\n",
    "    \n",
    "    def __init__(self, state=0):\n",
    "        self.state = 0  # 0:Off; 1:On\n",
    "        \n",
    "    def on(self):\n",
    "        \"\"\"Turns on the lamp.\"\"\"\n",
    "        if self.state == 0:\n",
    "            self.state = 1\n",
    "            print(\"Turn on light\")            \n",
    "        else:\n",
    "            print(\"Light is already on!\")\n",
    "            \n",
    "    def off(self):\n",
    "        \"\"\"Turns off the lamp.\"\"\"\n",
    "        if self.state == 0:\n",
    "            print(\"Light is already off!\")\n",
    "        else:\n",
    "            self.state = 0\n",
    "            print(\"Turn off light\")\n",
    "            \n",
    "\n",
    "class Command(ABC):\n",
    "    \"\"\"Command interface.\"\"\"\n",
    "    \n",
    "    def do(self):\n",
    "        raise NotImplemented()\n",
    "        \n",
    "\n",
    "class CommandTurnOnLight(Command):\n",
    "    \"\"\"Command to turn on the light.\"\"\" \n",
    "    \n",
    "    def __init__(self, lamp):\n",
    "        self.lamp = lamp\n",
    "        \n",
    "    def do(self):\n",
    "        self.lamp.on()\n",
    "        \n",
    "        \n",
    "class CommandTurnOffLight(Command):\n",
    "    \"\"\"Command to turn off the light.\"\"\"    \n",
    "    def __init__(self, lamp):\n",
    "        self.lamp = lamp\n",
    "        \n",
    "    def do(self):\n",
    "        self.lamp.off()\n",
    "        \n",
    "        \n",
    "class RemoteController:\n",
    "    \"\"\"Remote controller (Invoker) implementation.\"\"\"\n",
    "    \n",
    "    def __init__(self):\n",
    "        self.cmd_dict = {}\n",
    "        \n",
    "    def regr_command(self, name:str, cmd:Command):\n",
    "        \"\"\"Registers the input command.\n",
    "        \n",
    "        Args:\n",
    "            name: Name of command.\n",
    "            cmd: Command object to be registered.\n",
    "        \"\"\"\n",
    "        self.cmd_dict[name] = cmd\n",
    "        \n",
    "    def __getattr__(self, name):\n",
    "        return self.cmd_dict[name].do()\n",
    "    \n",
    "    \n",
    "class User:\n",
    "    \"\"\"User (Client) implementation.\"\"\"\n",
    "    \n",
    "    def __init__(self):\n",
    "        self.rctr = RemoteController()\n",
    "        lamp = Lamp()\n",
    "        self.rctr.regr_command(\n",
    "            'turn_on_light',\n",
    "            CommandTurnOnLight(lamp)\n",
    "        )\n",
    "        self.rctr.regr_command(\n",
    "            'turn_off_light',\n",
    "            CommandTurnOffLight(lamp)\n",
    "        )\n",
    "    \n",
    "    def work(self):\n",
    "        \"\"\"Launches work to invoke necessary command(s)\"\"\"\n",
    "        self.rctr.turn_on_light\n",
    "        self.rctr.turn_off_light"
   ]
  },
  {
   "cell_type": "markdown",
   "id": "673b7745",
   "metadata": {},
   "source": [
    "接著來測試一下 <font color='blue'><b>User</b></font>"
   ]
  },
  {
   "cell_type": "code",
   "execution_count": 9,
   "id": "d29bc601",
   "metadata": {},
   "outputs": [
    {
     "name": "stdout",
     "output_type": "stream",
     "text": [
      "Turn on light\n",
      "Turn off light\n"
     ]
    }
   ],
   "source": [
    "u = User()\n",
    "u.work()"
   ]
  },
  {
   "cell_type": "markdown",
   "id": "3f6d534a",
   "metadata": {},
   "source": [
    "接著如果我們希望這個 萬能遙控器 (<font color='blue'><b>RemoteController</b></font>) 也可以開關 電視 (<font color='blue'><b>TV</b></font>):"
   ]
  },
  {
   "cell_type": "code",
   "execution_count": 12,
   "id": "78c45d9a",
   "metadata": {},
   "outputs": [],
   "source": [
    "class TV(object):\n",
    "    \"\"\"TV (Receiver) implementation.\"\"\"\n",
    "    \n",
    "    def __init__(self, state=0):\n",
    "        self.state = 0  # 0:Off; 1:On\n",
    "        \n",
    "    def on(self):\n",
    "        \"\"\"Turns on TV.\"\"\"\n",
    "        if self.state == 0:\n",
    "            self.state = 1\n",
    "            print(\"Turn on TV\")            \n",
    "        else:\n",
    "            print(\"TV is already on!\")\n",
    "            \n",
    "    def off(self):\n",
    "        \"\"\"Turns off TV.\"\"\"\n",
    "        if self.state == 0:\n",
    "            print(\"TV is already off!\")\n",
    "        else:\n",
    "            self.state = 0\n",
    "            print(\"Turn off TV\")\n",
    "            \n",
    "\n",
    "class CommandTurnOnTV(Command):\n",
    "    \"\"\"Command to turn on the TV.\"\"\" \n",
    "    \n",
    "    def __init__(self, tv):\n",
    "        self.tv = tv\n",
    "        \n",
    "    def do(self):\n",
    "        self.tv.on()\n",
    "        \n",
    "        \n",
    "class CommandTurnOffTV(Command):\n",
    "    \"\"\"Command to turn off the TV.\"\"\"\n",
    "    \n",
    "    def __init__(self, tv):\n",
    "        self.tv = tv\n",
    "        \n",
    "    def do(self):\n",
    "        self.tv.off()"
   ]
  },
  {
   "cell_type": "markdown",
   "id": "70bed2cc",
   "metadata": {},
   "source": [
    "幾乎不用修改到任何 class 就可以滿足這個需求:"
   ]
  },
  {
   "cell_type": "code",
   "execution_count": 14,
   "id": "f4202845",
   "metadata": {},
   "outputs": [
    {
     "name": "stdout",
     "output_type": "stream",
     "text": [
      "Turn on TV\n",
      "Turn off TV\n"
     ]
    }
   ],
   "source": [
    "# 1) Initialization\n",
    "remote_controller = RemoteController()\n",
    "tv = TV()\n",
    "\n",
    "# 2) Register command(s)\n",
    "remote_controller.regr_command(\n",
    "    'turn_on_tv',\n",
    "    CommandTurnOnTV(tv)\n",
    ")\n",
    "\n",
    "remote_controller.regr_command(\n",
    "    'turn_off_tv',\n",
    "    CommandTurnOffTV(tv)\n",
    ")\n",
    "\n",
    "# 3) Invoke command(s)\n",
    "remote_controller.turn_on_tv\n",
    "remote_controller.turn_off_tv"
   ]
  },
  {
   "cell_type": "markdown",
   "id": "fd8264e3",
   "metadata": {},
   "source": [
    "<a id='sect2_3'></a>\n",
    "### <font color='darkgreen'>Homework2</font>  ([back](#sect2))\n",
    "接著我們來看 Homework2, 假設你經營一家餐廳 (<font color='blue'><b>Restaurant</b></font>), 並且雇用了一位服務生 (<font color='blue'><b>Waiter</b></font>) 與一位廚師 (<font color='blue'><b>Cooker</b></font>). 目前餐廳提供以下餐點:\n",
    "* 牛排 (<font color='blue'><b>CommandOrderBeef</b></font>)\n",
    "* 雞排 (<font color='blue'><b>CommandOrderChicken</b></font>)\n",
    "\n",
    "客戶可以透過服務生 (<font color='blue'><b>Waiter</b></font>) 上的命令 <font color='blue'>give_order</font> 進行點餐. 點完餐後可以透過命令 <font color='blue'>send_order</font> 送出餐點給 廚師 (<font color='blue'><b>Cooker</b></font>) 進行備餐:"
   ]
  },
  {
   "cell_type": "code",
   "execution_count": 17,
   "id": "f9124793",
   "metadata": {},
   "outputs": [],
   "source": [
    "from abc import abstractmethod, ABC\n",
    "\n",
    "\n",
    "class Cooker:\n",
    "    def cook_beef(self):\n",
    "        print(\"Beef is ready\")\n",
    "        return 'beef'\n",
    "        \n",
    "    def cook_chicken(self):\n",
    "        print(\"Chicken is ready\")\n",
    "        return 'chicken'\n",
    "\n",
    "class Command(ABC):\n",
    "    def do(self):\n",
    "        raise NotImplemented()\n",
    "        \n",
    "        \n",
    "class CommandOrderBeef(Command):\n",
    "    def __init__(self, cooker):\n",
    "        self.cooker = cooker\n",
    "        \n",
    "    def do(self):\n",
    "        return self.cooker.cook_beef()\n",
    "        \n",
    "\n",
    "class CommandOrderChicken(Command):\n",
    "    def __init__(self, cooker):\n",
    "        self.cooker = cooker\n",
    "        \n",
    "    def do(self):\n",
    "        return self.cooker.cook_chicken()\n",
    "\n",
    "        \n",
    "class Waiter:\n",
    "    def __init__(self):\n",
    "        # Key as command name; value as command object\n",
    "        self.cmd_dict = {}\n",
    "        self.orders = []\n",
    "        \n",
    "    def give_order(self, order):\n",
    "        self.orders.append(self.cmd_dict[order])\n",
    "        \n",
    "    def send_order(self):\n",
    "        print(\"=== Send out order... ===\")\n",
    "        dish_list = []\n",
    "        for o in self.orders:\n",
    "            dish_list.append(o.do())\n",
    "        \n",
    "        self.orders = []\n",
    "        return dish_list\n",
    "        \n",
    "        \n",
    "class Restaurant:\n",
    "    def __init__(self):\n",
    "        self.waiter = Waiter()\n",
    "        self.cooker = Cooker()\n",
    "        self.waiter.cmd_dict['beef'] = CommandOrderBeef(self.cooker)\n",
    "        self.waiter.cmd_dict['chicken'] = CommandOrderChicken(self.cooker)\n",
    "        \n",
    "    def start_business(self):\n",
    "        self.waiter.give_order('beef')\n",
    "        self.waiter.give_order('chicken')\n",
    "        my_dish = self.waiter.send_order()\n",
    "        return my_dish\n",
    "        \n",
    "    def start_business_with_new_dish(self):\n",
    "        # TBD\n",
    "        pass"
   ]
  },
  {
   "cell_type": "markdown",
   "id": "692b606e",
   "metadata": {},
   "source": [
    "接著來看執行結果:"
   ]
  },
  {
   "cell_type": "code",
   "execution_count": 18,
   "id": "911f495a",
   "metadata": {},
   "outputs": [
    {
     "name": "stdout",
     "output_type": "stream",
     "text": [
      "=== Send out order... ===\n",
      "Beef is ready\n",
      "Chicken is ready\n"
     ]
    },
    {
     "data": {
      "text/plain": [
       "['beef', 'chicken']"
      ]
     },
     "execution_count": 18,
     "metadata": {},
     "output_type": "execute_result"
    }
   ],
   "source": [
    "r = Restaurant()\n",
    "r.start_business()"
   ]
  },
  {
   "cell_type": "markdown",
   "id": "4af6dd39",
   "metadata": {},
   "source": [
    "在這個 Homework, 希望你為該餐廳提供新的菜單 豬排 (<font color='blue'><b>CommandOrderPork</b></font>) 並在營業 (<font color='brown'>修改上面函數</font> <font color='blue'>start_business_with_new_dish</font> <font color='brown'>並 新增/修改 需要的類別</font>) 後可以得到輸出 `['beef', 'pork', 'chicken']`:\n",
    "```\n",
    "r = Restaurant()\n",
    "print(r.start_business_with_new_dish())  # ['beef', 'pork', 'chicken']\n",
    "```"
   ]
  },
  {
   "cell_type": "markdown",
   "id": "20619f65",
   "metadata": {},
   "source": [
    "<a id='sect2_4'></a> \n",
    "### <font color='darkgreen'>延伸閱讀</font> ([back](#sect2))\n",
    "* [Refactoring Guru- Command pattern](https://refactoring.guru/design-patterns/command)\n",
    "* [IT邦幫忙: Day23 - 命令模式 | Command Pattern](https://ithelp.ithome.com.tw/articles/10246587)\n",
    "* [NotFalse 技術客 - 命令模式 (Command Pattern)](https://notfalse.net/4/command-pattern)"
   ]
  }
 ],
 "metadata": {
  "kernelspec": {
   "display_name": "Python 3 (ipykernel)",
   "language": "python",
   "name": "python3"
  },
  "language_info": {
   "codemirror_mode": {
    "name": "ipython",
    "version": 3
   },
   "file_extension": ".py",
   "mimetype": "text/x-python",
   "name": "python",
   "nbconvert_exporter": "python",
   "pygments_lexer": "ipython3",
   "version": "3.9.9"
  }
 },
 "nbformat": 4,
 "nbformat_minor": 5
}
