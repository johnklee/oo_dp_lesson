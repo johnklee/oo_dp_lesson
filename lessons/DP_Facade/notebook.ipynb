{
 "cells": [
  {
   "cell_type": "markdown",
   "id": "743cccf5-9c36-4c80-9cdd-b3d9fd7cff5a",
   "metadata": {},
   "source": [
    "## <b><font color='darkblue'>Preface</font></b>\r\n",
    "<b><font size='4ptx'>Facade is a structural design pattern that provides a simplified (but limited) interface to a complex system of classes, library or framework</font>.  While Facade decreases the overall complexity of the application, it also helps to move unwanted dependencies to one place.</b>\r\n",
    "\r\n",
    "![class diagram](images/facade_class_diagram.PNG)g)"
   ]
  },
  {
   "cell_type": "markdown",
   "id": "b8279e0a-bc0d-4660-a2e7-2d1943e4ac29",
   "metadata": {},
   "source": [
    "### <b><font color='darkgreen'>Purpose</font></b>\r\n",
    "The Facade pattern is commonly used in apps written in Python. It’s especially handy when working with complex libraries and APIs. <b>Facade can be recognized in a class that has a simple interface, but delegates most of the work to other classes. Usually, facades manage the full life cycle of objects they use.</b> Below are advantages of adopting this pattern:\r\n",
    "* **封裝複雜性**：Facade 模式將一個複雜系統的內部細節和子系統封裝在一個單一的外觀（Facade）中。這樣，用戶不需要了解整個系統的細節，只需使用外觀提供的簡單界面。\r\n",
    "* **簡化介面**：Facade 提供了一個簡單的、易於理解的界面，用戶可以通過這個界面執行操作，而不需要處理系統的複雜性。這有助於提高代碼的可讀性和易用性。\r\n",
    "* **解耦子系統**：Facade 模式有助於降低系統內各個子系統之間的耦合度，讓一個複雜的系統中的不同部分（子系統）之間盡量減少相互關聯，使得它們可以獨立地運作。這樣，當你需要修改一個子系統時，不會影響到其他子系統。這提高了代碼的可維護性和擴展性。\r\n",
    "* **提供默認功能**：Facade 可以提供一組常見操作的預設選項，使用戶可以輕鬆地執行這些操作，同時還允許用戶自定義更多功能，提供了靈活性和可擴展性。在軟體開發中，當使用 Facade 模式表示提供一些預設操作或選項，用戶可以直接使用，而不必自己設定一切。\r\n",
    "* **應用**：在現實生活中，Facade 就像是我們使用的各種設備或應用程序的控制器，我們通過一個簡單的界面（例如遙控器或應用程序的用戶界面）執行各種操作，而不需要了解內部運作的細節。"
   ]
  },
  {
   "cell_type": "markdown",
   "id": "dc8b5335-8d08-42cd-8228-3f057750e309",
   "metadata": {},
   "source": [
    "## <b><font color='darkblue'>Real world example</font></b>\r\n",
    "考慮你要寫一個測試手機打電話, 掛電話的程式. 測試步驟如下:\r\n",
    "\r\n",
    "0. 初始手機 `DUT` (caller) 與 `SEC` (callee)\r\n",
    "1. 檢查手機 `DUT`, `SEC` 是否通話中, 是的話就掛掉.\r\n",
    "2. 從 `DUT` 撥打電話給 `SEC`, 並從 `SEC` 接起電話.\r\n",
    "3. 從 `SEC` 掛電話, 並檢查 `DUT` 的通話也結束.\r\n",
    "4. 重複步驟 1-2, 並從 `DUT` 掛電話, 並檢查 `SEC` 的通話也結束."
   ]
  },
  {
   "cell_type": "markdown",
   "id": "0a2981f6-b829-4dd7-a1b8-6279a4d01e99",
   "metadata": {},
   "source": [
    "### <b><font color='darkgreen'>Class `CallState`, `AndroidHusky` and `Carrier`</font></b>\r\n",
    "現在考慮我們有以下的手機類別, 並在上面提供對應的打電話函數如下:"
   ]
  },
  {
   "cell_type": "code",
   "execution_count": 57,
   "id": "2cc94acf-71dc-42c1-a73d-d56d1b9d20db",
   "metadata": {},
   "outputs": [],
   "source": [
    "import enum\n",
    "\n",
    "class CallState(enum.Enum):\n",
    "    OFF_CALL = 0\n",
    "    HAS_CALL = 1\n",
    "    CALLING = 2\n",
    "    ON_CALL = 3\n",
    "    BUSY = 4\n",
    "\n",
    "\n",
    "class Carrier:\n",
    "  def __init__(self):\n",
    "    self.phone_num_2_phone_obj = {}\n",
    "    self.on_line_info = []\n",
    "\n",
    "  def register_phone(self, phone_obj):\n",
    "    self.phone_num_2_phone_obj[phone_obj.phone_num] = phone_obj\n",
    "\n",
    "  def transfer_call(self, callee_phone_num, caller_phone_num):\n",
    "    print(f'Carrier: {caller_phone_num} -> {callee_phone_num}')\n",
    "    self.phone_num_2_phone_obj[callee_phone_num].state = CallState.HAS_CALL\n",
    "    self.phone_num_2_phone_obj[caller_phone_num].state = CallState.CALLING\n",
    "    self.on_line_info.append((caller_phone_num, callee_phone_num))\n",
    "\n",
    "  def pickup_call(self, phone_number):\n",
    "    for i, call_info in enumerate(self.on_line_info):\n",
    "      caller_phone_num, callee_phone_num = call_info\n",
    "      if caller_phone_num == phone_number or callee_phone_num == phone_number:\n",
    "        self.phone_num_2_phone_obj[callee_phone_num].state = CallState.ON_CALL\n",
    "        self.phone_num_2_phone_obj[caller_phone_num].state = CallState.ON_CALL\n",
    "        break\n",
    "\n",
    "  def terminate_call(self, phone_number):\n",
    "    for i, call_info in enumerate(self.on_line_info):\n",
    "      caller_phone_num, callee_phone_num = call_info\n",
    "      if caller_phone_num == phone_number or callee_phone_num == phone_number:\n",
    "        self.phone_num_2_phone_obj[callee_phone_num].state = CallState.OFF_CALL\n",
    "        self.phone_num_2_phone_obj[caller_phone_num].state = CallState.OFF_CALL\n",
    "        del self.on_line_info[i]\n",
    "        break\n",
    "\n",
    "\n",
    "class AndroidHusky:\n",
    "  def __init__(self, phone_num: str, carrier: Carrier):\n",
    "    self.phone_num = phone_num\n",
    "    self.carrier = carrier\n",
    "    self.carrier.register_phone(self)\n",
    "    self.state = CallState.OFF_CALL\n",
    "\n",
    "  def make_call(self, callee_phone_number):\n",
    "    print(f'{self.phone_num}: Calling {callee_phone_number}')\n",
    "    self.carrier.transfer_call(callee_phone_number, self.phone_num)\n",
    "\n",
    "  def pickup_call(self):\n",
    "    if self.state == CallState.HAS_CALL:\n",
    "      self.carrier.pickup_call(self.phone_num)\n",
    "\n",
    "  def is_oncall(self):\n",
    "    return self.state == CallState.ON_CALL\n",
    "\n",
    "  def terminate_call(self):\n",
    "    if self.is_oncall():\n",
    "      self.carrier.terminate_call(self.phone_num)"
   ]
  },
  {
   "cell_type": "markdown",
   "id": "c957c6a5-91c7-45b5-a7dd-a67ad491a3ba",
   "metadata": {},
   "source": [
    "### <b><font color='darkgreen'>Unit test cases implementation - v1</font></b>\n",
    "底下是我們的 test case:"
   ]
  },
  {
   "cell_type": "code",
   "execution_count": 58,
   "id": "10357742-d385-46e2-8825-a815314bb9a4",
   "metadata": {},
   "outputs": [],
   "source": [
    "def test_make_call_and_end_call_from_dut():\n",
    "  carrier = Carrier()\n",
    "  dut = AndroidHusky('123', carrier)\n",
    "  sec = AndroidHusky('456', carrier)\n",
    "  if dut.is_oncall():\n",
    "    dut.terminate_call()\n",
    "  if sec.is_oncall():\n",
    "    sec.terminate_call()\n",
    "\n",
    "  dut.make_call('456')\n",
    "  assert dut.state == CallState.CALLING\n",
    "  assert sec.state == CallState.HAS_CALL\n",
    "\n",
    "  sec.pickup_call()\n",
    "  assert sec.state == CallState.ON_CALL\n",
    "  assert dut.state == CallState.ON_CALL\n",
    "\n",
    "  dut.terminate_call()\n",
    "  assert dut.state == CallState.OFF_CALL\n",
    "  assert sec.state == CallState.OFF_CALL\n",
    "\n",
    "def test_make_call_and_end_call_from_sec():\n",
    "  carrier = Carrier()\n",
    "  dut = AndroidHusky('123', carrier)\n",
    "  sec = AndroidHusky('456', carrier)\n",
    "  if dut.is_oncall():\n",
    "    dut.terminate_call()\n",
    "  if sec.is_oncall():\n",
    "    sec.terminate_call()\n",
    "\n",
    "  dut.make_call('456')\n",
    "  assert dut.state == CallState.CALLING\n",
    "  assert sec.state == CallState.HAS_CALL\n",
    "\n",
    "  sec.pickup_call()\n",
    "  assert sec.state == CallState.ON_CALL\n",
    "  assert dut.state == CallState.ON_CALL\n",
    "\n",
    "  sec.terminate_call()\n",
    "  assert dut.state == CallState.OFF_CALL\n",
    "  assert sec.state == CallState.OFF_CALL"
   ]
  },
  {
   "cell_type": "code",
   "execution_count": 3,
   "id": "2a015345-6d2f-4496-b778-ae3b7f01709d",
   "metadata": {},
   "outputs": [],
   "source": [
    "# Both test cases could pass. Perfect world\n",
    "test_make_call_and_end_call_from_dut()\n",
    "test_make_call_and_end_call_from_sec()"
   ]
  },
  {
   "cell_type": "markdown",
   "id": "67388513-2b00-4732-b291-f1a840ca5ab4",
   "metadata": {},
   "source": [
    "### <b><font color='darkgreen'>\"Real\" real world situation (1)!</font></b>\r\n",
    "現在我們有新的手機版本, `AndroidShiba`! 不過上面的 API 有些許變動. 新的 Phone class 如下:"
   ]
  },
  {
   "cell_type": "code",
   "execution_count": 60,
   "id": "c659e8b4-e165-4b3b-960e-dc9514194774",
   "metadata": {},
   "outputs": [],
   "source": [
    "class AndroidShiba:\n",
    "  def __init__(self, phone_num: str, carrier: Carrier):\n",
    "    self.phone_num = phone_num\n",
    "    self.carrier = carrier\n",
    "    self.carrier.register_phone(self)\n",
    "    self.state = CallState.OFF_CALL\n",
    "\n",
    "  def make_phone_call(self, callee_phone_number):\n",
    "    print(f'{self.phone_num}: Calling {callee_phone_number}')\n",
    "    self.carrier.transfer_call(callee_phone_number, self.phone_num)\n",
    "\n",
    "  def pickup_incoming_call(self):\n",
    "    if self.state == CallState.HAS_CALL:\n",
    "      self.carrier.pickup_call(self.phone_num)\n",
    "\n",
    "  def is_on_call(self):\n",
    "    return self.state == CallState.ON_CALL\n",
    "\n",
    "  def hang_up_call(self):\n",
    "    if self.is_on_call():\n",
    "      self.carrier.terminate_call(self.phone_num)"
   ]
  },
  {
   "cell_type": "markdown",
   "id": "13de9875-e572-4e9f-befa-4f1d27920b15",
   "metadata": {},
   "source": [
    "所以原版的 unit test cases 需要改寫如下:"
   ]
  },
  {
   "cell_type": "code",
   "execution_count": 61,
   "id": "9c621da2-c742-4b82-b92d-cfba3de6644a",
   "metadata": {},
   "outputs": [],
   "source": [
    "def test_make_call_and_end_call_from_dut_as_shiba():\n",
    "  carrier = Carrier()\n",
    "  dut = AndroidShiba('123', carrier)\n",
    "  sec = AndroidShiba('456', carrier)\n",
    "  if dut.is_on_call():  # 1. Change API call from `is_oncall` to `is_on_call`\n",
    "    dut.terminate_call()\n",
    "  if sec.is_on_call():  # 1. Change API call from `is_oncall` to `is_on_call`\n",
    "    sec.terminate_call()\n",
    "\n",
    "  dut.make_phone_call('456')  # 2. Change API call from `make_call` to `make_phone_call`\n",
    "  assert dut.state == CallState.CALLING\n",
    "  assert sec.state == CallState.HAS_CALL\n",
    "\n",
    "  sec.pickup_incoming_call()  # 3. Change API call from `pickup_call` to `pickup_incoming_call`\n",
    "  assert sec.state == CallState.ON_CALL\n",
    "  assert dut.state == CallState.ON_CALL\n",
    "\n",
    "  dut.hang_up_call()  # 4. Change API call from `terminate_call` to `hang_up_call`\n",
    "  assert dut.state == CallState.OFF_CALL\n",
    "  assert sec.state == CallState.OFF_CALL\n",
    "\n",
    "def test_make_call_and_end_call_from_sec_as_shiba():\n",
    "  carrier = Carrier()\n",
    "  dut = AndroidShiba('123', carrier)\n",
    "  sec = AndroidShiba('456', carrier)\n",
    "  if dut.is_on_call():  # 1. Change API call from `is_oncall` to `is_on_call`\n",
    "    dut.terminate_call()\n",
    "  if sec.is_on_call():  # 1. Change API call from `is_oncall` to `is_on_call`\n",
    "    sec.terminate_call()\n",
    "\n",
    "  dut.make_phone_call('456')  # 2. Change API call from `make_call` to `make_phone_call`\n",
    "  assert dut.state == CallState.CALLING\n",
    "  assert sec.state == CallState.HAS_CALL\n",
    "\n",
    "  sec.pickup_incoming_call()  # 3. Change API call from `pickup_call` to `pickup_incoming_call`\n",
    "  assert sec.state == CallState.ON_CALL\n",
    "  assert dut.state == CallState.ON_CALL\n",
    "\n",
    "  sec.hang_up_call()  # 4. Change API call from `terminate_call` to `hang_up_call`\n",
    "  assert dut.state == CallState.OFF_CALL\n",
    "  assert sec.state == CallState.OFF_CALL"
   ]
  },
  {
   "cell_type": "code",
   "execution_count": 62,
   "id": "e9daa6f0-920c-4450-813b-26d098934b0e",
   "metadata": {},
   "outputs": [
    {
     "name": "stdout",
     "output_type": "stream",
     "text": [
      "123: Calling 456\n",
      "Carrier: 123 -> 456\n",
      "123: Calling 456\n",
      "Carrier: 123 -> 456\n"
     ]
    }
   ],
   "source": [
    "# Both test cases could pass. Perfect world\n",
    "test_make_call_and_end_call_from_dut_as_shiba()\n",
    "test_make_call_and_end_call_from_sec_as_shiba()"
   ]
  },
  {
   "cell_type": "markdown",
   "id": "8d008c33-f1f5-4bbe-8286-f18a3087e172",
   "metadata": {},
   "source": [
    "### <b><font color='darkgreen'>\"Real\" real world situation (2)!</font></b>\r\n",
    "現在我們要加入 Headset 進去測試. 測試步驟變成:\r\n",
    "1. 初始手機 `DUT` (caller) 與 `SEC` (callee)\r\n",
    "2. 檢查手機 `DUT`, `SEC` 是否通話中, 是的話就掛掉.\r\n",
    "3. 將 Headset `HS` 配上 `DUT`.\r\n",
    "3. 從 `DUT` 撥打電話給 `SEC`, 並從 `SEC` 接起電話.\r\n",
    "4. 從 `SEC` 掛電話, 並檢查 `DUT` 的通話也結束.\r\n",
    "5. 重複步驟 4-5, 並從 `DUT` 掛電話, 並檢查 `SEC` 的通話也結束.\r\n",
    "\r\n",
    "多了這個條件, 我們需要增加多少 unit test cases? (2 or 4)"
   ]
  },
  {
   "cell_type": "markdown",
   "id": "594f2a97-03bc-4d92-a7e5-cd59223c9536",
   "metadata": {},
   "source": [
    "## <b><font color='darkblue'>DP Facade - Best secretary</font></b>\r\n",
    "底下是 Facade 上的 [Wiki 說明](https://en.wikipedia.org/wiki/Facade_pattern):\r\n",
    "> The facade pattern (also spelled façade) is a <b>software-design pattern</b> commonly used in object-oriented programming. Analogous to a facade in architecture, <b>a facade is an object that serves as a front-facing interface masking more complex underlying or structural code</b>.)\r\n",
    "```以用手機打)面, 所以用手機打)以用手機打)\r\n",
    "```"
   ]
  },
  {
   "cell_type": "code",
   "execution_count": 9,
   "id": "ef561b38-3c8b-4a14-adb5-1eac8bc10e61",
   "metadata": {},
   "outputs": [
    {
     "name": "stdout",
     "output_type": "stream",
     "text": [
      "\n"
     ]
    }
   ],
   "source": [
    "\"\"\"\n",
    "老闆 (Client): 幫我撥電話給老李.\n",
    "秘書 (Facade): 好的! (因為是在辦公室, 所以用市話打)\n",
    "=============================================\n",
    "老闆 (Agent): 幫我撥電話給老李.\n",
    "秘書 (Client): 好的! (因為是在外面, 所以用手機打)\n",
    "\"\"\"\n",
    "print()"
   ]
  },
  {
   "cell_type": "markdown",
   "id": "eb577ec2-3099-40cb-9e6f-0d346d626dce",
   "metadata": {},
   "source": [
    "### <b><font color='darkgreen'>Class & sequence diagrams</font></b>\r\n",
    "![uml diagrams](images/facade_uml_class_diagram_with_sequence_diagram.PNG))"
   ]
  },
  {
   "cell_type": "markdown",
   "id": "49e1e971-89ea-4342-b4f7-ebba3ccc3bff",
   "metadata": {},
   "source": [
    "### <b><font color='darkgreen'>classes `CallFacade` and `CallProtocol`</font></b>\r\n",
    "為了比較好的處理之前 Real world 遇到的需求來寫 unit test cases 測試 Phone call, 這邊引進新類別 <b><font color='blue'>CallProtocol</font></b>:"
   ]
  },
  {
   "cell_type": "code",
   "execution_count": 63,
   "id": "4cccddd0-8a8f-4dfb-b873-003a8d9f1d1f",
   "metadata": {},
   "outputs": [],
   "source": [
    "from typing import Protocol\n",
    "\n",
    "\n",
    "class CallProtocol(Protocol):\n",
    "  @property\n",
    "  def phone_number(self) -> str:\n",
    "    return self.phone.phone_num\n",
    "\n",
    "  @property\n",
    "  def state(self) -> CallState:\n",
    "    return self.phone.state\n",
    "\n",
    "  def is_on_call(self) -> bool:\n",
    "    pass\n",
    "\n",
    "  def make_phone_call(self, phone_number: str) -> None:\n",
    "    pass\n",
    "\n",
    "  def hang_up_call(self) -> None:\n",
    "    pass\n",
    "\n",
    "  def pickup_incoming_call(self) -> None:\n",
    "    pass\n",
    "\n",
    "\n",
    "class HuskyCallProtocol(CallProtocol):\n",
    "  def __init__(self, phone: AndroidHusky):\n",
    "    self.phone = phone\n",
    "\n",
    "  def is_on_call(self) -> bool:\n",
    "    return self.phone.is_oncall()\n",
    "\n",
    "  def make_phone_call(self, phone_number: str) -> None:\n",
    "    print(f'CallProtocol: {self.phone} is making phone call to phone number={phone_number}')\n",
    "    return self.phone.make_call(phone_number)\n",
    "\n",
    "  def hang_up_call(self) -> None:\n",
    "    return self.phone.terminate_call()\n",
    "\n",
    "  def pickup_incoming_call(self) -> None:\n",
    "    return self.phone.pickup_call()\n",
    "\n",
    "\n",
    "class ShibaCallProtocol(CallProtocol):\n",
    "  def __init__(self, phone: AndroidShiba):\n",
    "    self.phone = phone\n",
    "\n",
    "  def is_on_call(self) -> bool:\n",
    "    return self.phone.is_on_call()\n",
    "\n",
    "  def make_phone_call(self, phone_number: str) -> None:\n",
    "    print(f'CallProtocol: {self.phone} is making phone call to phone number={phone_number}')\n",
    "    return self.phone.make_phone_call(phone_number)\n",
    "\n",
    "  def hang_up_call(self) -> None:\n",
    "    return self.phone.hang_up_call()\n",
    "\n",
    "  def pickup_incoming_call(self) -> None:\n",
    "    return self.phone.pickup_incoming_call()"
   ]
  },
  {
   "cell_type": "markdown",
   "id": "106217ea-21ed-492a-93d4-61810085df56",
   "metadata": {},
   "source": [
    "接著是 <b><font color='blue'>CallFacade</font></b>:"
   ]
  },
  {
   "cell_type": "code",
   "execution_count": 64,
   "id": "97f20695-ef74-4da2-95f1-e79de2c31580",
   "metadata": {},
   "outputs": [],
   "source": [
    "class CallFacade:\n",
    "  def __init__(self, caller: CallProtocol, callee: CallProtocol):\n",
    "    self.caller = caller\n",
    "    self.callee = callee\n",
    "\n",
    "  def make_call(self, force_stop_exist_call: bool=True):\n",
    "    if force_stop_exist_call:\n",
    "      if self.callee.is_on_call():\n",
    "        self.callee.hang_up_call()\n",
    "      if self.caller.is_on_call():\n",
    "        self.caller.hang_up_call()\n",
    "\n",
    "    self.caller.make_phone_call(self.callee.phone_number)\n",
    "\n",
    "  @property\n",
    "  def caller_state(self) -> CallState:\n",
    "    return self.caller.state\n",
    "\n",
    "  @property\n",
    "  def callee_state(self) -> CallState:\n",
    "    return self.callee.state\n",
    "\n",
    "  def is_caller_on_call(self) -> bool:\n",
    "    return self.caller.is_on_call()\n",
    "\n",
    "  def is_callee_on_call(self) -> bool:\n",
    "    return self.callee.is_on_call()\n",
    "\n",
    "  def hang_up_call_by_caller(self):\n",
    "    self.caller.hang_up_call()\n",
    "\n",
    "  def hang_up_call_by_callee(self):\n",
    "    self.callee.hang_up_call()\n",
    "\n",
    "  def pickup_call(self):\n",
    "    return self.callee.pickup_incoming_call()"
   ]
  },
  {
   "cell_type": "markdown",
   "id": "ca9f0667-1b37-4bf4-ba8f-a8f9cfd2b327",
   "metadata": {},
   "source": [
    "### <b><font color='darkgreen'>Rewrite unit test cases - v2</font></b>\r\n",
    "先在我們來改寫 unit test caess:"
   ]
  },
  {
   "cell_type": "code",
   "execution_count": 65,
   "id": "fa6bd045-cec8-4e6e-b6d2-616cb41d63f6",
   "metadata": {},
   "outputs": [],
   "source": [
    "def test_make_call_and_end_call_from_dut(call_facade: CallFacade):\n",
    "  call_facade.make_call()\n",
    "  assert call_facade.caller.state == CallState.CALLING\n",
    "  assert call_facade.callee.state == CallState.HAS_CALL\n",
    "\n",
    "  call_facade.pickup_call()\n",
    "  assert call_facade.caller.state == CallState.ON_CALL\n",
    "  assert call_facade.callee.state == CallState.ON_CALL\n",
    "\n",
    "  call_facade.hang_up_call_by_caller()\n",
    "  assert call_facade.caller.state == CallState.OFF_CALL\n",
    "  assert call_facade.callee.state == CallState.OFF_CALL\n",
    "\n",
    "def test_make_call_and_end_call_from_sec(call_facade: CallFacade):\n",
    "  call_facade.make_call()\n",
    "  assert call_facade.caller.state == CallState.CALLING\n",
    "  assert call_facade.callee.state == CallState.HAS_CALL\n",
    "\n",
    "  call_facade.pickup_call()\n",
    "  assert call_facade.caller.state == CallState.ON_CALL\n",
    "  assert call_facade.callee.state == CallState.ON_CALL\n",
    "\n",
    "  call_facade.hang_up_call_by_callee()\n",
    "  assert call_facade.caller.state == CallState.OFF_CALL\n",
    "  assert call_facade.callee.state == CallState.OFF_CALL"
   ]
  },
  {
   "cell_type": "code",
   "execution_count": 66,
   "id": "3949dc3a-80a8-4ece-af9e-42a6d4ffef75",
   "metadata": {},
   "outputs": [],
   "source": [
    "carrier = Carrier()\n",
    "husky_call_facade = CallFacade(\n",
    "    caller=HuskyCallProtocol(AndroidHusky('123', carrier)),\n",
    "    callee=HuskyCallProtocol(AndroidHusky('456', carrier))\n",
    ")  "
   ]
  },
  {
   "cell_type": "code",
   "execution_count": 67,
   "id": "71ce9ffd-5ca5-4952-9e6c-4e8e4c8e4d54",
   "metadata": {},
   "outputs": [
    {
     "name": "stdout",
     "output_type": "stream",
     "text": [
      "CallProtocol: <__main__.AndroidHusky object at 0x7f1e36e9a310> is making phone call to phone number=456\n",
      "123: Calling 456\n",
      "Carrier: 123 -> 456\n"
     ]
    }
   ],
   "source": [
    "test_make_call_and_end_call_from_dut(husky_call_facade)"
   ]
  },
  {
   "cell_type": "code",
   "execution_count": 68,
   "id": "9e133d53-7d2e-4c4e-aa7a-73d59bde635e",
   "metadata": {},
   "outputs": [],
   "source": [
    "shiba_call_facade = CallFacade(\n",
    "    caller=ShibaCallProtocol(AndroidShiba('789', carrier)),\n",
    "    callee=ShibaCallProtocol(AndroidShiba('321', carrier)),\n",
    ")  "
   ]
  },
  {
   "cell_type": "code",
   "execution_count": 69,
   "id": "25ed0a82-e279-49bf-96e4-28fd33fead67",
   "metadata": {},
   "outputs": [
    {
     "name": "stdout",
     "output_type": "stream",
     "text": [
      "CallProtocol: <__main__.AndroidShiba object at 0x7f1e24f59d90> is making phone call to phone number=321\n",
      "789: Calling 321\n",
      "Carrier: 789 -> 321\n"
     ]
    }
   ],
   "source": [
    "test_make_call_and_end_call_from_dut(shiba_call_facade)"
   ]
  },
  {
   "cell_type": "markdown",
   "id": "469fe695-3380-42b7-addd-cddb8d8c45b8",
   "metadata": {},
   "source": [
    "現在我們不需要為每個 \"新的手機版本\" 新加 unit test case! 並且就算 Phone call API 有變動, 我們也只需要改 `<PhoneVersion>CallProtocol` 一個地方就好!"
   ]
  },
  {
   "cell_type": "markdown",
   "id": "67e97fb4-958d-4563-b94f-4c2e65ab5ea0",
   "metadata": {},
   "source": [
    "## <b><font color='darkblue'>Supplement</font></b>\r\n",
    "* [重溫《深入淺出設計模式》外觀模式 (Book Review of Head First Design Pattern, Facade Pattern)](https://sdwh.dev/posts/2020/07/Design-Pattern-Facade/)\r\n",
    "* [Facade Pattern from Head First Design Patterns](https://www.javaguides.net/2018/07/facade-pattern-from-head-first-design-patterns.html) <b><font color='darkblue'>Supplement</font></b>\r\n",
    "* [重溫《深入淺出設計模式》外觀模式 (Book Review of Head First Design Pattern, Facade Pattern)](https://sdwwh.dev/posts/2020/07/Design-Pattern-Facade/)"
   ]
  }
 ],
 "metadata": {
  "kernelspec": {
   "display_name": "Python 3 (ipykernel)",
   "language": "python",
   "name": "python3"
  },
  "language_info": {
   "codemirror_mode": {
    "name": "ipython",
    "version": 3
   },
   "file_extension": ".py",
   "mimetype": "text/x-python",
   "name": "python",
   "nbconvert_exporter": "python",
   "pygments_lexer": "ipython3",
   "version": "3.11.5"
  }
 },
 "nbformat": 4,
 "nbformat_minor": 5
}
